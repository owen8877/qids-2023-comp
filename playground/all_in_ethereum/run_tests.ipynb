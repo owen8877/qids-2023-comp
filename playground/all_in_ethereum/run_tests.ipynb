{
 "cells": [
  {
   "cell_type": "code",
   "execution_count": 2,
   "metadata": {},
   "outputs": [],
   "source": [
    "import sys\n",
    "sys.path.append('../../')"
   ]
  },
  {
   "cell_type": "code",
   "execution_count": 3,
   "metadata": {},
   "outputs": [],
   "source": [
    "from pipeline import parse_raw_df"
   ]
  },
  {
   "cell_type": "code",
   "execution_count": 5,
   "metadata": {},
   "outputs": [],
   "source": [
    "parse_raw_df._dump(is_mini=False, n_days=-1, nc_destination='nc_2round', raw_source='second_round_datasets',\n",
    "              is_first_round=False, path_prefix='../../')"
   ]
  },
  {
   "cell_type": "code",
   "execution_count": 9,
   "metadata": {},
   "outputs": [],
   "source": [
    "ds = xr.open_dataset('../../data/nc_2round/base.nc')\n",
    "from datatools import extract_market_data\n",
    "market_brief = extract_market_data(ds[['money', 'volume', 'close', 'open', 'high', 'low']])\n",
    "market_brief.to_netcdf('../../data/nc_2round/market_brief.nc')"
   ]
  },
  {
   "cell_type": "code",
   "execution_count": 10,
   "metadata": {},
   "outputs": [],
   "source": [
    "from xarray import Dataset\n",
    "import xarray as xr\n",
    "\n",
    "from pipeline.fundamental import calculate_fundamental_v0\n",
    "\n",
    "path = '../../data/nc_2round'\n",
    "base_ds = xr.open_dataset(f'{path}/base.nc')\n",
    "market_brief_ds = xr.open_dataset(f'{path}/market_brief.nc')\n",
    "ds = base_ds.merge(market_brief_ds)\n",
    "\n",
    "fundamental_ds = calculate_fundamental_v0(ds)\n",
    "fundamental_ds.to_netcdf(f'{path}/fundamental_v0.nc')"
   ]
  },
  {
   "cell_type": "code",
   "execution_count": null,
   "metadata": {},
   "outputs": [],
   "source": []
  }
 ],
 "metadata": {
  "kernelspec": {
   "display_name": "qids-2023-comp",
   "language": "python",
   "name": "python3"
  },
  "language_info": {
   "codemirror_mode": {
    "name": "ipython",
    "version": 3
   },
   "file_extension": ".py",
   "mimetype": "text/x-python",
   "name": "python",
   "nbconvert_exporter": "python",
   "pygments_lexer": "ipython3",
   "version": "3.9.16"
  },
  "orig_nbformat": 4
 },
 "nbformat": 4,
 "nbformat_minor": 2
}
