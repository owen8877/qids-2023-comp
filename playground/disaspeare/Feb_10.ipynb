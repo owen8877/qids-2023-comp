{
 "cells": [
  {
   "cell_type": "code",
   "execution_count": 3,
   "outputs": [],
   "source": [
    "%matplotlib inline"
   ],
   "metadata": {
    "collapsed": false,
    "pycharm": {
     "name": "#%%\n"
    }
   }
  },
  {
   "cell_type": "code",
   "execution_count": 11,
   "outputs": [],
   "source": [
    "import numpy as np\n",
    "import pandas as pd\n",
    "from pandas import Series\n",
    "from sklearn.metrics import r2_score\n",
    "from sklearn.linear_model import LinearRegression\n",
    "from sklearn.model_selection import TimeSeriesSplit\n",
    "from tqdm.auto import tqdm\n",
    "import matplotlib.pyplot as plt\n",
    "import mplfinance as mpf\n",
    "\n",
    "from pipeline import Dataset\n",
    "from datatools import data_quantization"
   ],
   "metadata": {
    "collapsed": false,
    "pycharm": {
     "name": "#%%\n"
    }
   }
  },
  {
   "cell_type": "code",
   "execution_count": 5,
   "outputs": [],
   "source": [
    "# plot daily market data to get some idea"
   ],
   "metadata": {
    "collapsed": false,
    "pycharm": {
     "name": "#%%\n"
    }
   }
  },
  {
   "cell_type": "code",
   "execution_count": 6,
   "outputs": [],
   "source": [
    "dataset = Dataset.load('../../data/parsed')"
   ],
   "metadata": {
    "collapsed": false,
    "pycharm": {
     "name": "#%%\n"
    }
   }
  },
  {
   "cell_type": "code",
   "execution_count": 9,
   "outputs": [],
   "source": [
    "m_df = dataset.market.set_index(['asset', 'day', 'timeslot']).sort_index()"
   ],
   "metadata": {
    "collapsed": false,
    "pycharm": {
     "name": "#%%\n"
    }
   }
  },
  {
   "cell_type": "code",
   "execution_count": 10,
   "outputs": [
    {
     "data": {
      "text/plain": "                        open    close     high      low     volume  \\\nasset day  timeslot                                                  \n0     1    1         25.0164  24.9557  25.1378  24.9436   642243.0   \n           2         24.9557  24.8465  24.9557  24.8101   797872.0   \n           3         24.8465  24.7008  24.8586  24.6644  1234546.0   \n           4         24.7008  24.7615  24.7858  24.7008   533023.0   \n           5         24.7615  24.7251  24.7615  24.7008   565000.0   \n...                      ...      ...      ...      ...        ...   \n53    1000 46         9.8439   9.8803   9.8925   9.8439   160915.0   \n           47         9.8803   9.9167   9.9289   9.8803   237961.0   \n           48         9.9167   9.9289   9.9289   9.9167   182479.0   \n           49         9.9289   9.8803   9.9289   9.8682   267976.0   \n           50         9.8803   9.9046   9.9046   9.8803   139460.0   \n\n                            money  \nasset day  timeslot                \n0     1    1         1.610060e+07  \n           2         1.984058e+07  \n           3         3.056567e+07  \n           4         1.318848e+07  \n           5         1.396949e+07  \n...                           ...  \n53    1000 46        1.587971e+06  \n           47        2.356753e+06  \n           48        1.809533e+06  \n           49        2.653046e+06  \n           50        1.380952e+06  \n\n[2700000 rows x 6 columns]",
      "text/html": "<div>\n<style scoped>\n    .dataframe tbody tr th:only-of-type {\n        vertical-align: middle;\n    }\n\n    .dataframe tbody tr th {\n        vertical-align: top;\n    }\n\n    .dataframe thead th {\n        text-align: right;\n    }\n</style>\n<table border=\"1\" class=\"dataframe\">\n  <thead>\n    <tr style=\"text-align: right;\">\n      <th></th>\n      <th></th>\n      <th></th>\n      <th>open</th>\n      <th>close</th>\n      <th>high</th>\n      <th>low</th>\n      <th>volume</th>\n      <th>money</th>\n    </tr>\n    <tr>\n      <th>asset</th>\n      <th>day</th>\n      <th>timeslot</th>\n      <th></th>\n      <th></th>\n      <th></th>\n      <th></th>\n      <th></th>\n      <th></th>\n    </tr>\n  </thead>\n  <tbody>\n    <tr>\n      <th rowspan=\"5\" valign=\"top\">0</th>\n      <th rowspan=\"5\" valign=\"top\">1</th>\n      <th>1</th>\n      <td>25.0164</td>\n      <td>24.9557</td>\n      <td>25.1378</td>\n      <td>24.9436</td>\n      <td>642243.0</td>\n      <td>1.610060e+07</td>\n    </tr>\n    <tr>\n      <th>2</th>\n      <td>24.9557</td>\n      <td>24.8465</td>\n      <td>24.9557</td>\n      <td>24.8101</td>\n      <td>797872.0</td>\n      <td>1.984058e+07</td>\n    </tr>\n    <tr>\n      <th>3</th>\n      <td>24.8465</td>\n      <td>24.7008</td>\n      <td>24.8586</td>\n      <td>24.6644</td>\n      <td>1234546.0</td>\n      <td>3.056567e+07</td>\n    </tr>\n    <tr>\n      <th>4</th>\n      <td>24.7008</td>\n      <td>24.7615</td>\n      <td>24.7858</td>\n      <td>24.7008</td>\n      <td>533023.0</td>\n      <td>1.318848e+07</td>\n    </tr>\n    <tr>\n      <th>5</th>\n      <td>24.7615</td>\n      <td>24.7251</td>\n      <td>24.7615</td>\n      <td>24.7008</td>\n      <td>565000.0</td>\n      <td>1.396949e+07</td>\n    </tr>\n    <tr>\n      <th>...</th>\n      <th>...</th>\n      <th>...</th>\n      <td>...</td>\n      <td>...</td>\n      <td>...</td>\n      <td>...</td>\n      <td>...</td>\n      <td>...</td>\n    </tr>\n    <tr>\n      <th rowspan=\"5\" valign=\"top\">53</th>\n      <th rowspan=\"5\" valign=\"top\">1000</th>\n      <th>46</th>\n      <td>9.8439</td>\n      <td>9.8803</td>\n      <td>9.8925</td>\n      <td>9.8439</td>\n      <td>160915.0</td>\n      <td>1.587971e+06</td>\n    </tr>\n    <tr>\n      <th>47</th>\n      <td>9.8803</td>\n      <td>9.9167</td>\n      <td>9.9289</td>\n      <td>9.8803</td>\n      <td>237961.0</td>\n      <td>2.356753e+06</td>\n    </tr>\n    <tr>\n      <th>48</th>\n      <td>9.9167</td>\n      <td>9.9289</td>\n      <td>9.9289</td>\n      <td>9.9167</td>\n      <td>182479.0</td>\n      <td>1.809533e+06</td>\n    </tr>\n    <tr>\n      <th>49</th>\n      <td>9.9289</td>\n      <td>9.8803</td>\n      <td>9.9289</td>\n      <td>9.8682</td>\n      <td>267976.0</td>\n      <td>2.653046e+06</td>\n    </tr>\n    <tr>\n      <th>50</th>\n      <td>9.8803</td>\n      <td>9.9046</td>\n      <td>9.9046</td>\n      <td>9.8803</td>\n      <td>139460.0</td>\n      <td>1.380952e+06</td>\n    </tr>\n  </tbody>\n</table>\n<p>2700000 rows × 6 columns</p>\n</div>"
     },
     "execution_count": 10,
     "metadata": {},
     "output_type": "execute_result"
    }
   ],
   "source": [
    "m_df"
   ],
   "metadata": {
    "collapsed": false,
    "pycharm": {
     "name": "#%%\n"
    }
   }
  },
  {
   "cell_type": "code",
   "execution_count": 13,
   "outputs": [
    {
     "ename": "KeyError",
     "evalue": "0",
     "output_type": "error",
     "traceback": [
      "\u001B[0;31m---------------------------------------------------------------------------\u001B[0m",
      "\u001B[0;31mKeyError\u001B[0m                                  Traceback (most recent call last)",
      "File \u001B[0;32m/opt/miniconda3/envs/qids-2023-comp/lib/python3.10/site-packages/pandas/core/indexes/base.py:3803\u001B[0m, in \u001B[0;36mIndex.get_loc\u001B[0;34m(self, key, method, tolerance)\u001B[0m\n\u001B[1;32m   3802\u001B[0m \u001B[38;5;28;01mtry\u001B[39;00m:\n\u001B[0;32m-> 3803\u001B[0m     \u001B[38;5;28;01mreturn\u001B[39;00m \u001B[38;5;28;43mself\u001B[39;49m\u001B[38;5;241;43m.\u001B[39;49m\u001B[43m_engine\u001B[49m\u001B[38;5;241;43m.\u001B[39;49m\u001B[43mget_loc\u001B[49m\u001B[43m(\u001B[49m\u001B[43mcasted_key\u001B[49m\u001B[43m)\u001B[49m\n\u001B[1;32m   3804\u001B[0m \u001B[38;5;28;01mexcept\u001B[39;00m \u001B[38;5;167;01mKeyError\u001B[39;00m \u001B[38;5;28;01mas\u001B[39;00m err:\n",
      "File \u001B[0;32m/opt/miniconda3/envs/qids-2023-comp/lib/python3.10/site-packages/pandas/_libs/index.pyx:138\u001B[0m, in \u001B[0;36mpandas._libs.index.IndexEngine.get_loc\u001B[0;34m()\u001B[0m\n",
      "File \u001B[0;32m/opt/miniconda3/envs/qids-2023-comp/lib/python3.10/site-packages/pandas/_libs/index.pyx:165\u001B[0m, in \u001B[0;36mpandas._libs.index.IndexEngine.get_loc\u001B[0;34m()\u001B[0m\n",
      "File \u001B[0;32mpandas/_libs/hashtable_class_helper.pxi:5745\u001B[0m, in \u001B[0;36mpandas._libs.hashtable.PyObjectHashTable.get_item\u001B[0;34m()\u001B[0m\n",
      "File \u001B[0;32mpandas/_libs/hashtable_class_helper.pxi:5753\u001B[0m, in \u001B[0;36mpandas._libs.hashtable.PyObjectHashTable.get_item\u001B[0;34m()\u001B[0m\n",
      "\u001B[0;31mKeyError\u001B[0m: 0",
      "\nThe above exception was the direct cause of the following exception:\n",
      "\u001B[0;31mKeyError\u001B[0m                                  Traceback (most recent call last)",
      "Cell \u001B[0;32mIn[13], line 1\u001B[0m\n\u001B[0;32m----> 1\u001B[0m mpf\u001B[38;5;241m.\u001B[39mplot(\u001B[43mm_df\u001B[49m\u001B[38;5;241;43m.\u001B[39;49m\u001B[43mloc\u001B[49m\u001B[43m[\u001B[49m\u001B[43m(\u001B[49m\u001B[38;5;241;43m0\u001B[39;49m\u001B[43m,\u001B[49m\u001B[43m \u001B[49m\u001B[38;5;241;43m0\u001B[39;49m\u001B[43m)\u001B[49m\u001B[43m]\u001B[49m)\n",
      "File \u001B[0;32m/opt/miniconda3/envs/qids-2023-comp/lib/python3.10/site-packages/pandas/core/indexing.py:1067\u001B[0m, in \u001B[0;36m_LocationIndexer.__getitem__\u001B[0;34m(self, key)\u001B[0m\n\u001B[1;32m   1065\u001B[0m     \u001B[38;5;28;01mif\u001B[39;00m \u001B[38;5;28mself\u001B[39m\u001B[38;5;241m.\u001B[39m_is_scalar_access(key):\n\u001B[1;32m   1066\u001B[0m         \u001B[38;5;28;01mreturn\u001B[39;00m \u001B[38;5;28mself\u001B[39m\u001B[38;5;241m.\u001B[39mobj\u001B[38;5;241m.\u001B[39m_get_value(\u001B[38;5;241m*\u001B[39mkey, takeable\u001B[38;5;241m=\u001B[39m\u001B[38;5;28mself\u001B[39m\u001B[38;5;241m.\u001B[39m_takeable)\n\u001B[0;32m-> 1067\u001B[0m     \u001B[38;5;28;01mreturn\u001B[39;00m \u001B[38;5;28;43mself\u001B[39;49m\u001B[38;5;241;43m.\u001B[39;49m\u001B[43m_getitem_tuple\u001B[49m\u001B[43m(\u001B[49m\u001B[43mkey\u001B[49m\u001B[43m)\u001B[49m\n\u001B[1;32m   1068\u001B[0m \u001B[38;5;28;01melse\u001B[39;00m:\n\u001B[1;32m   1069\u001B[0m     \u001B[38;5;66;03m# we by definition only have the 0th axis\u001B[39;00m\n\u001B[1;32m   1070\u001B[0m     axis \u001B[38;5;241m=\u001B[39m \u001B[38;5;28mself\u001B[39m\u001B[38;5;241m.\u001B[39maxis \u001B[38;5;129;01mor\u001B[39;00m \u001B[38;5;241m0\u001B[39m\n",
      "File \u001B[0;32m/opt/miniconda3/envs/qids-2023-comp/lib/python3.10/site-packages/pandas/core/indexing.py:1247\u001B[0m, in \u001B[0;36m_LocIndexer._getitem_tuple\u001B[0;34m(self, tup)\u001B[0m\n\u001B[1;32m   1245\u001B[0m \u001B[38;5;28;01mwith\u001B[39;00m suppress(IndexingError):\n\u001B[1;32m   1246\u001B[0m     tup \u001B[38;5;241m=\u001B[39m \u001B[38;5;28mself\u001B[39m\u001B[38;5;241m.\u001B[39m_expand_ellipsis(tup)\n\u001B[0;32m-> 1247\u001B[0m     \u001B[38;5;28;01mreturn\u001B[39;00m \u001B[38;5;28;43mself\u001B[39;49m\u001B[38;5;241;43m.\u001B[39;49m\u001B[43m_getitem_lowerdim\u001B[49m\u001B[43m(\u001B[49m\u001B[43mtup\u001B[49m\u001B[43m)\u001B[49m\n\u001B[1;32m   1249\u001B[0m \u001B[38;5;66;03m# no multi-index, so validate all of the indexers\u001B[39;00m\n\u001B[1;32m   1250\u001B[0m tup \u001B[38;5;241m=\u001B[39m \u001B[38;5;28mself\u001B[39m\u001B[38;5;241m.\u001B[39m_validate_tuple_indexer(tup)\n",
      "File \u001B[0;32m/opt/miniconda3/envs/qids-2023-comp/lib/python3.10/site-packages/pandas/core/indexing.py:991\u001B[0m, in \u001B[0;36m_LocationIndexer._getitem_lowerdim\u001B[0;34m(self, tup)\u001B[0m\n\u001B[1;32m    989\u001B[0m             \u001B[38;5;28;01mreturn\u001B[39;00m section\n\u001B[1;32m    990\u001B[0m         \u001B[38;5;66;03m# This is an elided recursive call to iloc/loc\u001B[39;00m\n\u001B[0;32m--> 991\u001B[0m         \u001B[38;5;28;01mreturn\u001B[39;00m \u001B[38;5;28;43mgetattr\u001B[39;49m\u001B[43m(\u001B[49m\u001B[43msection\u001B[49m\u001B[43m,\u001B[49m\u001B[43m \u001B[49m\u001B[38;5;28;43mself\u001B[39;49m\u001B[38;5;241;43m.\u001B[39;49m\u001B[43mname\u001B[49m\u001B[43m)\u001B[49m\u001B[43m[\u001B[49m\u001B[43mnew_key\u001B[49m\u001B[43m]\u001B[49m\n\u001B[1;32m    993\u001B[0m \u001B[38;5;28;01mraise\u001B[39;00m IndexingError(\u001B[38;5;124m\"\u001B[39m\u001B[38;5;124mnot applicable\u001B[39m\u001B[38;5;124m\"\u001B[39m)\n",
      "File \u001B[0;32m/opt/miniconda3/envs/qids-2023-comp/lib/python3.10/site-packages/pandas/core/indexing.py:1067\u001B[0m, in \u001B[0;36m_LocationIndexer.__getitem__\u001B[0;34m(self, key)\u001B[0m\n\u001B[1;32m   1065\u001B[0m     \u001B[38;5;28;01mif\u001B[39;00m \u001B[38;5;28mself\u001B[39m\u001B[38;5;241m.\u001B[39m_is_scalar_access(key):\n\u001B[1;32m   1066\u001B[0m         \u001B[38;5;28;01mreturn\u001B[39;00m \u001B[38;5;28mself\u001B[39m\u001B[38;5;241m.\u001B[39mobj\u001B[38;5;241m.\u001B[39m_get_value(\u001B[38;5;241m*\u001B[39mkey, takeable\u001B[38;5;241m=\u001B[39m\u001B[38;5;28mself\u001B[39m\u001B[38;5;241m.\u001B[39m_takeable)\n\u001B[0;32m-> 1067\u001B[0m     \u001B[38;5;28;01mreturn\u001B[39;00m \u001B[38;5;28;43mself\u001B[39;49m\u001B[38;5;241;43m.\u001B[39;49m\u001B[43m_getitem_tuple\u001B[49m\u001B[43m(\u001B[49m\u001B[43mkey\u001B[49m\u001B[43m)\u001B[49m\n\u001B[1;32m   1068\u001B[0m \u001B[38;5;28;01melse\u001B[39;00m:\n\u001B[1;32m   1069\u001B[0m     \u001B[38;5;66;03m# we by definition only have the 0th axis\u001B[39;00m\n\u001B[1;32m   1070\u001B[0m     axis \u001B[38;5;241m=\u001B[39m \u001B[38;5;28mself\u001B[39m\u001B[38;5;241m.\u001B[39maxis \u001B[38;5;129;01mor\u001B[39;00m \u001B[38;5;241m0\u001B[39m\n",
      "File \u001B[0;32m/opt/miniconda3/envs/qids-2023-comp/lib/python3.10/site-packages/pandas/core/indexing.py:1247\u001B[0m, in \u001B[0;36m_LocIndexer._getitem_tuple\u001B[0;34m(self, tup)\u001B[0m\n\u001B[1;32m   1245\u001B[0m \u001B[38;5;28;01mwith\u001B[39;00m suppress(IndexingError):\n\u001B[1;32m   1246\u001B[0m     tup \u001B[38;5;241m=\u001B[39m \u001B[38;5;28mself\u001B[39m\u001B[38;5;241m.\u001B[39m_expand_ellipsis(tup)\n\u001B[0;32m-> 1247\u001B[0m     \u001B[38;5;28;01mreturn\u001B[39;00m \u001B[38;5;28;43mself\u001B[39;49m\u001B[38;5;241;43m.\u001B[39;49m\u001B[43m_getitem_lowerdim\u001B[49m\u001B[43m(\u001B[49m\u001B[43mtup\u001B[49m\u001B[43m)\u001B[49m\n\u001B[1;32m   1249\u001B[0m \u001B[38;5;66;03m# no multi-index, so validate all of the indexers\u001B[39;00m\n\u001B[1;32m   1250\u001B[0m tup \u001B[38;5;241m=\u001B[39m \u001B[38;5;28mself\u001B[39m\u001B[38;5;241m.\u001B[39m_validate_tuple_indexer(tup)\n",
      "File \u001B[0;32m/opt/miniconda3/envs/qids-2023-comp/lib/python3.10/site-packages/pandas/core/indexing.py:941\u001B[0m, in \u001B[0;36m_LocationIndexer._getitem_lowerdim\u001B[0;34m(self, tup)\u001B[0m\n\u001B[1;32m    939\u001B[0m \u001B[38;5;66;03m# we may have a nested tuples indexer here\u001B[39;00m\n\u001B[1;32m    940\u001B[0m \u001B[38;5;28;01mif\u001B[39;00m \u001B[38;5;28mself\u001B[39m\u001B[38;5;241m.\u001B[39m_is_nested_tuple_indexer(tup):\n\u001B[0;32m--> 941\u001B[0m     \u001B[38;5;28;01mreturn\u001B[39;00m \u001B[38;5;28;43mself\u001B[39;49m\u001B[38;5;241;43m.\u001B[39;49m\u001B[43m_getitem_nested_tuple\u001B[49m\u001B[43m(\u001B[49m\u001B[43mtup\u001B[49m\u001B[43m)\u001B[49m\n\u001B[1;32m    943\u001B[0m \u001B[38;5;66;03m# we maybe be using a tuple to represent multiple dimensions here\u001B[39;00m\n\u001B[1;32m    944\u001B[0m ax0 \u001B[38;5;241m=\u001B[39m \u001B[38;5;28mself\u001B[39m\u001B[38;5;241m.\u001B[39mobj\u001B[38;5;241m.\u001B[39m_get_axis(\u001B[38;5;241m0\u001B[39m)\n",
      "File \u001B[0;32m/opt/miniconda3/envs/qids-2023-comp/lib/python3.10/site-packages/pandas/core/indexing.py:1047\u001B[0m, in \u001B[0;36m_LocationIndexer._getitem_nested_tuple\u001B[0;34m(self, tup)\u001B[0m\n\u001B[1;32m   1044\u001B[0m     axis \u001B[38;5;241m-\u001B[39m\u001B[38;5;241m=\u001B[39m \u001B[38;5;241m1\u001B[39m\n\u001B[1;32m   1045\u001B[0m     \u001B[38;5;28;01mcontinue\u001B[39;00m\n\u001B[0;32m-> 1047\u001B[0m obj \u001B[38;5;241m=\u001B[39m \u001B[38;5;28;43mgetattr\u001B[39;49m\u001B[43m(\u001B[49m\u001B[43mobj\u001B[49m\u001B[43m,\u001B[49m\u001B[43m \u001B[49m\u001B[38;5;28;43mself\u001B[39;49m\u001B[38;5;241;43m.\u001B[39;49m\u001B[43mname\u001B[49m\u001B[43m)\u001B[49m\u001B[38;5;241;43m.\u001B[39;49m\u001B[43m_getitem_axis\u001B[49m\u001B[43m(\u001B[49m\u001B[43mkey\u001B[49m\u001B[43m,\u001B[49m\u001B[43m \u001B[49m\u001B[43maxis\u001B[49m\u001B[38;5;241;43m=\u001B[39;49m\u001B[43maxis\u001B[49m\u001B[43m)\u001B[49m\n\u001B[1;32m   1048\u001B[0m axis \u001B[38;5;241m-\u001B[39m\u001B[38;5;241m=\u001B[39m \u001B[38;5;241m1\u001B[39m\n\u001B[1;32m   1050\u001B[0m \u001B[38;5;66;03m# if we have a scalar, we are done\u001B[39;00m\n",
      "File \u001B[0;32m/opt/miniconda3/envs/qids-2023-comp/lib/python3.10/site-packages/pandas/core/indexing.py:1312\u001B[0m, in \u001B[0;36m_LocIndexer._getitem_axis\u001B[0;34m(self, key, axis)\u001B[0m\n\u001B[1;32m   1310\u001B[0m \u001B[38;5;66;03m# fall thru to straight lookup\u001B[39;00m\n\u001B[1;32m   1311\u001B[0m \u001B[38;5;28mself\u001B[39m\u001B[38;5;241m.\u001B[39m_validate_key(key, axis)\n\u001B[0;32m-> 1312\u001B[0m \u001B[38;5;28;01mreturn\u001B[39;00m \u001B[38;5;28;43mself\u001B[39;49m\u001B[38;5;241;43m.\u001B[39;49m\u001B[43m_get_label\u001B[49m\u001B[43m(\u001B[49m\u001B[43mkey\u001B[49m\u001B[43m,\u001B[49m\u001B[43m \u001B[49m\u001B[43maxis\u001B[49m\u001B[38;5;241;43m=\u001B[39;49m\u001B[43maxis\u001B[49m\u001B[43m)\u001B[49m\n",
      "File \u001B[0;32m/opt/miniconda3/envs/qids-2023-comp/lib/python3.10/site-packages/pandas/core/indexing.py:1260\u001B[0m, in \u001B[0;36m_LocIndexer._get_label\u001B[0;34m(self, label, axis)\u001B[0m\n\u001B[1;32m   1258\u001B[0m \u001B[38;5;28;01mdef\u001B[39;00m \u001B[38;5;21m_get_label\u001B[39m(\u001B[38;5;28mself\u001B[39m, label, axis: \u001B[38;5;28mint\u001B[39m):\n\u001B[1;32m   1259\u001B[0m     \u001B[38;5;66;03m# GH#5567 this will fail if the label is not present in the axis.\u001B[39;00m\n\u001B[0;32m-> 1260\u001B[0m     \u001B[38;5;28;01mreturn\u001B[39;00m \u001B[38;5;28;43mself\u001B[39;49m\u001B[38;5;241;43m.\u001B[39;49m\u001B[43mobj\u001B[49m\u001B[38;5;241;43m.\u001B[39;49m\u001B[43mxs\u001B[49m\u001B[43m(\u001B[49m\u001B[43mlabel\u001B[49m\u001B[43m,\u001B[49m\u001B[43m \u001B[49m\u001B[43maxis\u001B[49m\u001B[38;5;241;43m=\u001B[39;49m\u001B[43maxis\u001B[49m\u001B[43m)\u001B[49m\n",
      "File \u001B[0;32m/opt/miniconda3/envs/qids-2023-comp/lib/python3.10/site-packages/pandas/core/generic.py:4041\u001B[0m, in \u001B[0;36mNDFrame.xs\u001B[0;34m(self, key, axis, level, drop_level)\u001B[0m\n\u001B[1;32m   4039\u001B[0m \u001B[38;5;28;01mif\u001B[39;00m axis \u001B[38;5;241m==\u001B[39m \u001B[38;5;241m1\u001B[39m:\n\u001B[1;32m   4040\u001B[0m     \u001B[38;5;28;01mif\u001B[39;00m drop_level:\n\u001B[0;32m-> 4041\u001B[0m         \u001B[38;5;28;01mreturn\u001B[39;00m \u001B[38;5;28;43mself\u001B[39;49m\u001B[43m[\u001B[49m\u001B[43mkey\u001B[49m\u001B[43m]\u001B[49m\n\u001B[1;32m   4042\u001B[0m     index \u001B[38;5;241m=\u001B[39m \u001B[38;5;28mself\u001B[39m\u001B[38;5;241m.\u001B[39mcolumns\n\u001B[1;32m   4043\u001B[0m \u001B[38;5;28;01melse\u001B[39;00m:\n",
      "File \u001B[0;32m/opt/miniconda3/envs/qids-2023-comp/lib/python3.10/site-packages/pandas/core/frame.py:3805\u001B[0m, in \u001B[0;36mDataFrame.__getitem__\u001B[0;34m(self, key)\u001B[0m\n\u001B[1;32m   3803\u001B[0m \u001B[38;5;28;01mif\u001B[39;00m \u001B[38;5;28mself\u001B[39m\u001B[38;5;241m.\u001B[39mcolumns\u001B[38;5;241m.\u001B[39mnlevels \u001B[38;5;241m>\u001B[39m \u001B[38;5;241m1\u001B[39m:\n\u001B[1;32m   3804\u001B[0m     \u001B[38;5;28;01mreturn\u001B[39;00m \u001B[38;5;28mself\u001B[39m\u001B[38;5;241m.\u001B[39m_getitem_multilevel(key)\n\u001B[0;32m-> 3805\u001B[0m indexer \u001B[38;5;241m=\u001B[39m \u001B[38;5;28;43mself\u001B[39;49m\u001B[38;5;241;43m.\u001B[39;49m\u001B[43mcolumns\u001B[49m\u001B[38;5;241;43m.\u001B[39;49m\u001B[43mget_loc\u001B[49m\u001B[43m(\u001B[49m\u001B[43mkey\u001B[49m\u001B[43m)\u001B[49m\n\u001B[1;32m   3806\u001B[0m \u001B[38;5;28;01mif\u001B[39;00m is_integer(indexer):\n\u001B[1;32m   3807\u001B[0m     indexer \u001B[38;5;241m=\u001B[39m [indexer]\n",
      "File \u001B[0;32m/opt/miniconda3/envs/qids-2023-comp/lib/python3.10/site-packages/pandas/core/indexes/base.py:3805\u001B[0m, in \u001B[0;36mIndex.get_loc\u001B[0;34m(self, key, method, tolerance)\u001B[0m\n\u001B[1;32m   3803\u001B[0m     \u001B[38;5;28;01mreturn\u001B[39;00m \u001B[38;5;28mself\u001B[39m\u001B[38;5;241m.\u001B[39m_engine\u001B[38;5;241m.\u001B[39mget_loc(casted_key)\n\u001B[1;32m   3804\u001B[0m \u001B[38;5;28;01mexcept\u001B[39;00m \u001B[38;5;167;01mKeyError\u001B[39;00m \u001B[38;5;28;01mas\u001B[39;00m err:\n\u001B[0;32m-> 3805\u001B[0m     \u001B[38;5;28;01mraise\u001B[39;00m \u001B[38;5;167;01mKeyError\u001B[39;00m(key) \u001B[38;5;28;01mfrom\u001B[39;00m \u001B[38;5;21;01merr\u001B[39;00m\n\u001B[1;32m   3806\u001B[0m \u001B[38;5;28;01mexcept\u001B[39;00m \u001B[38;5;167;01mTypeError\u001B[39;00m:\n\u001B[1;32m   3807\u001B[0m     \u001B[38;5;66;03m# If we have a listlike key, _check_indexing_error will raise\u001B[39;00m\n\u001B[1;32m   3808\u001B[0m     \u001B[38;5;66;03m#  InvalidIndexError. Otherwise we fall through and re-raise\u001B[39;00m\n\u001B[1;32m   3809\u001B[0m     \u001B[38;5;66;03m#  the TypeError.\u001B[39;00m\n\u001B[1;32m   3810\u001B[0m     \u001B[38;5;28mself\u001B[39m\u001B[38;5;241m.\u001B[39m_check_indexing_error(key)\n",
      "\u001B[0;31mKeyError\u001B[0m: 0"
     ]
    }
   ],
   "source": [
    "mpf.plot(m_df.loc[(0, 0)])"
   ],
   "metadata": {
    "collapsed": false,
    "pycharm": {
     "name": "#%%\n"
    }
   }
  },
  {
   "cell_type": "code",
   "execution_count": 18,
   "outputs": [
    {
     "data": {
      "text/plain": "                        open    close     high      low     volume  \\\nasset day  timeslot                                                  \n0     1    1         25.0164  24.9557  25.1378  24.9436   642243.0   \n           2         24.9557  24.8465  24.9557  24.8101   797872.0   \n           3         24.8465  24.7008  24.8586  24.6644  1234546.0   \n           4         24.7008  24.7615  24.7858  24.7008   533023.0   \n           5         24.7615  24.7251  24.7615  24.7008   565000.0   \n...                      ...      ...      ...      ...        ...   \n      1000 46        11.8952  11.9074  11.9074  11.8831   120848.0   \n           47        11.9074  11.9438  11.9559  11.8952   192521.0   \n           48        11.9559  11.9681  11.9681  11.9438   222251.0   \n           49        11.9681  11.9923  12.0045  11.9438   350733.0   \n           50        11.9923  11.9923  11.9923  11.9923   114739.0   \n\n                            money  \nasset day  timeslot                \n0     1    1         1.610060e+07  \n           2         1.984058e+07  \n           3         3.056567e+07  \n           4         1.318848e+07  \n           5         1.396949e+07  \n...                           ...  \n      1000 46        1.437557e+06  \n           47        2.296684e+06  \n           48        2.657902e+06  \n           49        4.201217e+06  \n           50        1.376204e+06  \n\n[100000 rows x 6 columns]",
      "text/html": "<div>\n<style scoped>\n    .dataframe tbody tr th:only-of-type {\n        vertical-align: middle;\n    }\n\n    .dataframe tbody tr th {\n        vertical-align: top;\n    }\n\n    .dataframe thead th {\n        text-align: right;\n    }\n</style>\n<table border=\"1\" class=\"dataframe\">\n  <thead>\n    <tr style=\"text-align: right;\">\n      <th></th>\n      <th></th>\n      <th></th>\n      <th>open</th>\n      <th>close</th>\n      <th>high</th>\n      <th>low</th>\n      <th>volume</th>\n      <th>money</th>\n    </tr>\n    <tr>\n      <th>asset</th>\n      <th>day</th>\n      <th>timeslot</th>\n      <th></th>\n      <th></th>\n      <th></th>\n      <th></th>\n      <th></th>\n      <th></th>\n    </tr>\n  </thead>\n  <tbody>\n    <tr>\n      <th rowspan=\"11\" valign=\"top\">0</th>\n      <th rowspan=\"5\" valign=\"top\">1</th>\n      <th>1</th>\n      <td>25.0164</td>\n      <td>24.9557</td>\n      <td>25.1378</td>\n      <td>24.9436</td>\n      <td>642243.0</td>\n      <td>1.610060e+07</td>\n    </tr>\n    <tr>\n      <th>2</th>\n      <td>24.9557</td>\n      <td>24.8465</td>\n      <td>24.9557</td>\n      <td>24.8101</td>\n      <td>797872.0</td>\n      <td>1.984058e+07</td>\n    </tr>\n    <tr>\n      <th>3</th>\n      <td>24.8465</td>\n      <td>24.7008</td>\n      <td>24.8586</td>\n      <td>24.6644</td>\n      <td>1234546.0</td>\n      <td>3.056567e+07</td>\n    </tr>\n    <tr>\n      <th>4</th>\n      <td>24.7008</td>\n      <td>24.7615</td>\n      <td>24.7858</td>\n      <td>24.7008</td>\n      <td>533023.0</td>\n      <td>1.318848e+07</td>\n    </tr>\n    <tr>\n      <th>5</th>\n      <td>24.7615</td>\n      <td>24.7251</td>\n      <td>24.7615</td>\n      <td>24.7008</td>\n      <td>565000.0</td>\n      <td>1.396949e+07</td>\n    </tr>\n    <tr>\n      <th>...</th>\n      <th>...</th>\n      <td>...</td>\n      <td>...</td>\n      <td>...</td>\n      <td>...</td>\n      <td>...</td>\n      <td>...</td>\n    </tr>\n    <tr>\n      <th rowspan=\"5\" valign=\"top\">1000</th>\n      <th>46</th>\n      <td>11.8952</td>\n      <td>11.9074</td>\n      <td>11.9074</td>\n      <td>11.8831</td>\n      <td>120848.0</td>\n      <td>1.437557e+06</td>\n    </tr>\n    <tr>\n      <th>47</th>\n      <td>11.9074</td>\n      <td>11.9438</td>\n      <td>11.9559</td>\n      <td>11.8952</td>\n      <td>192521.0</td>\n      <td>2.296684e+06</td>\n    </tr>\n    <tr>\n      <th>48</th>\n      <td>11.9559</td>\n      <td>11.9681</td>\n      <td>11.9681</td>\n      <td>11.9438</td>\n      <td>222251.0</td>\n      <td>2.657902e+06</td>\n    </tr>\n    <tr>\n      <th>49</th>\n      <td>11.9681</td>\n      <td>11.9923</td>\n      <td>12.0045</td>\n      <td>11.9438</td>\n      <td>350733.0</td>\n      <td>4.201217e+06</td>\n    </tr>\n    <tr>\n      <th>50</th>\n      <td>11.9923</td>\n      <td>11.9923</td>\n      <td>11.9923</td>\n      <td>11.9923</td>\n      <td>114739.0</td>\n      <td>1.376204e+06</td>\n    </tr>\n  </tbody>\n</table>\n<p>100000 rows × 6 columns</p>\n</div>"
     },
     "execution_count": 18,
     "metadata": {},
     "output_type": "execute_result"
    }
   ],
   "source": [
    "m_df.loc[[0, 0]]"
   ],
   "metadata": {
    "collapsed": false,
    "pycharm": {
     "name": "#%%\n"
    }
   }
  },
  {
   "cell_type": "code",
   "execution_count": null,
   "outputs": [],
   "source": [],
   "metadata": {
    "collapsed": false,
    "pycharm": {
     "name": "#%%\n"
    }
   }
  }
 ],
 "metadata": {
  "kernelspec": {
   "display_name": "Python 3",
   "language": "python",
   "name": "python3"
  },
  "language_info": {
   "codemirror_mode": {
    "name": "ipython",
    "version": 2
   },
   "file_extension": ".py",
   "mimetype": "text/x-python",
   "name": "python",
   "nbconvert_exporter": "python",
   "pygments_lexer": "ipython2",
   "version": "2.7.6"
  }
 },
 "nbformat": 4,
 "nbformat_minor": 0
}