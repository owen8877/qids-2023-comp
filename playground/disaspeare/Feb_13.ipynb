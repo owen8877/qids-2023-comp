{
 "cells": [
  {
   "cell_type": "code",
   "execution_count": 1,
   "outputs": [],
   "source": [
    "import pandas as pd"
   ],
   "metadata": {
    "collapsed": false,
    "pycharm": {
     "name": "#%%\n"
    }
   }
  },
  {
   "cell_type": "code",
   "execution_count": 2,
   "outputs": [],
   "source": [
    "train_market = pd.read_csv('../../data/raw/first_round_train_market_data.csv')\n",
    "test_market = pd.read_csv('../../data/raw/first_round_test_market_data.csv')\n",
    "all_market = pd.concat([train_market, test_market])\n",
    "all_market.to_csv('../../data/raw_long/first_round_train_market_data.csv')"
   ],
   "metadata": {
    "collapsed": false,
    "pycharm": {
     "name": "#%%\n"
    }
   }
  },
  {
   "cell_type": "code",
   "execution_count": 4,
   "outputs": [],
   "source": [
    "train_fundamental = pd.read_csv('../../data/raw/first_round_train_fundamental_data.csv')\n",
    "test_fundamental = pd.read_csv('../../data/raw/first_round_test_fundamental_data.csv')\n",
    "all_fundamental = pd.concat([train_fundamental, test_fundamental])\n",
    "all_fundamental.to_csv('../../data/raw_long/first_round_train_fundamental_data.csv')"
   ],
   "metadata": {
    "collapsed": false,
    "pycharm": {
     "name": "#%%\n"
    }
   }
  },
  {
   "cell_type": "code",
   "execution_count": 12,
   "outputs": [],
   "source": [
    "train_return = pd.read_csv('../../data/raw/first_round_train_return_data.csv')\n"
   ],
   "metadata": {
    "collapsed": false,
    "pycharm": {
     "name": "#%%\n"
    }
   }
  },
  {
   "cell_type": "code",
   "execution_count": 27,
   "outputs": [],
   "source": [
    "from pandas import Series\n",
    "\n",
    "all_returns = []\n",
    "for day in range(1, 1698):\n",
    "    r_values = all_market.iloc[50*54*(day+2)-54:50*54*(day+2)]['close'].values / all_market.iloc[50*54*day-54:50*54*day]['close'].values - 1\n",
    "    d_values = all_market.iloc[50*54*day-54:50*54*day]['date_time'].str.split('p', expand=True).iloc[:, 0].rename('date_time')\n",
    "    all_returns.append(Series(data=r_values, index=d_values, name='return'))"
   ],
   "metadata": {
    "collapsed": false,
    "pycharm": {
     "name": "#%%\n"
    }
   }
  },
  {
   "cell_type": "code",
   "execution_count": 28,
   "outputs": [],
   "source": [
    "my_return = pd.concat(all_returns)"
   ],
   "metadata": {
    "collapsed": false,
    "pycharm": {
     "name": "#%%\n"
    }
   }
  },
  {
   "cell_type": "code",
   "execution_count": 34,
   "outputs": [],
   "source": [
    "my_return.to_csv('../../data/raw_long/first_round_train_return_data.csv')"
   ],
   "metadata": {
    "collapsed": false,
    "pycharm": {
     "name": "#%%\n"
    }
   }
  },
  {
   "cell_type": "code",
   "execution_count": 35,
   "outputs": [],
   "source": [
    "import pipeline\n",
    "from pipeline.parse_raw_df import pre_process_df_with_date, pre_process_df_with_date_time\n",
    "\n",
    "parsed_path = '../../data/parsed_long'\n",
    "raw_path = '../../data/raw_long'\n",
    "template = '{}/first_round_train_{}_data.csv'\n",
    "\n",
    "f_df = pre_process_df_with_date(pd.read_csv(template.format(raw_path, 'fundamental')))\n",
    "m_df = pre_process_df_with_date_time(pd.read_csv(template.format(raw_path, 'market')))\n",
    "r_df = pre_process_df_with_date(pd.read_csv(template.format(raw_path, 'return')))\n",
    "pipeline.Dataset(m_df, f_df, r_df).dump(parsed_path)"
   ],
   "metadata": {
    "collapsed": false,
    "pycharm": {
     "name": "#%%\n"
    }
   }
  },
  {
   "cell_type": "code",
   "execution_count": 36,
   "outputs": [],
   "source": [
    "import matplotlib.pyplot as plt\n",
    "import pandas as pd\n",
    "from pandas import Series\n",
    "from sklearn.linear_model import LinearRegression\n",
    "\n",
    "from pipeline.parse_raw_df import pre_process_df_with_date_time, pre_process_df_with_date\n",
    "from datatools import data_quantization, extract_market_data\n",
    "from pipeline import Dataset, N_train_days, N_test_days, N_asset, N_timeslot\n",
    "from pipeline.backtest import cross_validation, evaluation_for_submission\n",
    "from visualization.metric import plot_performance\n",
    "\n",
    "from tqdm.auto import trange\n",
    "from qids_lib import QIDS"
   ],
   "metadata": {
    "collapsed": false,
    "pycharm": {
     "name": "#%%\n"
    }
   }
  },
  {
   "cell_type": "code",
   "execution_count": 37,
   "outputs": [],
   "source": [
    "dataset = Dataset.load('../../data/parsed_long')\n",
    "# qids = QIDS(path_prefix='../../')"
   ],
   "metadata": {
    "collapsed": false,
    "pycharm": {
     "name": "#%%\n"
    }
   }
  },
  {
   "cell_type": "code",
   "execution_count": 38,
   "outputs": [],
   "source": [
    "m_intraday_df = extract_market_data(dataset.market)\n",
    "df = pd.concat([dataset.fundamental, m_intraday_df], axis=1)\n",
    "df_with_return = pd.concat([dataset.fundamental, m_intraday_df, dataset.ref_return], axis=1).dropna()"
   ],
   "metadata": {
    "collapsed": false,
    "pycharm": {
     "name": "#%%\n"
    }
   }
  },
  {
   "cell_type": "code",
   "execution_count": 39,
   "outputs": [],
   "source": [
    "features = ['turnoverRatio', 'transactionAmount', 'pe_ttm', 'pe', 'pb', 'ps', 'pcf']"
   ],
   "metadata": {
    "collapsed": false,
    "pycharm": {
     "name": "#%%\n"
    }
   }
  },
  {
   "cell_type": "code",
   "execution_count": 40,
   "outputs": [],
   "source": [
    "def linear_model(X, y):\n",
    "    reg = LinearRegression().fit(X, y)\n",
    "    return reg"
   ],
   "metadata": {
    "collapsed": false,
    "pycharm": {
     "name": "#%%\n"
    }
   }
  },
  {
   "cell_type": "code",
   "execution_count": 48,
   "outputs": [
    {
     "data": {
      "text/plain": "  0%|          | 0/696 [00:00<?, ?it/s]",
      "application/vnd.jupyter.widget-view+json": {
       "version_major": 2,
       "version_minor": 0,
       "model_id": "bb19a840589c4bbea5e7270c0c7f4d5a"
      }
     },
     "metadata": {},
     "output_type": "display_data"
    }
   ],
   "source": [
    "performance = cross_validation(linear_model, features, df_with_return.loc[(range(1000, 1697),)], n_splits=696, lookback_window=200)"
   ],
   "metadata": {
    "collapsed": false,
    "pycharm": {
     "name": "#%%\n"
    }
   }
  },
  {
   "cell_type": "code",
   "execution_count": 49,
   "outputs": [
    {
     "name": "stdout",
     "output_type": "stream",
     "text": [
      "The ending score for metric train_r2 is: 1.8458e-03\n",
      "The ending score for metric val_cum_r2 is: -9.3028e-03\n",
      "The ending score for metric val_cum_pearson is: 4.1438e-02\n"
     ]
    },
    {
     "data": {
      "text/plain": "<Figure size 640x480 with 1 Axes>",
      "image/png": "[encoded data removed]"
     },
     "metadata": {},
     "output_type": "display_data"
    }
   ],
   "source": [
    "plt.figure()\n",
    "plot_performance(performance, metrics_selected=['train_r2', 'val_cum_r2', 'val_cum_pearson'])\n",
    "plt.show()"
   ],
   "metadata": {
    "collapsed": false,
    "pycharm": {
     "name": "#%%\n"
    }
   }
  },
  {
   "cell_type": "code",
   "execution_count": null,
   "outputs": [],
   "source": [],
   "metadata": {
    "collapsed": false,
    "pycharm": {
     "name": "#%%\n"
    }
   }
  }
 ],
 "metadata": {
  "kernelspec": {
   "display_name": "Python 3",
   "language": "python",
   "name": "python3"
  },
  "language_info": {
   "codemirror_mode": {
    "name": "ipython",
    "version": 2
   },
   "file_extension": ".py",
   "mimetype": "text/x-python",
   "name": "python",
   "nbconvert_exporter": "python",
   "pygments_lexer": "ipython2",
   "version": "2.7.6"
  }
 },
 "nbformat": 4,
 "nbformat_minor": 0
}