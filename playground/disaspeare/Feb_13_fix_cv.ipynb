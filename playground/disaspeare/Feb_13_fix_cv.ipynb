{
 "cells": [
  {
   "cell_type": "code",
   "execution_count": 11,
   "outputs": [],
   "source": [
    "%load_ext autoreload\n",
    "%autoreload 2"
   ],
   "metadata": {
    "collapsed": false,
    "pycharm": {
     "name": "#%%\n"
    }
   }
  },
  {
   "cell_type": "code",
   "execution_count": 1,
   "outputs": [],
   "source": [
    "import pandas as pd"
   ],
   "metadata": {
    "collapsed": false,
    "pycharm": {
     "name": "#%%\n"
    }
   }
  },
  {
   "cell_type": "code",
   "execution_count": 2,
   "outputs": [],
   "source": [
    "train_market = pd.read_csv('../../data/raw/first_round_train_market_data.csv')\n",
    "test_market = pd.read_csv('../../data/raw/first_round_test_market_data.csv')\n",
    "all_market = pd.concat([train_market, test_market])\n",
    "all_market.to_csv('../../data/raw_long/first_round_train_market_data.csv')"
   ],
   "metadata": {
    "collapsed": false,
    "pycharm": {
     "name": "#%%\n"
    }
   }
  },
  {
   "cell_type": "code",
   "execution_count": 3,
   "outputs": [],
   "source": [
    "train_fundamental = pd.read_csv('../../data/raw/first_round_train_fundamental_data.csv')\n",
    "test_fundamental = pd.read_csv('../../data/raw/first_round_test_fundamental_data.csv')\n",
    "all_fundamental = pd.concat([train_fundamental, test_fundamental])\n",
    "all_fundamental.to_csv('../../data/raw_long/first_round_train_fundamental_data.csv')"
   ],
   "metadata": {
    "collapsed": false,
    "pycharm": {
     "name": "#%%\n"
    }
   }
  },
  {
   "cell_type": "code",
   "execution_count": 4,
   "outputs": [],
   "source": [
    "train_return = pd.read_csv('../../data/raw/first_round_train_return_data.csv')\n"
   ],
   "metadata": {
    "collapsed": false,
    "pycharm": {
     "name": "#%%\n"
    }
   }
  },
  {
   "cell_type": "code",
   "execution_count": 5,
   "outputs": [],
   "source": [
    "from pandas import Series\n",
    "\n",
    "all_returns = []\n",
    "for day in range(1, 1698):\n",
    "    r_values = all_market.iloc[50*54*(day+2)-54:50*54*(day+2)]['close'].values / all_market.iloc[50*54*day-54:50*54*day]['close'].values - 1\n",
    "    d_values = all_market.iloc[50*54*day-54:50*54*day]['date_time'].str.split('p', expand=True).iloc[:, 0].rename('date_time')\n",
    "    all_returns.append(Series(data=r_values, index=d_values, name='return'))"
   ],
   "metadata": {
    "collapsed": false,
    "pycharm": {
     "name": "#%%\n"
    }
   }
  },
  {
   "cell_type": "code",
   "execution_count": 6,
   "outputs": [],
   "source": [
    "my_return = pd.concat(all_returns)"
   ],
   "metadata": {
    "collapsed": false,
    "pycharm": {
     "name": "#%%\n"
    }
   }
  },
  {
   "cell_type": "code",
   "execution_count": 7,
   "outputs": [],
   "source": [
    "my_return.to_csv('../../data/raw_long/first_round_train_return_data.csv')"
   ],
   "metadata": {
    "collapsed": false,
    "pycharm": {
     "name": "#%%\n"
    }
   }
  },
  {
   "cell_type": "code",
   "execution_count": 8,
   "outputs": [],
   "source": [
    "import pipeline\n",
    "from pipeline.parse_raw_df import pre_process_df_with_date, pre_process_df_with_date_time\n",
    "\n",
    "parsed_path = '../../data/parsed_long'\n",
    "raw_path = '../../data/raw_long'\n",
    "template = '{}/first_round_train_{}_data.csv'\n",
    "\n",
    "f_df = pre_process_df_with_date(pd.read_csv(template.format(raw_path, 'fundamental')))\n",
    "m_df = pre_process_df_with_date_time(pd.read_csv(template.format(raw_path, 'market')))\n",
    "r_df = pre_process_df_with_date(pd.read_csv(template.format(raw_path, 'return')))\n",
    "pipeline.Dataset(m_df, f_df, r_df).dump(parsed_path)"
   ],
   "metadata": {
    "collapsed": false,
    "pycharm": {
     "name": "#%%\n"
    }
   }
  },
  {
   "cell_type": "code",
   "execution_count": 9,
   "outputs": [],
   "source": [
    "import matplotlib.pyplot as plt\n",
    "import pandas as pd\n",
    "from pandas import Series\n",
    "from sklearn.linear_model import LinearRegression\n",
    "\n",
    "from pipeline.parse_raw_df import pre_process_df_with_date_time, pre_process_df_with_date\n",
    "from datatools import data_quantization, extract_market_data\n",
    "from pipeline import Dataset, N_train_days, N_test_days, N_asset, N_timeslot\n",
    "from pipeline.backtest import cross_validation, evaluation_for_submission\n",
    "from visualization.metric import plot_performance\n",
    "\n",
    "from tqdm.auto import trange\n",
    "from qids_lib import QIDS"
   ],
   "metadata": {
    "collapsed": false,
    "pycharm": {
     "name": "#%%\n"
    }
   }
  },
  {
   "cell_type": "code",
   "execution_count": 10,
   "outputs": [],
   "source": [
    "dataset = Dataset.load('../../data/parsed_long')\n",
    "qids = QIDS(path_prefix='../../')"
   ],
   "metadata": {
    "collapsed": false,
    "pycharm": {
     "name": "#%%\n"
    }
   }
  },
  {
   "cell_type": "code",
   "execution_count": 13,
   "outputs": [],
   "source": [
    "dataset_small = Dataset.load('../../data/parsed')"
   ],
   "metadata": {
    "collapsed": false,
    "pycharm": {
     "name": "#%%\n"
    }
   }
  },
  {
   "cell_type": "code",
   "execution_count": 16,
   "outputs": [],
   "source": [
    "m_intraday_df = extract_market_data(dataset.market)\n",
    "df = pd.concat([dataset.fundamental, m_intraday_df], axis=1)\n",
    "df_with_return = pd.concat([dataset.fundamental, m_intraday_df, dataset.ref_return], axis=1).dropna()"
   ],
   "metadata": {
    "collapsed": false,
    "pycharm": {
     "name": "#%%\n"
    }
   }
  },
  {
   "cell_type": "code",
   "execution_count": 15,
   "outputs": [],
   "source": [
    "m_intraday_df_small = extract_market_data(dataset_small.market)\n",
    "df_small = pd.concat([dataset_small.fundamental, m_intraday_df_small], axis=1)"
   ],
   "metadata": {
    "collapsed": false,
    "pycharm": {
     "name": "#%%\n"
    }
   }
  },
  {
   "cell_type": "code",
   "execution_count": 18,
   "outputs": [],
   "source": [
    "features = ['turnoverRatio', 'transactionAmount', 'pe_ttm', 'pe', 'pb', 'ps', 'pcf']"
   ],
   "metadata": {
    "collapsed": false,
    "pycharm": {
     "name": "#%%\n"
    }
   }
  },
  {
   "cell_type": "code",
   "execution_count": 19,
   "outputs": [],
   "source": [
    "def linear_model(X, y):\n",
    "    reg = LinearRegression().fit(X, y)\n",
    "    return reg"
   ],
   "metadata": {
    "collapsed": false,
    "pycharm": {
     "name": "#%%\n"
    }
   }
  },
  {
   "cell_type": "code",
   "execution_count": 28,
   "outputs": [
    {
     "data": {
      "text/plain": "  0%|          | 0/649 [00:00<?, ?it/s]",
      "application/vnd.jupyter.widget-view+json": {
       "version_major": 2,
       "version_minor": 0,
       "model_id": "2d4fda96c2c946268248c9ba766eb32a"
      }
     },
     "metadata": {},
     "output_type": "display_data"
    },
    {
     "name": "stdout",
     "output_type": "stream",
     "text": [
      "Skipping this fold since we cannot truncate the last day.\n"
     ]
    }
   ],
   "source": [
    "performance = cross_validation(linear_model, features, df_with_return.loc[(range(950, 1600),)], n_splits=649, lookback_window=200)"
   ],
   "metadata": {
    "collapsed": false,
    "pycharm": {
     "name": "#%%\n"
    }
   }
  },
  {
   "cell_type": "code",
   "execution_count": 30,
   "outputs": [
    {
     "name": "stdout",
     "output_type": "stream",
     "text": [
      "The ending score for metric train_r2 is: 1.8002e-03\n",
      "The ending score for metric val_cum_r2 is: -1.4786e-02\n",
      "The ending score for metric val_cum_pearson is: -2.8794e-02\n"
     ]
    },
    {
     "data": {
      "text/plain": "<Figure size 640x480 with 1 Axes>",
      "image/png": "[encoded data removed]"
     },
     "metadata": {},
     "output_type": "display_data"
    }
   ],
   "source": [
    "plt.figure()\n",
    "plot_performance(performance, metrics_selected=['train_r2', 'val_cum_r2', 'val_cum_pearson'])\n",
    "plt.show()"
   ],
   "metadata": {
    "collapsed": false,
    "pycharm": {
     "name": "#%%\n"
    }
   }
  },
  {
   "cell_type": "code",
   "execution_count": 24,
   "outputs": [
    {
     "data": {
      "text/plain": "  0%|          | 0/700 [00:00<?, ?it/s]",
      "application/vnd.jupyter.widget-view+json": {
       "version_major": 2,
       "version_minor": 0,
       "model_id": "b61245c631d04af2ba500317d3d27e24"
      }
     },
     "metadata": {},
     "output_type": "display_data"
    },
    {
     "name": "stdout",
     "output_type": "stream",
     "text": [
      "==============================\n",
      "day 1001\n",
      "==============================\n",
      "train feature\n",
      "           turnoverRatio  transactionAmount   pe_ttm        pe      pb  \\\n",
      "day asset                                                                \n",
      "800 0             0.6962             6013.0  23.1425  123.6629  1.8012   \n",
      "    1             0.1666             2783.0  38.3419   39.4144  6.4031   \n",
      "    2             0.8394            15626.0  49.5463   59.8699  7.9165   \n",
      "    3             1.5553             4878.0  18.8519   17.7761  1.7440   \n",
      "    4             0.8107             7019.0  37.9439   30.3294  2.3913   \n",
      "...                  ...                ...      ...       ...     ...   \n",
      "999 49            0.1903             3431.0  40.8371   40.8371  2.8123   \n",
      "    50            0.3387             5516.0  19.5646   19.5646  2.5200   \n",
      "    51            0.7134             3409.0  14.2094   14.2094  1.3759   \n",
      "    52            0.4320             6273.0  28.4083   28.4083  5.6690   \n",
      "    53            1.1675             6249.0  10.6633   10.6633  1.9979   \n",
      "\n",
      "               ps       pcf  \n",
      "day asset                    \n",
      "800 0      3.8261 -191.2112  \n",
      "    1      4.1209  179.7968  \n",
      "    2      6.7835 -858.7575  \n",
      "    3      0.6805   24.6292  \n",
      "    4      1.8208   58.1811  \n",
      "...           ...       ...  \n",
      "999 49     1.0421   72.6955  \n",
      "    50     1.1647  -38.2808  \n",
      "    51     0.6825   19.0083  \n",
      "    52     3.6401 -570.7331  \n",
      "    53     0.4078  134.6984  \n",
      "\n",
      "[10800 rows x 7 columns]\n",
      "train target\n",
      "day  asset\n",
      "800  0       -0.012760\n",
      "     1       -0.018874\n",
      "     2       -0.022282\n",
      "     3       -0.006739\n",
      "     4        0.002784\n",
      "                ...   \n",
      "999  49       0.016650\n",
      "     50      -0.005360\n",
      "     51      -0.003345\n",
      "     52       0.041182\n",
      "     53       0.013429\n",
      "Name: ref_return, Length: 10800, dtype: float64\n",
      "prediction feature\n",
      "       turnoverRatio  transactionAmount    pe_ttm        pe       pb       ps  \\\n",
      "asset                                                                           \n",
      "0             1.1718             9290.0   63.6900   63.6900   1.6398   1.5477   \n",
      "1             0.5027             9539.0   33.1536   33.1536   5.2277   3.3677   \n",
      "2             0.5060             9765.0   36.6197   36.6197   6.0413   4.4686   \n",
      "3             1.0206             3214.0   13.3529   13.3529   1.3622   0.4854   \n",
      "4             3.1191            30274.0   31.4580   31.4580   4.4758   3.2646   \n",
      "5             0.3135             3200.0   25.6068   25.6068   3.7267   4.5979   \n",
      "6             0.5840            12845.0    5.6932    5.6932   1.2010   0.4129   \n",
      "7             0.6776            10301.0   18.0058   18.0058   3.9419   5.6443   \n",
      "8             0.4162             4348.0   22.5158   22.5158   4.8385   4.3829   \n",
      "9             1.2002            12189.0    6.7099    6.7099   3.0472   1.1362   \n",
      "10            0.7946             5344.0   32.1335   32.1335   2.0717   1.9696   \n",
      "11            0.2561             3142.0   22.4136   22.4136   3.8147   4.4479   \n",
      "12            2.2270            10113.0    7.3889    7.3889   2.0856   0.8235   \n",
      "13            0.0820             7779.0   55.5319   55.5319  17.4691  14.2292   \n",
      "14            0.8232             3831.0   25.3120   25.3120   1.8973   3.1439   \n",
      "15            1.8840             4543.0   34.7396   34.7396   2.8195   2.9520   \n",
      "16            0.2356             6319.0  115.0836  115.0836   1.5952   1.8246   \n",
      "17            0.0811              767.0  453.8482  453.8482   1.0598   1.0631   \n",
      "18            0.8331            12120.0   22.9943   22.9943   5.1277   4.4877   \n",
      "19            1.1950             5671.0   40.3480   40.3480   2.7838   2.4128   \n",
      "20            0.9335            12024.0   19.7534   19.7534   3.9800   2.1211   \n",
      "21            0.2947             6364.0   39.5522   39.5522   4.8444   3.1575   \n",
      "22            0.5157             4487.0   40.4418   40.4418   3.1383   3.2428   \n",
      "23            0.8731             8125.0   21.3741   21.3741   2.7274   4.3048   \n",
      "24            0.2335              893.0   55.0401   55.0401   2.4772   4.3904   \n",
      "25            2.6343             7742.0   18.2646   18.2646   3.1439   3.6793   \n",
      "26            0.3753             7361.0   65.7177   65.7177   4.1307   2.7493   \n",
      "27            0.6077             7173.0   45.9651   45.9651  16.2174   5.3554   \n",
      "28            0.2430            18071.0   30.0016   30.0016   9.3600  13.6810   \n",
      "29            0.6272             8711.0   15.8590   15.8590   2.9255   4.5057   \n",
      "30            0.5846             2463.0  176.3903  176.3903   1.5599   0.5734   \n",
      "31            0.6721             1496.0   -3.8013   -3.8013   1.2333   0.8698   \n",
      "32            1.2439             3803.0   35.9142   35.9142   6.1547  10.9943   \n",
      "33            0.4039            14128.0   17.3439   17.3439   3.5395   3.5335   \n",
      "34            0.0914             5227.0   12.8711   12.8711   2.2365   0.6303   \n",
      "35            0.4589             7089.0   43.9300   43.9300   3.4767   2.3510   \n",
      "36            0.8366             6010.0   27.3736   27.3736   5.0365   7.1853   \n",
      "37            0.2364             2182.0   21.2586   21.2586   2.3074   4.3104   \n",
      "38            0.3054             9067.0   28.2350   28.2350   7.5800   6.0451   \n",
      "39            0.4676             2752.0   19.1125   19.1125   1.6078   0.8735   \n",
      "40            2.3649            13889.0   22.8365   22.8365   4.0539   3.1063   \n",
      "41            0.6263            10901.0   26.4608   26.4608   4.3341   2.2096   \n",
      "42            0.2862             3192.0   11.1140   11.1140   1.6566   0.2491   \n",
      "43            0.2033             8353.0   31.9161   31.9161   5.9221   1.0881   \n",
      "44            0.6044             5385.0   60.4269   60.4269   1.8406   3.7081   \n",
      "45            0.2868             2950.0   13.1459   13.1459   1.0980   0.4890   \n",
      "46            0.7719            29057.0   22.3148   22.3148   5.3824   7.4955   \n",
      "47            0.3517             7259.0   18.6184   18.6184   2.4625   1.9857   \n",
      "48            0.4755             1831.0   20.1855   20.1855   1.5833   1.3794   \n",
      "49            0.2877             3618.0   41.4902   41.4902   2.8572   1.0587   \n",
      "50            0.3100             2984.0   19.4485   19.4485   2.5051   1.1578   \n",
      "51            0.6708             2947.0   14.1668   14.1668   1.3718   0.6804   \n",
      "52            0.8017            10713.0   29.5877   29.5877   5.9043   3.7913   \n",
      "53            0.9296             5724.0   10.7954   10.7954   2.0226   0.4128   \n",
      "\n",
      "             pcf  \n",
      "asset             \n",
      "0       -40.9539  \n",
      "1       124.7176  \n",
      "2        33.3814  \n",
      "3       -19.2415  \n",
      "4      -116.0588  \n",
      "5       -31.7266  \n",
      "6         8.4725  \n",
      "7      -142.8450  \n",
      "8       432.9008  \n",
      "9         8.6012  \n",
      "10      -40.7689  \n",
      "11      125.4280  \n",
      "12        5.2935  \n",
      "13       62.9174  \n",
      "14      -65.9672  \n",
      "15       14.5290  \n",
      "16    -3505.3289  \n",
      "17       35.9158  \n",
      "18     -206.7635  \n",
      "19       68.9381  \n",
      "20       12.7437  \n",
      "21       45.5052  \n",
      "22       45.8548  \n",
      "23       79.1797  \n",
      "24       38.3171  \n",
      "25     -139.0867  \n",
      "26      -19.4975  \n",
      "27       66.8371  \n",
      "28       45.2994  \n",
      "29       80.5224  \n",
      "30       -4.6007  \n",
      "31       -2.9644  \n",
      "32      423.6196  \n",
      "33     -206.1659  \n",
      "34       54.8818  \n",
      "35       24.4876  \n",
      "36      -77.1992  \n",
      "37      853.4466  \n",
      "38      -65.6530  \n",
      "39       20.1073  \n",
      "40       67.6839  \n",
      "41      -23.9751  \n",
      "42       -8.1076  \n",
      "43       58.5188  \n",
      "44       22.6405  \n",
      "45     -123.1198  \n",
      "46       97.0781  \n",
      "47       45.3818  \n",
      "48       16.2353  \n",
      "49       73.8581  \n",
      "50      -38.0536  \n",
      "51       18.9514  \n",
      "52     -594.4257  \n",
      "53      136.3669  \n",
      "prediction target\n",
      "day   asset\n",
      "1001  0       -0.001856\n",
      "      1       -0.000715\n",
      "      2       -0.001084\n",
      "      3       -0.000711\n",
      "      4       -0.002713\n",
      "      5       -0.001549\n",
      "      6        0.000182\n",
      "      7       -0.001981\n",
      "      8       -0.001214\n",
      "      9       -0.000383\n",
      "      10      -0.001223\n",
      "      11      -0.001357\n",
      "      12      -0.001579\n",
      "      13      -0.002894\n",
      "      14      -0.001785\n",
      "      15      -0.002671\n",
      "      16      -0.001892\n",
      "      17      -0.007010\n",
      "      18      -0.001336\n",
      "      19      -0.001784\n",
      "      20      -0.000563\n",
      "      21      -0.000707\n",
      "      22      -0.001446\n",
      "      23      -0.001971\n",
      "      24      -0.002201\n",
      "      25      -0.003318\n",
      "      26      -0.001133\n",
      "      27       0.000532\n",
      "      28      -0.003929\n",
      "      29      -0.001665\n",
      "      30      -0.002818\n",
      "      31      -0.000365\n",
      "      32      -0.005037\n",
      "      33      -0.000673\n",
      "      34       0.000437\n",
      "      35      -0.000858\n",
      "      36      -0.002899\n",
      "      37      -0.001653\n",
      "      38      -0.001149\n",
      "      39      -0.000384\n",
      "      40      -0.002426\n",
      "      41      -0.000355\n",
      "      42       0.000240\n",
      "      43       0.000785\n",
      "      44      -0.002330\n",
      "      45      -0.000040\n",
      "      46      -0.002009\n",
      "      47      -0.000419\n",
      "      48      -0.000682\n",
      "      49      -0.000315\n",
      "      50      -0.000145\n",
      "      51      -0.000470\n",
      "      52      -0.000946\n",
      "      53      -0.000307\n",
      "Name: pred_return, dtype: float64\n",
      "prediction\n",
      "asset\n",
      "0    -0.001856\n",
      "1    -0.000715\n",
      "2    -0.001084\n",
      "3    -0.000711\n",
      "4    -0.002713\n",
      "5    -0.001549\n",
      "6     0.000182\n",
      "7    -0.001981\n",
      "8    -0.001214\n",
      "9    -0.000383\n",
      "10   -0.001223\n",
      "11   -0.001357\n",
      "12   -0.001579\n",
      "13   -0.002894\n",
      "14   -0.001785\n",
      "15   -0.002671\n",
      "16   -0.001892\n",
      "17   -0.007010\n",
      "18   -0.001336\n",
      "19   -0.001784\n",
      "20   -0.000563\n",
      "21   -0.000707\n",
      "22   -0.001446\n",
      "23   -0.001971\n",
      "24   -0.002201\n",
      "25   -0.003318\n",
      "26   -0.001133\n",
      "27    0.000532\n",
      "28   -0.003929\n",
      "29   -0.001665\n",
      "30   -0.002818\n",
      "31   -0.000365\n",
      "32   -0.005037\n",
      "33   -0.000673\n",
      "34    0.000437\n",
      "35   -0.000858\n",
      "36   -0.002899\n",
      "37   -0.001653\n",
      "38   -0.001149\n",
      "39   -0.000384\n",
      "40   -0.002426\n",
      "41   -0.000355\n",
      "42    0.000240\n",
      "43    0.000785\n",
      "44   -0.002330\n",
      "45   -0.000040\n",
      "46   -0.002009\n",
      "47   -0.000419\n",
      "48   -0.000682\n",
      "49   -0.000315\n",
      "50   -0.000145\n",
      "51   -0.000470\n",
      "52   -0.000946\n",
      "53   -0.000307\n",
      "Name: pred_return, dtype: float64\n",
      "true\n",
      "day   asset\n",
      "1001  0        0.020568\n",
      "      1       -0.007209\n",
      "      2        0.017325\n",
      "      3        0.029526\n",
      "      4        0.049465\n",
      "      5        0.058893\n",
      "      6        0.016132\n",
      "      7        0.059343\n",
      "      8        0.035705\n",
      "      9        0.009942\n",
      "      10       0.039879\n",
      "      11       0.047243\n",
      "      12       0.024596\n",
      "      13       0.019688\n",
      "      14       0.055006\n",
      "      15       0.079249\n",
      "      16       0.018331\n",
      "      17       0.034252\n",
      "      18       0.086892\n",
      "      19       0.060134\n",
      "      20      -0.008495\n",
      "      21       0.044528\n",
      "      22       0.021182\n",
      "      23       0.077149\n",
      "      24       0.010269\n",
      "      25       0.029621\n",
      "      26       0.032411\n",
      "      27       0.047841\n",
      "      28       0.036446\n",
      "      29       0.049347\n",
      "      30       0.079853\n",
      "      31       0.054046\n",
      "      32       0.031745\n",
      "      33       0.048630\n",
      "      34       0.008629\n",
      "      35       0.009172\n",
      "      36       0.033554\n",
      "      37       0.038673\n",
      "      38      -0.021142\n",
      "      39       0.012182\n",
      "      40       0.071577\n",
      "      41       0.022388\n",
      "      42       0.058449\n",
      "      43       0.058547\n",
      "      44       0.026296\n",
      "      45       0.025847\n",
      "      46       0.043860\n",
      "      47       0.028504\n",
      "      48       0.034971\n",
      "      49       0.034481\n",
      "      50       0.045259\n",
      "      51       0.047129\n",
      "      52       0.031729\n",
      "      53       0.031327\n",
      "Name: ref_return, dtype: float64\n",
      "r2, pearson, cum_r2, cum_pearson\n",
      "-2.8577643522382496\n",
      "-0.1449829222517985\n",
      "-2.8577643522382496\n",
      "-0.1449829222517985\n"
     ]
    },
    {
     "data": {
      "text/plain": "<visualization.metric.Performance at 0x15610a35a90>"
     },
     "execution_count": 24,
     "metadata": {},
     "output_type": "execute_result"
    }
   ],
   "source": [
    "evaluation_for_submission(linear_model, features, dataset_small, df_small, qids, lookback_window=200)"
   ],
   "metadata": {
    "collapsed": false,
    "pycharm": {
     "name": "#%%\n"
    }
   }
  },
  {
   "cell_type": "code",
   "execution_count": null,
   "outputs": [],
   "source": [],
   "metadata": {
    "collapsed": false,
    "pycharm": {
     "name": "#%%\n"
    }
   }
  }
 ],
 "metadata": {
  "kernelspec": {
   "display_name": "Python 3",
   "language": "python",
   "name": "python3"
  },
  "language_info": {
   "codemirror_mode": {
    "name": "ipython",
    "version": 2
   },
   "file_extension": ".py",
   "mimetype": "text/x-python",
   "name": "python",
   "nbconvert_exporter": "python",
   "pygments_lexer": "ipython2",
   "version": "2.7.6"
  }
 },
 "nbformat": 4,
 "nbformat_minor": 0
}