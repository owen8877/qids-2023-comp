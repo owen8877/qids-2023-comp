{
 "cells": [
  {
   "cell_type": "code",
   "execution_count": null,
   "outputs": [],
   "source": [
    "%matplotlib inline\n",
    "# %load_ext autoreload\n",
    "# %autoreload 2"
   ],
   "metadata": {
    "collapsed": false,
    "pycharm": {
     "name": "#%%\n"
    }
   }
  },
  {
   "cell_type": "code",
   "execution_count": null,
   "outputs": [],
   "source": [
    "import matplotlib.pyplot as plt\n",
    "import pandas as pd\n",
    "from pandas import Series\n",
    "import numpy as np\n",
    "from sklearn.linear_model import LinearRegression\n",
    "\n",
    "from pipeline.parse_raw_df import pre_process_df_with_date_time, pre_process_df_with_date\n",
    "from datatools import data_quantization, extract_market_data\n",
    "from pipeline import Dataset, N_train_days, N_test_days, N_asset, N_timeslot\n",
    "from pipeline.backtest import cross_validation, evaluation_for_submission\n",
    "from visualization.metric import plot_performance\n",
    "\n",
    "from tqdm.auto import trange\n",
    "from qids_lib import QIDS"
   ],
   "metadata": {
    "collapsed": false,
    "pycharm": {
     "name": "#%%\n"
    }
   }
  },
  {
   "cell_type": "code",
   "execution_count": null,
   "outputs": [],
   "source": [
    "dataset = Dataset.load('../../data/parsed')\n",
    "qids = QIDS(path_prefix='../../')"
   ],
   "metadata": {
    "collapsed": false,
    "pycharm": {
     "name": "#%%\n"
    }
   }
  },
  {
   "cell_type": "code",
   "execution_count": null,
   "outputs": [],
   "source": [
    "m_intraday_df = extract_market_data(dataset.market)\n",
    "df = pd.concat([dataset.fundamental, m_intraday_df, dataset.ref_return], axis=1).dropna()"
   ],
   "metadata": {
    "collapsed": false,
    "pycharm": {
     "name": "#%%\n"
    }
   }
  },
  {
   "cell_type": "code",
   "execution_count": null,
   "outputs": [],
   "source": [
    "market_weighted_return = m_intraday_df.groupby(level=0).apply(lambda df: np.average(df['daily_return'].values, weights=df['mean_volume'].values * df['avg_price'].values))"
   ],
   "metadata": {
    "collapsed": false,
    "pycharm": {
     "name": "#%%\n"
    }
   }
  },
  {
   "cell_type": "code",
   "execution_count": null,
   "outputs": [],
   "source": [
    "market_simple_return = m_intraday_df.groupby(level=0).apply(lambda df: np.average((df['daily_return']).values))"
   ],
   "metadata": {
    "collapsed": false,
    "pycharm": {
     "name": "#%%\n"
    }
   }
  },
  {
   "cell_type": "code",
   "execution_count": null,
   "outputs": [],
   "source": [
    "plt.figure()\n",
    "plt.plot(np.log(market_simple_return+1).cumsum())\n",
    "plt.show()"
   ],
   "metadata": {
    "collapsed": false,
    "pycharm": {
     "name": "#%%\n"
    }
   }
  },
  {
   "cell_type": "code",
   "execution_count": null,
   "outputs": [],
   "source": [
    "market_index_list = []\n",
    "current_market_index = 1\n",
    "for day, slice_df in df.groupby(level=0):\n",
    "    print(day)"
   ],
   "metadata": {
    "collapsed": false,
    "pycharm": {
     "name": "#%%\n"
    }
   }
  },
  {
   "cell_type": "code",
   "execution_count": null,
   "outputs": [],
   "source": [
    "plt.figure()\n",
    "for i in range(54):\n",
    "    price = df.query(f'asset == {i}')['avg_price']\n",
    "    plt.plot(price.values / price.values[0], label=f'{i}')\n",
    "plt.legend()\n",
    "plt.show()"
   ],
   "metadata": {
    "collapsed": false,
    "pycharm": {
     "name": "#%%\n"
    }
   }
  },
  {
   "cell_type": "code",
   "execution_count": null,
   "outputs": [],
   "source": [
    "plt.figure()\n",
    "for i in range(54):\n",
    "    ret = df.query(f'asset == {i}')['return']\n",
    "    plt.plot(ret.rolling(10).mean().values, label=f'{i}')\n",
    "plt.legend()\n",
    "plt.show()"
   ],
   "metadata": {
    "collapsed": false,
    "pycharm": {
     "name": "#%%\n"
    }
   }
  },
  {
   "cell_type": "code",
   "execution_count": null,
   "outputs": [],
   "source": [
    "df"
   ],
   "metadata": {
    "collapsed": false,
    "pycharm": {
     "name": "#%%\n"
    }
   }
  },
  {
   "cell_type": "code",
   "execution_count": null,
   "outputs": [],
   "source": [
    "market_simple_return.autocorr(3)"
   ],
   "metadata": {
    "collapsed": false,
    "pycharm": {
     "name": "#%%\n"
    }
   }
  },
  {
   "cell_type": "code",
   "execution_count": null,
   "outputs": [],
   "source": [
    "exp_1_w_ret = market_weighted_return.ewm(halflife=1).mean().rename('exp_1_w_ret')\n",
    "exp_3_w_ret = market_weighted_return.ewm(halflife=3).mean().rename('exp_3_w_ret')\n",
    "exp_5_w_ret = market_weighted_return.ewm(halflife=5).mean().rename('exp_5_w_ret')\n",
    "exp_10_w_ret = market_weighted_return.ewm(halflife=10).mean().rename('exp_10_w_ret')"
   ],
   "metadata": {
    "collapsed": false,
    "pycharm": {
     "name": "#%%\n"
    }
   }
  },
  {
   "cell_type": "code",
   "execution_count": null,
   "outputs": [],
   "source": [
    "exp_ret = pd.concat([exp_1_w_ret, exp_3_w_ret, exp_5_w_ret, exp_10_w_ret], axis=1)\n",
    "exp_df = dataset.ref_return.merge(exp_ret, right_index=True, left_on='day').dropna()\n",
    "full_df = pd.concat([dataset.fundamental, exp_df], axis=1).dropna()\n",
    "\n",
    "features = ['turnoverRatio', 'transactionAmount', 'pe_ttm', 'pe', 'pb', 'ps', 'pcf', 'exp_1_w_ret', 'exp_3_w_ret', 'exp_5_w_ret', 'exp_10_w_ret']\n",
    "\n",
    "X = full_df[features]\n",
    "y = full_df['return']\n",
    "reg = LinearRegression().fit(X, y)\n",
    "reg.score(X, y)"
   ],
   "metadata": {
    "collapsed": false,
    "pycharm": {
     "name": "#%%\n"
    }
   }
  },
  {
   "cell_type": "code",
   "execution_count": null,
   "outputs": [],
   "source": [
    "plt.plot(exp_10_w_ret)"
   ],
   "metadata": {
    "collapsed": false,
    "pycharm": {
     "name": "#%%\n"
    }
   }
  },
  {
   "cell_type": "code",
   "execution_count": null,
   "outputs": [],
   "source": [
    "def linear_model(X, y):\n",
    "    reg = LinearRegression().fit(X, y)\n",
    "    return reg"
   ],
   "metadata": {
    "collapsed": false,
    "pycharm": {
     "name": "#%%\n"
    }
   }
  },
  {
   "cell_type": "code",
   "execution_count": null,
   "outputs": [],
   "source": [
    "performance = cross_validation(linear_model, features, full_df, n_splits=997, lookback_window=200)"
   ],
   "metadata": {
    "collapsed": false,
    "pycharm": {
     "name": "#%%\n"
    }
   }
  },
  {
   "cell_type": "code",
   "execution_count": null,
   "outputs": [],
   "source": [
    "plt.figure()\n",
    "plot_performance(performance, metrics_selected=['train_r2', 'val_cum_r2', 'val_cum_pearson'])"
   ],
   "metadata": {
    "collapsed": false,
    "pycharm": {
     "name": "#%%\n"
    }
   }
  },
  {
   "cell_type": "code",
   "execution_count": null,
   "outputs": [],
   "source": [],
   "metadata": {
    "collapsed": false,
    "pycharm": {
     "name": "#%%\n"
    }
   }
  },
  {
   "cell_type": "code",
   "execution_count": null,
   "outputs": [],
   "source": [
    "performance = cross_validation(linear_model, features, full_df, n_splits=997, lookback_window=200)"
   ],
   "metadata": {
    "collapsed": false,
    "pycharm": {
     "name": "#%%\n"
    }
   }
  },
  {
   "cell_type": "code",
   "execution_count": null,
   "outputs": [],
   "source": [
    "plt.figure()\n",
    "plot_performance(performance, metrics_selected=['train_r2', 'val_cum_r2', 'val_cum_pearson'])"
   ],
   "metadata": {
    "collapsed": false,
    "pycharm": {
     "name": "#%%\n"
    }
   }
  }
 ],
 "metadata": {
  "kernelspec": {
   "display_name": "Python 3 (ipykernel)",
   "language": "python",
   "name": "python3"
  },
  "language_info": {
   "codemirror_mode": {
    "name": "ipython",
    "version": 3
   },
   "file_extension": ".py",
   "mimetype": "text/x-python",
   "name": "python",
   "nbconvert_exporter": "python",
   "pygments_lexer": "ipython3",
   "version": "3.10.9"
  }
 },
 "nbformat": 4,
 "nbformat_minor": 1
}