{
 "cells": [
  {
   "cell_type": "code",
   "execution_count": 1,
   "outputs": [],
   "source": [
    "%load_ext autoreload\n",
    "%autoreload 2"
   ],
   "metadata": {
    "collapsed": false,
    "pycharm": {
     "name": "#%%\n"
    }
   }
  },
  {
   "cell_type": "code",
   "execution_count": 2,
   "outputs": [],
   "source": [
    "import xarray as xr\n",
    "from matplotlib import pyplot as plt\n",
    "from sklearn.linear_model import LinearRegression\n",
    "from sklearn.preprocessing import QuantileTransformer\n",
    "from xarray import DataArray, Dataset\n",
    "\n",
    "from pipeline.backtest import cross_validation\n",
    "from visualization.metric import plot_performance\n",
    "\n",
    "base_ds = xr.open_dataset('../../data/nc/base.nc')\n",
    "market_brief_ds = xr.open_dataset('../../data/nc/market_brief.nc')\n",
    "fundamental_v0_ds = xr.open_dataset('../../data/nc/fundamental_v0.nc')\n",
    "ds = base_ds.merge(market_brief_ds).merge(fundamental_v0_ds)\n",
    "\n",
    "feature = ['book', 'cashflow', 'sales', 'earnings_ttm', 'earnings', 'market_cap']"
   ],
   "metadata": {
    "collapsed": false,
    "pycharm": {
     "name": "#%%\n"
    }
   }
  },
  {
   "cell_type": "code",
   "execution_count": 16,
   "outputs": [],
   "source": [
    "from pandas import Series\n",
    "\n",
    "\n",
    "class SimpleLinearModel:\n",
    "    def __init__(self, feature):\n",
    "        self.feature = feature\n",
    "        self.reg = LinearRegression()\n",
    "        self.scaler = QuantileTransformer(n_quantiles=10)\n",
    "\n",
    "    def fit_predict(self, X: Dataset, y: DataArray) -> DataArray:\n",
    "        dim_order = 'day', 'asset'\n",
    "        X_pd = X[self.feature].to_dataframe(dim_order=dim_order)\n",
    "        X_transformed_np = self.scaler.fit_transform(X_pd.values)\n",
    "        y_np = y.stack({'stack': ['day', 'asset']}).as_numpy()\n",
    "        self.reg.fit(X_transformed_np, y_np)\n",
    "        y_pred_np = self.reg.predict(X_transformed_np)\n",
    "        return DataArray.from_series(Series(y_pred_np, index=X_pd.index))\n",
    "\n",
    "    def predict(self, X: Dataset) -> DataArray:\n",
    "        dim_order = 'day', 'asset'\n",
    "        X_pd = X[self.feature].to_dataframe(dim_order=dim_order)\n",
    "        X_transformed_np = self.scaler.transform(X_pd.values)\n",
    "        y_pred_np = self.reg.predict(X_transformed_np)\n",
    "        return DataArray.from_series(Series(y_pred_np, index=X_pd.index))"
   ],
   "metadata": {
    "collapsed": false,
    "pycharm": {
     "name": "#%%\n"
    }
   }
  },
  {
   "cell_type": "code",
   "execution_count": 17,
   "outputs": [
    {
     "data": {
      "text/plain": "  0%|          | 0/969 [00:00<?, ?it/s]",
      "application/vnd.jupyter.widget-view+json": {
       "version_major": 2,
       "version_minor": 0,
       "model_id": "f3fa617626144266894efbcabeee85aa"
      }
     },
     "metadata": {},
     "output_type": "display_data"
    },
    {
     "ename": "KeyboardInterrupt",
     "evalue": "",
     "output_type": "error",
     "traceback": [
      "\u001B[1;31m---------------------------------------------------------------------------\u001B[0m",
      "\u001B[1;31mKeyboardInterrupt\u001B[0m                         Traceback (most recent call last)",
      "Cell \u001B[1;32mIn[17], line 3\u001B[0m\n\u001B[0;32m      1\u001B[0m model \u001B[38;5;241m=\u001B[39m SimpleLinearModel(feature)\n\u001B[0;32m      2\u001B[0m train_lookback \u001B[38;5;241m=\u001B[39m \u001B[38;5;241m30\u001B[39m\n\u001B[1;32m----> 3\u001B[0m performance_cv, cum_y_df \u001B[38;5;241m=\u001B[39m \u001B[43mcross_validation\u001B[49m\u001B[43m(\u001B[49m\u001B[43mmodel\u001B[49m\u001B[43m,\u001B[49m\u001B[43m \u001B[49m\u001B[43mfeature\u001B[49m\u001B[43m,\u001B[49m\u001B[43m \u001B[49m\u001B[43mds\u001B[49m\u001B[43m,\u001B[49m\u001B[43m \u001B[49m\u001B[43mtrain_lookback\u001B[49m\u001B[38;5;241;43m=\u001B[39;49m\u001B[43mtrain_lookback\u001B[49m\u001B[43m)\u001B[49m\n",
      "File \u001B[1;32m~\\Documents\\GitHub\\qids-2023-comp\\pipeline\\backtest.py:106\u001B[0m, in \u001B[0;36mcross_validation\u001B[1;34m(model, feature_columns, ds, return_column, train_lookback, per_eval_lookback)\u001B[0m\n\u001B[0;32m    103\u001B[0m val_r2 \u001B[38;5;241m=\u001B[39m r2_score(y_val_true\u001B[38;5;241m.\u001B[39mto_series(), y_val_prediction\u001B[38;5;241m.\u001B[39mto_series()) \u001B[38;5;28;01mif\u001B[39;00m \u001B[38;5;28mlen\u001B[39m(\n\u001B[0;32m    104\u001B[0m     y_val_true\u001B[38;5;241m.\u001B[39mto_series()) \u001B[38;5;241m>\u001B[39m \u001B[38;5;241m1\u001B[39m \u001B[38;5;28;01melse\u001B[39;00m np\u001B[38;5;241m.\u001B[39mnan\n\u001B[0;32m    105\u001B[0m performance[val_index, \u001B[38;5;124m'\u001B[39m\u001B[38;5;124mval_r2\u001B[39m\u001B[38;5;124m'\u001B[39m] \u001B[38;5;241m=\u001B[39m val_r2\n\u001B[1;32m--> 106\u001B[0m val_pearson \u001B[38;5;241m=\u001B[39m \u001B[43my_val_true\u001B[49m\u001B[38;5;241;43m.\u001B[39;49m\u001B[43mto_series\u001B[49m\u001B[43m(\u001B[49m\u001B[43m)\u001B[49m\u001B[38;5;241;43m.\u001B[39;49m\u001B[43mcorr\u001B[49m\u001B[43m(\u001B[49m\u001B[43my_val_prediction\u001B[49m\u001B[38;5;241;43m.\u001B[39;49m\u001B[43mto_series\u001B[49m\u001B[43m(\u001B[49m\u001B[43m)\u001B[49m\u001B[43m)\u001B[49m \u001B[38;5;28;01mif\u001B[39;00m \u001B[38;5;28mlen\u001B[39m(\n\u001B[0;32m    107\u001B[0m     y_val_true\u001B[38;5;241m.\u001B[39mto_series()) \u001B[38;5;241m>\u001B[39m \u001B[38;5;241m1\u001B[39m \u001B[38;5;28;01melse\u001B[39;00m np\u001B[38;5;241m.\u001B[39mnan\n\u001B[0;32m    108\u001B[0m performance[val_index, \u001B[38;5;124m'\u001B[39m\u001B[38;5;124mval_pearson\u001B[39m\u001B[38;5;124m'\u001B[39m] \u001B[38;5;241m=\u001B[39m val_pearson\n\u001B[0;32m    110\u001B[0m y_val_true_so_far \u001B[38;5;241m=\u001B[39m cum_y_val_true\u001B[38;5;241m.\u001B[39msel(day\u001B[38;5;241m=\u001B[39m\u001B[38;5;28mslice\u001B[39m(start_day, val_index))\u001B[38;5;241m.\u001B[39mto_series()\n",
      "File \u001B[1;32m~\\mambaforge\\envs\\qids-2023-comp\\lib\\site-packages\\pandas\\core\\series.py:2760\u001B[0m, in \u001B[0;36mSeries.corr\u001B[1;34m(self, other, method, min_periods)\u001B[0m\n\u001B[0;32m   2757\u001B[0m     \u001B[38;5;28;01mreturn\u001B[39;00m np\u001B[38;5;241m.\u001B[39mnan\n\u001B[0;32m   2759\u001B[0m \u001B[38;5;28;01mif\u001B[39;00m method \u001B[38;5;129;01min\u001B[39;00m [\u001B[38;5;124m\"\u001B[39m\u001B[38;5;124mpearson\u001B[39m\u001B[38;5;124m\"\u001B[39m, \u001B[38;5;124m\"\u001B[39m\u001B[38;5;124mspearman\u001B[39m\u001B[38;5;124m\"\u001B[39m, \u001B[38;5;124m\"\u001B[39m\u001B[38;5;124mkendall\u001B[39m\u001B[38;5;124m\"\u001B[39m] \u001B[38;5;129;01mor\u001B[39;00m callable(method):\n\u001B[1;32m-> 2760\u001B[0m     \u001B[38;5;28;01mreturn\u001B[39;00m \u001B[43mnanops\u001B[49m\u001B[38;5;241;43m.\u001B[39;49m\u001B[43mnancorr\u001B[49m\u001B[43m(\u001B[49m\n\u001B[0;32m   2761\u001B[0m \u001B[43m        \u001B[49m\u001B[43mthis\u001B[49m\u001B[38;5;241;43m.\u001B[39;49m\u001B[43mvalues\u001B[49m\u001B[43m,\u001B[49m\u001B[43m \u001B[49m\u001B[43mother\u001B[49m\u001B[38;5;241;43m.\u001B[39;49m\u001B[43mvalues\u001B[49m\u001B[43m,\u001B[49m\u001B[43m \u001B[49m\u001B[43mmethod\u001B[49m\u001B[38;5;241;43m=\u001B[39;49m\u001B[43mmethod\u001B[49m\u001B[43m,\u001B[49m\u001B[43m \u001B[49m\u001B[43mmin_periods\u001B[49m\u001B[38;5;241;43m=\u001B[39;49m\u001B[43mmin_periods\u001B[49m\n\u001B[0;32m   2762\u001B[0m \u001B[43m    \u001B[49m\u001B[43m)\u001B[49m\n\u001B[0;32m   2764\u001B[0m \u001B[38;5;28;01mraise\u001B[39;00m \u001B[38;5;167;01mValueError\u001B[39;00m(\n\u001B[0;32m   2765\u001B[0m     \u001B[38;5;124m\"\u001B[39m\u001B[38;5;124mmethod must be either \u001B[39m\u001B[38;5;124m'\u001B[39m\u001B[38;5;124mpearson\u001B[39m\u001B[38;5;124m'\u001B[39m\u001B[38;5;124m, \u001B[39m\u001B[38;5;124m\"\u001B[39m\n\u001B[0;32m   2766\u001B[0m     \u001B[38;5;124m\"\u001B[39m\u001B[38;5;124m'\u001B[39m\u001B[38;5;124mspearman\u001B[39m\u001B[38;5;124m'\u001B[39m\u001B[38;5;124m, \u001B[39m\u001B[38;5;124m'\u001B[39m\u001B[38;5;124mkendall\u001B[39m\u001B[38;5;124m'\u001B[39m\u001B[38;5;124m, or a callable, \u001B[39m\u001B[38;5;124m\"\u001B[39m\n\u001B[0;32m   2767\u001B[0m     \u001B[38;5;124mf\u001B[39m\u001B[38;5;124m\"\u001B[39m\u001B[38;5;124m'\u001B[39m\u001B[38;5;132;01m{\u001B[39;00mmethod\u001B[38;5;132;01m}\u001B[39;00m\u001B[38;5;124m'\u001B[39m\u001B[38;5;124m was supplied\u001B[39m\u001B[38;5;124m\"\u001B[39m\n\u001B[0;32m   2768\u001B[0m )\n",
      "File \u001B[1;32m~\\mambaforge\\envs\\qids-2023-comp\\lib\\site-packages\\pandas\\core\\nanops.py:93\u001B[0m, in \u001B[0;36mdisallow.__call__.<locals>._f\u001B[1;34m(*args, **kwargs)\u001B[0m\n\u001B[0;32m     91\u001B[0m \u001B[38;5;28;01mtry\u001B[39;00m:\n\u001B[0;32m     92\u001B[0m     \u001B[38;5;28;01mwith\u001B[39;00m np\u001B[38;5;241m.\u001B[39merrstate(invalid\u001B[38;5;241m=\u001B[39m\u001B[38;5;124m\"\u001B[39m\u001B[38;5;124mignore\u001B[39m\u001B[38;5;124m\"\u001B[39m):\n\u001B[1;32m---> 93\u001B[0m         \u001B[38;5;28;01mreturn\u001B[39;00m f(\u001B[38;5;241m*\u001B[39margs, \u001B[38;5;241m*\u001B[39m\u001B[38;5;241m*\u001B[39mkwargs)\n\u001B[0;32m     94\u001B[0m \u001B[38;5;28;01mexcept\u001B[39;00m \u001B[38;5;167;01mValueError\u001B[39;00m \u001B[38;5;28;01mas\u001B[39;00m e:\n\u001B[0;32m     95\u001B[0m     \u001B[38;5;66;03m# we want to transform an object array\u001B[39;00m\n\u001B[0;32m     96\u001B[0m     \u001B[38;5;66;03m# ValueError message to the more typical TypeError\u001B[39;00m\n\u001B[0;32m     97\u001B[0m     \u001B[38;5;66;03m# e.g. this is normally a disallowed function on\u001B[39;00m\n\u001B[0;32m     98\u001B[0m     \u001B[38;5;66;03m# object arrays that contain strings\u001B[39;00m\n\u001B[0;32m     99\u001B[0m     \u001B[38;5;28;01mif\u001B[39;00m is_object_dtype(args[\u001B[38;5;241m0\u001B[39m]):\n",
      "File \u001B[1;32m~\\mambaforge\\envs\\qids-2023-comp\\lib\\site-packages\\pandas\\core\\nanops.py:1554\u001B[0m, in \u001B[0;36mnancorr\u001B[1;34m(a, b, method, min_periods)\u001B[0m\n\u001B[0;32m   1551\u001B[0m     \u001B[38;5;28;01mreturn\u001B[39;00m np\u001B[38;5;241m.\u001B[39mnan\n\u001B[0;32m   1553\u001B[0m f \u001B[38;5;241m=\u001B[39m get_corr_func(method)\n\u001B[1;32m-> 1554\u001B[0m \u001B[38;5;28;01mreturn\u001B[39;00m \u001B[43mf\u001B[49m\u001B[43m(\u001B[49m\u001B[43ma\u001B[49m\u001B[43m,\u001B[49m\u001B[43m \u001B[49m\u001B[43mb\u001B[49m\u001B[43m)\u001B[49m\n",
      "File \u001B[1;32m~\\mambaforge\\envs\\qids-2023-comp\\lib\\site-packages\\pandas\\core\\nanops.py:1575\u001B[0m, in \u001B[0;36mget_corr_func.<locals>.func\u001B[1;34m(a, b)\u001B[0m\n\u001B[0;32m   1574\u001B[0m \u001B[38;5;28;01mdef\u001B[39;00m \u001B[38;5;21mfunc\u001B[39m(a, b):\n\u001B[1;32m-> 1575\u001B[0m     \u001B[38;5;28;01mreturn\u001B[39;00m \u001B[43mnp\u001B[49m\u001B[38;5;241;43m.\u001B[39;49m\u001B[43mcorrcoef\u001B[49m\u001B[43m(\u001B[49m\u001B[43ma\u001B[49m\u001B[43m,\u001B[49m\u001B[43m \u001B[49m\u001B[43mb\u001B[49m\u001B[43m)\u001B[49m[\u001B[38;5;241m0\u001B[39m, \u001B[38;5;241m1\u001B[39m]\n",
      "File \u001B[1;32m<__array_function__ internals>:200\u001B[0m, in \u001B[0;36mcorrcoef\u001B[1;34m(*args, **kwargs)\u001B[0m\n",
      "File \u001B[1;32m~\\mambaforge\\envs\\qids-2023-comp\\lib\\site-packages\\numpy\\lib\\function_base.py:2846\u001B[0m, in \u001B[0;36mcorrcoef\u001B[1;34m(x, y, rowvar, bias, ddof, dtype)\u001B[0m\n\u001B[0;32m   2842\u001B[0m \u001B[38;5;28;01mif\u001B[39;00m bias \u001B[38;5;129;01mis\u001B[39;00m \u001B[38;5;129;01mnot\u001B[39;00m np\u001B[38;5;241m.\u001B[39m_NoValue \u001B[38;5;129;01mor\u001B[39;00m ddof \u001B[38;5;129;01mis\u001B[39;00m \u001B[38;5;129;01mnot\u001B[39;00m np\u001B[38;5;241m.\u001B[39m_NoValue:\n\u001B[0;32m   2843\u001B[0m     \u001B[38;5;66;03m# 2015-03-15, 1.10\u001B[39;00m\n\u001B[0;32m   2844\u001B[0m     warnings\u001B[38;5;241m.\u001B[39mwarn(\u001B[38;5;124m'\u001B[39m\u001B[38;5;124mbias and ddof have no effect and are deprecated\u001B[39m\u001B[38;5;124m'\u001B[39m,\n\u001B[0;32m   2845\u001B[0m                   \u001B[38;5;167;01mDeprecationWarning\u001B[39;00m, stacklevel\u001B[38;5;241m=\u001B[39m\u001B[38;5;241m3\u001B[39m)\n\u001B[1;32m-> 2846\u001B[0m c \u001B[38;5;241m=\u001B[39m \u001B[43mcov\u001B[49m\u001B[43m(\u001B[49m\u001B[43mx\u001B[49m\u001B[43m,\u001B[49m\u001B[43m \u001B[49m\u001B[43my\u001B[49m\u001B[43m,\u001B[49m\u001B[43m \u001B[49m\u001B[43mrowvar\u001B[49m\u001B[43m,\u001B[49m\u001B[43m \u001B[49m\u001B[43mdtype\u001B[49m\u001B[38;5;241;43m=\u001B[39;49m\u001B[43mdtype\u001B[49m\u001B[43m)\u001B[49m\n\u001B[0;32m   2847\u001B[0m \u001B[38;5;28;01mtry\u001B[39;00m:\n\u001B[0;32m   2848\u001B[0m     d \u001B[38;5;241m=\u001B[39m diag(c)\n",
      "File \u001B[1;32m<__array_function__ internals>:200\u001B[0m, in \u001B[0;36mcov\u001B[1;34m(*args, **kwargs)\u001B[0m\n",
      "File \u001B[1;32m~\\mambaforge\\envs\\qids-2023-comp\\lib\\site-packages\\numpy\\lib\\function_base.py:2704\u001B[0m, in \u001B[0;36mcov\u001B[1;34m(m, y, rowvar, bias, ddof, fweights, aweights, dtype)\u001B[0m\n\u001B[0;32m   2702\u001B[0m \u001B[38;5;28;01melse\u001B[39;00m:\n\u001B[0;32m   2703\u001B[0m     X_T \u001B[38;5;241m=\u001B[39m (X\u001B[38;5;241m*\u001B[39mw)\u001B[38;5;241m.\u001B[39mT\n\u001B[1;32m-> 2704\u001B[0m c \u001B[38;5;241m=\u001B[39m \u001B[43mdot\u001B[49m\u001B[43m(\u001B[49m\u001B[43mX\u001B[49m\u001B[43m,\u001B[49m\u001B[43m \u001B[49m\u001B[43mX_T\u001B[49m\u001B[38;5;241;43m.\u001B[39;49m\u001B[43mconj\u001B[49m\u001B[43m(\u001B[49m\u001B[43m)\u001B[49m\u001B[43m)\u001B[49m\n\u001B[0;32m   2705\u001B[0m c \u001B[38;5;241m*\u001B[39m\u001B[38;5;241m=\u001B[39m np\u001B[38;5;241m.\u001B[39mtrue_divide(\u001B[38;5;241m1\u001B[39m, fact)\n\u001B[0;32m   2706\u001B[0m \u001B[38;5;28;01mreturn\u001B[39;00m c\u001B[38;5;241m.\u001B[39msqueeze()\n",
      "File \u001B[1;32m<__array_function__ internals>:200\u001B[0m, in \u001B[0;36mdot\u001B[1;34m(*args, **kwargs)\u001B[0m\n",
      "\u001B[1;31mKeyboardInterrupt\u001B[0m: "
     ]
    }
   ],
   "source": [
    "model = SimpleLinearModel(feature)\n",
    "train_lookback = 30\n",
    "performance_cv, cum_y_df = cross_validation(model, feature, ds, train_lookback=train_lookback)"
   ],
   "metadata": {
    "collapsed": false,
    "pycharm": {
     "name": "#%%\n"
    }
   }
  },
  {
   "cell_type": "code",
   "execution_count": 5,
   "outputs": [
    {
     "ename": "NameError",
     "evalue": "name 'performance_cv' is not defined",
     "output_type": "error",
     "traceback": [
      "\u001B[1;31m---------------------------------------------------------------------------\u001B[0m",
      "\u001B[1;31mNameError\u001B[0m                                 Traceback (most recent call last)",
      "Cell \u001B[1;32mIn[5], line 2\u001B[0m\n\u001B[0;32m      1\u001B[0m plt\u001B[38;5;241m.\u001B[39mfigure(\u001B[38;5;241m1\u001B[39m)\n\u001B[1;32m----> 2\u001B[0m plot_performance(\u001B[43mperformance_cv\u001B[49m, metrics_selected\u001B[38;5;241m=\u001B[39m[\u001B[38;5;124m'\u001B[39m\u001B[38;5;124mtrain_r2\u001B[39m\u001B[38;5;124m'\u001B[39m, \u001B[38;5;124m'\u001B[39m\u001B[38;5;124mval_cum_r2\u001B[39m\u001B[38;5;124m'\u001B[39m, \u001B[38;5;124m'\u001B[39m\u001B[38;5;124mval_cum_pearson\u001B[39m\u001B[38;5;124m'\u001B[39m])\n\u001B[0;32m      3\u001B[0m plt\u001B[38;5;241m.\u001B[39mshow()\n",
      "\u001B[1;31mNameError\u001B[0m: name 'performance_cv' is not defined"
     ]
    },
    {
     "data": {
      "text/plain": "<Figure size 640x480 with 0 Axes>"
     },
     "metadata": {},
     "output_type": "display_data"
    }
   ],
   "source": [
    "plt.figure(1)\n",
    "plot_performance(performance_cv, metrics_selected=['train_r2', 'val_cum_r2', 'val_cum_pearson'])\n",
    "plt.show()"
   ],
   "metadata": {
    "collapsed": false,
    "pycharm": {
     "name": "#%%\n"
    }
   }
  },
  {
   "cell_type": "code",
   "execution_count": 18,
   "outputs": [],
   "source": [
    "from qids_lib import QIDS\n",
    "qids = QIDS(path_prefix='../../')"
   ],
   "metadata": {
    "collapsed": false,
    "pycharm": {
     "name": "#%%\n"
    }
   }
  },
  {
   "cell_type": "code",
   "execution_count": null,
   "outputs": [
    {
     "data": {
      "text/plain": "  0%|          | 0/700 [00:00<?, ?it/s]",
      "application/vnd.jupyter.widget-view+json": {
       "version_major": 2,
       "version_minor": 0,
       "model_id": "b8939a9d1a154d0bbe23990c46034ac7"
      }
     },
     "metadata": {},
     "output_type": "display_data"
    }
   ],
   "source": [
    "from pipeline.backtest import evaluation_for_submission\n",
    "\n",
    "model = SimpleLinearModel(feature)\n",
    "train_lookback = 3\n",
    "performance_eval = evaluation_for_submission(model, ds, qids, lookback_window=train_lookback)"
   ],
   "metadata": {
    "collapsed": false,
    "pycharm": {
     "name": "#%%\n",
     "is_executing": true
    }
   }
  },
  {
   "cell_type": "code",
   "execution_count": null,
   "outputs": [],
   "source": [],
   "metadata": {
    "collapsed": false,
    "pycharm": {
     "name": "#%%\n"
    }
   }
  }
 ],
 "metadata": {
  "kernelspec": {
   "display_name": "Python 3",
   "language": "python",
   "name": "python3"
  },
  "language_info": {
   "codemirror_mode": {
    "name": "ipython",
    "version": 2
   },
   "file_extension": ".py",
   "mimetype": "text/x-python",
   "name": "python",
   "nbconvert_exporter": "python",
   "pygments_lexer": "ipython2",
   "version": "2.7.6"
  }
 },
 "nbformat": 4,
 "nbformat_minor": 0
}