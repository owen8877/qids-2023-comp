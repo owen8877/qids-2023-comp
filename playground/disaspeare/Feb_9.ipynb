{
 "cells": [
  {
   "cell_type": "code",
   "execution_count": null,
   "outputs": [],
   "source": [
    "% matplotlib inline"
   ],
   "metadata": {
    "collapsed": false,
    "pycharm": {
     "name": "#%%\n"
    }
   }
  },
  {
   "cell_type": "code",
   "execution_count": null,
   "outputs": [],
   "source": [
    "import numpy as np\n",
    "import pandas as pd\n",
    "from pandas import Series\n",
    "from sklearn.metrics import r2_score\n",
    "from sklearn.linear_model import LinearRegression\n",
    "from sklearn.model_selection import TimeSeriesSplit\n",
    "from tqdm.auto import tqdm\n",
    "import matplotlib.pyplot as plt\n",
    "\n",
    "from pipeline import Dataset\n",
    "from datatools import data_quantization"
   ],
   "metadata": {
    "collapsed": false,
    "pycharm": {
     "name": "#%%\n"
    }
   }
  },
  {
   "cell_type": "code",
   "execution_count": null,
   "outputs": [],
   "source": [
    "dataset = Dataset.load('../../data/parsed')"
   ],
   "metadata": {
    "collapsed": false,
    "pycharm": {
     "name": "#%%\n"
    }
   }
  },
  {
   "cell_type": "code",
   "execution_count": null,
   "outputs": [],
   "source": [
    "quantized_fundamental, _ = data_quantization(dataset.fundamental.set_index(['asset', 'day']))"
   ],
   "metadata": {
    "collapsed": false,
    "pycharm": {
     "name": "#%%\n"
    }
   }
  },
  {
   "cell_type": "code",
   "execution_count": null,
   "outputs": [],
   "source": [
    "full_df = pd.concat(\n",
    "    [dataset.fundamental.set_index(['asset', 'day']), dataset.ref_return.set_index(['asset', 'day'])],\n",
    "    axis=1).dropna()"
   ],
   "metadata": {
    "collapsed": false,
    "pycharm": {
     "name": "#%%\n"
    }
   }
  },
  {
   "cell_type": "code",
   "execution_count": null,
   "outputs": [],
   "source": [
    "df = full_df.swaplevel().sort_index()\n",
    "df.head()"
   ],
   "metadata": {
    "collapsed": false,
    "pycharm": {
     "name": "#%%\n"
    }
   }
  },
  {
   "cell_type": "code",
   "execution_count": null,
   "outputs": [],
   "source": [
    "# X = df[['turnoverRatio_QUANTILE', 'transactionAmount_QUANTILE', 'pb_QUANTILE', 'ps_QUANTILE', 'pe_ttm_QUANTILE', 'pe_QUANTILE', 'pcf_QUANTILE']]\n",
    "# X = df[['turnoverRatio', 'transactionAmount', 'pb', 'ps', 'pe_ttm', 'pe', 'pcf']]\n",
    "# y = df['return']\n",
    "\n",
    "original_feature = ['turnoverRatio', 'transactionAmount', 'pb', 'ps', 'pe_ttm', 'pe', 'pcf']\n",
    "quantile_feature = ['turnoverRatio_QUANTILE', 'transactionAmount_QUANTILE', 'pb_QUANTILE', 'ps_QUANTILE', 'pe_ttm_QUANTILE', 'pe_QUANTILE', 'pcf_QUANTILE']\n",
    "\n",
    "tscv = TimeSeriesSplit(n_splits=99)\n",
    "test_prediction = Series(dtype=float)\n",
    "test_reference = Series(dtype=float)\n",
    "train_test_scores = []\n",
    "for train, test in tqdm(tscv.split(df)):\n",
    "    X, _ = data_quantization(df[original_feature])\n",
    "    reg = LinearRegression().fit(X.iloc[train], df['return'].iloc[train])\n",
    "    train_score = reg.score(X.iloc[train], df['return'].iloc[train])\n",
    "    test_prediction = pd.concat([test_prediction, Series(reg.predict(X.iloc[test]), index=X.index[test])])\n",
    "    test_reference = pd.concat([test_reference, df['return'].iloc[test]])\n",
    "    test_score = r2_score(test_reference, test_prediction)\n",
    "    # test_score = reg.score(X.iloc[test], y.iloc[test])\n",
    "    train_test_scores.append((train_score, test_score))\n",
    "    # print(f'train score: {train_score:.4f}, test score: {test_score:.4f}')\n",
    "\n",
    "# final_model = LinearRegression().fit(X, y)"
   ],
   "metadata": {
    "collapsed": false,
    "pycharm": {
     "name": "#%%\n"
    }
   }
  },
  {
   "cell_type": "code",
   "execution_count": null,
   "outputs": [],
   "source": [
    "plt.figure(1)\n",
    "plt.plot([_[0] for _ in train_test_scores], label='train')\n",
    "plt.plot([_[1] for _ in train_test_scores], label='test')\n",
    "plt.ylim([-0.1, 0.1])\n",
    "plt.legend(loc='best')"
   ],
   "metadata": {
    "collapsed": false,
    "pycharm": {
     "name": "#%%\n"
    }
   }
  },
  {
   "cell_type": "code",
   "execution_count": null,
   "outputs": [],
   "source": [
    "pd.concat([test_reference, test_prediction], axis=1)"
   ],
   "metadata": {
    "collapsed": false,
    "pycharm": {
     "name": "#%%\n"
    }
   }
  }
 ],
 "metadata": {
  "kernelspec": {
   "display_name": "Python 3",
   "language": "python",
   "name": "python3"
  },
  "language_info": {
   "codemirror_mode": {
    "name": "ipython",
    "version": 2
   },
   "file_extension": ".py",
   "mimetype": "text/x-python",
   "name": "python",
   "nbconvert_exporter": "python",
   "pygments_lexer": "ipython2",
   "version": "2.7.6"
  }
 },
 "nbformat": 4,
 "nbformat_minor": 0
}