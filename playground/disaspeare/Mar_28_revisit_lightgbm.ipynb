{
 "cells": [
  {
   "cell_type": "code",
   "execution_count": 1,
   "id": "4f1a5b1d",
   "metadata": {
    "ExecuteTime": {
     "end_time": "2023-03-28T21:06:52.307311Z",
     "start_time": "2023-03-28T21:06:52.287657Z"
    }
   },
   "outputs": [],
   "source": [
    "%load_ext autoreload\n",
    "%autoreload 2"
   ]
  },
  {
   "cell_type": "code",
   "execution_count": 519,
   "id": "daa57dce",
   "metadata": {
    "ExecuteTime": {
     "end_time": "2023-03-29T00:19:17.716313Z",
     "start_time": "2023-03-29T00:19:17.687937Z"
    }
   },
   "outputs": [],
   "source": [
    "import xarray as xr\n",
    "import lightgbm as lgb\n",
    "from lightgbm import early_stopping, plot_metric, record_evaluation\n",
    "import numpy as np\n",
    "import pandas as pd\n",
    "import matplotlib.pyplot as plt\n",
    "from hyperopt import fmin, hp, partial, tpe, Trials\n",
    "import sys\n",
    "sys.path.append('../..')\n",
    "from pipeline.backtest import cross_validation\n",
    "import pipeline.backtest_trading as bt\n",
    "from sklearn.preprocessing import KBinsDiscretizer\n",
    "from visualization.trading_stat import bear_market_suite\n",
    "from portfolio import Portfolio\n",
    "import itertools\n",
    "\n",
    "random_state = 42"
   ]
  },
  {
   "cell_type": "code",
   "execution_count": 3,
   "id": "ce49db8b",
   "metadata": {
    "ExecuteTime": {
     "end_time": "2023-03-28T21:06:53.986445Z",
     "start_time": "2023-03-28T21:06:53.944517Z"
    }
   },
   "outputs": [],
   "source": [
    "base_ds = xr.open_dataset('../../data/nc_2round/base.nc')\n",
    "fundamental_v0_ds = xr.open_dataset('../../data/nc_2round/fundamental_v0.nc')\n",
    "market_ds = xr.open_dataset('../../data/nc_2round/market_brief.nc')\n",
    "\n",
    "ds = xr.merge([base_ds, fundamental_v0_ds, market_ds])"
   ]
  },
  {
   "cell_type": "code",
   "execution_count": 4,
   "id": "12c5bf99",
   "metadata": {
    "ExecuteTime": {
     "end_time": "2023-03-28T21:06:54.641567Z",
     "start_time": "2023-03-28T21:06:54.589238Z"
    }
   },
   "outputs": [
    {
     "data": {
      "text/html": [
       "<div><svg style=\"position: absolute; width: 0; height: 0; overflow: hidden\">\n",
       "<defs>\n",
       "<symbol id=\"icon-database\" viewBox=\"0 0 32 32\">\n",
       "<path d=\"M16 0c-8.837 0-16 2.239-16 5v4c0 2.761 7.163 5 16 5s16-2.239 16-5v-4c0-2.761-7.163-5-16-5z\"></path>\n",
       "<path d=\"M16 17c-8.837 0-16-2.239-16-5v6c0 2.761 7.163 5 16 5s16-2.239 16-5v-6c0 2.761-7.163 5-16 5z\"></path>\n",
       "<path d=\"M16 26c-8.837 0-16-2.239-16-5v6c0 2.761 7.163 5 16 5s16-2.239 16-5v-6c0 2.761-7.163 5-16 5z\"></path>\n",
       "</symbol>\n",
       "<symbol id=\"icon-file-text2\" viewBox=\"0 0 32 32\">\n",
       "<path d=\"M28.681 7.159c-0.694-0.947-1.662-2.053-2.724-3.116s-2.169-2.030-3.116-2.724c-1.612-1.182-2.393-1.319-2.841-1.319h-15.5c-1.378 0-2.5 1.121-2.5 2.5v27c0 1.378 1.122 2.5 2.5 2.5h23c1.378 0 2.5-1.122 2.5-2.5v-19.5c0-0.448-0.137-1.23-1.319-2.841zM24.543 5.457c0.959 0.959 1.712 1.825 2.268 2.543h-4.811v-4.811c0.718 0.556 1.584 1.309 2.543 2.268zM28 29.5c0 0.271-0.229 0.5-0.5 0.5h-23c-0.271 0-0.5-0.229-0.5-0.5v-27c0-0.271 0.229-0.5 0.5-0.5 0 0 15.499-0 15.5 0v7c0 0.552 0.448 1 1 1h7v19.5z\"></path>\n",
       "<path d=\"M23 26h-14c-0.552 0-1-0.448-1-1s0.448-1 1-1h14c0.552 0 1 0.448 1 1s-0.448 1-1 1z\"></path>\n",
       "<path d=\"M23 22h-14c-0.552 0-1-0.448-1-1s0.448-1 1-1h14c0.552 0 1 0.448 1 1s-0.448 1-1 1z\"></path>\n",
       "<path d=\"M23 18h-14c-0.552 0-1-0.448-1-1s0.448-1 1-1h14c0.552 0 1 0.448 1 1s-0.448 1-1 1z\"></path>\n",
       "</symbol>\n",
       "</defs>\n",
       "</svg>\n",
       "<style>/* CSS stylesheet for displaying xarray objects in jupyterlab.\n",
       " *\n",
       " */\n",
       "\n",
       ":root {\n",
       "  --xr-font-color0: var(--jp-content-font-color0, rgba(0, 0, 0, 1));\n",
       "  --xr-font-color2: var(--jp-content-font-color2, rgba(0, 0, 0, 0.54));\n",
       "  --xr-font-color3: var(--jp-content-font-color3, rgba(0, 0, 0, 0.38));\n",
       "  --xr-border-color: var(--jp-border-color2, #e0e0e0);\n",
       "  --xr-disabled-color: var(--jp-layout-color3, #bdbdbd);\n",
       "  --xr-background-color: var(--jp-layout-color0, white);\n",
       "  --xr-background-color-row-even: var(--jp-layout-color1, white);\n",
       "  --xr-background-color-row-odd: var(--jp-layout-color2, #eeeeee);\n",
       "}\n",
       "\n",
       "html[theme=dark],\n",
       "body[data-theme=dark],\n",
       "body.vscode-dark {\n",
       "  --xr-font-color0: rgba(255, 255, 255, 1);\n",
       "  --xr-font-color2: rgba(255, 255, 255, 0.54);\n",
       "  --xr-font-color3: rgba(255, 255, 255, 0.38);\n",
       "  --xr-border-color: #1F1F1F;\n",
       "  --xr-disabled-color: #515151;\n",
       "  --xr-background-color: #111111;\n",
       "  --xr-background-color-row-even: #111111;\n",
       "  --xr-background-color-row-odd: #313131;\n",
       "}\n",
       "\n",
       ".xr-wrap {\n",
       "  display: block !important;\n",
       "  min-width: 300px;\n",
       "  max-width: 700px;\n",
       "}\n",
       "\n",
       ".xr-text-repr-fallback {\n",
       "  /* fallback to plain text repr when CSS is not injected (untrusted notebook) */\n",
       "  display: none;\n",
       "}\n",
       "\n",
       ".xr-header {\n",
       "  padding-top: 6px;\n",
       "  padding-bottom: 6px;\n",
       "  margin-bottom: 4px;\n",
       "  border-bottom: solid 1px var(--xr-border-color);\n",
       "}\n",
       "\n",
       ".xr-header > div,\n",
       ".xr-header > ul {\n",
       "  display: inline;\n",
       "  margin-top: 0;\n",
       "  margin-bottom: 0;\n",
       "}\n",
       "\n",
       ".xr-obj-type,\n",
       ".xr-array-name {\n",
       "  margin-left: 2px;\n",
       "  margin-right: 10px;\n",
       "}\n",
       "\n",
       ".xr-obj-type {\n",
       "  color: var(--xr-font-color2);\n",
       "}\n",
       "\n",
       ".xr-sections {\n",
       "  padding-left: 0 !important;\n",
       "  display: grid;\n",
       "  grid-template-columns: 150px auto auto 1fr 20px 20px;\n",
       "}\n",
       "\n",
       ".xr-section-item {\n",
       "  display: contents;\n",
       "}\n",
       "\n",
       ".xr-section-item input {\n",
       "  display: none;\n",
       "}\n",
       "\n",
       ".xr-section-item input + label {\n",
       "  color: var(--xr-disabled-color);\n",
       "}\n",
       "\n",
       ".xr-section-item input:enabled + label {\n",
       "  cursor: pointer;\n",
       "  color: var(--xr-font-color2);\n",
       "}\n",
       "\n",
       ".xr-section-item input:enabled + label:hover {\n",
       "  color: var(--xr-font-color0);\n",
       "}\n",
       "\n",
       ".xr-section-summary {\n",
       "  grid-column: 1;\n",
       "  color: var(--xr-font-color2);\n",
       "  font-weight: 500;\n",
       "}\n",
       "\n",
       ".xr-section-summary > span {\n",
       "  display: inline-block;\n",
       "  padding-left: 0.5em;\n",
       "}\n",
       "\n",
       ".xr-section-summary-in:disabled + label {\n",
       "  color: var(--xr-font-color2);\n",
       "}\n",
       "\n",
       ".xr-section-summary-in + label:before {\n",
       "  display: inline-block;\n",
       "  content: '►';\n",
       "  font-size: 11px;\n",
       "  width: 15px;\n",
       "  text-align: center;\n",
       "}\n",
       "\n",
       ".xr-section-summary-in:disabled + label:before {\n",
       "  color: var(--xr-disabled-color);\n",
       "}\n",
       "\n",
       ".xr-section-summary-in:checked + label:before {\n",
       "  content: '▼';\n",
       "}\n",
       "\n",
       ".xr-section-summary-in:checked + label > span {\n",
       "  display: none;\n",
       "}\n",
       "\n",
       ".xr-section-summary,\n",
       ".xr-section-inline-details {\n",
       "  padding-top: 4px;\n",
       "  padding-bottom: 4px;\n",
       "}\n",
       "\n",
       ".xr-section-inline-details {\n",
       "  grid-column: 2 / -1;\n",
       "}\n",
       "\n",
       ".xr-section-details {\n",
       "  display: none;\n",
       "  grid-column: 1 / -1;\n",
       "  margin-bottom: 5px;\n",
       "}\n",
       "\n",
       ".xr-section-summary-in:checked ~ .xr-section-details {\n",
       "  display: contents;\n",
       "}\n",
       "\n",
       ".xr-array-wrap {\n",
       "  grid-column: 1 / -1;\n",
       "  display: grid;\n",
       "  grid-template-columns: 20px auto;\n",
       "}\n",
       "\n",
       ".xr-array-wrap > label {\n",
       "  grid-column: 1;\n",
       "  vertical-align: top;\n",
       "}\n",
       "\n",
       ".xr-preview {\n",
       "  color: var(--xr-font-color3);\n",
       "}\n",
       "\n",
       ".xr-array-preview,\n",
       ".xr-array-data {\n",
       "  padding: 0 5px !important;\n",
       "  grid-column: 2;\n",
       "}\n",
       "\n",
       ".xr-array-data,\n",
       ".xr-array-in:checked ~ .xr-array-preview {\n",
       "  display: none;\n",
       "}\n",
       "\n",
       ".xr-array-in:checked ~ .xr-array-data,\n",
       ".xr-array-preview {\n",
       "  display: inline-block;\n",
       "}\n",
       "\n",
       ".xr-dim-list {\n",
       "  display: inline-block !important;\n",
       "  list-style: none;\n",
       "  padding: 0 !important;\n",
       "  margin: 0;\n",
       "}\n",
       "\n",
       ".xr-dim-list li {\n",
       "  display: inline-block;\n",
       "  padding: 0;\n",
       "  margin: 0;\n",
       "}\n",
       "\n",
       ".xr-dim-list:before {\n",
       "  content: '(';\n",
       "}\n",
       "\n",
       ".xr-dim-list:after {\n",
       "  content: ')';\n",
       "}\n",
       "\n",
       ".xr-dim-list li:not(:last-child):after {\n",
       "  content: ',';\n",
       "  padding-right: 5px;\n",
       "}\n",
       "\n",
       ".xr-has-index {\n",
       "  font-weight: bold;\n",
       "}\n",
       "\n",
       ".xr-var-list,\n",
       ".xr-var-item {\n",
       "  display: contents;\n",
       "}\n",
       "\n",
       ".xr-var-item > div,\n",
       ".xr-var-item label,\n",
       ".xr-var-item > .xr-var-name span {\n",
       "  background-color: var(--xr-background-color-row-even);\n",
       "  margin-bottom: 0;\n",
       "}\n",
       "\n",
       ".xr-var-item > .xr-var-name:hover span {\n",
       "  padding-right: 5px;\n",
       "}\n",
       "\n",
       ".xr-var-list > li:nth-child(odd) > div,\n",
       ".xr-var-list > li:nth-child(odd) > label,\n",
       ".xr-var-list > li:nth-child(odd) > .xr-var-name span {\n",
       "  background-color: var(--xr-background-color-row-odd);\n",
       "}\n",
       "\n",
       ".xr-var-name {\n",
       "  grid-column: 1;\n",
       "}\n",
       "\n",
       ".xr-var-dims {\n",
       "  grid-column: 2;\n",
       "}\n",
       "\n",
       ".xr-var-dtype {\n",
       "  grid-column: 3;\n",
       "  text-align: right;\n",
       "  color: var(--xr-font-color2);\n",
       "}\n",
       "\n",
       ".xr-var-preview {\n",
       "  grid-column: 4;\n",
       "}\n",
       "\n",
       ".xr-index-preview {\n",
       "  grid-column: 2 / 5;\n",
       "  color: var(--xr-font-color2);\n",
       "}\n",
       "\n",
       ".xr-var-name,\n",
       ".xr-var-dims,\n",
       ".xr-var-dtype,\n",
       ".xr-preview,\n",
       ".xr-attrs dt {\n",
       "  white-space: nowrap;\n",
       "  overflow: hidden;\n",
       "  text-overflow: ellipsis;\n",
       "  padding-right: 10px;\n",
       "}\n",
       "\n",
       ".xr-var-name:hover,\n",
       ".xr-var-dims:hover,\n",
       ".xr-var-dtype:hover,\n",
       ".xr-attrs dt:hover {\n",
       "  overflow: visible;\n",
       "  width: auto;\n",
       "  z-index: 1;\n",
       "}\n",
       "\n",
       ".xr-var-attrs,\n",
       ".xr-var-data,\n",
       ".xr-index-data {\n",
       "  display: none;\n",
       "  background-color: var(--xr-background-color) !important;\n",
       "  padding-bottom: 5px !important;\n",
       "}\n",
       "\n",
       ".xr-var-attrs-in:checked ~ .xr-var-attrs,\n",
       ".xr-var-data-in:checked ~ .xr-var-data,\n",
       ".xr-index-data-in:checked ~ .xr-index-data {\n",
       "  display: block;\n",
       "}\n",
       "\n",
       ".xr-var-data > table {\n",
       "  float: right;\n",
       "}\n",
       "\n",
       ".xr-var-name span,\n",
       ".xr-var-data,\n",
       ".xr-index-name div,\n",
       ".xr-index-data,\n",
       ".xr-attrs {\n",
       "  padding-left: 25px !important;\n",
       "}\n",
       "\n",
       ".xr-attrs,\n",
       ".xr-var-attrs,\n",
       ".xr-var-data,\n",
       ".xr-index-data {\n",
       "  grid-column: 1 / -1;\n",
       "}\n",
       "\n",
       "dl.xr-attrs {\n",
       "  padding: 0;\n",
       "  margin: 0;\n",
       "  display: grid;\n",
       "  grid-template-columns: 125px auto;\n",
       "}\n",
       "\n",
       ".xr-attrs dt,\n",
       ".xr-attrs dd {\n",
       "  padding: 0;\n",
       "  margin: 0;\n",
       "  float: left;\n",
       "  padding-right: 10px;\n",
       "  width: auto;\n",
       "}\n",
       "\n",
       ".xr-attrs dt {\n",
       "  font-weight: normal;\n",
       "  grid-column: 1;\n",
       "}\n",
       "\n",
       ".xr-attrs dt:hover span {\n",
       "  display: inline-block;\n",
       "  background: var(--xr-background-color);\n",
       "  padding-right: 10px;\n",
       "}\n",
       "\n",
       ".xr-attrs dd {\n",
       "  grid-column: 2;\n",
       "  white-space: pre-wrap;\n",
       "  word-break: break-all;\n",
       "}\n",
       "\n",
       ".xr-icon-database,\n",
       ".xr-icon-file-text2,\n",
       ".xr-no-icon {\n",
       "  display: inline-block;\n",
       "  vertical-align: middle;\n",
       "  width: 1em;\n",
       "  height: 1.5em !important;\n",
       "  stroke-width: 0;\n",
       "  stroke: currentColor;\n",
       "  fill: currentColor;\n",
       "}\n",
       "</style><pre class='xr-text-repr-fallback'>&lt;xarray.Dataset&gt;\n",
       "Dimensions:            (day: 1700, asset: 54, timeslot: 50)\n",
       "Coordinates:\n",
       "  * day                (day) int32 1 2 3 4 5 6 ... 1695 1696 1697 1698 1699 1700\n",
       "  * asset              (asset) int32 0 1 2 3 4 5 6 7 ... 46 47 48 49 50 51 52 53\n",
       "  * timeslot           (timeslot) int32 1 2 3 4 5 6 7 8 ... 44 45 46 47 48 49 50\n",
       "Data variables: (12/29)\n",
       "    open               (day, asset, timeslot) float64 ...\n",
       "    close              (day, asset, timeslot) float64 ...\n",
       "    high               (day, asset, timeslot) float64 ...\n",
       "    low                (day, asset, timeslot) float64 ...\n",
       "    volume             (day, asset, timeslot) float64 ...\n",
       "    money              (day, asset, timeslot) float64 ...\n",
       "    ...                 ...\n",
       "    mean_volume        (day, asset) float64 ...\n",
       "    close_0            (day, asset) float64 ...\n",
       "    open_0             (day, asset) float64 ...\n",
       "    high_0             (day, asset) float64 ...\n",
       "    low_0              (day, asset) float64 ...\n",
       "    return_0           (day, asset) float64 ...</pre><div class='xr-wrap' style='display:none'><div class='xr-header'><div class='xr-obj-type'>xarray.Dataset</div></div><ul class='xr-sections'><li class='xr-section-item'><input id='section-0a1fa9d5-4c08-4852-9d90-774eac205cf2' class='xr-section-summary-in' type='checkbox' disabled ><label for='section-0a1fa9d5-4c08-4852-9d90-774eac205cf2' class='xr-section-summary'  title='Expand/collapse section'>Dimensions:</label><div class='xr-section-inline-details'><ul class='xr-dim-list'><li><span class='xr-has-index'>day</span>: 1700</li><li><span class='xr-has-index'>asset</span>: 54</li><li><span class='xr-has-index'>timeslot</span>: 50</li></ul></div><div class='xr-section-details'></div></li><li class='xr-section-item'><input id='section-7cda4805-1d52-4f28-82d9-c72f94cf4157' class='xr-section-summary-in' type='checkbox'  checked><label for='section-7cda4805-1d52-4f28-82d9-c72f94cf4157' class='xr-section-summary' >Coordinates: <span>(3)</span></label><div class='xr-section-inline-details'></div><div class='xr-section-details'><ul class='xr-var-list'><li class='xr-var-item'><div class='xr-var-name'><span class='xr-has-index'>day</span></div><div class='xr-var-dims'>(day)</div><div class='xr-var-dtype'>int32</div><div class='xr-var-preview xr-preview'>1 2 3 4 5 ... 1697 1698 1699 1700</div><input id='attrs-6290b3a7-b0ec-4733-a4ca-cf220ba3a7ef' class='xr-var-attrs-in' type='checkbox' disabled><label for='attrs-6290b3a7-b0ec-4733-a4ca-cf220ba3a7ef' title='Show/Hide attributes'><svg class='icon xr-icon-file-text2'><use xlink:href='#icon-file-text2'></use></svg></label><input id='data-48694406-d495-4dcb-9e5c-d30075117f92' class='xr-var-data-in' type='checkbox'><label for='data-48694406-d495-4dcb-9e5c-d30075117f92' title='Show/Hide data repr'><svg class='icon xr-icon-database'><use xlink:href='#icon-database'></use></svg></label><div class='xr-var-attrs'><dl class='xr-attrs'></dl></div><div class='xr-var-data'><pre>array([   1,    2,    3, ..., 1698, 1699, 1700], dtype=int32)</pre></div></li><li class='xr-var-item'><div class='xr-var-name'><span class='xr-has-index'>asset</span></div><div class='xr-var-dims'>(asset)</div><div class='xr-var-dtype'>int32</div><div class='xr-var-preview xr-preview'>0 1 2 3 4 5 6 ... 48 49 50 51 52 53</div><input id='attrs-7744f9e8-aa83-4960-985c-28f7e8d085b4' class='xr-var-attrs-in' type='checkbox' disabled><label for='attrs-7744f9e8-aa83-4960-985c-28f7e8d085b4' title='Show/Hide attributes'><svg class='icon xr-icon-file-text2'><use xlink:href='#icon-file-text2'></use></svg></label><input id='data-a9a8314c-70aa-4dab-a8e1-31b58cf89251' class='xr-var-data-in' type='checkbox'><label for='data-a9a8314c-70aa-4dab-a8e1-31b58cf89251' title='Show/Hide data repr'><svg class='icon xr-icon-database'><use xlink:href='#icon-database'></use></svg></label><div class='xr-var-attrs'><dl class='xr-attrs'></dl></div><div class='xr-var-data'><pre>array([ 0,  1,  2,  3,  4,  5,  6,  7,  8,  9, 10, 11, 12, 13, 14, 15, 16, 17,\n",
       "       18, 19, 20, 21, 22, 23, 24, 25, 26, 27, 28, 29, 30, 31, 32, 33, 34, 35,\n",
       "       36, 37, 38, 39, 40, 41, 42, 43, 44, 45, 46, 47, 48, 49, 50, 51, 52, 53],\n",
       "      dtype=int32)</pre></div></li><li class='xr-var-item'><div class='xr-var-name'><span class='xr-has-index'>timeslot</span></div><div class='xr-var-dims'>(timeslot)</div><div class='xr-var-dtype'>int32</div><div class='xr-var-preview xr-preview'>1 2 3 4 5 6 7 ... 45 46 47 48 49 50</div><input id='attrs-0bd41762-c5ee-4ec1-9699-5b9bb00f3846' class='xr-var-attrs-in' type='checkbox' disabled><label for='attrs-0bd41762-c5ee-4ec1-9699-5b9bb00f3846' title='Show/Hide attributes'><svg class='icon xr-icon-file-text2'><use xlink:href='#icon-file-text2'></use></svg></label><input id='data-0f2b14ed-efc2-42d2-a4b1-0267d5b0380d' class='xr-var-data-in' type='checkbox'><label for='data-0f2b14ed-efc2-42d2-a4b1-0267d5b0380d' title='Show/Hide data repr'><svg class='icon xr-icon-database'><use xlink:href='#icon-database'></use></svg></label><div class='xr-var-attrs'><dl class='xr-attrs'></dl></div><div class='xr-var-data'><pre>array([ 1,  2,  3,  4,  5,  6,  7,  8,  9, 10, 11, 12, 13, 14, 15, 16, 17, 18,\n",
       "       19, 20, 21, 22, 23, 24, 25, 26, 27, 28, 29, 30, 31, 32, 33, 34, 35, 36,\n",
       "       37, 38, 39, 40, 41, 42, 43, 44, 45, 46, 47, 48, 49, 50], dtype=int32)</pre></div></li></ul></div></li><li class='xr-section-item'><input id='section-ba52e784-c3e4-4e3c-a9e6-12f78b699611' class='xr-section-summary-in' type='checkbox'  ><label for='section-ba52e784-c3e4-4e3c-a9e6-12f78b699611' class='xr-section-summary' >Data variables: <span>(29)</span></label><div class='xr-section-inline-details'></div><div class='xr-section-details'><ul class='xr-var-list'><li class='xr-var-item'><div class='xr-var-name'><span>open</span></div><div class='xr-var-dims'>(day, asset, timeslot)</div><div class='xr-var-dtype'>float64</div><div class='xr-var-preview xr-preview'>...</div><input id='attrs-a173a5e9-3e42-4757-89b6-2f7554b34ad9' class='xr-var-attrs-in' type='checkbox' disabled><label for='attrs-a173a5e9-3e42-4757-89b6-2f7554b34ad9' title='Show/Hide attributes'><svg class='icon xr-icon-file-text2'><use xlink:href='#icon-file-text2'></use></svg></label><input id='data-78955e4d-160e-4970-a32d-95c4d63342c1' class='xr-var-data-in' type='checkbox'><label for='data-78955e4d-160e-4970-a32d-95c4d63342c1' title='Show/Hide data repr'><svg class='icon xr-icon-database'><use xlink:href='#icon-database'></use></svg></label><div class='xr-var-attrs'><dl class='xr-attrs'></dl></div><div class='xr-var-data'><pre>[4590000 values with dtype=float64]</pre></div></li><li class='xr-var-item'><div class='xr-var-name'><span>close</span></div><div class='xr-var-dims'>(day, asset, timeslot)</div><div class='xr-var-dtype'>float64</div><div class='xr-var-preview xr-preview'>...</div><input id='attrs-3b6ba7c1-28da-467a-b892-0915860bc81e' class='xr-var-attrs-in' type='checkbox' disabled><label for='attrs-3b6ba7c1-28da-467a-b892-0915860bc81e' title='Show/Hide attributes'><svg class='icon xr-icon-file-text2'><use xlink:href='#icon-file-text2'></use></svg></label><input id='data-dfe352dc-bbe2-45e4-b7c0-b8721fcde1bb' class='xr-var-data-in' type='checkbox'><label for='data-dfe352dc-bbe2-45e4-b7c0-b8721fcde1bb' title='Show/Hide data repr'><svg class='icon xr-icon-database'><use xlink:href='#icon-database'></use></svg></label><div class='xr-var-attrs'><dl class='xr-attrs'></dl></div><div class='xr-var-data'><pre>[4590000 values with dtype=float64]</pre></div></li><li class='xr-var-item'><div class='xr-var-name'><span>high</span></div><div class='xr-var-dims'>(day, asset, timeslot)</div><div class='xr-var-dtype'>float64</div><div class='xr-var-preview xr-preview'>...</div><input id='attrs-711be8c8-8c7a-4450-be3b-8f5a50fc99c6' class='xr-var-attrs-in' type='checkbox' disabled><label for='attrs-711be8c8-8c7a-4450-be3b-8f5a50fc99c6' title='Show/Hide attributes'><svg class='icon xr-icon-file-text2'><use xlink:href='#icon-file-text2'></use></svg></label><input id='data-26d742db-a1f5-4c67-90db-0ed113cfc392' class='xr-var-data-in' type='checkbox'><label for='data-26d742db-a1f5-4c67-90db-0ed113cfc392' title='Show/Hide data repr'><svg class='icon xr-icon-database'><use xlink:href='#icon-database'></use></svg></label><div class='xr-var-attrs'><dl class='xr-attrs'></dl></div><div class='xr-var-data'><pre>[4590000 values with dtype=float64]</pre></div></li><li class='xr-var-item'><div class='xr-var-name'><span>low</span></div><div class='xr-var-dims'>(day, asset, timeslot)</div><div class='xr-var-dtype'>float64</div><div class='xr-var-preview xr-preview'>...</div><input id='attrs-6d71685e-028f-444f-bc34-75d65e485285' class='xr-var-attrs-in' type='checkbox' disabled><label for='attrs-6d71685e-028f-444f-bc34-75d65e485285' title='Show/Hide attributes'><svg class='icon xr-icon-file-text2'><use xlink:href='#icon-file-text2'></use></svg></label><input id='data-1bf8bf1b-1bf0-4b3e-8326-d967b18c73b4' class='xr-var-data-in' type='checkbox'><label for='data-1bf8bf1b-1bf0-4b3e-8326-d967b18c73b4' title='Show/Hide data repr'><svg class='icon xr-icon-database'><use xlink:href='#icon-database'></use></svg></label><div class='xr-var-attrs'><dl class='xr-attrs'></dl></div><div class='xr-var-data'><pre>[4590000 values with dtype=float64]</pre></div></li><li class='xr-var-item'><div class='xr-var-name'><span>volume</span></div><div class='xr-var-dims'>(day, asset, timeslot)</div><div class='xr-var-dtype'>float64</div><div class='xr-var-preview xr-preview'>...</div><input id='attrs-14b962e8-ae1e-4a61-b932-e3fdc5336230' class='xr-var-attrs-in' type='checkbox' disabled><label for='attrs-14b962e8-ae1e-4a61-b932-e3fdc5336230' title='Show/Hide attributes'><svg class='icon xr-icon-file-text2'><use xlink:href='#icon-file-text2'></use></svg></label><input id='data-9dd6b084-9630-4320-a32d-f05a75ffc21a' class='xr-var-data-in' type='checkbox'><label for='data-9dd6b084-9630-4320-a32d-f05a75ffc21a' title='Show/Hide data repr'><svg class='icon xr-icon-database'><use xlink:href='#icon-database'></use></svg></label><div class='xr-var-attrs'><dl class='xr-attrs'></dl></div><div class='xr-var-data'><pre>[4590000 values with dtype=float64]</pre></div></li><li class='xr-var-item'><div class='xr-var-name'><span>money</span></div><div class='xr-var-dims'>(day, asset, timeslot)</div><div class='xr-var-dtype'>float64</div><div class='xr-var-preview xr-preview'>...</div><input id='attrs-9ba2ee5d-1a13-446c-a7a4-a132e0aedf23' class='xr-var-attrs-in' type='checkbox' disabled><label for='attrs-9ba2ee5d-1a13-446c-a7a4-a132e0aedf23' title='Show/Hide attributes'><svg class='icon xr-icon-file-text2'><use xlink:href='#icon-file-text2'></use></svg></label><input id='data-e38ec847-a3dd-4496-9cb7-8ca898c73e22' class='xr-var-data-in' type='checkbox'><label for='data-e38ec847-a3dd-4496-9cb7-8ca898c73e22' title='Show/Hide data repr'><svg class='icon xr-icon-database'><use xlink:href='#icon-database'></use></svg></label><div class='xr-var-attrs'><dl class='xr-attrs'></dl></div><div class='xr-var-data'><pre>[4590000 values with dtype=float64]</pre></div></li><li class='xr-var-item'><div class='xr-var-name'><span>turnoverRatio</span></div><div class='xr-var-dims'>(day, asset)</div><div class='xr-var-dtype'>float64</div><div class='xr-var-preview xr-preview'>...</div><input id='attrs-5f7ffacc-107e-4993-98c2-b548cfe391e5' class='xr-var-attrs-in' type='checkbox' disabled><label for='attrs-5f7ffacc-107e-4993-98c2-b548cfe391e5' title='Show/Hide attributes'><svg class='icon xr-icon-file-text2'><use xlink:href='#icon-file-text2'></use></svg></label><input id='data-dfa590bd-0b4a-4763-8919-abf53772179d' class='xr-var-data-in' type='checkbox'><label for='data-dfa590bd-0b4a-4763-8919-abf53772179d' title='Show/Hide data repr'><svg class='icon xr-icon-database'><use xlink:href='#icon-database'></use></svg></label><div class='xr-var-attrs'><dl class='xr-attrs'></dl></div><div class='xr-var-data'><pre>[91800 values with dtype=float64]</pre></div></li><li class='xr-var-item'><div class='xr-var-name'><span>transactionAmount</span></div><div class='xr-var-dims'>(day, asset)</div><div class='xr-var-dtype'>float64</div><div class='xr-var-preview xr-preview'>...</div><input id='attrs-f6934993-56b9-45bc-9c61-76dc5a29728b' class='xr-var-attrs-in' type='checkbox' disabled><label for='attrs-f6934993-56b9-45bc-9c61-76dc5a29728b' title='Show/Hide attributes'><svg class='icon xr-icon-file-text2'><use xlink:href='#icon-file-text2'></use></svg></label><input id='data-dc5039b9-b235-4363-8dc0-7d94d53197b8' class='xr-var-data-in' type='checkbox'><label for='data-dc5039b9-b235-4363-8dc0-7d94d53197b8' title='Show/Hide data repr'><svg class='icon xr-icon-database'><use xlink:href='#icon-database'></use></svg></label><div class='xr-var-attrs'><dl class='xr-attrs'></dl></div><div class='xr-var-data'><pre>[91800 values with dtype=float64]</pre></div></li><li class='xr-var-item'><div class='xr-var-name'><span>pe_ttm</span></div><div class='xr-var-dims'>(day, asset)</div><div class='xr-var-dtype'>float64</div><div class='xr-var-preview xr-preview'>...</div><input id='attrs-844efebb-9cd0-4c67-a8d4-630e5834c95c' class='xr-var-attrs-in' type='checkbox' disabled><label for='attrs-844efebb-9cd0-4c67-a8d4-630e5834c95c' title='Show/Hide attributes'><svg class='icon xr-icon-file-text2'><use xlink:href='#icon-file-text2'></use></svg></label><input id='data-b17e5064-b000-4dff-a591-51deb3f316a1' class='xr-var-data-in' type='checkbox'><label for='data-b17e5064-b000-4dff-a591-51deb3f316a1' title='Show/Hide data repr'><svg class='icon xr-icon-database'><use xlink:href='#icon-database'></use></svg></label><div class='xr-var-attrs'><dl class='xr-attrs'></dl></div><div class='xr-var-data'><pre>[91800 values with dtype=float64]</pre></div></li><li class='xr-var-item'><div class='xr-var-name'><span>pe</span></div><div class='xr-var-dims'>(day, asset)</div><div class='xr-var-dtype'>float64</div><div class='xr-var-preview xr-preview'>...</div><input id='attrs-a243bb8f-9ef3-4727-a9c2-20b522e5cbf6' class='xr-var-attrs-in' type='checkbox' disabled><label for='attrs-a243bb8f-9ef3-4727-a9c2-20b522e5cbf6' title='Show/Hide attributes'><svg class='icon xr-icon-file-text2'><use xlink:href='#icon-file-text2'></use></svg></label><input id='data-a6aa81fe-562d-4da0-a179-04e0c8cd8319' class='xr-var-data-in' type='checkbox'><label for='data-a6aa81fe-562d-4da0-a179-04e0c8cd8319' title='Show/Hide data repr'><svg class='icon xr-icon-database'><use xlink:href='#icon-database'></use></svg></label><div class='xr-var-attrs'><dl class='xr-attrs'></dl></div><div class='xr-var-data'><pre>[91800 values with dtype=float64]</pre></div></li><li class='xr-var-item'><div class='xr-var-name'><span>pb</span></div><div class='xr-var-dims'>(day, asset)</div><div class='xr-var-dtype'>float64</div><div class='xr-var-preview xr-preview'>...</div><input id='attrs-5fc4d7ea-86f1-4062-a542-98e78bcc3db1' class='xr-var-attrs-in' type='checkbox' disabled><label for='attrs-5fc4d7ea-86f1-4062-a542-98e78bcc3db1' title='Show/Hide attributes'><svg class='icon xr-icon-file-text2'><use xlink:href='#icon-file-text2'></use></svg></label><input id='data-e55667f1-01a2-4b95-b2f0-ab8930d311e2' class='xr-var-data-in' type='checkbox'><label for='data-e55667f1-01a2-4b95-b2f0-ab8930d311e2' title='Show/Hide data repr'><svg class='icon xr-icon-database'><use xlink:href='#icon-database'></use></svg></label><div class='xr-var-attrs'><dl class='xr-attrs'></dl></div><div class='xr-var-data'><pre>[91800 values with dtype=float64]</pre></div></li><li class='xr-var-item'><div class='xr-var-name'><span>ps</span></div><div class='xr-var-dims'>(day, asset)</div><div class='xr-var-dtype'>float64</div><div class='xr-var-preview xr-preview'>...</div><input id='attrs-7ea93955-aaad-4023-93c9-165d7ee428cd' class='xr-var-attrs-in' type='checkbox' disabled><label for='attrs-7ea93955-aaad-4023-93c9-165d7ee428cd' title='Show/Hide attributes'><svg class='icon xr-icon-file-text2'><use xlink:href='#icon-file-text2'></use></svg></label><input id='data-a4d44014-aef5-4582-b062-6d0796c0f0db' class='xr-var-data-in' type='checkbox'><label for='data-a4d44014-aef5-4582-b062-6d0796c0f0db' title='Show/Hide data repr'><svg class='icon xr-icon-database'><use xlink:href='#icon-database'></use></svg></label><div class='xr-var-attrs'><dl class='xr-attrs'></dl></div><div class='xr-var-data'><pre>[91800 values with dtype=float64]</pre></div></li><li class='xr-var-item'><div class='xr-var-name'><span>pcf</span></div><div class='xr-var-dims'>(day, asset)</div><div class='xr-var-dtype'>float64</div><div class='xr-var-preview xr-preview'>...</div><input id='attrs-9dfdcf71-6c2a-499d-8041-7450279343fd' class='xr-var-attrs-in' type='checkbox' disabled><label for='attrs-9dfdcf71-6c2a-499d-8041-7450279343fd' title='Show/Hide attributes'><svg class='icon xr-icon-file-text2'><use xlink:href='#icon-file-text2'></use></svg></label><input id='data-4e8be3d0-978e-426b-82a5-df9b789f44fb' class='xr-var-data-in' type='checkbox'><label for='data-4e8be3d0-978e-426b-82a5-df9b789f44fb' title='Show/Hide data repr'><svg class='icon xr-icon-database'><use xlink:href='#icon-database'></use></svg></label><div class='xr-var-attrs'><dl class='xr-attrs'></dl></div><div class='xr-var-data'><pre>[91800 values with dtype=float64]</pre></div></li><li class='xr-var-item'><div class='xr-var-name'><span>return</span></div><div class='xr-var-dims'>(day, asset)</div><div class='xr-var-dtype'>float64</div><div class='xr-var-preview xr-preview'>...</div><input id='attrs-d5a653b1-c3ac-4336-9d51-e7f3a0c47e8f' class='xr-var-attrs-in' type='checkbox' disabled><label for='attrs-d5a653b1-c3ac-4336-9d51-e7f3a0c47e8f' title='Show/Hide attributes'><svg class='icon xr-icon-file-text2'><use xlink:href='#icon-file-text2'></use></svg></label><input id='data-28e1b0ac-053f-4e0d-b4da-22fba62b7dfb' class='xr-var-data-in' type='checkbox'><label for='data-28e1b0ac-053f-4e0d-b4da-22fba62b7dfb' title='Show/Hide data repr'><svg class='icon xr-icon-database'><use xlink:href='#icon-database'></use></svg></label><div class='xr-var-attrs'><dl class='xr-attrs'></dl></div><div class='xr-var-data'><pre>[91800 values with dtype=float64]</pre></div></li><li class='xr-var-item'><div class='xr-var-name'><span>earnings_ttm</span></div><div class='xr-var-dims'>(day, asset)</div><div class='xr-var-dtype'>float64</div><div class='xr-var-preview xr-preview'>...</div><input id='attrs-9b1bdde3-d74b-4798-87ed-fd2312fbcd6e' class='xr-var-attrs-in' type='checkbox' disabled><label for='attrs-9b1bdde3-d74b-4798-87ed-fd2312fbcd6e' title='Show/Hide attributes'><svg class='icon xr-icon-file-text2'><use xlink:href='#icon-file-text2'></use></svg></label><input id='data-bd2e4f80-c145-4645-806f-b996f945b0be' class='xr-var-data-in' type='checkbox'><label for='data-bd2e4f80-c145-4645-806f-b996f945b0be' title='Show/Hide data repr'><svg class='icon xr-icon-database'><use xlink:href='#icon-database'></use></svg></label><div class='xr-var-attrs'><dl class='xr-attrs'></dl></div><div class='xr-var-data'><pre>[91800 values with dtype=float64]</pre></div></li><li class='xr-var-item'><div class='xr-var-name'><span>earnings</span></div><div class='xr-var-dims'>(day, asset)</div><div class='xr-var-dtype'>float64</div><div class='xr-var-preview xr-preview'>...</div><input id='attrs-ea4a56b9-f29b-47a0-8fe9-8c420fa6dc94' class='xr-var-attrs-in' type='checkbox' disabled><label for='attrs-ea4a56b9-f29b-47a0-8fe9-8c420fa6dc94' title='Show/Hide attributes'><svg class='icon xr-icon-file-text2'><use xlink:href='#icon-file-text2'></use></svg></label><input id='data-815fdf66-ffea-4b74-baaf-5173342c0e05' class='xr-var-data-in' type='checkbox'><label for='data-815fdf66-ffea-4b74-baaf-5173342c0e05' title='Show/Hide data repr'><svg class='icon xr-icon-database'><use xlink:href='#icon-database'></use></svg></label><div class='xr-var-attrs'><dl class='xr-attrs'></dl></div><div class='xr-var-data'><pre>[91800 values with dtype=float64]</pre></div></li><li class='xr-var-item'><div class='xr-var-name'><span>book</span></div><div class='xr-var-dims'>(day, asset)</div><div class='xr-var-dtype'>float64</div><div class='xr-var-preview xr-preview'>...</div><input id='attrs-b8a6d53c-d422-41a2-b72a-fc79ac9615bd' class='xr-var-attrs-in' type='checkbox' disabled><label for='attrs-b8a6d53c-d422-41a2-b72a-fc79ac9615bd' title='Show/Hide attributes'><svg class='icon xr-icon-file-text2'><use xlink:href='#icon-file-text2'></use></svg></label><input id='data-95b11029-42d9-478b-8e7a-0da37e549755' class='xr-var-data-in' type='checkbox'><label for='data-95b11029-42d9-478b-8e7a-0da37e549755' title='Show/Hide data repr'><svg class='icon xr-icon-database'><use xlink:href='#icon-database'></use></svg></label><div class='xr-var-attrs'><dl class='xr-attrs'></dl></div><div class='xr-var-data'><pre>[91800 values with dtype=float64]</pre></div></li><li class='xr-var-item'><div class='xr-var-name'><span>sales</span></div><div class='xr-var-dims'>(day, asset)</div><div class='xr-var-dtype'>float64</div><div class='xr-var-preview xr-preview'>...</div><input id='attrs-f699e213-eb64-4587-8cee-4e3968bc2782' class='xr-var-attrs-in' type='checkbox' disabled><label for='attrs-f699e213-eb64-4587-8cee-4e3968bc2782' title='Show/Hide attributes'><svg class='icon xr-icon-file-text2'><use xlink:href='#icon-file-text2'></use></svg></label><input id='data-e056fa57-1107-4a1e-adeb-d6db321dcdec' class='xr-var-data-in' type='checkbox'><label for='data-e056fa57-1107-4a1e-adeb-d6db321dcdec' title='Show/Hide data repr'><svg class='icon xr-icon-database'><use xlink:href='#icon-database'></use></svg></label><div class='xr-var-attrs'><dl class='xr-attrs'></dl></div><div class='xr-var-data'><pre>[91800 values with dtype=float64]</pre></div></li><li class='xr-var-item'><div class='xr-var-name'><span>cashflow</span></div><div class='xr-var-dims'>(day, asset)</div><div class='xr-var-dtype'>float64</div><div class='xr-var-preview xr-preview'>...</div><input id='attrs-5a5b71a5-34b3-491c-ada7-c68d6fe9943e' class='xr-var-attrs-in' type='checkbox' disabled><label for='attrs-5a5b71a5-34b3-491c-ada7-c68d6fe9943e' title='Show/Hide attributes'><svg class='icon xr-icon-file-text2'><use xlink:href='#icon-file-text2'></use></svg></label><input id='data-7fa0d1c3-cfa4-40ef-882a-a158aed64bd3' class='xr-var-data-in' type='checkbox'><label for='data-7fa0d1c3-cfa4-40ef-882a-a158aed64bd3' title='Show/Hide data repr'><svg class='icon xr-icon-database'><use xlink:href='#icon-database'></use></svg></label><div class='xr-var-attrs'><dl class='xr-attrs'></dl></div><div class='xr-var-data'><pre>[91800 values with dtype=float64]</pre></div></li><li class='xr-var-item'><div class='xr-var-name'><span>market_cap</span></div><div class='xr-var-dims'>(asset, day)</div><div class='xr-var-dtype'>float64</div><div class='xr-var-preview xr-preview'>...</div><input id='attrs-9da31553-3229-4baa-83a4-939165ad24f9' class='xr-var-attrs-in' type='checkbox' disabled><label for='attrs-9da31553-3229-4baa-83a4-939165ad24f9' title='Show/Hide attributes'><svg class='icon xr-icon-file-text2'><use xlink:href='#icon-file-text2'></use></svg></label><input id='data-046064e2-a0b8-40d6-9cb4-71feecef8f2d' class='xr-var-data-in' type='checkbox'><label for='data-046064e2-a0b8-40d6-9cb4-71feecef8f2d' title='Show/Hide data repr'><svg class='icon xr-icon-database'><use xlink:href='#icon-database'></use></svg></label><div class='xr-var-attrs'><dl class='xr-attrs'></dl></div><div class='xr-var-data'><pre>[91800 values with dtype=float64]</pre></div></li><li class='xr-var-item'><div class='xr-var-name'><span>market_share</span></div><div class='xr-var-dims'>(asset)</div><div class='xr-var-dtype'>float64</div><div class='xr-var-preview xr-preview'>...</div><input id='attrs-382492fc-3675-4999-9e5e-a59fbecae22a' class='xr-var-attrs-in' type='checkbox' disabled><label for='attrs-382492fc-3675-4999-9e5e-a59fbecae22a' title='Show/Hide attributes'><svg class='icon xr-icon-file-text2'><use xlink:href='#icon-file-text2'></use></svg></label><input id='data-eba614e8-8740-41e3-a377-cf1a4aee8791' class='xr-var-data-in' type='checkbox'><label for='data-eba614e8-8740-41e3-a377-cf1a4aee8791' title='Show/Hide data repr'><svg class='icon xr-icon-database'><use xlink:href='#icon-database'></use></svg></label><div class='xr-var-attrs'><dl class='xr-attrs'></dl></div><div class='xr-var-data'><pre>[54 values with dtype=float64]</pre></div></li><li class='xr-var-item'><div class='xr-var-name'><span>avg_price</span></div><div class='xr-var-dims'>(day, asset)</div><div class='xr-var-dtype'>float64</div><div class='xr-var-preview xr-preview'>...</div><input id='attrs-6a7f7434-d281-4477-a399-9fcb4f55d234' class='xr-var-attrs-in' type='checkbox' disabled><label for='attrs-6a7f7434-d281-4477-a399-9fcb4f55d234' title='Show/Hide attributes'><svg class='icon xr-icon-file-text2'><use xlink:href='#icon-file-text2'></use></svg></label><input id='data-1b613972-5e33-4132-b64e-24ea77442b6f' class='xr-var-data-in' type='checkbox'><label for='data-1b613972-5e33-4132-b64e-24ea77442b6f' title='Show/Hide data repr'><svg class='icon xr-icon-database'><use xlink:href='#icon-database'></use></svg></label><div class='xr-var-attrs'><dl class='xr-attrs'></dl></div><div class='xr-var-data'><pre>[91800 values with dtype=float64]</pre></div></li><li class='xr-var-item'><div class='xr-var-name'><span>volatility</span></div><div class='xr-var-dims'>(day, asset)</div><div class='xr-var-dtype'>float64</div><div class='xr-var-preview xr-preview'>...</div><input id='attrs-f0c57500-f137-4ed1-9cd7-3755f7d392f7' class='xr-var-attrs-in' type='checkbox' disabled><label for='attrs-f0c57500-f137-4ed1-9cd7-3755f7d392f7' title='Show/Hide attributes'><svg class='icon xr-icon-file-text2'><use xlink:href='#icon-file-text2'></use></svg></label><input id='data-1f552a37-a6da-4fdd-bf0e-96da4013a36b' class='xr-var-data-in' type='checkbox'><label for='data-1f552a37-a6da-4fdd-bf0e-96da4013a36b' title='Show/Hide data repr'><svg class='icon xr-icon-database'><use xlink:href='#icon-database'></use></svg></label><div class='xr-var-attrs'><dl class='xr-attrs'></dl></div><div class='xr-var-data'><pre>[91800 values with dtype=float64]</pre></div></li><li class='xr-var-item'><div class='xr-var-name'><span>mean_volume</span></div><div class='xr-var-dims'>(day, asset)</div><div class='xr-var-dtype'>float64</div><div class='xr-var-preview xr-preview'>...</div><input id='attrs-4eca9ace-5279-4aa1-b7ff-8d1e15ee52ee' class='xr-var-attrs-in' type='checkbox' disabled><label for='attrs-4eca9ace-5279-4aa1-b7ff-8d1e15ee52ee' title='Show/Hide attributes'><svg class='icon xr-icon-file-text2'><use xlink:href='#icon-file-text2'></use></svg></label><input id='data-f0b6d883-f73a-491a-a202-64abd35dc4e3' class='xr-var-data-in' type='checkbox'><label for='data-f0b6d883-f73a-491a-a202-64abd35dc4e3' title='Show/Hide data repr'><svg class='icon xr-icon-database'><use xlink:href='#icon-database'></use></svg></label><div class='xr-var-attrs'><dl class='xr-attrs'></dl></div><div class='xr-var-data'><pre>[91800 values with dtype=float64]</pre></div></li><li class='xr-var-item'><div class='xr-var-name'><span>close_0</span></div><div class='xr-var-dims'>(day, asset)</div><div class='xr-var-dtype'>float64</div><div class='xr-var-preview xr-preview'>...</div><input id='attrs-8e89cc36-d888-4b81-92c1-3d647d8662d2' class='xr-var-attrs-in' type='checkbox' disabled><label for='attrs-8e89cc36-d888-4b81-92c1-3d647d8662d2' title='Show/Hide attributes'><svg class='icon xr-icon-file-text2'><use xlink:href='#icon-file-text2'></use></svg></label><input id='data-e59026dc-5bc1-4159-8bf3-54fed0e134e5' class='xr-var-data-in' type='checkbox'><label for='data-e59026dc-5bc1-4159-8bf3-54fed0e134e5' title='Show/Hide data repr'><svg class='icon xr-icon-database'><use xlink:href='#icon-database'></use></svg></label><div class='xr-var-attrs'><dl class='xr-attrs'></dl></div><div class='xr-var-data'><pre>[91800 values with dtype=float64]</pre></div></li><li class='xr-var-item'><div class='xr-var-name'><span>open_0</span></div><div class='xr-var-dims'>(day, asset)</div><div class='xr-var-dtype'>float64</div><div class='xr-var-preview xr-preview'>...</div><input id='attrs-d94ebfb0-65ef-4117-832b-9193cbb012bb' class='xr-var-attrs-in' type='checkbox' disabled><label for='attrs-d94ebfb0-65ef-4117-832b-9193cbb012bb' title='Show/Hide attributes'><svg class='icon xr-icon-file-text2'><use xlink:href='#icon-file-text2'></use></svg></label><input id='data-20def6b1-a0c5-4cd4-b90c-0d594310dc6d' class='xr-var-data-in' type='checkbox'><label for='data-20def6b1-a0c5-4cd4-b90c-0d594310dc6d' title='Show/Hide data repr'><svg class='icon xr-icon-database'><use xlink:href='#icon-database'></use></svg></label><div class='xr-var-attrs'><dl class='xr-attrs'></dl></div><div class='xr-var-data'><pre>[91800 values with dtype=float64]</pre></div></li><li class='xr-var-item'><div class='xr-var-name'><span>high_0</span></div><div class='xr-var-dims'>(day, asset)</div><div class='xr-var-dtype'>float64</div><div class='xr-var-preview xr-preview'>...</div><input id='attrs-4e588bac-5cf5-4561-8b70-f009867c9a12' class='xr-var-attrs-in' type='checkbox' disabled><label for='attrs-4e588bac-5cf5-4561-8b70-f009867c9a12' title='Show/Hide attributes'><svg class='icon xr-icon-file-text2'><use xlink:href='#icon-file-text2'></use></svg></label><input id='data-919bc250-650c-4d86-bba0-9d9e34a14309' class='xr-var-data-in' type='checkbox'><label for='data-919bc250-650c-4d86-bba0-9d9e34a14309' title='Show/Hide data repr'><svg class='icon xr-icon-database'><use xlink:href='#icon-database'></use></svg></label><div class='xr-var-attrs'><dl class='xr-attrs'></dl></div><div class='xr-var-data'><pre>[91800 values with dtype=float64]</pre></div></li><li class='xr-var-item'><div class='xr-var-name'><span>low_0</span></div><div class='xr-var-dims'>(day, asset)</div><div class='xr-var-dtype'>float64</div><div class='xr-var-preview xr-preview'>...</div><input id='attrs-61afa11e-6f5d-4583-8727-27e3d3d19631' class='xr-var-attrs-in' type='checkbox' disabled><label for='attrs-61afa11e-6f5d-4583-8727-27e3d3d19631' title='Show/Hide attributes'><svg class='icon xr-icon-file-text2'><use xlink:href='#icon-file-text2'></use></svg></label><input id='data-eed3f20b-4a0f-43bf-81a4-eddd4289b291' class='xr-var-data-in' type='checkbox'><label for='data-eed3f20b-4a0f-43bf-81a4-eddd4289b291' title='Show/Hide data repr'><svg class='icon xr-icon-database'><use xlink:href='#icon-database'></use></svg></label><div class='xr-var-attrs'><dl class='xr-attrs'></dl></div><div class='xr-var-data'><pre>[91800 values with dtype=float64]</pre></div></li><li class='xr-var-item'><div class='xr-var-name'><span>return_0</span></div><div class='xr-var-dims'>(day, asset)</div><div class='xr-var-dtype'>float64</div><div class='xr-var-preview xr-preview'>...</div><input id='attrs-d24058be-12ff-42e2-a8b0-eb2649fb36ce' class='xr-var-attrs-in' type='checkbox' disabled><label for='attrs-d24058be-12ff-42e2-a8b0-eb2649fb36ce' title='Show/Hide attributes'><svg class='icon xr-icon-file-text2'><use xlink:href='#icon-file-text2'></use></svg></label><input id='data-64ff1e06-d345-496a-b570-32a63d130295' class='xr-var-data-in' type='checkbox'><label for='data-64ff1e06-d345-496a-b570-32a63d130295' title='Show/Hide data repr'><svg class='icon xr-icon-database'><use xlink:href='#icon-database'></use></svg></label><div class='xr-var-attrs'><dl class='xr-attrs'></dl></div><div class='xr-var-data'><pre>[91800 values with dtype=float64]</pre></div></li></ul></div></li><li class='xr-section-item'><input id='section-7a31f80d-abb8-4a42-899a-bb7b6d67ba23' class='xr-section-summary-in' type='checkbox'  ><label for='section-7a31f80d-abb8-4a42-899a-bb7b6d67ba23' class='xr-section-summary' >Indexes: <span>(3)</span></label><div class='xr-section-inline-details'></div><div class='xr-section-details'><ul class='xr-var-list'><li class='xr-var-item'><div class='xr-index-name'><div>day</div></div><div class='xr-index-preview'>PandasIndex</div><div></div><input id='index-01025149-e89a-4cc6-96e9-01ec888a3446' class='xr-index-data-in' type='checkbox'/><label for='index-01025149-e89a-4cc6-96e9-01ec888a3446' title='Show/Hide index repr'><svg class='icon xr-icon-database'><use xlink:href='#icon-database'></use></svg></label><div class='xr-index-data'><pre>PandasIndex(Int64Index([   1,    2,    3,    4,    5,    6,    7,    8,    9,   10,\n",
       "            ...\n",
       "            1691, 1692, 1693, 1694, 1695, 1696, 1697, 1698, 1699, 1700],\n",
       "           dtype=&#x27;int64&#x27;, name=&#x27;day&#x27;, length=1700))</pre></div></li><li class='xr-var-item'><div class='xr-index-name'><div>asset</div></div><div class='xr-index-preview'>PandasIndex</div><div></div><input id='index-cf12f6d8-27a9-4416-96e6-450095857a47' class='xr-index-data-in' type='checkbox'/><label for='index-cf12f6d8-27a9-4416-96e6-450095857a47' title='Show/Hide index repr'><svg class='icon xr-icon-database'><use xlink:href='#icon-database'></use></svg></label><div class='xr-index-data'><pre>PandasIndex(Int64Index([ 0,  1,  2,  3,  4,  5,  6,  7,  8,  9, 10, 11, 12, 13, 14, 15, 16,\n",
       "            17, 18, 19, 20, 21, 22, 23, 24, 25, 26, 27, 28, 29, 30, 31, 32, 33,\n",
       "            34, 35, 36, 37, 38, 39, 40, 41, 42, 43, 44, 45, 46, 47, 48, 49, 50,\n",
       "            51, 52, 53],\n",
       "           dtype=&#x27;int64&#x27;, name=&#x27;asset&#x27;))</pre></div></li><li class='xr-var-item'><div class='xr-index-name'><div>timeslot</div></div><div class='xr-index-preview'>PandasIndex</div><div></div><input id='index-a3b211ce-753d-45d2-934a-8deb8e94432a' class='xr-index-data-in' type='checkbox'/><label for='index-a3b211ce-753d-45d2-934a-8deb8e94432a' title='Show/Hide index repr'><svg class='icon xr-icon-database'><use xlink:href='#icon-database'></use></svg></label><div class='xr-index-data'><pre>PandasIndex(Int64Index([ 1,  2,  3,  4,  5,  6,  7,  8,  9, 10, 11, 12, 13, 14, 15, 16, 17,\n",
       "            18, 19, 20, 21, 22, 23, 24, 25, 26, 27, 28, 29, 30, 31, 32, 33, 34,\n",
       "            35, 36, 37, 38, 39, 40, 41, 42, 43, 44, 45, 46, 47, 48, 49, 50],\n",
       "           dtype=&#x27;int64&#x27;, name=&#x27;timeslot&#x27;))</pre></div></li></ul></div></li><li class='xr-section-item'><input id='section-706bd00d-1a3e-45c1-a5cf-d384bc317a36' class='xr-section-summary-in' type='checkbox' disabled ><label for='section-706bd00d-1a3e-45c1-a5cf-d384bc317a36' class='xr-section-summary'  title='Expand/collapse section'>Attributes: <span>(0)</span></label><div class='xr-section-inline-details'></div><div class='xr-section-details'><dl class='xr-attrs'></dl></div></li></ul></div></div>"
      ],
      "text/plain": [
       "<xarray.Dataset>\n",
       "Dimensions:            (day: 1700, asset: 54, timeslot: 50)\n",
       "Coordinates:\n",
       "  * day                (day) int32 1 2 3 4 5 6 ... 1695 1696 1697 1698 1699 1700\n",
       "  * asset              (asset) int32 0 1 2 3 4 5 6 7 ... 46 47 48 49 50 51 52 53\n",
       "  * timeslot           (timeslot) int32 1 2 3 4 5 6 7 8 ... 44 45 46 47 48 49 50\n",
       "Data variables: (12/29)\n",
       "    open               (day, asset, timeslot) float64 ...\n",
       "    close              (day, asset, timeslot) float64 ...\n",
       "    high               (day, asset, timeslot) float64 ...\n",
       "    low                (day, asset, timeslot) float64 ...\n",
       "    volume             (day, asset, timeslot) float64 ...\n",
       "    money              (day, asset, timeslot) float64 ...\n",
       "    ...                 ...\n",
       "    mean_volume        (day, asset) float64 ...\n",
       "    close_0            (day, asset) float64 ...\n",
       "    open_0             (day, asset) float64 ...\n",
       "    high_0             (day, asset) float64 ...\n",
       "    low_0              (day, asset) float64 ...\n",
       "    return_0           (day, asset) float64 ..."
      ]
     },
     "execution_count": 4,
     "metadata": {},
     "output_type": "execute_result"
    }
   ],
   "source": [
    "ds"
   ]
  },
  {
   "cell_type": "markdown",
   "id": "fb19821c",
   "metadata": {},
   "source": [
    "## Feature"
   ]
  },
  {
   "cell_type": "code",
   "execution_count": 285,
   "id": "2beee851",
   "metadata": {
    "ExecuteTime": {
     "end_time": "2023-03-28T22:50:01.966003Z",
     "start_time": "2023-03-28T22:50:01.928447Z"
    }
   },
   "outputs": [],
   "source": [
    "start_day = 80\n",
    "end_day = 200\n",
    "val_split_day = 150\n",
    "_ds = ds.sel(day=slice(start_day-20, end_day)).copy()"
   ]
  },
  {
   "cell_type": "code",
   "execution_count": 281,
   "id": "4c1976c1",
   "metadata": {
    "ExecuteTime": {
     "end_time": "2023-03-28T22:48:58.477523Z",
     "start_time": "2023-03-28T22:48:58.455856Z"
    }
   },
   "outputs": [],
   "source": [
    "start_day = 1030\n",
    "end_day = 1300\n",
    "val_split_day = 1250\n",
    "_ds = ds.sel(day=slice(start_day-20, end_day)).copy()"
   ]
  },
  {
   "cell_type": "code",
   "execution_count": 424,
   "id": "1bef4416",
   "metadata": {
    "ExecuteTime": {
     "end_time": "2023-03-28T23:32:05.618004Z",
     "start_time": "2023-03-28T23:32:05.597961Z"
    }
   },
   "outputs": [],
   "source": [
    "start_day = 640\n",
    "end_day = 1000\n",
    "val_split_day = 900\n",
    "lookback = 20\n",
    "lookforward = 20\n",
    "_ds = ds.sel(day=slice(start_day-lookback, end_day+lookforward)).copy()"
   ]
  },
  {
   "cell_type": "code",
   "execution_count": 425,
   "id": "4b0012b4",
   "metadata": {
    "ExecuteTime": {
     "end_time": "2023-03-28T23:32:15.184182Z",
     "start_time": "2023-03-28T23:32:15.160621Z"
    }
   },
   "outputs": [],
   "source": [
    "# long term trend!\n",
    "# ds['return50'] = (_ds['close_0'] / _ds['close_0'].shift(day=50) - 1).shift(day=-50)\n",
    "# _ds['return20'] = (_ds['close_0'] / _ds['close_0'].shift(day=20) - 1).shift(day=-20)\n",
    "# _ds['return10'] = (_ds['close_0'] / _ds['close_0'].shift(day=10) - 1).shift(day=-10)\n",
    "# _ds['return5'] = (_ds['close_0'] / _ds['close_0'].shift(day=5) - 1).shift(day=-5)"
   ]
  },
  {
   "cell_type": "code",
   "execution_count": 426,
   "id": "0b669eb0",
   "metadata": {
    "ExecuteTime": {
     "end_time": "2023-03-28T23:32:16.340931Z",
     "start_time": "2023-03-28T23:32:16.281810Z"
    }
   },
   "outputs": [],
   "source": [
    "def quantizer(da, n_bins, start_day, val_split_day, end_day):\n",
    "    est = KBinsDiscretizer(n_bins=n_bins, encode='ordinal', strategy='quantile')\n",
    "    train_bin = est.fit_transform(da.sel(day=range(start_day, val_split_day)).transpose('day', 'asset').as_numpy())\n",
    "    val_bin = est.transform(da.sel(day=slice(val_split_day, end_day)).transpose('day', 'asset').as_numpy())\n",
    "    return ('day', 'asset'), np.concatenate([train_bin, val_bin]).astype(int)\n",
    "\n",
    "## fundamental feature\n",
    "_ds['is_market_cap_largest'] = (_ds['market_cap'].max(dim='asset') == _ds['market_cap']).astype(int)\n",
    "_ds['market_cap_bin'] = quantizer(_ds['market_cap'], 4, start_day-lookback, val_split_day, end_day+lookforward)"
   ]
  },
  {
   "cell_type": "code",
   "execution_count": 432,
   "id": "947e963f",
   "metadata": {
    "ExecuteTime": {
     "end_time": "2023-03-28T23:43:07.360287Z",
     "start_time": "2023-03-28T23:43:07.270591Z"
    }
   },
   "outputs": [],
   "source": [
    "## historical features\n",
    "for i in range(1, lookback+1):\n",
    "    _ds[f'close 0 to {i} ratio diff'] = _ds['close_0'] / _ds['close_0'].shift(day=i) - 1\n"
   ]
  },
  {
   "cell_type": "code",
   "execution_count": 548,
   "id": "3223b53b",
   "metadata": {
    "ExecuteTime": {
     "end_time": "2023-03-29T00:23:30.934611Z",
     "start_time": "2023-03-29T00:23:30.399815Z"
    }
   },
   "outputs": [],
   "source": [
    "## adding intraday feature\n",
    "_ds['volume_0'] = _ds['volume'].sum(dim='timeslot')\n",
    "_ds['morning_volume_ratio'] = _ds['volume'].isel(timeslot=slice(2)).sum(dim='timeslot') / _ds['volume_0']\n",
    "_ds['tail_volume_ratio'] = _ds['volume'].isel(timeslot=slice(-3, -1)).sum(dim='timeslot') / _ds['volume_0']\n",
    "_ds['morning_turnover'] = _ds['morning_volume_ratio'] * _ds['turnoverRatio']\n",
    "_ds['tail_turnover'] = _ds['tail_volume_ratio'] * _ds['turnoverRatio']\n",
    "\n",
    "windows = 3, 5, 10, 20\n",
    "tags = 'volume_0', 'morning_volume_ratio', 'tail_volume_ratio', 'close_0', 'volatility'\n",
    "for w in windows:\n",
    "    for tag in tags:\n",
    "        _ds[f'{tag}_moving_{w}_ratio'] = _ds[tag] / (_ds[tag].rolling(day=w).mean()+1e-6) - 1\n",
    "        _ds[f'{tag}_moving_{w}_2max'] = 1 - _ds[tag] / (_ds[tag].rolling(day=w).max()+1e-6)\n",
    "        _ds[f'{tag}_moving_{w}_2min'] = _ds[tag] / (_ds[tag].rolling(day=w).min()+1e-6) - 1"
   ]
  },
  {
   "cell_type": "code",
   "execution_count": 549,
   "id": "3cf1e97b",
   "metadata": {
    "ExecuteTime": {
     "end_time": "2023-03-29T00:23:30.952299Z",
     "start_time": "2023-03-29T00:23:30.935949Z"
    }
   },
   "outputs": [],
   "source": [
    "trad_features = [\n",
    "    'pe', 'pe_ttm', 'pb', 'ps', 'pcf', 'turnoverRatio',\n",
    "    'earnings', 'earnings_ttm', 'book', 'sales', 'cashflow',\n",
    "    'volatility',\n",
    "]\n",
    "market_cap_features = [\n",
    "    'market_cap', 'is_market_cap_largest', 'market_cap_bin',\n",
    "]\n",
    "outstanding_features = [\n",
    "    'morning_volume_ratio', 'tail_volume_ratio', 'morning_turnover', 'tail_turnover',\n",
    "]\n",
    "relative_features = [\n",
    "    f'{tag}_moving_{w}_{pf}' for tag, w, pf in itertools.product(tags, windows, ['ratio', '2max', '2min'])\n",
    "]\n",
    "categorical_feature = [\n",
    "    'is_market_cap_largest', 'market_cap_bin',\n",
    "]"
   ]
  },
  {
   "cell_type": "code",
   "execution_count": 558,
   "id": "f1b354d7",
   "metadata": {
    "ExecuteTime": {
     "end_time": "2023-03-29T00:23:57.738062Z",
     "start_time": "2023-03-29T00:23:57.718016Z"
    }
   },
   "outputs": [],
   "source": [
    "# features = [f'close 0 to {i} ratio diff' for i in range(1, 15)] + ['volatility']\n",
    "# categorical_feature = []\n",
    "\n",
    "features = [f'close 0 to {i} ratio diff' for i in range(1, 15)] + trad_features + outstanding_features + relative_features\n",
    "categorical_feature = ['asset']\n",
    "\n",
    "# features = [f'close 0 to {i} ratio diff' for i in range(5, 50, 5)] + ['volatility']\n",
    "# categorical_feature = []"
   ]
  },
  {
   "cell_type": "markdown",
   "id": "5e818793",
   "metadata": {},
   "source": [
    "## LightGBM"
   ]
  },
  {
   "cell_type": "code",
   "execution_count": 559,
   "id": "9a871654",
   "metadata": {
    "ExecuteTime": {
     "end_time": "2023-03-29T00:23:58.480488Z",
     "start_time": "2023-03-29T00:23:58.455624Z"
    }
   },
   "outputs": [],
   "source": [
    "target = 'return'"
   ]
  },
  {
   "cell_type": "code",
   "execution_count": 560,
   "id": "92cc7953",
   "metadata": {
    "ExecuteTime": {
     "end_time": "2023-03-29T00:23:58.929637Z",
     "start_time": "2023-03-29T00:23:58.862395Z"
    }
   },
   "outputs": [],
   "source": [
    "enable_asset = 'asset' in categorical_feature\n",
    "\n",
    "train_df = _ds[features + [target]].sel(day=range(start_day, val_split_day)).to_dataframe(dim_order=['day', 'asset'])\n",
    "val_df = _ds[features + [target]].sel(day=slice(val_split_day, end_day)).to_dataframe(dim_order=['day', 'asset'])\n",
    "if enable_asset:\n",
    "    train_df.reset_index(level='asset', inplace=True)\n",
    "    val_df.reset_index(level='asset', inplace=True)\n",
    "train_X, train_y = train_df[features + (['asset'] if enable_asset else [])].copy(), train_df[target].copy()\n",
    "train_y_binary = (train_y > 0).astype(int)\n",
    "val_X, val_y = val_df[features + (['asset'] if enable_asset else [])].copy(), val_df[target].copy()\n",
    "val_y_binary = (val_y > 0).astype(int)"
   ]
  },
  {
   "cell_type": "code",
   "execution_count": 561,
   "id": "7e96859b",
   "metadata": {
    "ExecuteTime": {
     "end_time": "2023-03-29T00:23:59.625843Z",
     "start_time": "2023-03-29T00:23:59.146297Z"
    },
    "scrolled": false
   },
   "outputs": [],
   "source": [
    "def process_extreme_values(X, y):\n",
    "    for col in X:\n",
    "        if col == 'asset':\n",
    "            continue\n",
    "        lq, uq = X[col].quantile(5e-3), X[col].quantile(1-5e-3)\n",
    "        X[col] = np.clip(X[col], lq, uq)\n",
    "    ylq, yuq = y.quantile(2e-4), y.quantile(1-2e-4)\n",
    "    mask = (y > ylq) & (y < yuq)\n",
    "    return X.loc[mask], y.loc[mask]\n",
    "\n",
    "train_X, train_y = process_extreme_values(train_X, train_y)\n",
    "val_X, val_y = process_extreme_values(val_X, val_y)"
   ]
  },
  {
   "cell_type": "code",
   "execution_count": 562,
   "id": "7de89654",
   "metadata": {
    "ExecuteTime": {
     "end_time": "2023-03-29T00:23:59.642655Z",
     "start_time": "2023-03-29T00:23:59.627475Z"
    }
   },
   "outputs": [],
   "source": [
    "train_data = lgb.Dataset(data=train_X, label=train_y, categorical_feature=categorical_feature, free_raw_data=False)\n",
    "val_data = lgb.Dataset(data=val_X, label=val_y, categorical_feature=categorical_feature, free_raw_data=False)"
   ]
  },
  {
   "cell_type": "code",
   "execution_count": 588,
   "id": "ed550bd0",
   "metadata": {
    "ExecuteTime": {
     "end_time": "2023-03-29T00:26:31.003130Z",
     "start_time": "2023-03-29T00:26:30.980677Z"
    }
   },
   "outputs": [],
   "source": [
    "def mape(y_true, y_pred):\n",
    "    y_true_np, y_pred_np = np.array(y_true), np.array(y_pred)\n",
    "    mape_score = np.mean(np.abs(y_true_np - y_pred_np) / (np.abs(y_true_np) + 1e-4))\n",
    "    return mape_score\n",
    "\n",
    "def lgb_get_model_score_mape(model):\n",
    "    prediction = model.predict(val_X, num_iteration = model.best_iteration)\n",
    "    y_predicted = pd.Series(prediction)\n",
    "    return mape(val_y, y_predicted)\n",
    "\n",
    "def coerce_int(d):\n",
    "    _d = {}\n",
    "    for k, v in d.items():\n",
    "        if isinstance(v, float):\n",
    "            if np.isclose(v, int(v)):\n",
    "                _d[k] = int(v)\n",
    "                continue\n",
    "        _d[k] = v\n",
    "    return _d\n",
    "\n",
    "def arg_aug(d, handle_int=False):\n",
    "    num_boost_round = int(d['num_boost_round'])\n",
    "    del d['num_boost_round']\n",
    "    \n",
    "    params = {\n",
    "        'nthread': 6,\n",
    "        'objective': 'huber',\n",
    "        'feature_fraction': 0.8,\n",
    "        'bagging_seed': random_state,\n",
    "        'verbosity': -1,\n",
    "        'metric': ['mape', 'regression'],\n",
    "    }\n",
    "    params.update(coerce_int(d))\n",
    "    return num_boost_round, params\n",
    "\n",
    "def lightgbm_factory(argsDict):\n",
    "    num_boost_round, params = arg_aug(argsDict, handle_int=False)\n",
    "    model_lgb = lgb.train(params=params, train_set=train_data, num_boost_round=num_boost_round,\n",
    "                          valid_sets=[val_data],\n",
    "                          categorical_feature=categorical_feature,\n",
    "                          callbacks=[early_stopping(10, verbose=False)])\n",
    "    return lgb_get_model_score_mape(model_lgb)"
   ]
  },
  {
   "cell_type": "code",
   "execution_count": 589,
   "id": "708dfef6",
   "metadata": {
    "ExecuteTime": {
     "end_time": "2023-03-29T00:26:34.392545Z",
     "start_time": "2023-03-29T00:26:31.322858Z"
    },
    "scrolled": false
   },
   "outputs": [
    {
     "name": "stdout",
     "output_type": "stream",
     "text": [
      "100%|█████████████████████████████████████████████████████████████████████████████████████████████████████████████████████████████████████| 50/50 [00:02<00:00, 16.71trial/s, best loss: 1.6134526487979903]\n"
     ]
    }
   ],
   "source": [
    "# Find a best model\n",
    "lgb_space = {\n",
    "    \"max_depth\": hp.uniformint(\"max_depth\", 5, 10),\n",
    "    \"num_boost_round\": hp.uniformint(\"num_boost_round\", 10, 100),\n",
    "    \"learning_rate\": hp.loguniform(\"learning_rate\", 1e-4, 1e-1),\n",
    "    \"lambda_l1\": hp.loguniform(\"lambda_l1\", 1e-5, 1e-1),\n",
    "    \"lambda_l2\": hp.loguniform(\"lambda_l2\", 1e-5, 1e-1),\n",
    "    'subsample': hp.uniform('subsample', 0.5, 1.0),\n",
    "    \"num_leaves\": hp.uniformint(\"num_leaves\", 100, 1000),\n",
    "    \"bagging_freq\": hp.uniformint(\"bagging_freq\", 1, 10),\n",
    "}\n",
    "algo = partial(tpe.suggest, n_startup_jobs=1)\n",
    "lgb_best = fmin(fn=lightgbm_factory, space=lgb_space, algo=algo, max_evals=50, pass_expr_memo_ctrl=None)\n",
    "\n",
    "evals = {}\n",
    "num_boost_round, lgb_best = arg_aug(lgb_best, handle_int=True)\n",
    "model = lgb.train(params=lgb_best, train_set=train_data, num_boost_round=num_boost_round,\n",
    "                  valid_sets=[train_data, val_data], categorical_feature=categorical_feature,\n",
    "                  callbacks=[early_stopping(10, verbose=False), record_evaluation(evals)])"
   ]
  },
  {
   "cell_type": "code",
   "execution_count": 590,
   "id": "95db7f3d",
   "metadata": {
    "ExecuteTime": {
     "end_time": "2023-03-29T00:26:34.621959Z",
     "start_time": "2023-03-29T00:26:34.394593Z"
    }
   },
   "outputs": [
    {
     "data": {
      "text/plain": [
       "<Axes: title={'center': 'Metric during training'}, xlabel='Iterations', ylabel='mape'>"
      ]
     },
     "execution_count": 590,
     "metadata": {},
     "output_type": "execute_result"
    },
    {
     "data": {
      "image/png": "[encoded data removed]",
      "text/plain": [
       "<Figure size 640x480 with 1 Axes>"
      ]
     },
     "metadata": {},
     "output_type": "display_data"
    }
   ],
   "source": [
    "plot_metric(evals, 'mape')"
   ]
  },
  {
   "cell_type": "code",
   "execution_count": 591,
   "id": "6e6a1e4d",
   "metadata": {
    "ExecuteTime": {
     "end_time": "2023-03-29T00:26:38.021334Z",
     "start_time": "2023-03-29T00:26:37.985064Z"
    }
   },
   "outputs": [],
   "source": [
    "y_pred = model.predict(val_X, num_iteration=model.best_iteration)"
   ]
  },
  {
   "cell_type": "code",
   "execution_count": 592,
   "id": "acda4ab0",
   "metadata": {
    "ExecuteTime": {
     "end_time": "2023-03-29T00:26:38.682015Z",
     "start_time": "2023-03-29T00:26:38.654645Z"
    }
   },
   "outputs": [
    {
     "data": {
      "text/plain": [
       "-0.014954010422216779"
      ]
     },
     "execution_count": 592,
     "metadata": {},
     "output_type": "execute_result"
    }
   ],
   "source": [
    "from sklearn.metrics import r2_score\n",
    "r2_score(val_y, y_pred)"
   ]
  },
  {
   "cell_type": "code",
   "execution_count": 593,
   "id": "06557ae9",
   "metadata": {
    "ExecuteTime": {
     "end_time": "2023-03-29T00:26:39.244923Z",
     "start_time": "2023-03-29T00:26:39.203949Z"
    }
   },
   "outputs": [
    {
     "data": {
      "text/plain": [
       "0.18760676959390965"
      ]
     },
     "execution_count": 593,
     "metadata": {},
     "output_type": "execute_result"
    }
   ],
   "source": [
    "pd.Series(train_y.values).corr(pd.Series(model.predict(train_X, num_iteration=model.best_iteration)))"
   ]
  },
  {
   "cell_type": "code",
   "execution_count": 594,
   "id": "913e90ad",
   "metadata": {
    "ExecuteTime": {
     "end_time": "2023-03-29T00:26:39.855970Z",
     "start_time": "2023-03-29T00:26:39.827578Z"
    }
   },
   "outputs": [
    {
     "data": {
      "text/plain": [
       "0.009384802653721224"
      ]
     },
     "execution_count": 594,
     "metadata": {},
     "output_type": "execute_result"
    }
   ],
   "source": [
    "pd.Series(val_y.values).corr(pd.Series(y_pred))"
   ]
  },
  {
   "cell_type": "code",
   "execution_count": 595,
   "id": "ce674b41",
   "metadata": {
    "ExecuteTime": {
     "end_time": "2023-03-29T00:26:41.871347Z",
     "start_time": "2023-03-29T00:26:41.669413Z"
    }
   },
   "outputs": [
    {
     "data": {
      "text/plain": [
       "<matplotlib.collections.PathCollection at 0x7f7a109768e0>"
      ]
     },
     "execution_count": 595,
     "metadata": {},
     "output_type": "execute_result"
    },
    {
     "data": {
      "image/png": "[encoded data removed]",
      "text/plain": [
       "<Figure size 640x480 with 1 Axes>"
      ]
     },
     "metadata": {},
     "output_type": "display_data"
    }
   ],
   "source": [
    "plt.scatter(val_y, y_pred)"
   ]
  },
  {
   "cell_type": "code",
   "execution_count": 301,
   "id": "fb389761",
   "metadata": {
    "ExecuteTime": {
     "end_time": "2023-03-28T23:07:09.273378Z",
     "start_time": "2023-03-28T23:07:09.225779Z"
    }
   },
   "outputs": [],
   "source": [
    "class GBMPortfolio(Portfolio):\n",
    "    def __init__(self, categorical_feature):\n",
    "        self.categorical_feature = categorical_feature\n",
    "\n",
    "    def _prepare_data(self, X, y):\n",
    "        start_day = X.day.min().item()\n",
    "        end_day = X.day.max().item()\n",
    "        val_split_day = (start_day + end_day * 4) // 5\n",
    "\n",
    "        train_X = X.sel(day=range(start_day, val_split_day)).to_dataframe(dim_order=['day', 'asset'])\n",
    "        train_y = y.sel(day=range(start_day, val_split_day)).transpose('day', 'asset').to_series()\n",
    "        train_data = lgb.Dataset(data=train_X, label=train_y, categorical_feature=self.categorical_feature, free_raw_data=False)\n",
    "        \n",
    "        val_X = X.sel(day=slice(val_split_day, end_day)).to_dataframe(dim_order=['day', 'asset'])\n",
    "        val_y = y.sel(day=slice(val_split_day, end_day)).transpose('day', 'asset').to_series()\n",
    "        val_data = lgb.Dataset(data=val_X, label=val_y, categorical_feature=self.categorical_feature, free_raw_data=False)\n",
    "        \n",
    "        return train_data, val_X, val_y, val_data\n",
    "        \n",
    "    def initialize(self, X, y):\n",
    "        train_data, val_X, val_y, val_data = self._prepare_data(X, y)\n",
    "        \n",
    "        def mape(y_true, y_pred):\n",
    "            y_true_np, y_pred_np = np.array(y_true), np.array(y_pred)\n",
    "            mape_score = np.mean((y_true_np - y_pred_np) / (np.abs(y_true_np) + 1e-4))\n",
    "            return mape_score\n",
    "\n",
    "        def coerce_int(d):\n",
    "            _d = {}\n",
    "            for k, v in d.items():\n",
    "                if isinstance(v, float):\n",
    "                    if np.isclose(v, int(v)):\n",
    "                        _d[k] = int(v)\n",
    "                        continue\n",
    "                _d[k] = v\n",
    "            return _d\n",
    "\n",
    "        def arg_aug(d):\n",
    "            num_boost_round = int(d['num_boost_round'])\n",
    "            del d['num_boost_round']\n",
    "\n",
    "            params = {\n",
    "                'nthread': 6,\n",
    "                'objective': 'regression',\n",
    "                'feature_fraction': 0.8,\n",
    "                'bagging_seed': random_state,\n",
    "                'verbosity': -1,\n",
    "                'metric': ['mape', 'regression'],\n",
    "            }\n",
    "            params.update(coerce_int(d))\n",
    "            return num_boost_round, params\n",
    "\n",
    "        def lightgbm_factory(argsDict):\n",
    "            num_boost_round, params = arg_aug(argsDict)\n",
    "            model_lgb = lgb.train(params=params, train_set=train_data, num_boost_round=num_boost_round,\n",
    "                                  valid_sets=[val_data],\n",
    "                                  categorical_feature=self.categorical_feature,\n",
    "                                  callbacks=[early_stopping(20, verbose=False)])\n",
    "            return mape(model.predict(val_X, num_iteration = model.best_iteration), val_y)\n",
    "        \n",
    "        # Find a best model\n",
    "        lgb_space = {\n",
    "            \"max_depth\": hp.uniformint(\"max_depth\", 5, 10),\n",
    "            \"num_boost_round\": hp.uniformint(\"num_boost_round\", 10, 100),\n",
    "            \"learning_rate\": hp.loguniform(\"learning_rate\", 1e-3, 1e-1),\n",
    "            \"lambda_l1\": hp.loguniform(\"lambda_l1\", 1e-5, 1e-1),\n",
    "            \"lambda_l2\": hp.loguniform(\"lambda_l2\", 1e-5, 1e-1),\n",
    "            'subsample': hp.uniform('subsample', 0.5, 1.0),\n",
    "            \"num_leaves\": hp.uniformint(\"num_leaves\", 100, 1000),\n",
    "            \"bagging_freq\": hp.uniformint(\"bagging_freq\", 1, 10),\n",
    "        }\n",
    "        algo = partial(tpe.suggest, n_startup_jobs=1)\n",
    "        lgb_best = fmin(fn=lightgbm_factory, space=lgb_space, algo=algo, max_evals=50, pass_expr_memo_ctrl=None)\n",
    "\n",
    "        self.num_boost_round, self.lgb_best = arg_aug(lgb_best)\n",
    "        self.model = lgb.train(params=self.lgb_best, train_set=train_data, num_boost_round=self.num_boost_round,\n",
    "                  valid_sets=[train_data, val_data], categorical_feature=self.categorical_feature,\n",
    "                  callbacks=[early_stopping(20, verbose=False)])\n",
    "\n",
    "    def train(self, X, y):\n",
    "        train_data, val_X, val_y, val_data = self._prepare_data(X, y)\n",
    "        self.model = lgb.train(params=self.lgb_best, train_set=train_data, num_boost_round=self.num_boost_round,\n",
    "                  valid_sets=[train_data, val_data], categorical_feature=self.categorical_feature,\n",
    "                  callbacks=[early_stopping(20, verbose=False)])\n",
    "\n",
    "    def construct(self, X):\n",
    "        current_day = X.day.max().item()\n",
    "        X_df = X.sel(day=[current_day]).to_dataframe(dim_order=['day', 'asset'])\n",
    "        y_pred = self.model.predict(X_df, num_iteration=self.model.best_iteration)\n",
    "        propose = np.clip(y_pred, 0, None)\n",
    "        if propose.sum() <= 0:\n",
    "            return propose\n",
    "        propose /= propose.sum()\n",
    "        propose[propose < 0.01] = 0\n",
    "        return propose"
   ]
  },
  {
   "cell_type": "code",
   "execution_count": 302,
   "id": "cff26d2f",
   "metadata": {
    "ExecuteTime": {
     "end_time": "2023-03-28T23:07:23.471624Z",
     "start_time": "2023-03-28T23:07:10.328657Z"
    },
    "scrolled": false
   },
   "outputs": [
    {
     "name": "stdout",
     "output_type": "stream",
     "text": [
      "Period (80, 200) not available in ds, skipping...\n",
      "Now testing period (640, 1000):\n"
     ]
    },
    {
     "data": {
      "application/vnd.jupyter.widget-view+json": {
       "model_id": "9fdf252f5ec34d90bc38e731becd366f",
       "version_major": 2,
       "version_minor": 0
      },
      "text/plain": [
       "  0%|          | 0/361 [00:00<?, ?it/s]"
      ]
     },
     "metadata": {},
     "output_type": "display_data"
    },
    {
     "name": "stdout",
     "output_type": "stream",
     "text": [
      "\n",
      "\n",
      "  0%|                                                                                                                                                                | 0/50 [00:00<?, ?trial/s, best loss=?]\u001B[A\u001B[A\n",
      "\n",
      " 14%|██████████████████▊                                                                                                                   | 7/50 [00:00<00:00, 67.66trial/s, best loss: -2.770411988463462]\u001B[A\u001B[A\n",
      "\n",
      " 28%|█████████████████████████████████████▏                                                                                               | 14/50 [00:00<00:00, 64.49trial/s, best loss: -2.770411988463462]\u001B[A\u001B[A\n",
      "\n",
      " 42%|███████████████████████████████████████████████████████▊                                                                             | 21/50 [00:00<00:00, 60.94trial/s, best loss: -2.770411988463462]\u001B[A\u001B[A\n",
      "\n",
      " 56%|██████████████████████████████████████████████████████████████████████████▍                                                          | 28/50 [00:00<00:00, 58.25trial/s, best loss: -2.770411988463462]\u001B[A\u001B[A\n",
      "\n",
      " 68%|██████████████████████████████████████████████████████████████████████████████████████████▍                                          | 34/50 [00:00<00:00, 55.42trial/s, best loss: -2.770411988463462]\u001B[A\u001B[A\n",
      "\n",
      " 80%|██████████████████████████████████████████████████████████████████████████████████████████████████████████▍                          | 40/50 [00:00<00:00, 52.53trial/s, best loss: -2.770411988463462]\u001B[A\u001B[A\n",
      "\n",
      "100%|█████████████████████████████████████████████████████████████████████████████████████████████████████████████████████████████████████| 50/50 [00:00<00:00, 53.24trial/s, best loss: -2.770411988463462]\u001B[A\u001B[A\n",
      "Summary of scores:\n",
      "1. APR: -45.2860%\n",
      "2. Sharpe: -2.0163\n",
      "3. Maximum drawdown: 0.1074\n",
      "4. Median number of traded instruments: 25.0\n",
      "Now testing period (1030, 1300):\n"
     ]
    },
    {
     "ename": "KeyError",
     "evalue": "\"not all values found in index 'day'\"",
     "output_type": "error",
     "traceback": [
      "\u001B[0;31m---------------------------------------------------------------------------\u001B[0m",
      "\u001B[0;31mKeyError\u001B[0m                                  Traceback (most recent call last)",
      "Cell \u001B[0;32mIn[302], line 2\u001B[0m\n\u001B[1;32m      1\u001B[0m p \u001B[38;5;241m=\u001B[39m GBMPortfolio(categorical_feature)\n\u001B[0;32m----> 2\u001B[0m \u001B[43mbear_market_suite\u001B[49m\u001B[43m(\u001B[49m\u001B[43mp\u001B[49m\u001B[43m,\u001B[49m\u001B[43m \u001B[49m\u001B[43mfeatures\u001B[49m\u001B[43m,\u001B[49m\u001B[43m \u001B[49m\u001B[43m_ds\u001B[49m\u001B[43m,\u001B[49m\u001B[43m \u001B[49m\u001B[43mlookback_window\u001B[49m\u001B[38;5;241;43m=\u001B[39;49m\u001B[38;5;241;43m50\u001B[39;49m\u001B[43m,\u001B[49m\u001B[43m \u001B[49m\u001B[43mneed_full_lookback\u001B[49m\u001B[38;5;241;43m=\u001B[39;49m\u001B[38;5;28;43;01mTrue\u001B[39;49;00m\u001B[43m)\u001B[49m\n",
      "File \u001B[0;32m~/repo/qids-2023-comp/playground/disaspeare/../../visualization/trading_stat.py:117\u001B[0m, in \u001B[0;36mbear_market_suite\u001B[0;34m(portfolio, features, ds, lookback_window, path_prefix, odd_even, **kwargs)\u001B[0m\n\u001B[1;32m    115\u001B[0m     \u001B[38;5;28;01mcontinue\u001B[39;00m\n\u001B[1;32m    116\u001B[0m \u001B[38;5;28mprint\u001B[39m(\u001B[38;5;124mf\u001B[39m\u001B[38;5;124m'\u001B[39m\u001B[38;5;124mNow testing period \u001B[39m\u001B[38;5;132;01m{\u001B[39;00mperiod\u001B[38;5;132;01m}\u001B[39;00m\u001B[38;5;124m:\u001B[39m\u001B[38;5;124m'\u001B[39m)\n\u001B[0;32m--> 117\u001B[0m stat \u001B[38;5;241m=\u001B[39m \u001B[43mcross_validation\u001B[49m\u001B[43m(\u001B[49m\u001B[43mportfolio\u001B[49m\u001B[43m,\u001B[49m\u001B[43m \u001B[49m\u001B[43mfeatures\u001B[49m\u001B[43m,\u001B[49m\u001B[43m \u001B[49m\u001B[43m_ds\u001B[49m\u001B[43m,\u001B[49m\u001B[43m \u001B[49m\u001B[43mstart_day\u001B[49m\u001B[38;5;241;43m=\u001B[39;49m\u001B[43mstart\u001B[49m\u001B[43m,\u001B[49m\n\u001B[1;32m    118\u001B[0m \u001B[43m                        \u001B[49m\u001B[43mlookback_window\u001B[49m\u001B[38;5;241;43m=\u001B[39;49m\u001B[43mlookback_window\u001B[49m\u001B[43m,\u001B[49m\u001B[43m \u001B[49m\u001B[38;5;241;43m*\u001B[39;49m\u001B[38;5;241;43m*\u001B[39;49m\u001B[43mkwargs\u001B[49m\u001B[43m)\u001B[49m\n\u001B[1;32m    119\u001B[0m analyze_stat(stat, path_prefix\u001B[38;5;241m=\u001B[39mpath_prefix, odd_even\u001B[38;5;241m=\u001B[39modd_even)\n",
      "File \u001B[0;32m~/repo/qids-2023-comp/playground/disaspeare/../../pipeline/backtest_trading.py:65\u001B[0m, in \u001B[0;36mcross_validation\u001B[0;34m(portfolio, features, ds, lookback_window, need_full_lookback, open_position_rate, close_position_rate, start_day, disable_portfolio_initialization)\u001B[0m\n\u001B[1;32m     61\u001B[0m end_day: \u001B[38;5;28mint\u001B[39m \u001B[38;5;241m=\u001B[39m ds\u001B[38;5;241m.\u001B[39mday\u001B[38;5;241m.\u001B[39mmax()\u001B[38;5;241m.\u001B[39mitem()\n\u001B[1;32m     63\u001B[0m transactions \u001B[38;5;241m=\u001B[39m DataArray(np\u001B[38;5;241m.\u001B[39mnan, dims\u001B[38;5;241m=\u001B[39m[\u001B[38;5;124m'\u001B[39m\u001B[38;5;124mday\u001B[39m\u001B[38;5;124m'\u001B[39m, \u001B[38;5;124m'\u001B[39m\u001B[38;5;124masset\u001B[39m\u001B[38;5;124m'\u001B[39m],\n\u001B[1;32m     64\u001B[0m                          coords\u001B[38;5;241m=\u001B[39m{\u001B[38;5;124m'\u001B[39m\u001B[38;5;124masset\u001B[39m\u001B[38;5;124m'\u001B[39m: ds\u001B[38;5;241m.\u001B[39masset\u001B[38;5;241m.\u001B[39mto_numpy(), \u001B[38;5;124m'\u001B[39m\u001B[38;5;124mday\u001B[39m\u001B[38;5;124m'\u001B[39m: np\u001B[38;5;241m.\u001B[39marange(start_day \u001B[38;5;241m-\u001B[39m \u001B[38;5;241m2\u001B[39m, end_day \u001B[38;5;241m+\u001B[39m \u001B[38;5;241m1\u001B[39m)})\n\u001B[0;32m---> 65\u001B[0m \u001B[43mtransactions\u001B[49m\u001B[38;5;241;43m.\u001B[39;49m\u001B[43mloc\u001B[49m\u001B[43m[\u001B[49m\u001B[38;5;28;43mdict\u001B[39;49m\u001B[43m(\u001B[49m\u001B[43mday\u001B[49m\u001B[38;5;241;43m=\u001B[39;49m\u001B[38;5;28;43mrange\u001B[39;49m\u001B[43m(\u001B[49m\u001B[43mstart_day\u001B[49m\u001B[43m \u001B[49m\u001B[38;5;241;43m-\u001B[39;49m\u001B[43m \u001B[49m\u001B[38;5;241;43m2\u001B[39;49m\u001B[43m,\u001B[49m\u001B[43m \u001B[49m\u001B[43mstart_day\u001B[49m\u001B[43m)\u001B[49m\u001B[43m)\u001B[49m\u001B[43m]\u001B[49m \u001B[38;5;241m=\u001B[39m \u001B[38;5;241m0\u001B[39m\n\u001B[1;32m     66\u001B[0m stat \u001B[38;5;241m=\u001B[39m Dataset(\n\u001B[1;32m     67\u001B[0m     data_vars\u001B[38;5;241m=\u001B[39m{k: nan_factory(asset\u001B[38;5;241m=\u001B[39mds\u001B[38;5;241m.\u001B[39masset, day\u001B[38;5;241m=\u001B[39mds\u001B[38;5;241m.\u001B[39mday) \u001B[38;5;28;01mfor\u001B[39;00m k \u001B[38;5;129;01min\u001B[39;00m [\n\u001B[1;32m     68\u001B[0m         \u001B[38;5;124m'\u001B[39m\u001B[38;5;124mholding_return\u001B[39m\u001B[38;5;124m'\u001B[39m, \u001B[38;5;124m'\u001B[39m\u001B[38;5;124mopen_fee\u001B[39m\u001B[38;5;124m'\u001B[39m, \u001B[38;5;124m'\u001B[39m\u001B[38;5;124mclose_fee\u001B[39m\u001B[38;5;124m'\u001B[39m,\n\u001B[0;32m   (...)\u001B[0m\n\u001B[1;32m     71\u001B[0m     ]},\n\u001B[1;32m     72\u001B[0m     coords\u001B[38;5;241m=\u001B[39m{\u001B[38;5;124m'\u001B[39m\u001B[38;5;124masset\u001B[39m\u001B[38;5;124m'\u001B[39m: ds\u001B[38;5;241m.\u001B[39masset, \u001B[38;5;124m'\u001B[39m\u001B[38;5;124mday\u001B[39m\u001B[38;5;124m'\u001B[39m: ds\u001B[38;5;241m.\u001B[39mday})\n\u001B[1;32m     74\u001B[0m pbar \u001B[38;5;241m=\u001B[39m trange(start_day, end_day \u001B[38;5;241m+\u001B[39m \u001B[38;5;241m1\u001B[39m)\n",
      "File \u001B[0;32m/opt/miniconda3/envs/qids-2023-comp/lib/python3.9/site-packages/xarray/core/dataarray.py:216\u001B[0m, in \u001B[0;36m_LocIndexer.__setitem__\u001B[0;34m(self, key, value)\u001B[0m\n\u001B[1;32m    213\u001B[0m     labels \u001B[38;5;241m=\u001B[39m indexing\u001B[38;5;241m.\u001B[39mexpanded_indexer(key, \u001B[38;5;28mself\u001B[39m\u001B[38;5;241m.\u001B[39mdata_array\u001B[38;5;241m.\u001B[39mndim)\n\u001B[1;32m    214\u001B[0m     key \u001B[38;5;241m=\u001B[39m \u001B[38;5;28mdict\u001B[39m(\u001B[38;5;28mzip\u001B[39m(\u001B[38;5;28mself\u001B[39m\u001B[38;5;241m.\u001B[39mdata_array\u001B[38;5;241m.\u001B[39mdims, labels))\n\u001B[0;32m--> 216\u001B[0m dim_indexers \u001B[38;5;241m=\u001B[39m \u001B[43mmap_index_queries\u001B[49m\u001B[43m(\u001B[49m\u001B[38;5;28;43mself\u001B[39;49m\u001B[38;5;241;43m.\u001B[39;49m\u001B[43mdata_array\u001B[49m\u001B[43m,\u001B[49m\u001B[43m \u001B[49m\u001B[43mkey\u001B[49m\u001B[43m)\u001B[49m\u001B[38;5;241m.\u001B[39mdim_indexers\n\u001B[1;32m    217\u001B[0m \u001B[38;5;28mself\u001B[39m\u001B[38;5;241m.\u001B[39mdata_array[dim_indexers] \u001B[38;5;241m=\u001B[39m value\n",
      "File \u001B[0;32m/opt/miniconda3/envs/qids-2023-comp/lib/python3.9/site-packages/xarray/core/indexing.py:183\u001B[0m, in \u001B[0;36mmap_index_queries\u001B[0;34m(obj, indexers, method, tolerance, **indexers_kwargs)\u001B[0m\n\u001B[1;32m    181\u001B[0m         results\u001B[38;5;241m.\u001B[39mappend(IndexSelResult(labels))\n\u001B[1;32m    182\u001B[0m     \u001B[38;5;28;01melse\u001B[39;00m:\n\u001B[0;32m--> 183\u001B[0m         results\u001B[38;5;241m.\u001B[39mappend(\u001B[43mindex\u001B[49m\u001B[38;5;241;43m.\u001B[39;49m\u001B[43msel\u001B[49m\u001B[43m(\u001B[49m\u001B[43mlabels\u001B[49m\u001B[43m,\u001B[49m\u001B[43m \u001B[49m\u001B[38;5;241;43m*\u001B[39;49m\u001B[38;5;241;43m*\u001B[39;49m\u001B[43moptions\u001B[49m\u001B[43m)\u001B[49m)  \u001B[38;5;66;03m# type: ignore[call-arg]\u001B[39;00m\n\u001B[1;32m    185\u001B[0m merged \u001B[38;5;241m=\u001B[39m merge_sel_results(results)\n\u001B[1;32m    187\u001B[0m \u001B[38;5;66;03m# drop dimension coordinates found in dimension indexers\u001B[39;00m\n\u001B[1;32m    188\u001B[0m \u001B[38;5;66;03m# (also drop multi-index if any)\u001B[39;00m\n\u001B[1;32m    189\u001B[0m \u001B[38;5;66;03m# (.sel() already ensures alignment)\u001B[39;00m\n",
      "File \u001B[0;32m/opt/miniconda3/envs/qids-2023-comp/lib/python3.9/site-packages/xarray/core/indexes.py:480\u001B[0m, in \u001B[0;36mPandasIndex.sel\u001B[0;34m(self, labels, method, tolerance)\u001B[0m\n\u001B[1;32m    478\u001B[0m     indexer \u001B[38;5;241m=\u001B[39m get_indexer_nd(\u001B[38;5;28mself\u001B[39m\u001B[38;5;241m.\u001B[39mindex, label_array, method, tolerance)\n\u001B[1;32m    479\u001B[0m     \u001B[38;5;28;01mif\u001B[39;00m np\u001B[38;5;241m.\u001B[39many(indexer \u001B[38;5;241m<\u001B[39m \u001B[38;5;241m0\u001B[39m):\n\u001B[0;32m--> 480\u001B[0m         \u001B[38;5;28;01mraise\u001B[39;00m \u001B[38;5;167;01mKeyError\u001B[39;00m(\u001B[38;5;124mf\u001B[39m\u001B[38;5;124m\"\u001B[39m\u001B[38;5;124mnot all values found in index \u001B[39m\u001B[38;5;132;01m{\u001B[39;00mcoord_name\u001B[38;5;132;01m!r}\u001B[39;00m\u001B[38;5;124m\"\u001B[39m)\n\u001B[1;32m    482\u001B[0m \u001B[38;5;66;03m# attach dimension names and/or coordinates to positional indexer\u001B[39;00m\n\u001B[1;32m    483\u001B[0m \u001B[38;5;28;01mif\u001B[39;00m \u001B[38;5;28misinstance\u001B[39m(label, Variable):\n",
      "\u001B[0;31mKeyError\u001B[0m: \"not all values found in index 'day'\""
     ]
    },
    {
     "data": {
      "image/png": "[encoded data removed]",
      "text/plain": [
       "<Figure size 1500x500 with 2 Axes>"
      ]
     },
     "metadata": {},
     "output_type": "display_data"
    }
   ],
   "source": [
    "p = GBMPortfolio(categorical_feature)\n",
    "bear_market_suite(p, features, _ds, lookback_window=50, need_full_lookback=True)"
   ]
  },
  {
   "cell_type": "markdown",
   "id": "7b174109",
   "metadata": {},
   "source": [
    "## How about classification"
   ]
  },
  {
   "cell_type": "code",
   "execution_count": 121,
   "id": "4ba3f9f9",
   "metadata": {
    "ExecuteTime": {
     "end_time": "2023-03-28T21:34:06.727183Z",
     "start_time": "2023-03-28T21:34:06.707427Z"
    }
   },
   "outputs": [],
   "source": [
    "train_data_binary = lgb.Dataset(data=train_X, label=train_y_binary, categorical_feature=categorical_feature, free_raw_data=False)\n",
    "val_data_binary = lgb.Dataset(data=val_X, label=val_y_binary, categorical_feature=categorical_feature, free_raw_data=False)"
   ]
  },
  {
   "cell_type": "code",
   "execution_count": 185,
   "id": "ec159b7a",
   "metadata": {
    "ExecuteTime": {
     "end_time": "2023-03-28T22:01:20.826924Z",
     "start_time": "2023-03-28T22:01:20.798858Z"
    }
   },
   "outputs": [],
   "source": [
    "def coerce_int(d):\n",
    "    _d = {}\n",
    "    for k, v in d.items():\n",
    "        if isinstance(v, float):\n",
    "            if np.isclose(v, int(v)):\n",
    "                _d[k] = int(v)\n",
    "                continue\n",
    "        _d[k] = v\n",
    "    return _d\n",
    "\n",
    "def arg_aug(d, handle_int=False):\n",
    "    num_boost_round = int(d['num_boost_round'])\n",
    "    del d['num_boost_round']\n",
    "    \n",
    "    params = {\n",
    "        'nthread': 6,\n",
    "        'objective': 'cross_entropy',\n",
    "        'feature_fraction': 0.8,\n",
    "        'bagging_seed': random_state,\n",
    "        'verbosity': -1,\n",
    "        'metric': ['cross_entropy', 'average_precision'],\n",
    "    }\n",
    "    params.update(coerce_int(d))\n",
    "    return num_boost_round, params\n",
    "\n",
    "from sklearn.metrics import log_loss\n",
    "\n",
    "def lightgbm_binary_factory(argsDict):\n",
    "    num_boost_round, params = arg_aug(argsDict, handle_int=False)\n",
    "    model_lgb = lgb.train(params=params, train_set=train_data_binary, num_boost_round=num_boost_round,\n",
    "                          valid_sets=[val_data_binary],\n",
    "                          categorical_feature=categorical_feature,\n",
    "                          callbacks=[early_stopping(100, verbose=False)])\n",
    "    prediction = model.predict(val_X, num_iteration=model_lgb.best_iteration)\n",
    "    return log_loss(val_y_binary.values, prediction)"
   ]
  },
  {
   "cell_type": "code",
   "execution_count": 190,
   "id": "45ce7da5",
   "metadata": {
    "ExecuteTime": {
     "end_time": "2023-03-28T22:01:51.714202Z",
     "start_time": "2023-03-28T22:01:48.599150Z"
    },
    "scrolled": false
   },
   "outputs": [
    {
     "name": "stdout",
     "output_type": "stream",
     "text": [
      "100%|██████████████████████████████████████████████████████████████████████████████████████████████████████████████████████████████████████| 20/20 [00:02<00:00,  6.88trial/s, best loss: 9.487132652580847]\n",
      "Training until validation scores don't improve for 100 rounds\n",
      "Did not meet early stopping. Best iteration is:\n",
      "[52]\ttraining's cross_entropy: 0.0879307\ttraining's average_precision: 0.998769\tvalid_1's cross_entropy: 2.18119\tvalid_1's average_precision: 0.506338\n"
     ]
    }
   ],
   "source": [
    "# Find a best model\n",
    "lgb_space = {\n",
    "    \"max_depth\": hp.uniformint(\"max_depth\", 5, 20),\n",
    "    \"num_boost_round\": hp.uniformint(\"num_boost_round\", 10, 100),\n",
    "    \"learning_rate\": hp.loguniform(\"learning_rate\", 1e-3, 1e-1),\n",
    "    \"lambda_l1\": hp.loguniform(\"lambda_l1\", 1e-5, 1e-1),\n",
    "    \"lambda_l2\": hp.loguniform(\"lambda_l2\", 1e-5, 1e-1),\n",
    "    'subsample': hp.uniform('subsample', 0.5, 1.0),\n",
    "    \"num_leaves\": hp.uniformint(\"num_leaves\", 50, 500),\n",
    "    \"bagging_freq\": hp.uniformint(\"bagging_freq\", 1, 10),\n",
    "}\n",
    "algo = partial(tpe.suggest, n_startup_jobs=1)\n",
    "lgb_best = fmin(fn=lightgbm_binary_factory, space=lgb_space, algo=algo, max_evals=20, pass_expr_memo_ctrl=None)\n",
    "\n",
    "evals = {}\n",
    "num_boost_round, lgb_best = arg_aug(lgb_best, handle_int=True)\n",
    "model_binary = lgb.train(params=lgb_best, train_set=train_data_binary, num_boost_round=num_boost_round,\n",
    "                         valid_sets=[train_data_binary, val_data_binary], categorical_feature=categorical_feature,\n",
    "                         callbacks=[early_stopping(100, verbose=True), record_evaluation(evals)])"
   ]
  },
  {
   "cell_type": "code",
   "execution_count": 191,
   "id": "b7a80581",
   "metadata": {
    "ExecuteTime": {
     "end_time": "2023-03-28T22:01:51.739820Z",
     "start_time": "2023-03-28T22:01:51.716401Z"
    }
   },
   "outputs": [
    {
     "data": {
      "text/plain": [
       "0.7662588131882933"
      ]
     },
     "execution_count": 191,
     "metadata": {},
     "output_type": "execute_result"
    }
   ],
   "source": [
    "y_pred = model_binary.predict(val_X, num_iteration=model.best_iteration)\n",
    "log_loss(val_y_binary.values, y_pred)"
   ]
  },
  {
   "cell_type": "code",
   "execution_count": 192,
   "id": "6f47b7a6",
   "metadata": {
    "ExecuteTime": {
     "end_time": "2023-03-28T22:01:51.830643Z",
     "start_time": "2023-03-28T22:01:51.741296Z"
    }
   },
   "outputs": [
    {
     "data": {
      "text/plain": [
       "52"
      ]
     },
     "execution_count": 192,
     "metadata": {},
     "output_type": "execute_result"
    }
   ],
   "source": [
    "num_boost_round"
   ]
  },
  {
   "cell_type": "code",
   "execution_count": 193,
   "id": "3c266310",
   "metadata": {
    "ExecuteTime": {
     "end_time": "2023-03-28T22:01:52.151265Z",
     "start_time": "2023-03-28T22:01:51.832932Z"
    }
   },
   "outputs": [
    {
     "data": {
      "text/plain": [
       "<Axes: title={'center': 'Metric during training'}, xlabel='Iterations', ylabel='average_precision'>"
      ]
     },
     "execution_count": 193,
     "metadata": {},
     "output_type": "execute_result"
    },
    {
     "data": {
      "image/png": "[encoded data removed]",
      "text/plain": [
       "<Figure size 640x480 with 1 Axes>"
      ]
     },
     "metadata": {},
     "output_type": "display_data"
    }
   ],
   "source": [
    "plot_metric(evals, 'average_precision')"
   ]
  },
  {
   "cell_type": "code",
   "execution_count": null,
   "id": "47e3514d",
   "metadata": {},
   "outputs": [],
   "source": []
  }
 ],
 "metadata": {
  "kernelspec": {
   "display_name": "Python (qids)",
   "language": "python",
   "name": "qids"
  },
  "language_info": {
   "codemirror_mode": {
    "name": "ipython",
    "version": 3
   },
   "file_extension": ".py",
   "mimetype": "text/x-python",
   "name": "python",
   "nbconvert_exporter": "python",
   "pygments_lexer": "ipython3",
   "version": "3.9.16"
  },
  "toc": {
   "base_numbering": 1,
   "nav_menu": {},
   "number_sections": true,
   "sideBar": true,
   "skip_h1_title": false,
   "title_cell": "Table of Contents",
   "title_sidebar": "Contents",
   "toc_cell": false,
   "toc_position": {},
   "toc_section_display": true,
   "toc_window_display": false
  }
 },
 "nbformat": 4,
 "nbformat_minor": 5
}
