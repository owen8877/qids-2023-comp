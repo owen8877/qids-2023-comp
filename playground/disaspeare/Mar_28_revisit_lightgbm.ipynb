{
 "cells": [
  {
   "cell_type": "code",
   "execution_count": 1,
   "id": "4f1a5b1d",
   "metadata": {
    "ExecuteTime": {
     "end_time": "2023-03-28T21:06:52.307311Z",
     "start_time": "2023-03-28T21:06:52.287657Z"
    },
    "pycharm": {
     "is_executing": true
    }
   },
   "outputs": [],
   "source": [
    "%load_ext autoreload\n",
    "%autoreload 2"
   ]
  },
  {
   "cell_type": "code",
   "execution_count": 2,
   "id": "daa57dce",
   "metadata": {
    "ExecuteTime": {
     "end_time": "2023-03-29T00:28:29.048972Z",
     "start_time": "2023-03-29T00:28:29.005969Z"
    },
    "pycharm": {
     "is_executing": true
    }
   },
   "outputs": [],
   "source": [
    "import xarray as xr\n",
    "import lightgbm as lgb\n",
    "from lightgbm import early_stopping, plot_metric, record_evaluation\n",
    "import numpy as np\n",
    "import pandas as pd\n",
    "import matplotlib.pyplot as plt\n",
    "from hyperopt import fmin, hp, partial, tpe, Trials\n",
    "import sys\n",
    "sys.path.append('../..')\n",
    "from pipeline.backtest import cross_validation\n",
    "import pipeline.backtest_trading as bt\n",
    "from sklearn.preprocessing import KBinsDiscretizer\n",
    "from visualization.trading_stat import bear_market_suite\n",
    "from portfolio import Portfolio\n",
    "import itertools\n",
    "import talib as ta\n",
    "\n",
    "random_state = 42"
   ]
  },
  {
   "cell_type": "code",
   "execution_count": 3,
   "id": "ce49db8b",
   "metadata": {
    "ExecuteTime": {
     "end_time": "2023-03-28T21:06:53.986445Z",
     "start_time": "2023-03-28T21:06:53.944517Z"
    }
   },
   "outputs": [],
   "source": [
    "base_ds = xr.open_dataset('../../data/nc_2round/base.nc')\n",
    "fundamental_v0_ds = xr.open_dataset('../../data/nc_2round/fundamental_v0.nc')\n",
    "market_ds = xr.open_dataset('../../data/nc_2round/market_brief.nc')\n",
    "\n",
    "ds = xr.merge([base_ds, fundamental_v0_ds, market_ds])"
   ]
  },
  {
   "cell_type": "code",
   "execution_count": 4,
   "id": "12c5bf99",
   "metadata": {
    "ExecuteTime": {
     "end_time": "2023-03-28T21:06:54.641567Z",
     "start_time": "2023-03-28T21:06:54.589238Z"
    }
   },
   "outputs": [
    {
     "data": {
      "text/html": [
       "<div><svg style=\"position: absolute; width: 0; height: 0; overflow: hidden\">\n",
       "<defs>\n",
       "<symbol id=\"icon-database\" viewBox=\"0 0 32 32\">\n",
       "<path d=\"M16 0c-8.837 0-16 2.239-16 5v4c0 2.761 7.163 5 16 5s16-2.239 16-5v-4c0-2.761-7.163-5-16-5z\"></path>\n",
       "<path d=\"M16 17c-8.837 0-16-2.239-16-5v6c0 2.761 7.163 5 16 5s16-2.239 16-5v-6c0 2.761-7.163 5-16 5z\"></path>\n",
       "<path d=\"M16 26c-8.837 0-16-2.239-16-5v6c0 2.761 7.163 5 16 5s16-2.239 16-5v-6c0 2.761-7.163 5-16 5z\"></path>\n",
       "</symbol>\n",
       "<symbol id=\"icon-file-text2\" viewBox=\"0 0 32 32\">\n",
       "<path d=\"M28.681 7.159c-0.694-0.947-1.662-2.053-2.724-3.116s-2.169-2.030-3.116-2.724c-1.612-1.182-2.393-1.319-2.841-1.319h-15.5c-1.378 0-2.5 1.121-2.5 2.5v27c0 1.378 1.122 2.5 2.5 2.5h23c1.378 0 2.5-1.122 2.5-2.5v-19.5c0-0.448-0.137-1.23-1.319-2.841zM24.543 5.457c0.959 0.959 1.712 1.825 2.268 2.543h-4.811v-4.811c0.718 0.556 1.584 1.309 2.543 2.268zM28 29.5c0 0.271-0.229 0.5-0.5 0.5h-23c-0.271 0-0.5-0.229-0.5-0.5v-27c0-0.271 0.229-0.5 0.5-0.5 0 0 15.499-0 15.5 0v7c0 0.552 0.448 1 1 1h7v19.5z\"></path>\n",
       "<path d=\"M23 26h-14c-0.552 0-1-0.448-1-1s0.448-1 1-1h14c0.552 0 1 0.448 1 1s-0.448 1-1 1z\"></path>\n",
       "<path d=\"M23 22h-14c-0.552 0-1-0.448-1-1s0.448-1 1-1h14c0.552 0 1 0.448 1 1s-0.448 1-1 1z\"></path>\n",
       "<path d=\"M23 18h-14c-0.552 0-1-0.448-1-1s0.448-1 1-1h14c0.552 0 1 0.448 1 1s-0.448 1-1 1z\"></path>\n",
       "</symbol>\n",
       "</defs>\n",
       "</svg>\n",
       "<style>/* CSS stylesheet for displaying xarray objects in jupyterlab.\n",
       " *\n",
       " */\n",
       "\n",
       ":root {\n",
       "  --xr-font-color0: var(--jp-content-font-color0, rgba(0, 0, 0, 1));\n",
       "  --xr-font-color2: var(--jp-content-font-color2, rgba(0, 0, 0, 0.54));\n",
       "  --xr-font-color3: var(--jp-content-font-color3, rgba(0, 0, 0, 0.38));\n",
       "  --xr-border-color: var(--jp-border-color2, #e0e0e0);\n",
       "  --xr-disabled-color: var(--jp-layout-color3, #bdbdbd);\n",
       "  --xr-background-color: var(--jp-layout-color0, white);\n",
       "  --xr-background-color-row-even: var(--jp-layout-color1, white);\n",
       "  --xr-background-color-row-odd: var(--jp-layout-color2, #eeeeee);\n",
       "}\n",
       "\n",
       "html[theme=dark],\n",
       "body[data-theme=dark],\n",
       "body.vscode-dark {\n",
       "  --xr-font-color0: rgba(255, 255, 255, 1);\n",
       "  --xr-font-color2: rgba(255, 255, 255, 0.54);\n",
       "  --xr-font-color3: rgba(255, 255, 255, 0.38);\n",
       "  --xr-border-color: #1F1F1F;\n",
       "  --xr-disabled-color: #515151;\n",
       "  --xr-background-color: #111111;\n",
       "  --xr-background-color-row-even: #111111;\n",
       "  --xr-background-color-row-odd: #313131;\n",
       "}\n",
       "\n",
       ".xr-wrap {\n",
       "  display: block !important;\n",
       "  min-width: 300px;\n",
       "  max-width: 700px;\n",
       "}\n",
       "\n",
       ".xr-text-repr-fallback {\n",
       "  /* fallback to plain text repr when CSS is not injected (untrusted notebook) */\n",
       "  display: none;\n",
       "}\n",
       "\n",
       ".xr-header {\n",
       "  padding-top: 6px;\n",
       "  padding-bottom: 6px;\n",
       "  margin-bottom: 4px;\n",
       "  border-bottom: solid 1px var(--xr-border-color);\n",
       "}\n",
       "\n",
       ".xr-header > div,\n",
       ".xr-header > ul {\n",
       "  display: inline;\n",
       "  margin-top: 0;\n",
       "  margin-bottom: 0;\n",
       "}\n",
       "\n",
       ".xr-obj-type,\n",
       ".xr-array-name {\n",
       "  margin-left: 2px;\n",
       "  margin-right: 10px;\n",
       "}\n",
       "\n",
       ".xr-obj-type {\n",
       "  color: var(--xr-font-color2);\n",
       "}\n",
       "\n",
       ".xr-sections {\n",
       "  padding-left: 0 !important;\n",
       "  display: grid;\n",
       "  grid-template-columns: 150px auto auto 1fr 20px 20px;\n",
       "}\n",
       "\n",
       ".xr-section-item {\n",
       "  display: contents;\n",
       "}\n",
       "\n",
       ".xr-section-item input {\n",
       "  display: none;\n",
       "}\n",
       "\n",
       ".xr-section-item input + label {\n",
       "  color: var(--xr-disabled-color);\n",
       "}\n",
       "\n",
       ".xr-section-item input:enabled + label {\n",
       "  cursor: pointer;\n",
       "  color: var(--xr-font-color2);\n",
       "}\n",
       "\n",
       ".xr-section-item input:enabled + label:hover {\n",
       "  color: var(--xr-font-color0);\n",
       "}\n",
       "\n",
       ".xr-section-summary {\n",
       "  grid-column: 1;\n",
       "  color: var(--xr-font-color2);\n",
       "  font-weight: 500;\n",
       "}\n",
       "\n",
       ".xr-section-summary > span {\n",
       "  display: inline-block;\n",
       "  padding-left: 0.5em;\n",
       "}\n",
       "\n",
       ".xr-section-summary-in:disabled + label {\n",
       "  color: var(--xr-font-color2);\n",
       "}\n",
       "\n",
       ".xr-section-summary-in + label:before {\n",
       "  display: inline-block;\n",
       "  content: '►';\n",
       "  font-size: 11px;\n",
       "  width: 15px;\n",
       "  text-align: center;\n",
       "}\n",
       "\n",
       ".xr-section-summary-in:disabled + label:before {\n",
       "  color: var(--xr-disabled-color);\n",
       "}\n",
       "\n",
       ".xr-section-summary-in:checked + label:before {\n",
       "  content: '▼';\n",
       "}\n",
       "\n",
       ".xr-section-summary-in:checked + label > span {\n",
       "  display: none;\n",
       "}\n",
       "\n",
       ".xr-section-summary,\n",
       ".xr-section-inline-details {\n",
       "  padding-top: 4px;\n",
       "  padding-bottom: 4px;\n",
       "}\n",
       "\n",
       ".xr-section-inline-details {\n",
       "  grid-column: 2 / -1;\n",
       "}\n",
       "\n",
       ".xr-section-details {\n",
       "  display: none;\n",
       "  grid-column: 1 / -1;\n",
       "  margin-bottom: 5px;\n",
       "}\n",
       "\n",
       ".xr-section-summary-in:checked ~ .xr-section-details {\n",
       "  display: contents;\n",
       "}\n",
       "\n",
       ".xr-array-wrap {\n",
       "  grid-column: 1 / -1;\n",
       "  display: grid;\n",
       "  grid-template-columns: 20px auto;\n",
       "}\n",
       "\n",
       ".xr-array-wrap > label {\n",
       "  grid-column: 1;\n",
       "  vertical-align: top;\n",
       "}\n",
       "\n",
       ".xr-preview {\n",
       "  color: var(--xr-font-color3);\n",
       "}\n",
       "\n",
       ".xr-array-preview,\n",
       ".xr-array-data {\n",
       "  padding: 0 5px !important;\n",
       "  grid-column: 2;\n",
       "}\n",
       "\n",
       ".xr-array-data,\n",
       ".xr-array-in:checked ~ .xr-array-preview {\n",
       "  display: none;\n",
       "}\n",
       "\n",
       ".xr-array-in:checked ~ .xr-array-data,\n",
       ".xr-array-preview {\n",
       "  display: inline-block;\n",
       "}\n",
       "\n",
       ".xr-dim-list {\n",
       "  display: inline-block !important;\n",
       "  list-style: none;\n",
       "  padding: 0 !important;\n",
       "  margin: 0;\n",
       "}\n",
       "\n",
       ".xr-dim-list li {\n",
       "  display: inline-block;\n",
       "  padding: 0;\n",
       "  margin: 0;\n",
       "}\n",
       "\n",
       ".xr-dim-list:before {\n",
       "  content: '(';\n",
       "}\n",
       "\n",
       ".xr-dim-list:after {\n",
       "  content: ')';\n",
       "}\n",
       "\n",
       ".xr-dim-list li:not(:last-child):after {\n",
       "  content: ',';\n",
       "  padding-right: 5px;\n",
       "}\n",
       "\n",
       ".xr-has-index {\n",
       "  font-weight: bold;\n",
       "}\n",
       "\n",
       ".xr-var-list,\n",
       ".xr-var-item {\n",
       "  display: contents;\n",
       "}\n",
       "\n",
       ".xr-var-item > div,\n",
       ".xr-var-item label,\n",
       ".xr-var-item > .xr-var-name span {\n",
       "  background-color: var(--xr-background-color-row-even);\n",
       "  margin-bottom: 0;\n",
       "}\n",
       "\n",
       ".xr-var-item > .xr-var-name:hover span {\n",
       "  padding-right: 5px;\n",
       "}\n",
       "\n",
       ".xr-var-list > li:nth-child(odd) > div,\n",
       ".xr-var-list > li:nth-child(odd) > label,\n",
       ".xr-var-list > li:nth-child(odd) > .xr-var-name span {\n",
       "  background-color: var(--xr-background-color-row-odd);\n",
       "}\n",
       "\n",
       ".xr-var-name {\n",
       "  grid-column: 1;\n",
       "}\n",
       "\n",
       ".xr-var-dims {\n",
       "  grid-column: 2;\n",
       "}\n",
       "\n",
       ".xr-var-dtype {\n",
       "  grid-column: 3;\n",
       "  text-align: right;\n",
       "  color: var(--xr-font-color2);\n",
       "}\n",
       "\n",
       ".xr-var-preview {\n",
       "  grid-column: 4;\n",
       "}\n",
       "\n",
       ".xr-index-preview {\n",
       "  grid-column: 2 / 5;\n",
       "  color: var(--xr-font-color2);\n",
       "}\n",
       "\n",
       ".xr-var-name,\n",
       ".xr-var-dims,\n",
       ".xr-var-dtype,\n",
       ".xr-preview,\n",
       ".xr-attrs dt {\n",
       "  white-space: nowrap;\n",
       "  overflow: hidden;\n",
       "  text-overflow: ellipsis;\n",
       "  padding-right: 10px;\n",
       "}\n",
       "\n",
       ".xr-var-name:hover,\n",
       ".xr-var-dims:hover,\n",
       ".xr-var-dtype:hover,\n",
       ".xr-attrs dt:hover {\n",
       "  overflow: visible;\n",
       "  width: auto;\n",
       "  z-index: 1;\n",
       "}\n",
       "\n",
       ".xr-var-attrs,\n",
       ".xr-var-data,\n",
       ".xr-index-data {\n",
       "  display: none;\n",
       "  background-color: var(--xr-background-color) !important;\n",
       "  padding-bottom: 5px !important;\n",
       "}\n",
       "\n",
       ".xr-var-attrs-in:checked ~ .xr-var-attrs,\n",
       ".xr-var-data-in:checked ~ .xr-var-data,\n",
       ".xr-index-data-in:checked ~ .xr-index-data {\n",
       "  display: block;\n",
       "}\n",
       "\n",
       ".xr-var-data > table {\n",
       "  float: right;\n",
       "}\n",
       "\n",
       ".xr-var-name span,\n",
       ".xr-var-data,\n",
       ".xr-index-name div,\n",
       ".xr-index-data,\n",
       ".xr-attrs {\n",
       "  padding-left: 25px !important;\n",
       "}\n",
       "\n",
       ".xr-attrs,\n",
       ".xr-var-attrs,\n",
       ".xr-var-data,\n",
       ".xr-index-data {\n",
       "  grid-column: 1 / -1;\n",
       "}\n",
       "\n",
       "dl.xr-attrs {\n",
       "  padding: 0;\n",
       "  margin: 0;\n",
       "  display: grid;\n",
       "  grid-template-columns: 125px auto;\n",
       "}\n",
       "\n",
       ".xr-attrs dt,\n",
       ".xr-attrs dd {\n",
       "  padding: 0;\n",
       "  margin: 0;\n",
       "  float: left;\n",
       "  padding-right: 10px;\n",
       "  width: auto;\n",
       "}\n",
       "\n",
       ".xr-attrs dt {\n",
       "  font-weight: normal;\n",
       "  grid-column: 1;\n",
       "}\n",
       "\n",
       ".xr-attrs dt:hover span {\n",
       "  display: inline-block;\n",
       "  background: var(--xr-background-color);\n",
       "  padding-right: 10px;\n",
       "}\n",
       "\n",
       ".xr-attrs dd {\n",
       "  grid-column: 2;\n",
       "  white-space: pre-wrap;\n",
       "  word-break: break-all;\n",
       "}\n",
       "\n",
       ".xr-icon-database,\n",
       ".xr-icon-file-text2,\n",
       ".xr-no-icon {\n",
       "  display: inline-block;\n",
       "  vertical-align: middle;\n",
       "  width: 1em;\n",
       "  height: 1.5em !important;\n",
       "  stroke-width: 0;\n",
       "  stroke: currentColor;\n",
       "  fill: currentColor;\n",
       "}\n",
       "</style><pre class='xr-text-repr-fallback'>&lt;xarray.Dataset&gt;\n",
       "Dimensions:            (day: 1700, asset: 54, timeslot: 50)\n",
       "Coordinates:\n",
       "  * day                (day) int32 1 2 3 4 5 6 ... 1695 1696 1697 1698 1699 1700\n",
       "  * asset              (asset) int32 0 1 2 3 4 5 6 7 ... 46 47 48 49 50 51 52 53\n",
       "  * timeslot           (timeslot) int32 1 2 3 4 5 6 7 8 ... 44 45 46 47 48 49 50\n",
       "Data variables: (12/29)\n",
       "    open               (day, asset, timeslot) float64 ...\n",
       "    close              (day, asset, timeslot) float64 ...\n",
       "    high               (day, asset, timeslot) float64 ...\n",
       "    low                (day, asset, timeslot) float64 ...\n",
       "    volume             (day, asset, timeslot) float64 ...\n",
       "    money              (day, asset, timeslot) float64 ...\n",
       "    ...                 ...\n",
       "    mean_volume        (day, asset) float64 ...\n",
       "    close_0            (day, asset) float64 ...\n",
       "    open_0             (day, asset) float64 ...\n",
       "    high_0             (day, asset) float64 ...\n",
       "    low_0              (day, asset) float64 ...\n",
       "    return_0           (day, asset) float64 ...</pre><div class='xr-wrap' style='display:none'><div class='xr-header'><div class='xr-obj-type'>xarray.Dataset</div></div><ul class='xr-sections'><li class='xr-section-item'><input id='section-7f876044-d97d-4912-93e6-d86bf73a928f' class='xr-section-summary-in' type='checkbox' disabled ><label for='section-7f876044-d97d-4912-93e6-d86bf73a928f' class='xr-section-summary'  title='Expand/collapse section'>Dimensions:</label><div class='xr-section-inline-details'><ul class='xr-dim-list'><li><span class='xr-has-index'>day</span>: 1700</li><li><span class='xr-has-index'>asset</span>: 54</li><li><span class='xr-has-index'>timeslot</span>: 50</li></ul></div><div class='xr-section-details'></div></li><li class='xr-section-item'><input id='section-369d8696-949f-456a-8b5a-62d1b15cc931' class='xr-section-summary-in' type='checkbox'  checked><label for='section-369d8696-949f-456a-8b5a-62d1b15cc931' class='xr-section-summary' >Coordinates: <span>(3)</span></label><div class='xr-section-inline-details'></div><div class='xr-section-details'><ul class='xr-var-list'><li class='xr-var-item'><div class='xr-var-name'><span class='xr-has-index'>day</span></div><div class='xr-var-dims'>(day)</div><div class='xr-var-dtype'>int32</div><div class='xr-var-preview xr-preview'>1 2 3 4 5 ... 1697 1698 1699 1700</div><input id='attrs-4e670ea6-ae6c-4807-8d80-01ffbc84bc44' class='xr-var-attrs-in' type='checkbox' disabled><label for='attrs-4e670ea6-ae6c-4807-8d80-01ffbc84bc44' title='Show/Hide attributes'><svg class='icon xr-icon-file-text2'><use xlink:href='#icon-file-text2'></use></svg></label><input id='data-0c66134f-fc7a-4d0f-a181-40de4ef7f780' class='xr-var-data-in' type='checkbox'><label for='data-0c66134f-fc7a-4d0f-a181-40de4ef7f780' title='Show/Hide data repr'><svg class='icon xr-icon-database'><use xlink:href='#icon-database'></use></svg></label><div class='xr-var-attrs'><dl class='xr-attrs'></dl></div><div class='xr-var-data'><pre>array([   1,    2,    3, ..., 1698, 1699, 1700])</pre></div></li><li class='xr-var-item'><div class='xr-var-name'><span class='xr-has-index'>asset</span></div><div class='xr-var-dims'>(asset)</div><div class='xr-var-dtype'>int32</div><div class='xr-var-preview xr-preview'>0 1 2 3 4 5 6 ... 48 49 50 51 52 53</div><input id='attrs-6707e475-30a8-4195-8076-2b7e933fc902' class='xr-var-attrs-in' type='checkbox' disabled><label for='attrs-6707e475-30a8-4195-8076-2b7e933fc902' title='Show/Hide attributes'><svg class='icon xr-icon-file-text2'><use xlink:href='#icon-file-text2'></use></svg></label><input id='data-5a1d05ab-f35b-497a-a5cc-e5c2e46c6afa' class='xr-var-data-in' type='checkbox'><label for='data-5a1d05ab-f35b-497a-a5cc-e5c2e46c6afa' title='Show/Hide data repr'><svg class='icon xr-icon-database'><use xlink:href='#icon-database'></use></svg></label><div class='xr-var-attrs'><dl class='xr-attrs'></dl></div><div class='xr-var-data'><pre>array([ 0,  1,  2,  3,  4,  5,  6,  7,  8,  9, 10, 11, 12, 13, 14, 15, 16, 17,\n",
       "       18, 19, 20, 21, 22, 23, 24, 25, 26, 27, 28, 29, 30, 31, 32, 33, 34, 35,\n",
       "       36, 37, 38, 39, 40, 41, 42, 43, 44, 45, 46, 47, 48, 49, 50, 51, 52, 53])</pre></div></li><li class='xr-var-item'><div class='xr-var-name'><span class='xr-has-index'>timeslot</span></div><div class='xr-var-dims'>(timeslot)</div><div class='xr-var-dtype'>int32</div><div class='xr-var-preview xr-preview'>1 2 3 4 5 6 7 ... 45 46 47 48 49 50</div><input id='attrs-5dd49571-7e44-4eee-b2bd-eee960799d8d' class='xr-var-attrs-in' type='checkbox' disabled><label for='attrs-5dd49571-7e44-4eee-b2bd-eee960799d8d' title='Show/Hide attributes'><svg class='icon xr-icon-file-text2'><use xlink:href='#icon-file-text2'></use></svg></label><input id='data-7d4f92ac-5d3b-4c68-9f76-35579d3b841b' class='xr-var-data-in' type='checkbox'><label for='data-7d4f92ac-5d3b-4c68-9f76-35579d3b841b' title='Show/Hide data repr'><svg class='icon xr-icon-database'><use xlink:href='#icon-database'></use></svg></label><div class='xr-var-attrs'><dl class='xr-attrs'></dl></div><div class='xr-var-data'><pre>array([ 1,  2,  3,  4,  5,  6,  7,  8,  9, 10, 11, 12, 13, 14, 15, 16, 17, 18,\n",
       "       19, 20, 21, 22, 23, 24, 25, 26, 27, 28, 29, 30, 31, 32, 33, 34, 35, 36,\n",
       "       37, 38, 39, 40, 41, 42, 43, 44, 45, 46, 47, 48, 49, 50])</pre></div></li></ul></div></li><li class='xr-section-item'><input id='section-fa32e389-141b-44f2-85c4-cee84dc0da62' class='xr-section-summary-in' type='checkbox'  ><label for='section-fa32e389-141b-44f2-85c4-cee84dc0da62' class='xr-section-summary' >Data variables: <span>(29)</span></label><div class='xr-section-inline-details'></div><div class='xr-section-details'><ul class='xr-var-list'><li class='xr-var-item'><div class='xr-var-name'><span>open</span></div><div class='xr-var-dims'>(day, asset, timeslot)</div><div class='xr-var-dtype'>float64</div><div class='xr-var-preview xr-preview'>...</div><input id='attrs-cb87d626-b7d6-4a31-a988-870c1e4e6ee4' class='xr-var-attrs-in' type='checkbox' disabled><label for='attrs-cb87d626-b7d6-4a31-a988-870c1e4e6ee4' title='Show/Hide attributes'><svg class='icon xr-icon-file-text2'><use xlink:href='#icon-file-text2'></use></svg></label><input id='data-65701ff3-3522-4c67-a6d4-c8d7dcaea2c1' class='xr-var-data-in' type='checkbox'><label for='data-65701ff3-3522-4c67-a6d4-c8d7dcaea2c1' title='Show/Hide data repr'><svg class='icon xr-icon-database'><use xlink:href='#icon-database'></use></svg></label><div class='xr-var-attrs'><dl class='xr-attrs'></dl></div><div class='xr-var-data'><pre>[4590000 values with dtype=float64]</pre></div></li><li class='xr-var-item'><div class='xr-var-name'><span>close</span></div><div class='xr-var-dims'>(day, asset, timeslot)</div><div class='xr-var-dtype'>float64</div><div class='xr-var-preview xr-preview'>...</div><input id='attrs-9db5105f-2cba-4f6d-aa71-ddc8958dd0ae' class='xr-var-attrs-in' type='checkbox' disabled><label for='attrs-9db5105f-2cba-4f6d-aa71-ddc8958dd0ae' title='Show/Hide attributes'><svg class='icon xr-icon-file-text2'><use xlink:href='#icon-file-text2'></use></svg></label><input id='data-94a5fdef-29aa-4ac5-a0a1-fbec5e9d5265' class='xr-var-data-in' type='checkbox'><label for='data-94a5fdef-29aa-4ac5-a0a1-fbec5e9d5265' title='Show/Hide data repr'><svg class='icon xr-icon-database'><use xlink:href='#icon-database'></use></svg></label><div class='xr-var-attrs'><dl class='xr-attrs'></dl></div><div class='xr-var-data'><pre>[4590000 values with dtype=float64]</pre></div></li><li class='xr-var-item'><div class='xr-var-name'><span>high</span></div><div class='xr-var-dims'>(day, asset, timeslot)</div><div class='xr-var-dtype'>float64</div><div class='xr-var-preview xr-preview'>...</div><input id='attrs-a98c1df6-570e-41da-90c4-313ae98b7a23' class='xr-var-attrs-in' type='checkbox' disabled><label for='attrs-a98c1df6-570e-41da-90c4-313ae98b7a23' title='Show/Hide attributes'><svg class='icon xr-icon-file-text2'><use xlink:href='#icon-file-text2'></use></svg></label><input id='data-e0a73bb5-f725-4b0b-b217-165740bc2aed' class='xr-var-data-in' type='checkbox'><label for='data-e0a73bb5-f725-4b0b-b217-165740bc2aed' title='Show/Hide data repr'><svg class='icon xr-icon-database'><use xlink:href='#icon-database'></use></svg></label><div class='xr-var-attrs'><dl class='xr-attrs'></dl></div><div class='xr-var-data'><pre>[4590000 values with dtype=float64]</pre></div></li><li class='xr-var-item'><div class='xr-var-name'><span>low</span></div><div class='xr-var-dims'>(day, asset, timeslot)</div><div class='xr-var-dtype'>float64</div><div class='xr-var-preview xr-preview'>...</div><input id='attrs-7bfb919f-2b36-4b2b-97f8-6468696a89ab' class='xr-var-attrs-in' type='checkbox' disabled><label for='attrs-7bfb919f-2b36-4b2b-97f8-6468696a89ab' title='Show/Hide attributes'><svg class='icon xr-icon-file-text2'><use xlink:href='#icon-file-text2'></use></svg></label><input id='data-29c81129-fa9f-4282-806c-abfbe967de0e' class='xr-var-data-in' type='checkbox'><label for='data-29c81129-fa9f-4282-806c-abfbe967de0e' title='Show/Hide data repr'><svg class='icon xr-icon-database'><use xlink:href='#icon-database'></use></svg></label><div class='xr-var-attrs'><dl class='xr-attrs'></dl></div><div class='xr-var-data'><pre>[4590000 values with dtype=float64]</pre></div></li><li class='xr-var-item'><div class='xr-var-name'><span>volume</span></div><div class='xr-var-dims'>(day, asset, timeslot)</div><div class='xr-var-dtype'>float64</div><div class='xr-var-preview xr-preview'>...</div><input id='attrs-39d0ad41-5421-4b52-a57d-8d00a408b223' class='xr-var-attrs-in' type='checkbox' disabled><label for='attrs-39d0ad41-5421-4b52-a57d-8d00a408b223' title='Show/Hide attributes'><svg class='icon xr-icon-file-text2'><use xlink:href='#icon-file-text2'></use></svg></label><input id='data-6c8e1af7-fdc3-4bd7-99d9-97c066bfbc3a' class='xr-var-data-in' type='checkbox'><label for='data-6c8e1af7-fdc3-4bd7-99d9-97c066bfbc3a' title='Show/Hide data repr'><svg class='icon xr-icon-database'><use xlink:href='#icon-database'></use></svg></label><div class='xr-var-attrs'><dl class='xr-attrs'></dl></div><div class='xr-var-data'><pre>[4590000 values with dtype=float64]</pre></div></li><li class='xr-var-item'><div class='xr-var-name'><span>money</span></div><div class='xr-var-dims'>(day, asset, timeslot)</div><div class='xr-var-dtype'>float64</div><div class='xr-var-preview xr-preview'>...</div><input id='attrs-19b8bf41-778e-4d52-8583-b62eeccf9a8f' class='xr-var-attrs-in' type='checkbox' disabled><label for='attrs-19b8bf41-778e-4d52-8583-b62eeccf9a8f' title='Show/Hide attributes'><svg class='icon xr-icon-file-text2'><use xlink:href='#icon-file-text2'></use></svg></label><input id='data-94bb7a15-e888-419d-9e5f-4d6299a1c5dd' class='xr-var-data-in' type='checkbox'><label for='data-94bb7a15-e888-419d-9e5f-4d6299a1c5dd' title='Show/Hide data repr'><svg class='icon xr-icon-database'><use xlink:href='#icon-database'></use></svg></label><div class='xr-var-attrs'><dl class='xr-attrs'></dl></div><div class='xr-var-data'><pre>[4590000 values with dtype=float64]</pre></div></li><li class='xr-var-item'><div class='xr-var-name'><span>turnoverRatio</span></div><div class='xr-var-dims'>(day, asset)</div><div class='xr-var-dtype'>float64</div><div class='xr-var-preview xr-preview'>...</div><input id='attrs-cde883a9-4580-4fda-b967-e9f04d00165a' class='xr-var-attrs-in' type='checkbox' disabled><label for='attrs-cde883a9-4580-4fda-b967-e9f04d00165a' title='Show/Hide attributes'><svg class='icon xr-icon-file-text2'><use xlink:href='#icon-file-text2'></use></svg></label><input id='data-5705dbb9-d311-4c52-8175-82d19fc9d9b8' class='xr-var-data-in' type='checkbox'><label for='data-5705dbb9-d311-4c52-8175-82d19fc9d9b8' title='Show/Hide data repr'><svg class='icon xr-icon-database'><use xlink:href='#icon-database'></use></svg></label><div class='xr-var-attrs'><dl class='xr-attrs'></dl></div><div class='xr-var-data'><pre>[91800 values with dtype=float64]</pre></div></li><li class='xr-var-item'><div class='xr-var-name'><span>transactionAmount</span></div><div class='xr-var-dims'>(day, asset)</div><div class='xr-var-dtype'>float64</div><div class='xr-var-preview xr-preview'>...</div><input id='attrs-7f1a62f7-eb58-46b7-a3fa-a98808c0e63a' class='xr-var-attrs-in' type='checkbox' disabled><label for='attrs-7f1a62f7-eb58-46b7-a3fa-a98808c0e63a' title='Show/Hide attributes'><svg class='icon xr-icon-file-text2'><use xlink:href='#icon-file-text2'></use></svg></label><input id='data-8ab7bf1f-2985-4996-a3a0-5ca85685a2b3' class='xr-var-data-in' type='checkbox'><label for='data-8ab7bf1f-2985-4996-a3a0-5ca85685a2b3' title='Show/Hide data repr'><svg class='icon xr-icon-database'><use xlink:href='#icon-database'></use></svg></label><div class='xr-var-attrs'><dl class='xr-attrs'></dl></div><div class='xr-var-data'><pre>[91800 values with dtype=float64]</pre></div></li><li class='xr-var-item'><div class='xr-var-name'><span>pe_ttm</span></div><div class='xr-var-dims'>(day, asset)</div><div class='xr-var-dtype'>float64</div><div class='xr-var-preview xr-preview'>...</div><input id='attrs-39985139-0c89-498c-b3d2-4437dea02d18' class='xr-var-attrs-in' type='checkbox' disabled><label for='attrs-39985139-0c89-498c-b3d2-4437dea02d18' title='Show/Hide attributes'><svg class='icon xr-icon-file-text2'><use xlink:href='#icon-file-text2'></use></svg></label><input id='data-969f8de0-6b6d-4a66-895e-96caf33cfbcc' class='xr-var-data-in' type='checkbox'><label for='data-969f8de0-6b6d-4a66-895e-96caf33cfbcc' title='Show/Hide data repr'><svg class='icon xr-icon-database'><use xlink:href='#icon-database'></use></svg></label><div class='xr-var-attrs'><dl class='xr-attrs'></dl></div><div class='xr-var-data'><pre>[91800 values with dtype=float64]</pre></div></li><li class='xr-var-item'><div class='xr-var-name'><span>pe</span></div><div class='xr-var-dims'>(day, asset)</div><div class='xr-var-dtype'>float64</div><div class='xr-var-preview xr-preview'>...</div><input id='attrs-55e3c78f-6ba2-492c-b20b-4a3c8331c3d4' class='xr-var-attrs-in' type='checkbox' disabled><label for='attrs-55e3c78f-6ba2-492c-b20b-4a3c8331c3d4' title='Show/Hide attributes'><svg class='icon xr-icon-file-text2'><use xlink:href='#icon-file-text2'></use></svg></label><input id='data-c667de72-7340-401a-b341-e9ece220f3e1' class='xr-var-data-in' type='checkbox'><label for='data-c667de72-7340-401a-b341-e9ece220f3e1' title='Show/Hide data repr'><svg class='icon xr-icon-database'><use xlink:href='#icon-database'></use></svg></label><div class='xr-var-attrs'><dl class='xr-attrs'></dl></div><div class='xr-var-data'><pre>[91800 values with dtype=float64]</pre></div></li><li class='xr-var-item'><div class='xr-var-name'><span>pb</span></div><div class='xr-var-dims'>(day, asset)</div><div class='xr-var-dtype'>float64</div><div class='xr-var-preview xr-preview'>...</div><input id='attrs-03e33189-a6fe-4862-ab70-022764b6afb0' class='xr-var-attrs-in' type='checkbox' disabled><label for='attrs-03e33189-a6fe-4862-ab70-022764b6afb0' title='Show/Hide attributes'><svg class='icon xr-icon-file-text2'><use xlink:href='#icon-file-text2'></use></svg></label><input id='data-996b60c9-5f28-4bd6-a666-3c21dbfd3eda' class='xr-var-data-in' type='checkbox'><label for='data-996b60c9-5f28-4bd6-a666-3c21dbfd3eda' title='Show/Hide data repr'><svg class='icon xr-icon-database'><use xlink:href='#icon-database'></use></svg></label><div class='xr-var-attrs'><dl class='xr-attrs'></dl></div><div class='xr-var-data'><pre>[91800 values with dtype=float64]</pre></div></li><li class='xr-var-item'><div class='xr-var-name'><span>ps</span></div><div class='xr-var-dims'>(day, asset)</div><div class='xr-var-dtype'>float64</div><div class='xr-var-preview xr-preview'>...</div><input id='attrs-8d94fff0-a6f8-4b65-804b-fa51b680ea69' class='xr-var-attrs-in' type='checkbox' disabled><label for='attrs-8d94fff0-a6f8-4b65-804b-fa51b680ea69' title='Show/Hide attributes'><svg class='icon xr-icon-file-text2'><use xlink:href='#icon-file-text2'></use></svg></label><input id='data-a204657c-f1ee-44be-ba16-140d38551c16' class='xr-var-data-in' type='checkbox'><label for='data-a204657c-f1ee-44be-ba16-140d38551c16' title='Show/Hide data repr'><svg class='icon xr-icon-database'><use xlink:href='#icon-database'></use></svg></label><div class='xr-var-attrs'><dl class='xr-attrs'></dl></div><div class='xr-var-data'><pre>[91800 values with dtype=float64]</pre></div></li><li class='xr-var-item'><div class='xr-var-name'><span>pcf</span></div><div class='xr-var-dims'>(day, asset)</div><div class='xr-var-dtype'>float64</div><div class='xr-var-preview xr-preview'>...</div><input id='attrs-4c518a3b-42c0-44ef-b20b-88d8235312c5' class='xr-var-attrs-in' type='checkbox' disabled><label for='attrs-4c518a3b-42c0-44ef-b20b-88d8235312c5' title='Show/Hide attributes'><svg class='icon xr-icon-file-text2'><use xlink:href='#icon-file-text2'></use></svg></label><input id='data-3f3a3116-952f-4567-954f-141e87bfb133' class='xr-var-data-in' type='checkbox'><label for='data-3f3a3116-952f-4567-954f-141e87bfb133' title='Show/Hide data repr'><svg class='icon xr-icon-database'><use xlink:href='#icon-database'></use></svg></label><div class='xr-var-attrs'><dl class='xr-attrs'></dl></div><div class='xr-var-data'><pre>[91800 values with dtype=float64]</pre></div></li><li class='xr-var-item'><div class='xr-var-name'><span>return</span></div><div class='xr-var-dims'>(day, asset)</div><div class='xr-var-dtype'>float64</div><div class='xr-var-preview xr-preview'>...</div><input id='attrs-039f138a-751b-47b0-8535-c828f976cba1' class='xr-var-attrs-in' type='checkbox' disabled><label for='attrs-039f138a-751b-47b0-8535-c828f976cba1' title='Show/Hide attributes'><svg class='icon xr-icon-file-text2'><use xlink:href='#icon-file-text2'></use></svg></label><input id='data-b27c4414-f2fb-4298-80b3-7196a0269fe3' class='xr-var-data-in' type='checkbox'><label for='data-b27c4414-f2fb-4298-80b3-7196a0269fe3' title='Show/Hide data repr'><svg class='icon xr-icon-database'><use xlink:href='#icon-database'></use></svg></label><div class='xr-var-attrs'><dl class='xr-attrs'></dl></div><div class='xr-var-data'><pre>[91800 values with dtype=float64]</pre></div></li><li class='xr-var-item'><div class='xr-var-name'><span>earnings_ttm</span></div><div class='xr-var-dims'>(day, asset)</div><div class='xr-var-dtype'>float64</div><div class='xr-var-preview xr-preview'>...</div><input id='attrs-4326d28e-35e3-4548-a179-faa7890a25da' class='xr-var-attrs-in' type='checkbox' disabled><label for='attrs-4326d28e-35e3-4548-a179-faa7890a25da' title='Show/Hide attributes'><svg class='icon xr-icon-file-text2'><use xlink:href='#icon-file-text2'></use></svg></label><input id='data-63ebdf73-c42c-487d-8ced-d91a7388b3a2' class='xr-var-data-in' type='checkbox'><label for='data-63ebdf73-c42c-487d-8ced-d91a7388b3a2' title='Show/Hide data repr'><svg class='icon xr-icon-database'><use xlink:href='#icon-database'></use></svg></label><div class='xr-var-attrs'><dl class='xr-attrs'></dl></div><div class='xr-var-data'><pre>[91800 values with dtype=float64]</pre></div></li><li class='xr-var-item'><div class='xr-var-name'><span>earnings</span></div><div class='xr-var-dims'>(day, asset)</div><div class='xr-var-dtype'>float64</div><div class='xr-var-preview xr-preview'>...</div><input id='attrs-81a487a1-9115-4136-b0a7-c3443792fd10' class='xr-var-attrs-in' type='checkbox' disabled><label for='attrs-81a487a1-9115-4136-b0a7-c3443792fd10' title='Show/Hide attributes'><svg class='icon xr-icon-file-text2'><use xlink:href='#icon-file-text2'></use></svg></label><input id='data-8170502a-0e99-4187-8f85-51361ac60388' class='xr-var-data-in' type='checkbox'><label for='data-8170502a-0e99-4187-8f85-51361ac60388' title='Show/Hide data repr'><svg class='icon xr-icon-database'><use xlink:href='#icon-database'></use></svg></label><div class='xr-var-attrs'><dl class='xr-attrs'></dl></div><div class='xr-var-data'><pre>[91800 values with dtype=float64]</pre></div></li><li class='xr-var-item'><div class='xr-var-name'><span>book</span></div><div class='xr-var-dims'>(day, asset)</div><div class='xr-var-dtype'>float64</div><div class='xr-var-preview xr-preview'>...</div><input id='attrs-d1940733-53f3-48b8-9b0a-df9a5d3e7549' class='xr-var-attrs-in' type='checkbox' disabled><label for='attrs-d1940733-53f3-48b8-9b0a-df9a5d3e7549' title='Show/Hide attributes'><svg class='icon xr-icon-file-text2'><use xlink:href='#icon-file-text2'></use></svg></label><input id='data-d1dda08e-d108-4a48-9f0d-41b67eccba68' class='xr-var-data-in' type='checkbox'><label for='data-d1dda08e-d108-4a48-9f0d-41b67eccba68' title='Show/Hide data repr'><svg class='icon xr-icon-database'><use xlink:href='#icon-database'></use></svg></label><div class='xr-var-attrs'><dl class='xr-attrs'></dl></div><div class='xr-var-data'><pre>[91800 values with dtype=float64]</pre></div></li><li class='xr-var-item'><div class='xr-var-name'><span>sales</span></div><div class='xr-var-dims'>(day, asset)</div><div class='xr-var-dtype'>float64</div><div class='xr-var-preview xr-preview'>...</div><input id='attrs-d3750ea8-bf2f-4478-aa71-455c20dba596' class='xr-var-attrs-in' type='checkbox' disabled><label for='attrs-d3750ea8-bf2f-4478-aa71-455c20dba596' title='Show/Hide attributes'><svg class='icon xr-icon-file-text2'><use xlink:href='#icon-file-text2'></use></svg></label><input id='data-e853808f-4e83-4b5a-bb13-6721c5d48579' class='xr-var-data-in' type='checkbox'><label for='data-e853808f-4e83-4b5a-bb13-6721c5d48579' title='Show/Hide data repr'><svg class='icon xr-icon-database'><use xlink:href='#icon-database'></use></svg></label><div class='xr-var-attrs'><dl class='xr-attrs'></dl></div><div class='xr-var-data'><pre>[91800 values with dtype=float64]</pre></div></li><li class='xr-var-item'><div class='xr-var-name'><span>cashflow</span></div><div class='xr-var-dims'>(day, asset)</div><div class='xr-var-dtype'>float64</div><div class='xr-var-preview xr-preview'>...</div><input id='attrs-b4a0df1f-c70a-492d-9342-30e1ec077f2f' class='xr-var-attrs-in' type='checkbox' disabled><label for='attrs-b4a0df1f-c70a-492d-9342-30e1ec077f2f' title='Show/Hide attributes'><svg class='icon xr-icon-file-text2'><use xlink:href='#icon-file-text2'></use></svg></label><input id='data-8f1fd13a-168a-45ce-904f-efa1148c0678' class='xr-var-data-in' type='checkbox'><label for='data-8f1fd13a-168a-45ce-904f-efa1148c0678' title='Show/Hide data repr'><svg class='icon xr-icon-database'><use xlink:href='#icon-database'></use></svg></label><div class='xr-var-attrs'><dl class='xr-attrs'></dl></div><div class='xr-var-data'><pre>[91800 values with dtype=float64]</pre></div></li><li class='xr-var-item'><div class='xr-var-name'><span>market_cap</span></div><div class='xr-var-dims'>(asset, day)</div><div class='xr-var-dtype'>float64</div><div class='xr-var-preview xr-preview'>...</div><input id='attrs-e382d5f8-8221-424c-8867-1fba35bd374d' class='xr-var-attrs-in' type='checkbox' disabled><label for='attrs-e382d5f8-8221-424c-8867-1fba35bd374d' title='Show/Hide attributes'><svg class='icon xr-icon-file-text2'><use xlink:href='#icon-file-text2'></use></svg></label><input id='data-fff6b787-52a1-4ec6-9ef6-0f5679449488' class='xr-var-data-in' type='checkbox'><label for='data-fff6b787-52a1-4ec6-9ef6-0f5679449488' title='Show/Hide data repr'><svg class='icon xr-icon-database'><use xlink:href='#icon-database'></use></svg></label><div class='xr-var-attrs'><dl class='xr-attrs'></dl></div><div class='xr-var-data'><pre>[91800 values with dtype=float64]</pre></div></li><li class='xr-var-item'><div class='xr-var-name'><span>market_share</span></div><div class='xr-var-dims'>(asset)</div><div class='xr-var-dtype'>float64</div><div class='xr-var-preview xr-preview'>...</div><input id='attrs-45498926-9c8b-4876-8462-49061e4b4854' class='xr-var-attrs-in' type='checkbox' disabled><label for='attrs-45498926-9c8b-4876-8462-49061e4b4854' title='Show/Hide attributes'><svg class='icon xr-icon-file-text2'><use xlink:href='#icon-file-text2'></use></svg></label><input id='data-9faa5a3a-e5c6-4d63-a505-56e2df176fbb' class='xr-var-data-in' type='checkbox'><label for='data-9faa5a3a-e5c6-4d63-a505-56e2df176fbb' title='Show/Hide data repr'><svg class='icon xr-icon-database'><use xlink:href='#icon-database'></use></svg></label><div class='xr-var-attrs'><dl class='xr-attrs'></dl></div><div class='xr-var-data'><pre>[54 values with dtype=float64]</pre></div></li><li class='xr-var-item'><div class='xr-var-name'><span>avg_price</span></div><div class='xr-var-dims'>(day, asset)</div><div class='xr-var-dtype'>float64</div><div class='xr-var-preview xr-preview'>...</div><input id='attrs-ee0e5052-3f09-49c1-937c-8e7b14c2f2c3' class='xr-var-attrs-in' type='checkbox' disabled><label for='attrs-ee0e5052-3f09-49c1-937c-8e7b14c2f2c3' title='Show/Hide attributes'><svg class='icon xr-icon-file-text2'><use xlink:href='#icon-file-text2'></use></svg></label><input id='data-771eadc4-d879-4c2b-9bb5-ab9459c61452' class='xr-var-data-in' type='checkbox'><label for='data-771eadc4-d879-4c2b-9bb5-ab9459c61452' title='Show/Hide data repr'><svg class='icon xr-icon-database'><use xlink:href='#icon-database'></use></svg></label><div class='xr-var-attrs'><dl class='xr-attrs'></dl></div><div class='xr-var-data'><pre>[91800 values with dtype=float64]</pre></div></li><li class='xr-var-item'><div class='xr-var-name'><span>volatility</span></div><div class='xr-var-dims'>(day, asset)</div><div class='xr-var-dtype'>float64</div><div class='xr-var-preview xr-preview'>...</div><input id='attrs-c84577bf-bdb8-4444-bc4e-90940d5c2a3c' class='xr-var-attrs-in' type='checkbox' disabled><label for='attrs-c84577bf-bdb8-4444-bc4e-90940d5c2a3c' title='Show/Hide attributes'><svg class='icon xr-icon-file-text2'><use xlink:href='#icon-file-text2'></use></svg></label><input id='data-17da4161-b887-4648-84fc-02ee78f98a10' class='xr-var-data-in' type='checkbox'><label for='data-17da4161-b887-4648-84fc-02ee78f98a10' title='Show/Hide data repr'><svg class='icon xr-icon-database'><use xlink:href='#icon-database'></use></svg></label><div class='xr-var-attrs'><dl class='xr-attrs'></dl></div><div class='xr-var-data'><pre>[91800 values with dtype=float64]</pre></div></li><li class='xr-var-item'><div class='xr-var-name'><span>mean_volume</span></div><div class='xr-var-dims'>(day, asset)</div><div class='xr-var-dtype'>float64</div><div class='xr-var-preview xr-preview'>...</div><input id='attrs-5229d6da-e254-489d-8515-a51c4601a40b' class='xr-var-attrs-in' type='checkbox' disabled><label for='attrs-5229d6da-e254-489d-8515-a51c4601a40b' title='Show/Hide attributes'><svg class='icon xr-icon-file-text2'><use xlink:href='#icon-file-text2'></use></svg></label><input id='data-2a9fa4ae-77fd-4f70-911e-985491234315' class='xr-var-data-in' type='checkbox'><label for='data-2a9fa4ae-77fd-4f70-911e-985491234315' title='Show/Hide data repr'><svg class='icon xr-icon-database'><use xlink:href='#icon-database'></use></svg></label><div class='xr-var-attrs'><dl class='xr-attrs'></dl></div><div class='xr-var-data'><pre>[91800 values with dtype=float64]</pre></div></li><li class='xr-var-item'><div class='xr-var-name'><span>close_0</span></div><div class='xr-var-dims'>(day, asset)</div><div class='xr-var-dtype'>float64</div><div class='xr-var-preview xr-preview'>...</div><input id='attrs-76cc714a-c517-4284-9e56-3df9a081b435' class='xr-var-attrs-in' type='checkbox' disabled><label for='attrs-76cc714a-c517-4284-9e56-3df9a081b435' title='Show/Hide attributes'><svg class='icon xr-icon-file-text2'><use xlink:href='#icon-file-text2'></use></svg></label><input id='data-c50fc0ae-5559-4ab2-b163-4edbbcc80b46' class='xr-var-data-in' type='checkbox'><label for='data-c50fc0ae-5559-4ab2-b163-4edbbcc80b46' title='Show/Hide data repr'><svg class='icon xr-icon-database'><use xlink:href='#icon-database'></use></svg></label><div class='xr-var-attrs'><dl class='xr-attrs'></dl></div><div class='xr-var-data'><pre>[91800 values with dtype=float64]</pre></div></li><li class='xr-var-item'><div class='xr-var-name'><span>open_0</span></div><div class='xr-var-dims'>(day, asset)</div><div class='xr-var-dtype'>float64</div><div class='xr-var-preview xr-preview'>...</div><input id='attrs-ce8057d1-f447-4ead-b92f-1dd3b28fd7e7' class='xr-var-attrs-in' type='checkbox' disabled><label for='attrs-ce8057d1-f447-4ead-b92f-1dd3b28fd7e7' title='Show/Hide attributes'><svg class='icon xr-icon-file-text2'><use xlink:href='#icon-file-text2'></use></svg></label><input id='data-f093e688-a85a-461a-bc38-ba0c160d401c' class='xr-var-data-in' type='checkbox'><label for='data-f093e688-a85a-461a-bc38-ba0c160d401c' title='Show/Hide data repr'><svg class='icon xr-icon-database'><use xlink:href='#icon-database'></use></svg></label><div class='xr-var-attrs'><dl class='xr-attrs'></dl></div><div class='xr-var-data'><pre>[91800 values with dtype=float64]</pre></div></li><li class='xr-var-item'><div class='xr-var-name'><span>high_0</span></div><div class='xr-var-dims'>(day, asset)</div><div class='xr-var-dtype'>float64</div><div class='xr-var-preview xr-preview'>...</div><input id='attrs-b94c4fc5-cba9-43f5-a28b-a0409b95d082' class='xr-var-attrs-in' type='checkbox' disabled><label for='attrs-b94c4fc5-cba9-43f5-a28b-a0409b95d082' title='Show/Hide attributes'><svg class='icon xr-icon-file-text2'><use xlink:href='#icon-file-text2'></use></svg></label><input id='data-3dff255e-42a8-41e3-88b4-16105245568e' class='xr-var-data-in' type='checkbox'><label for='data-3dff255e-42a8-41e3-88b4-16105245568e' title='Show/Hide data repr'><svg class='icon xr-icon-database'><use xlink:href='#icon-database'></use></svg></label><div class='xr-var-attrs'><dl class='xr-attrs'></dl></div><div class='xr-var-data'><pre>[91800 values with dtype=float64]</pre></div></li><li class='xr-var-item'><div class='xr-var-name'><span>low_0</span></div><div class='xr-var-dims'>(day, asset)</div><div class='xr-var-dtype'>float64</div><div class='xr-var-preview xr-preview'>...</div><input id='attrs-4624e296-9b8b-4aaf-8eab-a50733e5c49f' class='xr-var-attrs-in' type='checkbox' disabled><label for='attrs-4624e296-9b8b-4aaf-8eab-a50733e5c49f' title='Show/Hide attributes'><svg class='icon xr-icon-file-text2'><use xlink:href='#icon-file-text2'></use></svg></label><input id='data-e4004e23-e431-4600-854f-91b7f7c54851' class='xr-var-data-in' type='checkbox'><label for='data-e4004e23-e431-4600-854f-91b7f7c54851' title='Show/Hide data repr'><svg class='icon xr-icon-database'><use xlink:href='#icon-database'></use></svg></label><div class='xr-var-attrs'><dl class='xr-attrs'></dl></div><div class='xr-var-data'><pre>[91800 values with dtype=float64]</pre></div></li><li class='xr-var-item'><div class='xr-var-name'><span>return_0</span></div><div class='xr-var-dims'>(day, asset)</div><div class='xr-var-dtype'>float64</div><div class='xr-var-preview xr-preview'>...</div><input id='attrs-10e6d59f-5cd3-41a0-b5d7-04ac8aef344a' class='xr-var-attrs-in' type='checkbox' disabled><label for='attrs-10e6d59f-5cd3-41a0-b5d7-04ac8aef344a' title='Show/Hide attributes'><svg class='icon xr-icon-file-text2'><use xlink:href='#icon-file-text2'></use></svg></label><input id='data-d136e774-9279-4783-90b0-27e9ecd5937b' class='xr-var-data-in' type='checkbox'><label for='data-d136e774-9279-4783-90b0-27e9ecd5937b' title='Show/Hide data repr'><svg class='icon xr-icon-database'><use xlink:href='#icon-database'></use></svg></label><div class='xr-var-attrs'><dl class='xr-attrs'></dl></div><div class='xr-var-data'><pre>[91800 values with dtype=float64]</pre></div></li></ul></div></li><li class='xr-section-item'><input id='section-a504aa1e-a12b-4cac-ba01-d903e739781f' class='xr-section-summary-in' type='checkbox'  ><label for='section-a504aa1e-a12b-4cac-ba01-d903e739781f' class='xr-section-summary' >Indexes: <span>(3)</span></label><div class='xr-section-inline-details'></div><div class='xr-section-details'><ul class='xr-var-list'><li class='xr-var-item'><div class='xr-index-name'><div>day</div></div><div class='xr-index-preview'>PandasIndex</div><div></div><input id='index-886d3912-dfdc-45b6-9d88-da492359b3cb' class='xr-index-data-in' type='checkbox'/><label for='index-886d3912-dfdc-45b6-9d88-da492359b3cb' title='Show/Hide index repr'><svg class='icon xr-icon-database'><use xlink:href='#icon-database'></use></svg></label><div class='xr-index-data'><pre>PandasIndex(Int64Index([   1,    2,    3,    4,    5,    6,    7,    8,    9,   10,\n",
       "            ...\n",
       "            1691, 1692, 1693, 1694, 1695, 1696, 1697, 1698, 1699, 1700],\n",
       "           dtype=&#x27;int64&#x27;, name=&#x27;day&#x27;, length=1700))</pre></div></li><li class='xr-var-item'><div class='xr-index-name'><div>asset</div></div><div class='xr-index-preview'>PandasIndex</div><div></div><input id='index-e7a7ad89-0776-46f7-bf18-14e6d8bf7d52' class='xr-index-data-in' type='checkbox'/><label for='index-e7a7ad89-0776-46f7-bf18-14e6d8bf7d52' title='Show/Hide index repr'><svg class='icon xr-icon-database'><use xlink:href='#icon-database'></use></svg></label><div class='xr-index-data'><pre>PandasIndex(Int64Index([ 0,  1,  2,  3,  4,  5,  6,  7,  8,  9, 10, 11, 12, 13, 14, 15, 16,\n",
       "            17, 18, 19, 20, 21, 22, 23, 24, 25, 26, 27, 28, 29, 30, 31, 32, 33,\n",
       "            34, 35, 36, 37, 38, 39, 40, 41, 42, 43, 44, 45, 46, 47, 48, 49, 50,\n",
       "            51, 52, 53],\n",
       "           dtype=&#x27;int64&#x27;, name=&#x27;asset&#x27;))</pre></div></li><li class='xr-var-item'><div class='xr-index-name'><div>timeslot</div></div><div class='xr-index-preview'>PandasIndex</div><div></div><input id='index-9bf949d6-1f63-40c1-a626-81ffccdfa26b' class='xr-index-data-in' type='checkbox'/><label for='index-9bf949d6-1f63-40c1-a626-81ffccdfa26b' title='Show/Hide index repr'><svg class='icon xr-icon-database'><use xlink:href='#icon-database'></use></svg></label><div class='xr-index-data'><pre>PandasIndex(Int64Index([ 1,  2,  3,  4,  5,  6,  7,  8,  9, 10, 11, 12, 13, 14, 15, 16, 17,\n",
       "            18, 19, 20, 21, 22, 23, 24, 25, 26, 27, 28, 29, 30, 31, 32, 33, 34,\n",
       "            35, 36, 37, 38, 39, 40, 41, 42, 43, 44, 45, 46, 47, 48, 49, 50],\n",
       "           dtype=&#x27;int64&#x27;, name=&#x27;timeslot&#x27;))</pre></div></li></ul></div></li><li class='xr-section-item'><input id='section-d733a325-9d1d-459f-b881-fa5df307b28a' class='xr-section-summary-in' type='checkbox' disabled ><label for='section-d733a325-9d1d-459f-b881-fa5df307b28a' class='xr-section-summary'  title='Expand/collapse section'>Attributes: <span>(0)</span></label><div class='xr-section-inline-details'></div><div class='xr-section-details'><dl class='xr-attrs'></dl></div></li></ul></div></div>"
      ],
      "text/plain": [
       "<xarray.Dataset>\n",
       "Dimensions:            (day: 1700, asset: 54, timeslot: 50)\n",
       "Coordinates:\n",
       "  * day                (day) int32 1 2 3 4 5 6 ... 1695 1696 1697 1698 1699 1700\n",
       "  * asset              (asset) int32 0 1 2 3 4 5 6 7 ... 46 47 48 49 50 51 52 53\n",
       "  * timeslot           (timeslot) int32 1 2 3 4 5 6 7 8 ... 44 45 46 47 48 49 50\n",
       "Data variables: (12/29)\n",
       "    open               (day, asset, timeslot) float64 ...\n",
       "    close              (day, asset, timeslot) float64 ...\n",
       "    high               (day, asset, timeslot) float64 ...\n",
       "    low                (day, asset, timeslot) float64 ...\n",
       "    volume             (day, asset, timeslot) float64 ...\n",
       "    money              (day, asset, timeslot) float64 ...\n",
       "    ...                 ...\n",
       "    mean_volume        (day, asset) float64 ...\n",
       "    close_0            (day, asset) float64 ...\n",
       "    open_0             (day, asset) float64 ...\n",
       "    high_0             (day, asset) float64 ...\n",
       "    low_0              (day, asset) float64 ...\n",
       "    return_0           (day, asset) float64 ..."
      ]
     },
     "execution_count": 4,
     "metadata": {},
     "output_type": "execute_result"
    }
   ],
   "source": [
    "ds"
   ]
  },
  {
   "cell_type": "markdown",
   "id": "fb19821c",
   "metadata": {},
   "source": [
    "## Feature"
   ]
  },
  {
   "cell_type": "code",
   "execution_count": 5,
   "id": "2beee851",
   "metadata": {
    "ExecuteTime": {
     "end_time": "2023-03-28T22:50:01.966003Z",
     "start_time": "2023-03-28T22:50:01.928447Z"
    }
   },
   "outputs": [],
   "source": [
    "start_day = 80\n",
    "end_day = 200\n",
    "val_split_day = 150\n",
    "_ds = ds.sel(day=slice(start_day-20, end_day)).copy()"
   ]
  },
  {
   "cell_type": "code",
   "execution_count": 6,
   "id": "4c1976c1",
   "metadata": {
    "ExecuteTime": {
     "end_time": "2023-03-28T22:48:58.477523Z",
     "start_time": "2023-03-28T22:48:58.455856Z"
    }
   },
   "outputs": [],
   "source": [
    "start_day = 1030\n",
    "end_day = 1300\n",
    "val_split_day = 1250\n",
    "_ds = ds.sel(day=slice(start_day-20, end_day)).copy()"
   ]
  },
  {
   "cell_type": "code",
   "execution_count": 7,
   "id": "1bef4416",
   "metadata": {
    "ExecuteTime": {
     "end_time": "2023-03-28T23:32:05.618004Z",
     "start_time": "2023-03-28T23:32:05.597961Z"
    }
   },
   "outputs": [],
   "source": [
    "start_day = 640\n",
    "end_day = 1000\n",
    "val_split_day = 900\n",
    "lookback = 20\n",
    "lookforward = 20\n",
    "_ds = ds.sel(day=slice(start_day-lookback, end_day+lookforward)).copy()"
   ]
  },
  {
   "cell_type": "code",
   "execution_count": 8,
   "id": "4b0012b4",
   "metadata": {
    "ExecuteTime": {
     "end_time": "2023-03-28T23:32:15.184182Z",
     "start_time": "2023-03-28T23:32:15.160621Z"
    }
   },
   "outputs": [],
   "source": [
    "# long term trend!\n",
    "# ds['return50'] = (_ds['close_0'] / _ds['close_0'].shift(day=50) - 1).shift(day=-50)\n",
    "# _ds['return20'] = (_ds['close_0'] / _ds['close_0'].shift(day=20) - 1).shift(day=-20)\n",
    "# _ds['return10'] = (_ds['close_0'] / _ds['close_0'].shift(day=10) - 1).shift(day=-10)\n",
    "# _ds['return5'] = (_ds['close_0'] / _ds['close_0'].shift(day=5) - 1).shift(day=-5)"
   ]
  },
  {
   "cell_type": "code",
   "execution_count": 9,
   "id": "0b669eb0",
   "metadata": {
    "ExecuteTime": {
     "end_time": "2023-03-28T23:32:16.340931Z",
     "start_time": "2023-03-28T23:32:16.281810Z"
    }
   },
   "outputs": [],
   "source": [
    "def quantizer(da, n_bins, start_day, val_split_day, end_day):\n",
    "    est = KBinsDiscretizer(n_bins=n_bins, encode='ordinal', strategy='quantile')\n",
    "    train_bin = est.fit_transform(da.sel(day=range(start_day, val_split_day)).transpose('day', 'asset').as_numpy())\n",
    "    val_bin = est.transform(da.sel(day=slice(val_split_day, end_day)).transpose('day', 'asset').as_numpy())\n",
    "    return ('day', 'asset'), np.concatenate([train_bin, val_bin]).astype(int)\n",
    "\n",
    "## fundamental feature\n",
    "_ds['is_market_cap_largest'] = (_ds['market_cap'].max(dim='asset') == _ds['market_cap']).astype(int)\n",
    "_ds['market_cap_bin'] = quantizer(_ds['market_cap'], 4, start_day-lookback, val_split_day, end_day+lookforward)"
   ]
  },
  {
   "cell_type": "code",
   "execution_count": 10,
   "id": "947e963f",
   "metadata": {
    "ExecuteTime": {
     "end_time": "2023-03-28T23:43:07.360287Z",
     "start_time": "2023-03-28T23:43:07.270591Z"
    }
   },
   "outputs": [],
   "source": [
    "## historical features\n",
    "for i in range(1, lookback+1):\n",
    "    _ds[f'close 0 to {i} ratio diff'] = _ds['close_0'] / _ds['close_0'].shift(day=i) - 1\n"
   ]
  },
  {
   "cell_type": "code",
   "execution_count": 11,
   "id": "5e03a759",
   "metadata": {
    "ExecuteTime": {
     "end_time": "2023-03-29T00:33:59.691156Z",
     "start_time": "2023-03-29T00:33:59.659102Z"
    },
    "pycharm": {
     "is_executing": true
    }
   },
   "outputs": [
    {
     "data": {
      "text/plain": [
       "array([21.3022, 21.1444, 20.2826, 20.2705, 20.5132, 20.4404, 20.7196,\n",
       "       20.671 , 20.5011, 20.756 , 20.8167, 20.6589, 20.2826, 20.5132,\n",
       "       20.6953, 20.0034, 19.615 , 19.7607, 19.6514, 19.7607, 19.5179,\n",
       "       19.7849, 19.8214, 19.8456, 19.9427, 19.8942, 19.967 , 19.967 ,\n",
       "       19.7971, 19.53  , 20.0641, 20.3433, 20.4161, 20.4161, 20.3554,\n",
       "       20.9016, 20.9259, 20.8652, 20.5739, 20.8409, 20.7317, 21.3629,\n",
       "       21.9455, 21.2051, 21.1444, 21.023 , 21.2415, 21.2051, 20.7803,\n",
       "       20.671 , 20.6225, 20.4283, 19.5665, 19.6514, 19.6029, 19.4815,\n",
       "       19.7121, 19.8214, 19.7971, 19.6514, 19.7485, 19.7121, 19.4451,\n",
       "       19.3601, 19.2387, 19.0202, 19.0202, 19.2266, 19.3116, 19.0445,\n",
       "       18.9231, 18.8625, 18.2313, 18.2313, 18.0128, 17.7458, 17.6608,\n",
       "       17.8064, 17.8793, 18.0007, 18.8139, 18.6925, 18.644 , 18.207 ,\n",
       "       18.0856, 18.1342, 17.7579, 18.0249, 17.855 , 18.0007, 17.6851,\n",
       "       17.4666, 17.151 , 17.1631, 17.0782, 17.0539, 17.1631, 16.9811,\n",
       "       16.5562, 16.3742, 16.447 , 16.5684, 16.6169, 16.4834, 16.4713,\n",
       "       16.3863, 16.3377, 15.9008, 15.8886, 15.7794, 15.8158, 15.7066,\n",
       "       15.5002, 15.6702, 15.8644, 15.8158, 15.7794, 16.1314, 16.0829,\n",
       "       16.1193, 15.9857, 16.01  , 15.8158, 15.5731, 15.6216, 15.5245,\n",
       "       15.0754, 14.687 , 14.7113, 14.7841, 15.039 , 14.954 , 14.9662,\n",
       "       15.1482, 15.0147, 14.9662, 14.7234, 14.6506, 14.3228, 13.6795,\n",
       "       13.6067, 13.3275, 13.0483, 13.0241, 13.2426, 13.2183, 13.2426,\n",
       "       13.3882, 13.4732, 13.3397, 13.5339, 13.7524, 13.5824, 13.9344,\n",
       "       14.0801, 13.898 , 13.9101, 13.9101, 13.8009, 14.5777, 14.5049,\n",
       "       14.4442, 14.5899, 14.2743, 14.2379, 14.25  , 14.5656, 14.8084,\n",
       "       15.1482, 14.8933, 13.7281, 13.8859, 13.6674, 13.4975, 13.5217,\n",
       "       13.5217, 13.3154, 13.2061, 13.461 , 13.3518, 13.4004, 13.3032,\n",
       "       13.2911, 13.194 , 13.1333, 12.8784, 13.0119, 12.9755, 12.7206,\n",
       "       12.7085, 12.757 , 12.4779, 11.8831, 11.8346, 11.8103, 11.8224,\n",
       "       11.8224, 11.8467, 11.9195, 11.8346, 11.8588, 11.8103, 11.6889,\n",
       "       11.7253, 11.6525, 11.5918, 11.8224, 11.8103, 11.7132, 11.6646,\n",
       "       11.6282, 11.4583, 11.2641, 10.8514, 10.6086, 10.5722, 10.5965,\n",
       "       10.7421, 10.7057, 10.6936, 10.4994, 10.2809, 10.3052, 10.293 ,\n",
       "       10.2202, 10.1231,  9.6983,  9.1763,  9.1156,  9.1521,  9.1885,\n",
       "        9.2006,  9.237 ,  9.1763,  9.3948,  9.3584,  9.3827,  9.3463,\n",
       "        9.2613,  9.1278,  9.2127,  9.2734,  9.1763,  9.2492,  9.2613,\n",
       "        9.2856,  9.4676,  9.4191,  9.3827,  9.4434,  9.5162,  9.9167,\n",
       "        9.8075,  9.9774,  9.8925,  9.759 ,  9.9653,  9.8075,  9.5769,\n",
       "        9.3341,  9.2613,  9.2492,  9.2734,  9.3948,  9.3341,  9.2734,\n",
       "        9.237 ,  9.2249,  9.0307,  9.0185,  8.9457,  8.9943,  8.9336,\n",
       "        8.97  ,  8.9578,  9.1278,  9.237 ,  9.1642,  9.1763,  9.0428,\n",
       "        9.0185,  9.0671,  9.0914,  8.97  ,  9.0064,  9.7347, 10.5358,\n",
       "       10.5843, 10.815 , 11.3248, 11.167 , 11.8952, 11.7132, 11.5675,\n",
       "       11.2641, 11.2883, 11.7617, 11.167 , 11.0577, 11.0699, 11.0456,\n",
       "       11.3976, 11.3126, 10.9606, 10.9849, 10.8271, 10.8271, 10.4387,\n",
       "       10.8028, 11.3733, 11.1791, 11.1184, 10.5722, 10.7664, 10.7785,\n",
       "       10.9728, 11.167 , 11.4583, 11.8346, 12.0652, 11.6525, 11.5432,\n",
       "       11.4825, 11.2762, 11.4825, 11.5311, 11.434 , 11.4704, 11.6768,\n",
       "       11.4097, 11.2519, 10.8028, 10.8514, 10.6814, 10.6207, 10.8271,\n",
       "       10.8028, 10.9485, 10.73  , 11.0334, 10.8878, 10.7907, 10.6572,\n",
       "       10.6086, 10.9363, 11.3612, 11.3005, 11.4219, 11.349 , 11.1912,\n",
       "       11.1548, 11.0213, 10.9242, 10.8392, 10.7907, 10.5843, 11.2277,\n",
       "       11.2034, 10.8756, 10.6936, 10.8635, 11.7739, 12.8784, 12.6963,\n",
       "       12.6842, 12.8663, 12.575 , 12.5871, 13.2061, 13.0969, 12.9755,\n",
       "       12.6357, 12.9391, 12.8177, 12.5264, 12.5628, 12.575 , 12.575 ,\n",
       "       12.3322, 12.3565, 12.2594, 12.405 , 12.757 , 12.7206, 12.9391,\n",
       "       13.0969, 13.0605, 13.1333, 13.5339, 12.8663, 12.9391, 12.8784,\n",
       "       13.4489, 13.7524, 13.4489, 13.2304, 13.2547, 13.6188, 13.7038,\n",
       "       13.9223, 13.7159])"
      ]
     },
     "execution_count": 11,
     "metadata": {},
     "output_type": "execute_result"
    }
   ],
   "source": [
    "_ds['high_0'].to_numpy()[:, 0]"
   ]
  },
  {
   "cell_type": "code",
   "execution_count": 12,
   "id": "e4564816",
   "metadata": {
    "ExecuteTime": {
     "end_time": "2023-03-29T00:43:17.654285Z",
     "start_time": "2023-03-29T00:43:17.458375Z"
    },
    "pycharm": {
     "is_executing": true
    }
   },
   "outputs": [],
   "source": [
    "## technical\n",
    "from collections import defaultdict\n",
    "technicals = defaultdict(list)\n",
    "for asset in range(54):\n",
    "    h = _ds['high_0'].to_numpy()[:, asset]\n",
    "    o = _ds['open_0'].to_numpy()[:, asset]\n",
    "    l = _ds['low_0'].to_numpy()[:, asset]\n",
    "    c = _ds['close_0'].to_numpy()[:, asset]\n",
    "    \n",
    "    technicals['sar'].append(ta.SAR(h, l))\n",
    "    technicals['sarext'].append(ta.SAREXT(h, l))\n",
    "    technicals['rsi'].append(ta.RSI(c, timeperiod=14) - 50)\n",
    "    technicals['ht_dcperiod'].append(ta.HT_DCPERIOD(c))\n",
    "    technicals['ht_phasor_inphasse'].append(ta.HT_DCPHASE(c))\n",
    "    sc, sl = ta.HT_SINE(c)\n",
    "    technicals['ht_sine_sine'].append(sc)\n",
    "    technicals['ht_sine_leadsine'].append(sl)\n",
    "\n",
    "for k, l in technicals.items():\n",
    "    _ds[k] = ('asset', 'day'), np.stack(l, axis=0)\n",
    "    _ds[k].fillna(_ds[k].isel(day=1))\n",
    "    "
   ]
  },
  {
   "cell_type": "code",
   "execution_count": 13,
   "id": "3223b53b",
   "metadata": {
    "ExecuteTime": {
     "end_time": "2023-03-29T00:23:30.934611Z",
     "start_time": "2023-03-29T00:23:30.399815Z"
    },
    "pycharm": {
     "is_executing": true
    }
   },
   "outputs": [],
   "source": [
    "## adding intraday feature\n",
    "_ds['volume_0'] = _ds['volume'].sum(dim='timeslot')\n",
    "_ds['morning_volume_ratio'] = _ds['volume'].isel(timeslot=slice(2)).sum(dim='timeslot') / _ds['volume_0']\n",
    "_ds['tail_volume_ratio'] = _ds['volume'].isel(timeslot=slice(-3, -1)).sum(dim='timeslot') / _ds['volume_0']\n",
    "_ds['morning_turnover'] = _ds['morning_volume_ratio'] * _ds['turnoverRatio']\n",
    "_ds['tail_turnover'] = _ds['tail_volume_ratio'] * _ds['turnoverRatio']\n",
    "\n",
    "windows = 3, 5, 10, 20\n",
    "tags = 'volume_0', 'morning_volume_ratio', 'tail_volume_ratio', 'close_0', 'volatility'\n",
    "for w in windows:\n",
    "    for tag in tags:\n",
    "        _ds[f'{tag}_moving_{w}_ratio'] = _ds[tag] / (_ds[tag].rolling(day=w).mean()+1e-6) - 1\n",
    "        _ds[f'{tag}_moving_{w}_2max'] = 1 - _ds[tag] / (_ds[tag].rolling(day=w).max()+1e-6)\n",
    "        _ds[f'{tag}_moving_{w}_2min'] = _ds[tag] / (_ds[tag].rolling(day=w).min()+1e-6) - 1"
   ]
  },
  {
   "cell_type": "code",
   "execution_count": 14,
   "id": "3cf1e97b",
   "metadata": {
    "ExecuteTime": {
     "end_time": "2023-03-29T00:44:09.916456Z",
     "start_time": "2023-03-29T00:44:09.897507Z"
    },
    "pycharm": {
     "is_executing": true
    }
   },
   "outputs": [],
   "source": [
    "trad_features = [\n",
    "    'pe', 'pe_ttm', 'pb', 'ps', 'pcf', 'turnoverRatio',\n",
    "    'earnings', 'earnings_ttm', 'book', 'sales', 'cashflow',\n",
    "    'volatility',\n",
    "]\n",
    "technicals = [\n",
    "    'sar', 'sarext', 'rsi', 'ht_dcperiod', 'ht_phasor_inphasse', 'ht_sine_sine', 'ht_sine_leadsine',\n",
    "]\n",
    "market_cap_features = [\n",
    "    'market_cap', 'is_market_cap_largest', 'market_cap_bin',\n",
    "]\n",
    "outstanding_features = [\n",
    "    'morning_volume_ratio', 'tail_volume_ratio', 'morning_turnover', 'tail_turnover',\n",
    "]\n",
    "relative_features = [\n",
    "    f'{tag}_moving_{w}_{pf}' for tag, w, pf in itertools.product(tags, windows, ['ratio', '2max', '2min'])\n",
    "]\n",
    "categorical_feature = [\n",
    "    'is_market_cap_largest', 'market_cap_bin',\n",
    "]"
   ]
  },
  {
   "cell_type": "code",
   "execution_count": 15,
   "id": "f1b354d7",
   "metadata": {
    "ExecuteTime": {
     "end_time": "2023-03-29T00:51:03.079549Z",
     "start_time": "2023-03-29T00:51:03.060544Z"
    },
    "pycharm": {
     "is_executing": true
    }
   },
   "outputs": [],
   "source": [
    "# features = [f'close 0 to {i} ratio diff' for i in range(1, 15)] + ['volatility']\n",
    "# categorical_feature = []\n",
    "\n",
    "features = [f'close 0 to {i} ratio diff' for i in range(1, 15)] + technicals + trad_features + outstanding_features + relative_features\n",
    "categorical_feature = []\n",
    "\n",
    "# features = [f'close 0 to {i} ratio diff' for i in range(5, 50, 5)] + ['volatility']\n",
    "# categorical_feature = []"
   ]
  },
  {
   "cell_type": "markdown",
   "id": "5e818793",
   "metadata": {},
   "source": [
    "## LightGBM"
   ]
  },
  {
   "cell_type": "code",
   "execution_count": 64,
   "id": "9a871654",
   "metadata": {
    "ExecuteTime": {
     "end_time": "2023-03-29T00:51:03.854899Z",
     "start_time": "2023-03-29T00:51:03.828488Z"
    },
    "pycharm": {
     "is_executing": true
    }
   },
   "outputs": [],
   "source": [
    "target = 'return'\n",
    "_start = val_split_day - 20\n",
    "_end = val_split_day + 1"
   ]
  },
  {
   "cell_type": "code",
   "execution_count": 65,
   "id": "92cc7953",
   "metadata": {
    "ExecuteTime": {
     "end_time": "2023-03-29T00:51:04.172734Z",
     "start_time": "2023-03-29T00:51:04.111831Z"
    },
    "pycharm": {
     "is_executing": true
    }
   },
   "outputs": [],
   "source": [
    "enable_asset = 'asset' in categorical_feature\n",
    "\n",
    "train_df = _ds[features + [target]].sel(day=range(_start, val_split_day)).to_dataframe(dim_order=['day', 'asset'])\n",
    "val_df = _ds[features + [target]].sel(day=slice(val_split_day, _end)).to_dataframe(dim_order=['day', 'asset'])\n",
    "if enable_asset:\n",
    "    train_df.reset_index(level='asset', inplace=True)\n",
    "    val_df.reset_index(level='asset', inplace=True)\n",
    "train_X, train_y = train_df[features + (['asset'] if enable_asset else [])].copy(), train_df[target].copy()\n",
    "train_y_binary = (train_y > 0).astype(int)\n",
    "val_X, val_y = val_df[features + (['asset'] if enable_asset else [])].copy(), val_df[target].copy()\n",
    "val_y_binary = (val_y > 0).astype(int)"
   ]
  },
  {
   "cell_type": "code",
   "execution_count": 66,
   "id": "7e96859b",
   "metadata": {
    "ExecuteTime": {
     "end_time": "2023-03-29T00:51:05.756695Z",
     "start_time": "2023-03-29T00:51:05.362871Z"
    },
    "pycharm": {
     "is_executing": true
    },
    "scrolled": false
   },
   "outputs": [],
   "source": [
    "def process_extreme_values(X, y):\n",
    "    for col in X:\n",
    "        if col == 'asset' or col == 'close_0':\n",
    "            continue\n",
    "        lq, uq = X[col].quantile(5e-3), X[col].quantile(1-5e-3)\n",
    "        X[col] = np.clip(X[col], lq, uq)\n",
    "    ylq, yuq = y.quantile(2e-4), y.quantile(1-2e-4)\n",
    "    mask = (y > ylq) & (y < yuq)\n",
    "    return X.loc[mask], y.loc[mask]\n",
    "\n",
    "train_X, train_y = process_extreme_values(train_X, train_y)\n",
    "val_X, val_y = process_extreme_values(val_X, val_y)"
   ]
  },
  {
   "cell_type": "code",
   "execution_count": 67,
   "id": "7de89654",
   "metadata": {
    "ExecuteTime": {
     "end_time": "2023-03-29T00:51:05.831688Z",
     "start_time": "2023-03-29T00:51:05.806212Z"
    },
    "pycharm": {
     "is_executing": true
    }
   },
   "outputs": [],
   "source": [
    "train_data = lgb.Dataset(data=train_X, label=train_y, categorical_feature=categorical_feature, free_raw_data=False)\n",
    "val_data = lgb.Dataset(data=val_X, label=val_y, categorical_feature=categorical_feature, free_raw_data=False)"
   ]
  },
  {
   "cell_type": "code",
   "execution_count": 78,
   "id": "ed550bd0",
   "metadata": {
    "ExecuteTime": {
     "end_time": "2023-03-29T00:51:06.531214Z",
     "start_time": "2023-03-29T00:51:06.497974Z"
    },
    "pycharm": {
     "is_executing": true
    }
   },
   "outputs": [],
   "source": [
    "from sklearn.metrics import mean_absolute_percentage_error\n",
    "\n",
    "def mape(y_true, y_pred):\n",
    "    y_true_np, y_pred_np = np.array(y_true), np.array(y_pred)\n",
    "    mape_score = np.mean(np.abs(y_true_np - y_pred_np) / (np.abs(y_true_np) + 1e-4))\n",
    "    return mape_score\n",
    "\n",
    "def lgb_get_model_score_mape(model):\n",
    "    prediction = model.predict(val_X, num_iteration = model.best_iteration)\n",
    "    y_predicted = pd.Series(prediction)\n",
    "#     print(val_y)\n",
    "#     print(y_predicted)\n",
    "#     raise\n",
    "    return mean_absolute_percentage_error(val_y, y_predicted)\n",
    "#     return mape(val_y, y_predicted)\n",
    "\n",
    "def coerce_int(d):\n",
    "    _d = {}\n",
    "    for k, v in d.items():\n",
    "        if isinstance(v, float):\n",
    "            if np.isclose(v, int(v)):\n",
    "                _d[k] = int(v)\n",
    "                continue\n",
    "        _d[k] = v\n",
    "    return _d\n",
    "\n",
    "def arg_aug(d, handle_int=False):\n",
    "    num_boost_round = int(d['num_boost_round'])\n",
    "    del d['num_boost_round']\n",
    "    \n",
    "    params = {\n",
    "        'nthread': 6,\n",
    "        'objective': 'l2',\n",
    "        'feature_fraction': 0.8,\n",
    "        'bagging_seed': random_state,\n",
    "        'verbosity': -1,\n",
    "        'metric': ['mape', 'l2'],\n",
    "    }\n",
    "    params.update(coerce_int(d))\n",
    "    return num_boost_round, params\n",
    "\n",
    "def lightgbm_factory(argsDict):\n",
    "    num_boost_round, params = arg_aug(argsDict, handle_int=False)\n",
    "    model_lgb = lgb.train(params=params, train_set=train_data, num_boost_round=num_boost_round,\n",
    "                          valid_sets=[val_data],\n",
    "                          categorical_feature=categorical_feature,\n",
    "                          callbacks=[early_stopping(100, verbose=False)])\n",
    "    return lgb_get_model_score_mape(model_lgb)"
   ]
  },
  {
   "cell_type": "code",
   "execution_count": 79,
   "id": "708dfef6",
   "metadata": {
    "ExecuteTime": {
     "end_time": "2023-03-29T00:51:29.318518Z",
     "start_time": "2023-03-29T00:51:24.973908Z"
    },
    "pycharm": {
     "is_executing": true
    },
    "scrolled": true
   },
   "outputs": [
    {
     "name": "stdout",
     "output_type": "stream",
     "text": [
      "100%|██████████| 200/200 [00:29<00:00,  6.77trial/s, best loss: 0.926143464137165] \n"
     ]
    }
   ],
   "source": [
    "# Find a best model\n",
    "lgb_space = {\n",
    "    \"max_depth\": hp.uniformint(\"max_depth\", 3, 10),\n",
    "    \"num_boost_round\": hp.uniformint(\"num_boost_round\", 5, 100),\n",
    "    \"learning_rate\": hp.loguniform(\"learning_rate\", -10, -2),\n",
    "    \"lambda_l1\": hp.loguniform(\"lambda_l1\", -10, 0),\n",
    "    \"lambda_l2\": hp.loguniform(\"lambda_l2\", -10, 0),\n",
    "    'subsample': hp.uniform('subsample', 0.5, 1.0),\n",
    "    \"num_leaves\": hp.uniformint(\"num_leaves\", 10, 500),\n",
    "    \"bagging_freq\": hp.uniformint(\"bagging_freq\", 1, 10),\n",
    "}\n",
    "algo = partial(tpe.suggest, n_startup_jobs=1)\n",
    "lgb_best = fmin(fn=lightgbm_factory, space=lgb_space, algo=algo, max_evals=200, pass_expr_memo_ctrl=None)\n",
    "\n",
    "evals = {}\n",
    "num_boost_round, lgb_best = arg_aug(lgb_best, handle_int=True)\n",
    "model = lgb.train(params=lgb_best, train_set=train_data, num_boost_round=num_boost_round,\n",
    "                  valid_sets=[train_data, val_data], categorical_feature=categorical_feature,\n",
    "                  callbacks=[early_stopping(100, verbose=False), record_evaluation(evals)])"
   ]
  },
  {
   "cell_type": "code",
   "execution_count": 82,
   "id": "95db7f3d",
   "metadata": {
    "ExecuteTime": {
     "end_time": "2023-03-29T00:51:30.081467Z",
     "start_time": "2023-03-29T00:51:29.878883Z"
    }
   },
   "outputs": [
    {
     "data": {
      "text/plain": [
       "<AxesSubplot: title={'center': 'Metric during training'}, xlabel='Iterations', ylabel='mape'>"
      ]
     },
     "execution_count": 82,
     "metadata": {},
     "output_type": "execute_result"
    },
    {
     "data": {
      "image/png": "[encoded data removed]",
      "text/plain": [
       "<Figure size 640x480 with 1 Axes>"
      ]
     },
     "metadata": {},
     "output_type": "display_data"
    }
   ],
   "source": [
    "plot_metric(evals, 'mape')"
   ]
  },
  {
   "cell_type": "code",
   "execution_count": 83,
   "id": "6e6a1e4d",
   "metadata": {
    "ExecuteTime": {
     "end_time": "2023-03-29T00:51:31.896651Z",
     "start_time": "2023-03-29T00:51:31.878843Z"
    }
   },
   "outputs": [],
   "source": [
    "y_pred = model.predict(val_X, num_iteration=model.best_iteration)"
   ]
  },
  {
   "cell_type": "code",
   "execution_count": 84,
   "id": "acda4ab0",
   "metadata": {
    "ExecuteTime": {
     "end_time": "2023-03-29T00:51:32.777339Z",
     "start_time": "2023-03-29T00:51:32.749864Z"
    }
   },
   "outputs": [
    {
     "data": {
      "text/plain": [
       "-0.40313337191580967"
      ]
     },
     "execution_count": 84,
     "metadata": {},
     "output_type": "execute_result"
    }
   ],
   "source": [
    "from sklearn.metrics import r2_score\n",
    "r2_score(val_y, y_pred)"
   ]
  },
  {
   "cell_type": "code",
   "execution_count": 85,
   "id": "06557ae9",
   "metadata": {
    "ExecuteTime": {
     "end_time": "2023-03-29T00:51:33.764622Z",
     "start_time": "2023-03-29T00:51:33.732283Z"
    }
   },
   "outputs": [
    {
     "data": {
      "text/plain": [
       "0.7518151943580333"
      ]
     },
     "execution_count": 85,
     "metadata": {},
     "output_type": "execute_result"
    }
   ],
   "source": [
    "pd.Series(train_y.values).corr(pd.Series(model.predict(train_X, num_iteration=model.best_iteration)))"
   ]
  },
  {
   "cell_type": "code",
   "execution_count": 86,
   "id": "913e90ad",
   "metadata": {
    "ExecuteTime": {
     "end_time": "2023-03-29T00:51:34.331560Z",
     "start_time": "2023-03-29T00:51:34.301082Z"
    }
   },
   "outputs": [
    {
     "data": {
      "text/plain": [
       "-0.03843724473029534"
      ]
     },
     "execution_count": 86,
     "metadata": {},
     "output_type": "execute_result"
    }
   ],
   "source": [
    "pd.Series(val_y.values).corr(pd.Series(y_pred))"
   ]
  },
  {
   "cell_type": "code",
   "execution_count": 87,
   "id": "ce674b41",
   "metadata": {
    "ExecuteTime": {
     "end_time": "2023-03-29T00:51:35.645282Z",
     "start_time": "2023-03-29T00:51:35.465630Z"
    }
   },
   "outputs": [
    {
     "data": {
      "text/plain": [
       "<matplotlib.collections.PathCollection at 0x189da1339d0>"
      ]
     },
     "execution_count": 87,
     "metadata": {},
     "output_type": "execute_result"
    },
    {
     "data": {
      "image/png": "[encoded data removed]",
      "text/plain": [
       "<Figure size 640x480 with 1 Axes>"
      ]
     },
     "metadata": {},
     "output_type": "display_data"
    }
   ],
   "source": [
    "plt.scatter(val_y, y_pred)"
   ]
  },
  {
   "cell_type": "code",
   "execution_count": 301,
   "id": "fb389761",
   "metadata": {
    "ExecuteTime": {
     "end_time": "2023-03-28T23:07:09.273378Z",
     "start_time": "2023-03-28T23:07:09.225779Z"
    }
   },
   "outputs": [],
   "source": [
    "class GBMPortfolio(Portfolio):\n",
    "    def __init__(self, categorical_feature):\n",
    "        self.categorical_feature = categorical_feature\n",
    "\n",
    "    def _prepare_data(self, X, y):\n",
    "        start_day = X.day.min().item()\n",
    "        end_day = X.day.max().item()\n",
    "        val_split_day = (start_day + end_day * 4) // 5\n",
    "\n",
    "        train_X = X.sel(day=range(start_day, val_split_day)).to_dataframe(dim_order=['day', 'asset'])\n",
    "        train_y = y.sel(day=range(start_day, val_split_day)).transpose('day', 'asset').to_series()\n",
    "        train_data = lgb.Dataset(data=train_X, label=train_y, categorical_feature=self.categorical_feature, free_raw_data=False)\n",
    "        \n",
    "        val_X = X.sel(day=slice(val_split_day, end_day)).to_dataframe(dim_order=['day', 'asset'])\n",
    "        val_y = y.sel(day=slice(val_split_day, end_day)).transpose('day', 'asset').to_series()\n",
    "        val_data = lgb.Dataset(data=val_X, label=val_y, categorical_feature=self.categorical_feature, free_raw_data=False)\n",
    "        \n",
    "        return train_data, val_X, val_y, val_data\n",
    "        \n",
    "    def initialize(self, X, y):\n",
    "        train_data, val_X, val_y, val_data = self._prepare_data(X, y)\n",
    "        \n",
    "        def mape(y_true, y_pred):\n",
    "            y_true_np, y_pred_np = np.array(y_true), np.array(y_pred)\n",
    "            mape_score = np.mean((y_true_np - y_pred_np) / (np.abs(y_true_np) + 1e-4))\n",
    "            return mape_score\n",
    "\n",
    "        def coerce_int(d):\n",
    "            _d = {}\n",
    "            for k, v in d.items():\n",
    "                if isinstance(v, float):\n",
    "                    if np.isclose(v, int(v)):\n",
    "                        _d[k] = int(v)\n",
    "                        continue\n",
    "                _d[k] = v\n",
    "            return _d\n",
    "\n",
    "        def arg_aug(d):\n",
    "            num_boost_round = int(d['num_boost_round'])\n",
    "            del d['num_boost_round']\n",
    "\n",
    "            params = {\n",
    "                'nthread': 6,\n",
    "                'objective': 'regression',\n",
    "                'feature_fraction': 0.8,\n",
    "                'bagging_seed': random_state,\n",
    "                'verbosity': -1,\n",
    "                'metric': ['mape', 'regression'],\n",
    "            }\n",
    "            params.update(coerce_int(d))\n",
    "            return num_boost_round, params\n",
    "\n",
    "        def lightgbm_factory(argsDict):\n",
    "            num_boost_round, params = arg_aug(argsDict)\n",
    "            model_lgb = lgb.train(params=params, train_set=train_data, num_boost_round=num_boost_round,\n",
    "                                  valid_sets=[val_data],\n",
    "                                  categorical_feature=self.categorical_feature,\n",
    "                                  callbacks=[early_stopping(20, verbose=False)])\n",
    "            return mape(model.predict(val_X, num_iteration = model.best_iteration), val_y)\n",
    "        \n",
    "        # Find a best model\n",
    "        lgb_space = {\n",
    "            \"max_depth\": hp.uniformint(\"max_depth\", 5, 10),\n",
    "            \"num_boost_round\": hp.uniformint(\"num_boost_round\", 10, 100),\n",
    "            \"learning_rate\": hp.loguniform(\"learning_rate\", 1e-3, 1e-1),\n",
    "            \"lambda_l1\": hp.loguniform(\"lambda_l1\", 1e-5, 1e-1),\n",
    "            \"lambda_l2\": hp.loguniform(\"lambda_l2\", 1e-5, 1e-1),\n",
    "            'subsample': hp.uniform('subsample', 0.5, 1.0),\n",
    "            \"num_leaves\": hp.uniformint(\"num_leaves\", 100, 1000),\n",
    "            \"bagging_freq\": hp.uniformint(\"bagging_freq\", 1, 10),\n",
    "        }\n",
    "        algo = partial(tpe.suggest, n_startup_jobs=1)\n",
    "        lgb_best = fmin(fn=lightgbm_factory, space=lgb_space, algo=algo, max_evals=50, pass_expr_memo_ctrl=None)\n",
    "\n",
    "        self.num_boost_round, self.lgb_best = arg_aug(lgb_best)\n",
    "        self.model = lgb.train(params=self.lgb_best, train_set=train_data, num_boost_round=self.num_boost_round,\n",
    "                  valid_sets=[train_data, val_data], categorical_feature=self.categorical_feature,\n",
    "                  callbacks=[early_stopping(20, verbose=False)])\n",
    "\n",
    "    def train(self, X, y):\n",
    "        train_data, val_X, val_y, val_data = self._prepare_data(X, y)\n",
    "        self.model = lgb.train(params=self.lgb_best, train_set=train_data, num_boost_round=self.num_boost_round,\n",
    "                  valid_sets=[train_data, val_data], categorical_feature=self.categorical_feature,\n",
    "                  callbacks=[early_stopping(20, verbose=False)])\n",
    "\n",
    "    def construct(self, X):\n",
    "        current_day = X.day.max().item()\n",
    "        X_df = X.sel(day=[current_day]).to_dataframe(dim_order=['day', 'asset'])\n",
    "        y_pred = self.model.predict(X_df, num_iteration=self.model.best_iteration)\n",
    "        propose = np.clip(y_pred, 0, None)\n",
    "        if propose.sum() <= 0:\n",
    "            return propose\n",
    "        propose /= propose.sum()\n",
    "        propose[propose < 0.01] = 0\n",
    "        return propose"
   ]
  },
  {
   "cell_type": "code",
   "execution_count": 302,
   "id": "cff26d2f",
   "metadata": {
    "ExecuteTime": {
     "end_time": "2023-03-28T23:07:23.471624Z",
     "start_time": "2023-03-28T23:07:10.328657Z"
    },
    "scrolled": false
   },
   "outputs": [
    {
     "name": "stdout",
     "output_type": "stream",
     "text": [
      "Period (80, 200) not available in ds, skipping...\n",
      "Now testing period (640, 1000):\n"
     ]
    },
    {
     "data": {
      "application/vnd.jupyter.widget-view+json": {
       "model_id": "9fdf252f5ec34d90bc38e731becd366f",
       "version_major": 2,
       "version_minor": 0
      },
      "text/plain": [
       "  0%|          | 0/361 [00:00<?, ?it/s]"
      ]
     },
     "metadata": {},
     "output_type": "display_data"
    },
    {
     "name": "stdout",
     "output_type": "stream",
     "text": [
      "\n",
      "\n",
      "  0%|                                                                                                                                                                | 0/50 [00:00<?, ?trial/s, best loss=?]\u001B[A\u001B[A\n",
      "\n",
      " 14%|██████████████████▊                                                                                                                   | 7/50 [00:00<00:00, 67.66trial/s, best loss: -2.770411988463462]\u001B[A\u001B[A\n",
      "\n",
      " 28%|█████████████████████████████████████▏                                                                                               | 14/50 [00:00<00:00, 64.49trial/s, best loss: -2.770411988463462]\u001B[A\u001B[A\n",
      "\n",
      " 42%|███████████████████████████████████████████████████████▊                                                                             | 21/50 [00:00<00:00, 60.94trial/s, best loss: -2.770411988463462]\u001B[A\u001B[A\n",
      "\n",
      " 56%|██████████████████████████████████████████████████████████████████████████▍                                                          | 28/50 [00:00<00:00, 58.25trial/s, best loss: -2.770411988463462]\u001B[A\u001B[A\n",
      "\n",
      " 68%|██████████████████████████████████████████████████████████████████████████████████████████▍                                          | 34/50 [00:00<00:00, 55.42trial/s, best loss: -2.770411988463462]\u001B[A\u001B[A\n",
      "\n",
      " 80%|██████████████████████████████████████████████████████████████████████████████████████████████████████████▍                          | 40/50 [00:00<00:00, 52.53trial/s, best loss: -2.770411988463462]\u001B[A\u001B[A\n",
      "\n",
      "100%|█████████████████████████████████████████████████████████████████████████████████████████████████████████████████████████████████████| 50/50 [00:00<00:00, 53.24trial/s, best loss: -2.770411988463462]\u001B[A\u001B[A\n",
      "Summary of scores:\n",
      "1. APR: -45.2860%\n",
      "2. Sharpe: -2.0163\n",
      "3. Maximum drawdown: 0.1074\n",
      "4. Median number of traded instruments: 25.0\n",
      "Now testing period (1030, 1300):\n"
     ]
    },
    {
     "ename": "KeyError",
     "evalue": "\"not all values found in index 'day'\"",
     "output_type": "error",
     "traceback": [
      "\u001B[0;31m---------------------------------------------------------------------------\u001B[0m",
      "\u001B[0;31mKeyError\u001B[0m                                  Traceback (most recent call last)",
      "Cell \u001B[0;32mIn[302], line 2\u001B[0m\n\u001B[1;32m      1\u001B[0m p \u001B[38;5;241m=\u001B[39m GBMPortfolio(categorical_feature)\n\u001B[0;32m----> 2\u001B[0m \u001B[43mbear_market_suite\u001B[49m\u001B[43m(\u001B[49m\u001B[43mp\u001B[49m\u001B[43m,\u001B[49m\u001B[43m \u001B[49m\u001B[43mfeatures\u001B[49m\u001B[43m,\u001B[49m\u001B[43m \u001B[49m\u001B[43m_ds\u001B[49m\u001B[43m,\u001B[49m\u001B[43m \u001B[49m\u001B[43mlookback_window\u001B[49m\u001B[38;5;241;43m=\u001B[39;49m\u001B[38;5;241;43m50\u001B[39;49m\u001B[43m,\u001B[49m\u001B[43m \u001B[49m\u001B[43mneed_full_lookback\u001B[49m\u001B[38;5;241;43m=\u001B[39;49m\u001B[38;5;28;43;01mTrue\u001B[39;49;00m\u001B[43m)\u001B[49m\n",
      "File \u001B[0;32m~/repo/qids-2023-comp/playground/disaspeare/../../visualization/trading_stat.py:117\u001B[0m, in \u001B[0;36mbear_market_suite\u001B[0;34m(portfolio, features, ds, lookback_window, path_prefix, odd_even, **kwargs)\u001B[0m\n\u001B[1;32m    115\u001B[0m     \u001B[38;5;28;01mcontinue\u001B[39;00m\n\u001B[1;32m    116\u001B[0m \u001B[38;5;28mprint\u001B[39m(\u001B[38;5;124mf\u001B[39m\u001B[38;5;124m'\u001B[39m\u001B[38;5;124mNow testing period \u001B[39m\u001B[38;5;132;01m{\u001B[39;00mperiod\u001B[38;5;132;01m}\u001B[39;00m\u001B[38;5;124m:\u001B[39m\u001B[38;5;124m'\u001B[39m)\n\u001B[0;32m--> 117\u001B[0m stat \u001B[38;5;241m=\u001B[39m \u001B[43mcross_validation\u001B[49m\u001B[43m(\u001B[49m\u001B[43mportfolio\u001B[49m\u001B[43m,\u001B[49m\u001B[43m \u001B[49m\u001B[43mfeatures\u001B[49m\u001B[43m,\u001B[49m\u001B[43m \u001B[49m\u001B[43m_ds\u001B[49m\u001B[43m,\u001B[49m\u001B[43m \u001B[49m\u001B[43mstart_day\u001B[49m\u001B[38;5;241;43m=\u001B[39;49m\u001B[43mstart\u001B[49m\u001B[43m,\u001B[49m\n\u001B[1;32m    118\u001B[0m \u001B[43m                        \u001B[49m\u001B[43mlookback_window\u001B[49m\u001B[38;5;241;43m=\u001B[39;49m\u001B[43mlookback_window\u001B[49m\u001B[43m,\u001B[49m\u001B[43m \u001B[49m\u001B[38;5;241;43m*\u001B[39;49m\u001B[38;5;241;43m*\u001B[39;49m\u001B[43mkwargs\u001B[49m\u001B[43m)\u001B[49m\n\u001B[1;32m    119\u001B[0m analyze_stat(stat, path_prefix\u001B[38;5;241m=\u001B[39mpath_prefix, odd_even\u001B[38;5;241m=\u001B[39modd_even)\n",
      "File \u001B[0;32m~/repo/qids-2023-comp/playground/disaspeare/../../pipeline/backtest_trading.py:65\u001B[0m, in \u001B[0;36mcross_validation\u001B[0;34m(portfolio, features, ds, lookback_window, need_full_lookback, open_position_rate, close_position_rate, start_day, disable_portfolio_initialization)\u001B[0m\n\u001B[1;32m     61\u001B[0m end_day: \u001B[38;5;28mint\u001B[39m \u001B[38;5;241m=\u001B[39m ds\u001B[38;5;241m.\u001B[39mday\u001B[38;5;241m.\u001B[39mmax()\u001B[38;5;241m.\u001B[39mitem()\n\u001B[1;32m     63\u001B[0m transactions \u001B[38;5;241m=\u001B[39m DataArray(np\u001B[38;5;241m.\u001B[39mnan, dims\u001B[38;5;241m=\u001B[39m[\u001B[38;5;124m'\u001B[39m\u001B[38;5;124mday\u001B[39m\u001B[38;5;124m'\u001B[39m, \u001B[38;5;124m'\u001B[39m\u001B[38;5;124masset\u001B[39m\u001B[38;5;124m'\u001B[39m],\n\u001B[1;32m     64\u001B[0m                          coords\u001B[38;5;241m=\u001B[39m{\u001B[38;5;124m'\u001B[39m\u001B[38;5;124masset\u001B[39m\u001B[38;5;124m'\u001B[39m: ds\u001B[38;5;241m.\u001B[39masset\u001B[38;5;241m.\u001B[39mto_numpy(), \u001B[38;5;124m'\u001B[39m\u001B[38;5;124mday\u001B[39m\u001B[38;5;124m'\u001B[39m: np\u001B[38;5;241m.\u001B[39marange(start_day \u001B[38;5;241m-\u001B[39m \u001B[38;5;241m2\u001B[39m, end_day \u001B[38;5;241m+\u001B[39m \u001B[38;5;241m1\u001B[39m)})\n\u001B[0;32m---> 65\u001B[0m \u001B[43mtransactions\u001B[49m\u001B[38;5;241;43m.\u001B[39;49m\u001B[43mloc\u001B[49m\u001B[43m[\u001B[49m\u001B[38;5;28;43mdict\u001B[39;49m\u001B[43m(\u001B[49m\u001B[43mday\u001B[49m\u001B[38;5;241;43m=\u001B[39;49m\u001B[38;5;28;43mrange\u001B[39;49m\u001B[43m(\u001B[49m\u001B[43mstart_day\u001B[49m\u001B[43m \u001B[49m\u001B[38;5;241;43m-\u001B[39;49m\u001B[43m \u001B[49m\u001B[38;5;241;43m2\u001B[39;49m\u001B[43m,\u001B[49m\u001B[43m \u001B[49m\u001B[43mstart_day\u001B[49m\u001B[43m)\u001B[49m\u001B[43m)\u001B[49m\u001B[43m]\u001B[49m \u001B[38;5;241m=\u001B[39m \u001B[38;5;241m0\u001B[39m\n\u001B[1;32m     66\u001B[0m stat \u001B[38;5;241m=\u001B[39m Dataset(\n\u001B[1;32m     67\u001B[0m     data_vars\u001B[38;5;241m=\u001B[39m{k: nan_factory(asset\u001B[38;5;241m=\u001B[39mds\u001B[38;5;241m.\u001B[39masset, day\u001B[38;5;241m=\u001B[39mds\u001B[38;5;241m.\u001B[39mday) \u001B[38;5;28;01mfor\u001B[39;00m k \u001B[38;5;129;01min\u001B[39;00m [\n\u001B[1;32m     68\u001B[0m         \u001B[38;5;124m'\u001B[39m\u001B[38;5;124mholding_return\u001B[39m\u001B[38;5;124m'\u001B[39m, \u001B[38;5;124m'\u001B[39m\u001B[38;5;124mopen_fee\u001B[39m\u001B[38;5;124m'\u001B[39m, \u001B[38;5;124m'\u001B[39m\u001B[38;5;124mclose_fee\u001B[39m\u001B[38;5;124m'\u001B[39m,\n\u001B[0;32m   (...)\u001B[0m\n\u001B[1;32m     71\u001B[0m     ]},\n\u001B[1;32m     72\u001B[0m     coords\u001B[38;5;241m=\u001B[39m{\u001B[38;5;124m'\u001B[39m\u001B[38;5;124masset\u001B[39m\u001B[38;5;124m'\u001B[39m: ds\u001B[38;5;241m.\u001B[39masset, \u001B[38;5;124m'\u001B[39m\u001B[38;5;124mday\u001B[39m\u001B[38;5;124m'\u001B[39m: ds\u001B[38;5;241m.\u001B[39mday})\n\u001B[1;32m     74\u001B[0m pbar \u001B[38;5;241m=\u001B[39m trange(start_day, end_day \u001B[38;5;241m+\u001B[39m \u001B[38;5;241m1\u001B[39m)\n",
      "File \u001B[0;32m/opt/miniconda3/envs/qids-2023-comp/lib/python3.9/site-packages/xarray/core/dataarray.py:216\u001B[0m, in \u001B[0;36m_LocIndexer.__setitem__\u001B[0;34m(self, key, value)\u001B[0m\n\u001B[1;32m    213\u001B[0m     labels \u001B[38;5;241m=\u001B[39m indexing\u001B[38;5;241m.\u001B[39mexpanded_indexer(key, \u001B[38;5;28mself\u001B[39m\u001B[38;5;241m.\u001B[39mdata_array\u001B[38;5;241m.\u001B[39mndim)\n\u001B[1;32m    214\u001B[0m     key \u001B[38;5;241m=\u001B[39m \u001B[38;5;28mdict\u001B[39m(\u001B[38;5;28mzip\u001B[39m(\u001B[38;5;28mself\u001B[39m\u001B[38;5;241m.\u001B[39mdata_array\u001B[38;5;241m.\u001B[39mdims, labels))\n\u001B[0;32m--> 216\u001B[0m dim_indexers \u001B[38;5;241m=\u001B[39m \u001B[43mmap_index_queries\u001B[49m\u001B[43m(\u001B[49m\u001B[38;5;28;43mself\u001B[39;49m\u001B[38;5;241;43m.\u001B[39;49m\u001B[43mdata_array\u001B[49m\u001B[43m,\u001B[49m\u001B[43m \u001B[49m\u001B[43mkey\u001B[49m\u001B[43m)\u001B[49m\u001B[38;5;241m.\u001B[39mdim_indexers\n\u001B[1;32m    217\u001B[0m \u001B[38;5;28mself\u001B[39m\u001B[38;5;241m.\u001B[39mdata_array[dim_indexers] \u001B[38;5;241m=\u001B[39m value\n",
      "File \u001B[0;32m/opt/miniconda3/envs/qids-2023-comp/lib/python3.9/site-packages/xarray/core/indexing.py:183\u001B[0m, in \u001B[0;36mmap_index_queries\u001B[0;34m(obj, indexers, method, tolerance, **indexers_kwargs)\u001B[0m\n\u001B[1;32m    181\u001B[0m         results\u001B[38;5;241m.\u001B[39mappend(IndexSelResult(labels))\n\u001B[1;32m    182\u001B[0m     \u001B[38;5;28;01melse\u001B[39;00m:\n\u001B[0;32m--> 183\u001B[0m         results\u001B[38;5;241m.\u001B[39mappend(\u001B[43mindex\u001B[49m\u001B[38;5;241;43m.\u001B[39;49m\u001B[43msel\u001B[49m\u001B[43m(\u001B[49m\u001B[43mlabels\u001B[49m\u001B[43m,\u001B[49m\u001B[43m \u001B[49m\u001B[38;5;241;43m*\u001B[39;49m\u001B[38;5;241;43m*\u001B[39;49m\u001B[43moptions\u001B[49m\u001B[43m)\u001B[49m)  \u001B[38;5;66;03m# type: ignore[call-arg]\u001B[39;00m\n\u001B[1;32m    185\u001B[0m merged \u001B[38;5;241m=\u001B[39m merge_sel_results(results)\n\u001B[1;32m    187\u001B[0m \u001B[38;5;66;03m# drop dimension coordinates found in dimension indexers\u001B[39;00m\n\u001B[1;32m    188\u001B[0m \u001B[38;5;66;03m# (also drop multi-index if any)\u001B[39;00m\n\u001B[1;32m    189\u001B[0m \u001B[38;5;66;03m# (.sel() already ensures alignment)\u001B[39;00m\n",
      "File \u001B[0;32m/opt/miniconda3/envs/qids-2023-comp/lib/python3.9/site-packages/xarray/core/indexes.py:480\u001B[0m, in \u001B[0;36mPandasIndex.sel\u001B[0;34m(self, labels, method, tolerance)\u001B[0m\n\u001B[1;32m    478\u001B[0m     indexer \u001B[38;5;241m=\u001B[39m get_indexer_nd(\u001B[38;5;28mself\u001B[39m\u001B[38;5;241m.\u001B[39mindex, label_array, method, tolerance)\n\u001B[1;32m    479\u001B[0m     \u001B[38;5;28;01mif\u001B[39;00m np\u001B[38;5;241m.\u001B[39many(indexer \u001B[38;5;241m<\u001B[39m \u001B[38;5;241m0\u001B[39m):\n\u001B[0;32m--> 480\u001B[0m         \u001B[38;5;28;01mraise\u001B[39;00m \u001B[38;5;167;01mKeyError\u001B[39;00m(\u001B[38;5;124mf\u001B[39m\u001B[38;5;124m\"\u001B[39m\u001B[38;5;124mnot all values found in index \u001B[39m\u001B[38;5;132;01m{\u001B[39;00mcoord_name\u001B[38;5;132;01m!r}\u001B[39;00m\u001B[38;5;124m\"\u001B[39m)\n\u001B[1;32m    482\u001B[0m \u001B[38;5;66;03m# attach dimension names and/or coordinates to positional indexer\u001B[39;00m\n\u001B[1;32m    483\u001B[0m \u001B[38;5;28;01mif\u001B[39;00m \u001B[38;5;28misinstance\u001B[39m(label, Variable):\n",
      "\u001B[0;31mKeyError\u001B[0m: \"not all values found in index 'day'\""
     ]
    },
    {
     "data": {
      "image/png": "[encoded data removed]",
      "text/plain": [
       "<Figure size 1500x500 with 2 Axes>"
      ]
     },
     "metadata": {},
     "output_type": "display_data"
    }
   ],
   "source": [
    "p = GBMPortfolio(categorical_feature)\n",
    "bear_market_suite(p, features, _ds, lookback_window=50, need_full_lookback=True)"
   ]
  },
  {
   "cell_type": "markdown",
   "id": "7b174109",
   "metadata": {},
   "source": [
    "## How about classification"
   ]
  },
  {
   "cell_type": "code",
   "execution_count": 121,
   "id": "4ba3f9f9",
   "metadata": {
    "ExecuteTime": {
     "end_time": "2023-03-28T21:34:06.727183Z",
     "start_time": "2023-03-28T21:34:06.707427Z"
    }
   },
   "outputs": [],
   "source": [
    "train_data_binary = lgb.Dataset(data=train_X, label=train_y_binary, categorical_feature=categorical_feature, free_raw_data=False)\n",
    "val_data_binary = lgb.Dataset(data=val_X, label=val_y_binary, categorical_feature=categorical_feature, free_raw_data=False)"
   ]
  },
  {
   "cell_type": "code",
   "execution_count": 185,
   "id": "ec159b7a",
   "metadata": {
    "ExecuteTime": {
     "end_time": "2023-03-28T22:01:20.826924Z",
     "start_time": "2023-03-28T22:01:20.798858Z"
    }
   },
   "outputs": [],
   "source": [
    "def coerce_int(d):\n",
    "    _d = {}\n",
    "    for k, v in d.items():\n",
    "        if isinstance(v, float):\n",
    "            if np.isclose(v, int(v)):\n",
    "                _d[k] = int(v)\n",
    "                continue\n",
    "        _d[k] = v\n",
    "    return _d\n",
    "\n",
    "def arg_aug(d, handle_int=False):\n",
    "    num_boost_round = int(d['num_boost_round'])\n",
    "    del d['num_boost_round']\n",
    "    \n",
    "    params = {\n",
    "        'nthread': 6,\n",
    "        'objective': 'cross_entropy',\n",
    "        'feature_fraction': 0.8,\n",
    "        'bagging_seed': random_state,\n",
    "        'verbosity': -1,\n",
    "        'metric': ['cross_entropy', 'average_precision'],\n",
    "    }\n",
    "    params.update(coerce_int(d))\n",
    "    return num_boost_round, params\n",
    "\n",
    "from sklearn.metrics import log_loss\n",
    "\n",
    "def lightgbm_binary_factory(argsDict):\n",
    "    num_boost_round, params = arg_aug(argsDict, handle_int=False)\n",
    "    model_lgb = lgb.train(params=params, train_set=train_data_binary, num_boost_round=num_boost_round,\n",
    "                          valid_sets=[val_data_binary],\n",
    "                          categorical_feature=categorical_feature,\n",
    "                          callbacks=[early_stopping(100, verbose=False)])\n",
    "    prediction = model.predict(val_X, num_iteration=model_lgb.best_iteration)\n",
    "    return log_loss(val_y_binary.values, prediction)"
   ]
  },
  {
   "cell_type": "code",
   "execution_count": 190,
   "id": "45ce7da5",
   "metadata": {
    "ExecuteTime": {
     "end_time": "2023-03-28T22:01:51.714202Z",
     "start_time": "2023-03-28T22:01:48.599150Z"
    },
    "scrolled": false
   },
   "outputs": [
    {
     "name": "stdout",
     "output_type": "stream",
     "text": [
      "100%|██████████████████████████████████████████████████████████████████████████████████████████████████████████████████████████████████████| 20/20 [00:02<00:00,  6.88trial/s, best loss: 9.487132652580847]\n",
      "Training until validation scores don't improve for 100 rounds\n",
      "Did not meet early stopping. Best iteration is:\n",
      "[52]\ttraining's cross_entropy: 0.0879307\ttraining's average_precision: 0.998769\tvalid_1's cross_entropy: 2.18119\tvalid_1's average_precision: 0.506338\n"
     ]
    }
   ],
   "source": [
    "# Find a best model\n",
    "lgb_space = {\n",
    "    \"max_depth\": hp.uniformint(\"max_depth\", 5, 20),\n",
    "    \"num_boost_round\": hp.uniformint(\"num_boost_round\", 10, 100),\n",
    "    \"learning_rate\": hp.loguniform(\"learning_rate\", 1e-3, 1e-1),\n",
    "    \"lambda_l1\": hp.loguniform(\"lambda_l1\", 1e-5, 1e-1),\n",
    "    \"lambda_l2\": hp.loguniform(\"lambda_l2\", 1e-5, 1e-1),\n",
    "    'subsample': hp.uniform('subsample', 0.5, 1.0),\n",
    "    \"num_leaves\": hp.uniformint(\"num_leaves\", 50, 500),\n",
    "    \"bagging_freq\": hp.uniformint(\"bagging_freq\", 1, 10),\n",
    "}\n",
    "algo = partial(tpe.suggest, n_startup_jobs=1)\n",
    "lgb_best = fmin(fn=lightgbm_binary_factory, space=lgb_space, algo=algo, max_evals=20, pass_expr_memo_ctrl=None)\n",
    "\n",
    "evals = {}\n",
    "num_boost_round, lgb_best = arg_aug(lgb_best, handle_int=True)\n",
    "model_binary = lgb.train(params=lgb_best, train_set=train_data_binary, num_boost_round=num_boost_round,\n",
    "                         valid_sets=[train_data_binary, val_data_binary], categorical_feature=categorical_feature,\n",
    "                         callbacks=[early_stopping(100, verbose=True), record_evaluation(evals)])"
   ]
  },
  {
   "cell_type": "code",
   "execution_count": 191,
   "id": "b7a80581",
   "metadata": {
    "ExecuteTime": {
     "end_time": "2023-03-28T22:01:51.739820Z",
     "start_time": "2023-03-28T22:01:51.716401Z"
    }
   },
   "outputs": [
    {
     "data": {
      "text/plain": [
       "0.7662588131882933"
      ]
     },
     "execution_count": 191,
     "metadata": {},
     "output_type": "execute_result"
    }
   ],
   "source": [
    "y_pred = model_binary.predict(val_X, num_iteration=model.best_iteration)\n",
    "log_loss(val_y_binary.values, y_pred)"
   ]
  },
  {
   "cell_type": "code",
   "execution_count": 192,
   "id": "6f47b7a6",
   "metadata": {
    "ExecuteTime": {
     "end_time": "2023-03-28T22:01:51.830643Z",
     "start_time": "2023-03-28T22:01:51.741296Z"
    }
   },
   "outputs": [
    {
     "data": {
      "text/plain": [
       "52"
      ]
     },
     "execution_count": 192,
     "metadata": {},
     "output_type": "execute_result"
    }
   ],
   "source": [
    "num_boost_round"
   ]
  },
  {
   "cell_type": "code",
   "execution_count": 193,
   "id": "3c266310",
   "metadata": {
    "ExecuteTime": {
     "end_time": "2023-03-28T22:01:52.151265Z",
     "start_time": "2023-03-28T22:01:51.832932Z"
    }
   },
   "outputs": [
    {
     "data": {
      "text/plain": [
       "<Axes: title={'center': 'Metric during training'}, xlabel='Iterations', ylabel='average_precision'>"
      ]
     },
     "execution_count": 193,
     "metadata": {},
     "output_type": "execute_result"
    },
    {
     "data": {
      "image/png": "[encoded data removed]",
      "text/plain": [
       "<Figure size 640x480 with 1 Axes>"
      ]
     },
     "metadata": {},
     "output_type": "display_data"
    }
   ],
   "source": [
    "plot_metric(evals, 'average_precision')"
   ]
  },
  {
   "cell_type": "code",
   "execution_count": null,
   "id": "47e3514d",
   "metadata": {},
   "outputs": [],
   "source": []
  }
 ],
 "metadata": {
  "kernelspec": {
   "display_name": "Python 3 (ipykernel)",
   "language": "python",
   "name": "python3"
  },
  "language_info": {
   "codemirror_mode": {
    "name": "ipython",
    "version": 3
   },
   "file_extension": ".py",
   "mimetype": "text/x-python",
   "name": "python",
   "nbconvert_exporter": "python",
   "pygments_lexer": "ipython3",
   "version": "3.10.9"
  },
  "toc": {
   "base_numbering": 1,
   "nav_menu": {},
   "number_sections": true,
   "sideBar": true,
   "skip_h1_title": false,
   "title_cell": "Table of Contents",
   "title_sidebar": "Contents",
   "toc_cell": false,
   "toc_position": {},
   "toc_section_display": true,
   "toc_window_display": false
  }
 },
 "nbformat": 4,
 "nbformat_minor": 5
}
