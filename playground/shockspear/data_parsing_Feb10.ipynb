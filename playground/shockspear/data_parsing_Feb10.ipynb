{
 "cells": [
  {
   "cell_type": "code",
   "execution_count": 15,
   "outputs": [],
   "source": [
    "from pandas import Series, MultiIndex\n",
    "%matplotlib inline\n",
    "import pandas as pd\n",
    "import matplotlib.pyplot as pl\n",
    "import numpy as np\n",
    "import seaborn as sns\n",
    "from sklearn.linear_model import LinearRegression\n",
    "from sklearn.model_selection import KFold\n",
    "import os\n",
    "import pickle\n",
    "from datatools import data_quantization\n",
    "from pipeline import Dataset"
   ],
   "metadata": {
    "collapsed": false,
    "pycharm": {
     "name": "#%%\n"
    }
   }
  },
  {
   "cell_type": "code",
   "execution_count": 2,
   "outputs": [],
   "source": [
    "%load_ext autoreload\n",
    "%autoreload 2"
   ],
   "metadata": {
    "collapsed": false,
    "pycharm": {
     "name": "#%%\n"
    }
   }
  },
  {
   "cell_type": "code",
   "execution_count": 3,
   "outputs": [],
   "source": [
    "__num_of_stocks = 54\n",
    "__point_per_day = 50"
   ],
   "metadata": {
    "collapsed": false,
    "pycharm": {
     "name": "#%%\n"
    }
   }
  },
  {
   "cell_type": "markdown",
   "source": [
    "read in data and parse the identifiers\n"
   ],
   "metadata": {
    "collapsed": false,
    "pycharm": {
     "name": "#%% md\n"
    }
   }
  },
  {
   "cell_type": "code",
   "execution_count": 4,
   "outputs": [],
   "source": [
    "def data_loader(data_name, sample_size=None, train=True):\n",
    "    \"\"\"\n",
    "    :param data_name: [string] name of data to load\n",
    "        Available option: \"fundamental\", \"market\", \"return\"\n",
    "    :param sample_size: [int] number of rows to load\n",
    "        default = None: load everything\n",
    "    :return: [pd.dataframe]\n",
    "    \"\"\"\n",
    "    if train:\n",
    "        DATA_DIR = '../../' + 'data/raw/'\n",
    "    else:\n",
    "        DATA_DIR = '../../' + 'data/test/'\n",
    "    FILE_LIST = os.listdir(DATA_DIR)\n",
    "    DATA_TYPE = data_name\n",
    "    DATA_NAME = [name for name in FILE_LIST if DATA_TYPE in name]\n",
    "    # DATA_NAME = '/first_round_train_market_data.csv'\n",
    "\n",
    "    if not DATA_NAME:\n",
    "        raise ValueError('DATA_TYPE does not exist')\n",
    "\n",
    "    DATA_PATH = DATA_DIR + DATA_NAME[0]\n",
    "\n",
    "    if os.path.isfile(DATA_PATH):\n",
    "        print('DATA_PATH is a valid path')\n",
    "    else:\n",
    "        raise ValueError('DATA_PATH is not valid path')\n",
    "\n",
    "    return pd.read_csv(DATA_PATH, nrows=sample_size)"
   ],
   "metadata": {
    "collapsed": false,
    "pycharm": {
     "name": "#%%\n"
    }
   }
  },
  {
   "cell_type": "code",
   "execution_count": 5,
   "outputs": [
    {
     "name": "stdout",
     "output_type": "stream",
     "text": [
      "DATA_PATH is a valid path\n",
      "DATA_PATH is a valid path\n",
      "DATA_PATH is a valid path\n"
     ]
    }
   ],
   "source": [
    "sample_size = 1000\n",
    "f_df = data_loader('fundamental', sample_size=sample_size)\n",
    "m_df = data_loader('market', sample_size=sample_size)\n",
    "r_df = data_loader('return', sample_size=sample_size)"
   ],
   "metadata": {
    "collapsed": false,
    "pycharm": {
     "name": "#%%\n"
    }
   }
  },
  {
   "cell_type": "code",
   "execution_count": 32,
   "outputs": [
    {
     "name": "stdout",
     "output_type": "stream",
     "text": [
      "DATA_PATH is a valid path\n",
      "DATA_PATH is a valid path\n",
      "DATA_PATH is a valid path\n"
     ]
    }
   ],
   "source": [
    "f_df = data_loader('fundamental')\n",
    "m_df = data_loader('market')\n",
    "r_df = data_loader('return')"
   ],
   "metadata": {
    "collapsed": false,
    "pycharm": {
     "name": "#%%\n"
    }
   }
  },
  {
   "cell_type": "code",
   "execution_count": 6,
   "outputs": [],
   "source": [
    "def parse_date_time_column(s: Series):\n",
    "    return s.str.split(pat='s|d|p', expand=True).iloc[:, 1:].astype(int).rename(columns={1: 'asset', 2: 'day', 3: 'timeslot'})"
   ],
   "metadata": {
    "collapsed": false,
    "pycharm": {
     "name": "#%%\n"
    }
   }
  },
  {
   "cell_type": "code",
   "execution_count": 7,
   "outputs": [],
   "source": [
    "def parse_date_column(s: Series):\n",
    "    return s.str.split(pat='s|d', expand=True).iloc[:, 1:].astype(int).rename(columns={1: 'asset', 2: 'day'})"
   ],
   "metadata": {
    "collapsed": false,
    "pycharm": {
     "name": "#%%\n"
    }
   }
  },
  {
   "cell_type": "code",
   "execution_count": 8,
   "outputs": [],
   "source": [
    "def pre_process_df_with_date_time(df):\n",
    "    date_time_series = df['date_time']\n",
    "    df.drop(columns='date_time', inplace=True)\n",
    "    df.index = MultiIndex.from_frame(parse_date_time_column(date_time_series))"
   ],
   "metadata": {
    "collapsed": false,
    "pycharm": {
     "name": "#%%\n"
    }
   }
  },
  {
   "cell_type": "code",
   "execution_count": 9,
   "outputs": [],
   "source": [
    "def pre_process_df_with_date(df):\n",
    "    date_series = df['date_time']\n",
    "    df.drop(columns='date_time', inplace=True)\n",
    "    df.index = MultiIndex.from_frame(parse_date_column(date_series))"
   ],
   "metadata": {
    "collapsed": false,
    "pycharm": {
     "name": "#%%\n"
    }
   }
  },
  {
   "cell_type": "code",
   "execution_count": 10,
   "outputs": [],
   "source": [
    "pre_process_df_with_date_time(m_df)"
   ],
   "metadata": {
    "collapsed": false,
    "pycharm": {
     "name": "#%%\n"
    }
   }
  },
  {
   "cell_type": "code",
   "execution_count": 11,
   "outputs": [],
   "source": [
    "pre_process_df_with_date(r_df)\n",
    "pre_process_df_with_date(f_df)"
   ],
   "metadata": {
    "collapsed": false,
    "pycharm": {
     "name": "#%%\n"
    }
   }
  },
  {
   "cell_type": "markdown",
   "source": [
    "now we can build some features"
   ],
   "metadata": {
    "collapsed": false,
    "pycharm": {
     "name": "#%% md\n"
    }
   }
  },
  {
   "cell_type": "code",
   "execution_count": 12,
   "outputs": [
    {
     "data": {
      "text/plain": "                open      close       high        low      volume  \\\nasset day                                                           \n0     1    24.550554  24.536720  24.578718  24.508076   454075.84   \n      2    23.955800  23.938318  23.988574  23.907490   401517.02   \n      3    23.626130  23.628554  23.661090  23.591664   307969.24   \n      4    23.837576  23.847280  23.879820  23.803594   563240.50   \n      5    25.965612  26.002992  26.075094  25.890594  2249971.94   \n\n                  money  \nasset day                \n0     1    1.114925e+07  \n      2    9.601600e+06  \n      3    7.275962e+06  \n      4    1.344701e+07  \n      5    5.879807e+07  ",
      "text/html": "<div>\n<style scoped>\n    .dataframe tbody tr th:only-of-type {\n        vertical-align: middle;\n    }\n\n    .dataframe tbody tr th {\n        vertical-align: top;\n    }\n\n    .dataframe thead th {\n        text-align: right;\n    }\n</style>\n<table border=\"1\" class=\"dataframe\">\n  <thead>\n    <tr style=\"text-align: right;\">\n      <th></th>\n      <th></th>\n      <th>open</th>\n      <th>close</th>\n      <th>high</th>\n      <th>low</th>\n      <th>volume</th>\n      <th>money</th>\n    </tr>\n    <tr>\n      <th>asset</th>\n      <th>day</th>\n      <th></th>\n      <th></th>\n      <th></th>\n      <th></th>\n      <th></th>\n      <th></th>\n    </tr>\n  </thead>\n  <tbody>\n    <tr>\n      <th rowspan=\"5\" valign=\"top\">0</th>\n      <th>1</th>\n      <td>24.550554</td>\n      <td>24.536720</td>\n      <td>24.578718</td>\n      <td>24.508076</td>\n      <td>454075.84</td>\n      <td>1.114925e+07</td>\n    </tr>\n    <tr>\n      <th>2</th>\n      <td>23.955800</td>\n      <td>23.938318</td>\n      <td>23.988574</td>\n      <td>23.907490</td>\n      <td>401517.02</td>\n      <td>9.601600e+06</td>\n    </tr>\n    <tr>\n      <th>3</th>\n      <td>23.626130</td>\n      <td>23.628554</td>\n      <td>23.661090</td>\n      <td>23.591664</td>\n      <td>307969.24</td>\n      <td>7.275962e+06</td>\n    </tr>\n    <tr>\n      <th>4</th>\n      <td>23.837576</td>\n      <td>23.847280</td>\n      <td>23.879820</td>\n      <td>23.803594</td>\n      <td>563240.50</td>\n      <td>1.344701e+07</td>\n    </tr>\n    <tr>\n      <th>5</th>\n      <td>25.965612</td>\n      <td>26.002992</td>\n      <td>26.075094</td>\n      <td>25.890594</td>\n      <td>2249971.94</td>\n      <td>5.879807e+07</td>\n    </tr>\n  </tbody>\n</table>\n</div>"
     },
     "execution_count": 12,
     "metadata": {},
     "output_type": "execute_result"
    }
   ],
   "source": [
    "m_agg_df = m_df.groupby(level=[0, 1]).mean().sort_index()\n",
    "m_agg_df.head()"
   ],
   "metadata": {
    "collapsed": false,
    "pycharm": {
     "name": "#%%\n"
    }
   }
  },
  {
   "cell_type": "code",
   "execution_count": 20,
   "outputs": [],
   "source": [
    "full_df = pd.concat([m_agg_df, f_df, r_df], axis=1).dropna()"
   ],
   "metadata": {
    "collapsed": false,
    "pycharm": {
     "name": "#%%\n"
    }
   }
  },
  {
   "cell_type": "code",
   "execution_count": 33,
   "outputs": [],
   "source": [
    "parse_data_dir = '../../data/parsed/'\n",
    "dataset=Dataset(market=m_df, fundamental=f_df, ref_return=r_df)\n",
    "dataset.dump(parse_data_dir)\n"
   ],
   "metadata": {
    "collapsed": false,
    "pycharm": {
     "name": "#%% Save data\n"
    }
   }
  },
  {
   "cell_type": "code",
   "execution_count": null,
   "outputs": [],
   "source": [
    "pairplot = sns.pairplot(data=full_df[['close', 'volume', 'money', 'turnoverRatio', 'transactionAmount', 'pe_ttm', 'pcf', 'return']].iloc[:100], kind='kde')"
   ],
   "metadata": {
    "collapsed": false,
    "pycharm": {
     "name": "#%%\n",
     "is_executing": true
    }
   }
  },
  {
   "cell_type": "code",
   "execution_count": 35,
   "outputs": [],
   "source": [
    "fig = pairplot.fig\n",
    "fig.savefig(\"./image/pairplot.png\")"
   ],
   "metadata": {
    "collapsed": false,
    "pycharm": {
     "name": "#%%\n"
    }
   }
  },
  {
   "cell_type": "code",
   "execution_count": 36,
   "outputs": [
    {
     "name": "stdout",
     "output_type": "stream",
     "text": [
      "train score: 0.0037, test score: 0.0043\n",
      "train score: 0.0043, test score: 0.0018\n",
      "train score: 0.0036, test score: 0.0050\n",
      "train score: 0.0044, test score: 0.0016\n",
      "train score: 0.0038, test score: 0.0041\n"
     ]
    }
   ],
   "source": [
    "X = full_df[['close', 'volume', 'money', 'turnoverRatio', 'transactionAmount', 'pe_ttm', 'pcf']]\n",
    "y = full_df['return']\n",
    "\n",
    "kf = KFold(n_splits=5, shuffle=True, random_state=10)\n",
    "for train, test in kf.split(full_df.index):\n",
    "    reg = LinearRegression().fit(X.iloc[train], y.iloc[train])\n",
    "    train_score = reg.score(X.iloc[train], y.iloc[train])\n",
    "    test_score = reg.score(X.iloc[test], y.iloc[test])\n",
    "    print(f'train score: {train_score:.4f}, test score: {test_score:.4f}')"
   ],
   "metadata": {
    "collapsed": false,
    "pycharm": {
     "name": "#%%\n"
    }
   }
  },
  {
   "cell_type": "code",
   "execution_count": null,
   "outputs": [],
   "source": [],
   "metadata": {
    "collapsed": false,
    "pycharm": {
     "name": "#%%\n"
    }
   }
  }
 ],
 "metadata": {
  "kernelspec": {
   "display_name": "Python 3",
   "language": "python",
   "name": "python3"
  },
  "language_info": {
   "codemirror_mode": {
    "name": "ipython",
    "version": 2
   },
   "file_extension": ".py",
   "mimetype": "text/x-python",
   "name": "python",
   "nbconvert_exporter": "python",
   "pygments_lexer": "ipython2",
   "version": "2.7.6"
  }
 },
 "nbformat": 4,
 "nbformat_minor": 0
}