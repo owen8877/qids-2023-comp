{
 "cells": [
  {
   "cell_type": "code",
   "execution_count": 106,
   "metadata": {
    "collapsed": true
   },
   "outputs": [],
   "source": [
    "%matplotlib inline"
   ]
  },
  {
   "cell_type": "code",
   "execution_count": 112,
   "outputs": [
    {
     "name": "stdout",
     "output_type": "stream",
     "text": [
      "The autoreload extension is already loaded. To reload it, use:\n",
      "  %reload_ext autoreload\n"
     ]
    }
   ],
   "source": [
    "%load_ext autoreload\n",
    "%autoreload 2"
   ],
   "metadata": {
    "collapsed": false,
    "pycharm": {
     "name": "#%%\n"
    }
   }
  },
  {
   "cell_type": "code",
   "execution_count": 1,
   "outputs": [],
   "source": [
    "import numpy as np\n",
    "import pandas as pd\n",
    "from pandas import Series\n",
    "from sklearn.metrics import r2_score\n",
    "from sklearn.linear_model import LinearRegression\n",
    "from sklearn.model_selection import TimeSeriesSplit\n",
    "from tqdm.auto import tqdm\n",
    "import matplotlib.pyplot as plt\n",
    "\n",
    "from pipeline import Dataset\n",
    "from datatools import data_quantization, extract_market_data"
   ],
   "metadata": {
    "collapsed": false,
    "pycharm": {
     "name": "#%%\n"
    }
   }
  },
  {
   "cell_type": "code",
   "execution_count": 2,
   "outputs": [],
   "source": [
    "dataset = Dataset.load('../../data/parsed')"
   ],
   "metadata": {
    "collapsed": false,
    "pycharm": {
     "name": "#%%\n"
    }
   }
  },
  {
   "cell_type": "code",
   "execution_count": 4,
   "outputs": [
    {
     "data": {
      "text/plain": "                       open    close     high      low    volume         money\nasset day timeslot                                                            \n0     1   1         25.0164  24.9557  25.1378  24.9436  642243.0  1.610060e+07\n1     1   1         16.3256  16.3499  16.4106  16.3256   15552.0  2.540301e+05\n2     1   1          9.2006   9.1763   9.2006   9.1521  396647.0  3.638304e+06\n3     1   1          9.1521   9.2006   9.2006   9.1521  317044.0  2.907092e+06\n4     1   1          5.1829   5.1222   5.1829   5.1101  294784.0  1.514496e+06",
      "text/html": "<div>\n<style scoped>\n    .dataframe tbody tr th:only-of-type {\n        vertical-align: middle;\n    }\n\n    .dataframe tbody tr th {\n        vertical-align: top;\n    }\n\n    .dataframe thead th {\n        text-align: right;\n    }\n</style>\n<table border=\"1\" class=\"dataframe\">\n  <thead>\n    <tr style=\"text-align: right;\">\n      <th></th>\n      <th></th>\n      <th></th>\n      <th>open</th>\n      <th>close</th>\n      <th>high</th>\n      <th>low</th>\n      <th>volume</th>\n      <th>money</th>\n    </tr>\n    <tr>\n      <th>asset</th>\n      <th>day</th>\n      <th>timeslot</th>\n      <th></th>\n      <th></th>\n      <th></th>\n      <th></th>\n      <th></th>\n      <th></th>\n    </tr>\n  </thead>\n  <tbody>\n    <tr>\n      <th>0</th>\n      <th>1</th>\n      <th>1</th>\n      <td>25.0164</td>\n      <td>24.9557</td>\n      <td>25.1378</td>\n      <td>24.9436</td>\n      <td>642243.0</td>\n      <td>1.610060e+07</td>\n    </tr>\n    <tr>\n      <th>1</th>\n      <th>1</th>\n      <th>1</th>\n      <td>16.3256</td>\n      <td>16.3499</td>\n      <td>16.4106</td>\n      <td>16.3256</td>\n      <td>15552.0</td>\n      <td>2.540301e+05</td>\n    </tr>\n    <tr>\n      <th>2</th>\n      <th>1</th>\n      <th>1</th>\n      <td>9.2006</td>\n      <td>9.1763</td>\n      <td>9.2006</td>\n      <td>9.1521</td>\n      <td>396647.0</td>\n      <td>3.638304e+06</td>\n    </tr>\n    <tr>\n      <th>3</th>\n      <th>1</th>\n      <th>1</th>\n      <td>9.1521</td>\n      <td>9.2006</td>\n      <td>9.2006</td>\n      <td>9.1521</td>\n      <td>317044.0</td>\n      <td>2.907092e+06</td>\n    </tr>\n    <tr>\n      <th>4</th>\n      <th>1</th>\n      <th>1</th>\n      <td>5.1829</td>\n      <td>5.1222</td>\n      <td>5.1829</td>\n      <td>5.1101</td>\n      <td>294784.0</td>\n      <td>1.514496e+06</td>\n    </tr>\n  </tbody>\n</table>\n</div>"
     },
     "execution_count": 4,
     "metadata": {},
     "output_type": "execute_result"
    }
   ],
   "source": [
    "m_df = dataset.market.set_index(['asset','day','timeslot'])\n",
    "m_df.head()"
   ],
   "metadata": {
    "collapsed": false,
    "pycharm": {
     "name": "#%%\n"
    }
   }
  },
  {
   "cell_type": "code",
   "execution_count": 5,
   "outputs": [
    {
     "name": "stderr",
     "output_type": "stream",
     "text": [
      "/Users/lewisliu/Desktop/Study/Graduate_Study_Austin/Career/Practice/qids-2023-comp/datatools.py:216: FutureWarning: Indexing with multiple keys (implicitly converted to a tuple of keys) will be deprecated, use a list instead.\n",
      "  m_df_day = m_df.groupby(level=[0, 1])['volume', 'money'].sum()\n"
     ]
    }
   ],
   "source": [
    "m_df_day = extract_market_data(m_df)"
   ],
   "metadata": {
    "collapsed": false,
    "pycharm": {
     "name": "#%%\n"
    }
   }
  },
  {
   "cell_type": "code",
   "execution_count": 8,
   "outputs": [
    {
     "data": {
      "text/plain": "           avg_price  volatility  mean_volume\nday asset                                    \n1   0      24.553713    0.861989    454075.84\n    1      16.169781    0.804576    176868.36\n    2       9.059178    0.351893    361648.66\n    3       9.124460    0.250697    351809.54\n    4       5.054415    0.270981    338476.86",
      "text/html": "<div>\n<style scoped>\n    .dataframe tbody tr th:only-of-type {\n        vertical-align: middle;\n    }\n\n    .dataframe tbody tr th {\n        vertical-align: top;\n    }\n\n    .dataframe thead th {\n        text-align: right;\n    }\n</style>\n<table border=\"1\" class=\"dataframe\">\n  <thead>\n    <tr style=\"text-align: right;\">\n      <th></th>\n      <th></th>\n      <th>avg_price</th>\n      <th>volatility</th>\n      <th>mean_volume</th>\n    </tr>\n    <tr>\n      <th>day</th>\n      <th>asset</th>\n      <th></th>\n      <th></th>\n      <th></th>\n    </tr>\n  </thead>\n  <tbody>\n    <tr>\n      <th rowspan=\"5\" valign=\"top\">1</th>\n      <th>0</th>\n      <td>24.553713</td>\n      <td>0.861989</td>\n      <td>454075.84</td>\n    </tr>\n    <tr>\n      <th>1</th>\n      <td>16.169781</td>\n      <td>0.804576</td>\n      <td>176868.36</td>\n    </tr>\n    <tr>\n      <th>2</th>\n      <td>9.059178</td>\n      <td>0.351893</td>\n      <td>361648.66</td>\n    </tr>\n    <tr>\n      <th>3</th>\n      <td>9.124460</td>\n      <td>0.250697</td>\n      <td>351809.54</td>\n    </tr>\n    <tr>\n      <th>4</th>\n      <td>5.054415</td>\n      <td>0.270981</td>\n      <td>338476.86</td>\n    </tr>\n  </tbody>\n</table>\n</div>"
     },
     "execution_count": 8,
     "metadata": {},
     "output_type": "execute_result"
    }
   ],
   "source": [
    "m_df_day.head()"
   ],
   "metadata": {
    "collapsed": false,
    "pycharm": {
     "name": "#%%\n"
    }
   }
  },
  {
   "cell_type": "code",
   "execution_count": null,
   "outputs": [],
   "source": [
    "m_df.iloc[1]['money']/m_df.iloc[1]['volume']\n"
   ],
   "metadata": {
    "collapsed": false,
    "pycharm": {
     "name": "#%% mean trading value\n"
    }
   }
  },
  {
   "cell_type": "code",
   "execution_count": 69,
   "outputs": [
    {
     "data": {
      "text/plain": "                       open    close     high      low     volume  \\\nday asset timeslot                                                  \n1   0     1         25.0164  24.9557  25.1378  24.9436   642243.0   \n          2         24.9557  24.8465  24.9557  24.8101   797872.0   \n          3         24.8465  24.7008  24.8586  24.6644  1234546.0   \n          4         24.7008  24.7615  24.7858  24.7008   533023.0   \n          5         24.7615  24.7251  24.7615  24.7008   565000.0   \n\n                           money  \nday asset timeslot                \n1   0     1         1.610060e+07  \n          2         1.984058e+07  \n          3         3.056567e+07  \n          4         1.318848e+07  \n          5         1.396949e+07  ",
      "text/html": "<div>\n<style scoped>\n    .dataframe tbody tr th:only-of-type {\n        vertical-align: middle;\n    }\n\n    .dataframe tbody tr th {\n        vertical-align: top;\n    }\n\n    .dataframe thead th {\n        text-align: right;\n    }\n</style>\n<table border=\"1\" class=\"dataframe\">\n  <thead>\n    <tr style=\"text-align: right;\">\n      <th></th>\n      <th></th>\n      <th></th>\n      <th>open</th>\n      <th>close</th>\n      <th>high</th>\n      <th>low</th>\n      <th>volume</th>\n      <th>money</th>\n    </tr>\n    <tr>\n      <th>day</th>\n      <th>asset</th>\n      <th>timeslot</th>\n      <th></th>\n      <th></th>\n      <th></th>\n      <th></th>\n      <th></th>\n      <th></th>\n    </tr>\n  </thead>\n  <tbody>\n    <tr>\n      <th rowspan=\"5\" valign=\"top\">1</th>\n      <th rowspan=\"5\" valign=\"top\">0</th>\n      <th>1</th>\n      <td>25.0164</td>\n      <td>24.9557</td>\n      <td>25.1378</td>\n      <td>24.9436</td>\n      <td>642243.0</td>\n      <td>1.610060e+07</td>\n    </tr>\n    <tr>\n      <th>2</th>\n      <td>24.9557</td>\n      <td>24.8465</td>\n      <td>24.9557</td>\n      <td>24.8101</td>\n      <td>797872.0</td>\n      <td>1.984058e+07</td>\n    </tr>\n    <tr>\n      <th>3</th>\n      <td>24.8465</td>\n      <td>24.7008</td>\n      <td>24.8586</td>\n      <td>24.6644</td>\n      <td>1234546.0</td>\n      <td>3.056567e+07</td>\n    </tr>\n    <tr>\n      <th>4</th>\n      <td>24.7008</td>\n      <td>24.7615</td>\n      <td>24.7858</td>\n      <td>24.7008</td>\n      <td>533023.0</td>\n      <td>1.318848e+07</td>\n    </tr>\n    <tr>\n      <th>5</th>\n      <td>24.7615</td>\n      <td>24.7251</td>\n      <td>24.7615</td>\n      <td>24.7008</td>\n      <td>565000.0</td>\n      <td>1.396949e+07</td>\n    </tr>\n  </tbody>\n</table>\n</div>"
     },
     "execution_count": 69,
     "metadata": {},
     "output_type": "execute_result"
    }
   ],
   "source": [
    "# sort indexing\n",
    "m_df = m_df.swaplevel(0,1)\n",
    "m_df.reset_index(inplace=True)\n",
    "m_df = m_df.sort_values(['day', 'asset', 'timeslot'], ascending=[True,True,True])\n",
    "# # convert back to multi_index\n",
    "m_df.set_index(['day','asset','timeslot'], inplace=True)\n",
    "m_df.head()\n"
   ],
   "metadata": {
    "collapsed": false,
    "pycharm": {
     "name": "#%% Date-time index sorting\n"
    }
   }
  },
  {
   "cell_type": "code",
   "execution_count": 8,
   "outputs": [],
   "source": [
    "m_df_backup = m_df.copy()"
   ],
   "metadata": {
    "collapsed": false,
    "pycharm": {
     "name": "#%%\n"
    }
   }
  },
  {
   "cell_type": "code",
   "execution_count": 42,
   "outputs": [],
   "source": [],
   "metadata": {
    "collapsed": false,
    "pycharm": {
     "name": "#%%\n"
    }
   }
  },
  {
   "cell_type": "code",
   "execution_count": null,
   "outputs": [],
   "source": [
    "m_df_day.query('day==372 and asset==21')\n",
    "m_df_day.loc[(372,21),'open':'low']"
   ],
   "metadata": {
    "collapsed": false,
    "pycharm": {
     "name": "#%% get multi-index record\n"
    }
   }
  },
  {
   "cell_type": "markdown",
   "source": [
    "Try to compute some statistics"
   ],
   "metadata": {
    "collapsed": false,
    "pycharm": {
     "name": "#%% md\n"
    }
   }
  },
  {
   "cell_type": "code",
   "execution_count": 36,
   "outputs": [
    {
     "data": {
      "text/plain": "MultiIndex([(  1,  0),\n            (372, 21)],\n           names=['day', 'asset'])"
     },
     "execution_count": 36,
     "metadata": {},
     "output_type": "execute_result"
    }
   ],
   "source": [],
   "metadata": {
    "collapsed": false,
    "pycharm": {
     "name": "#%%\n"
    }
   }
  },
  {
   "cell_type": "code",
   "execution_count": 70,
   "outputs": [],
   "source": [
    "m_df_day = m_df.groupby(level=[0,1]).sum()\n",
    "#compute average price\n",
    "m_df_day['avg_price'] = m_df_day['money']/m_df_day['volume']\n",
    "# find index of zero volume\n",
    "indx_day = m_df_day[m_df_day['volume']==0].index\n",
    "# compute replace value as mean of high and low\n",
    "for (i, indx) in enumerate(indx_day):\n",
    "    replace_value = .5*m_df.loc[indx,'high'].max()+.5*m_df.loc[indx,'low'].min()\n",
    "    m_df.loc[indx,'open':'low']=replace_value.item()\n",
    "    m_df_day.loc[indx, 'avg_price'] = replace_value.item()"
   ],
   "metadata": {
    "collapsed": false,
    "pycharm": {
     "name": "#%% Clean data with zero day volume and compute mean price\n"
    }
   }
  },
  {
   "cell_type": "code",
   "execution_count": 72,
   "outputs": [
    {
     "data": {
      "text/plain": "                open      close       high        low      volume  \\\nday asset                                                           \n1   0      1227.5277  1226.8360  1228.9359  1225.4038  22703792.0   \n    1       808.0876   807.9541   810.2361   806.1333   8843418.0   \n    2       452.7961   452.5896   453.6701   451.6673  18082433.0   \n    3       455.6850   455.6973   456.3893   455.1508  17590477.0   \n    4       252.8829   252.6522   253.4174   252.1059  16923843.0   \n\n                  money  avg_price  \nday asset                           \n1   0      5.574624e+08  24.553713  \n    1      1.429961e+08  16.169781  \n    2      1.638120e+08   9.059178  \n    3      1.605036e+08   9.124460  \n    4      8.554012e+07   5.054415  ",
      "text/html": "<div>\n<style scoped>\n    .dataframe tbody tr th:only-of-type {\n        vertical-align: middle;\n    }\n\n    .dataframe tbody tr th {\n        vertical-align: top;\n    }\n\n    .dataframe thead th {\n        text-align: right;\n    }\n</style>\n<table border=\"1\" class=\"dataframe\">\n  <thead>\n    <tr style=\"text-align: right;\">\n      <th></th>\n      <th></th>\n      <th>open</th>\n      <th>close</th>\n      <th>high</th>\n      <th>low</th>\n      <th>volume</th>\n      <th>money</th>\n      <th>avg_price</th>\n    </tr>\n    <tr>\n      <th>day</th>\n      <th>asset</th>\n      <th></th>\n      <th></th>\n      <th></th>\n      <th></th>\n      <th></th>\n      <th></th>\n      <th></th>\n    </tr>\n  </thead>\n  <tbody>\n    <tr>\n      <th rowspan=\"5\" valign=\"top\">1</th>\n      <th>0</th>\n      <td>1227.5277</td>\n      <td>1226.8360</td>\n      <td>1228.9359</td>\n      <td>1225.4038</td>\n      <td>22703792.0</td>\n      <td>5.574624e+08</td>\n      <td>24.553713</td>\n    </tr>\n    <tr>\n      <th>1</th>\n      <td>808.0876</td>\n      <td>807.9541</td>\n      <td>810.2361</td>\n      <td>806.1333</td>\n      <td>8843418.0</td>\n      <td>1.429961e+08</td>\n      <td>16.169781</td>\n    </tr>\n    <tr>\n      <th>2</th>\n      <td>452.7961</td>\n      <td>452.5896</td>\n      <td>453.6701</td>\n      <td>451.6673</td>\n      <td>18082433.0</td>\n      <td>1.638120e+08</td>\n      <td>9.059178</td>\n    </tr>\n    <tr>\n      <th>3</th>\n      <td>455.6850</td>\n      <td>455.6973</td>\n      <td>456.3893</td>\n      <td>455.1508</td>\n      <td>17590477.0</td>\n      <td>1.605036e+08</td>\n      <td>9.124460</td>\n    </tr>\n    <tr>\n      <th>4</th>\n      <td>252.8829</td>\n      <td>252.6522</td>\n      <td>253.4174</td>\n      <td>252.1059</td>\n      <td>16923843.0</td>\n      <td>8.554012e+07</td>\n      <td>5.054415</td>\n    </tr>\n  </tbody>\n</table>\n</div>"
     },
     "execution_count": 72,
     "metadata": {},
     "output_type": "execute_result"
    }
   ],
   "source": [
    "m_df_day.head()"
   ],
   "metadata": {
    "collapsed": false,
    "pycharm": {
     "name": "#%%\n"
    }
   }
  },
  {
   "cell_type": "code",
   "execution_count": 73,
   "outputs": [
    {
     "data": {
      "text/plain": "                       open    close     high      low     volume  \\\nday asset timeslot                                                  \n1   0     1         25.0164  24.9557  25.1378  24.9436   642243.0   \n          2         24.9557  24.8465  24.9557  24.8101   797872.0   \n          3         24.8465  24.7008  24.8586  24.6644  1234546.0   \n          4         24.7008  24.7615  24.7858  24.7008   533023.0   \n          5         24.7615  24.7251  24.7615  24.7008   565000.0   \n\n                           money  \nday asset timeslot                \n1   0     1         1.610060e+07  \n          2         1.984058e+07  \n          3         3.056567e+07  \n          4         1.318848e+07  \n          5         1.396949e+07  ",
      "text/html": "<div>\n<style scoped>\n    .dataframe tbody tr th:only-of-type {\n        vertical-align: middle;\n    }\n\n    .dataframe tbody tr th {\n        vertical-align: top;\n    }\n\n    .dataframe thead th {\n        text-align: right;\n    }\n</style>\n<table border=\"1\" class=\"dataframe\">\n  <thead>\n    <tr style=\"text-align: right;\">\n      <th></th>\n      <th></th>\n      <th></th>\n      <th>open</th>\n      <th>close</th>\n      <th>high</th>\n      <th>low</th>\n      <th>volume</th>\n      <th>money</th>\n    </tr>\n    <tr>\n      <th>day</th>\n      <th>asset</th>\n      <th>timeslot</th>\n      <th></th>\n      <th></th>\n      <th></th>\n      <th></th>\n      <th></th>\n      <th></th>\n    </tr>\n  </thead>\n  <tbody>\n    <tr>\n      <th rowspan=\"5\" valign=\"top\">1</th>\n      <th rowspan=\"5\" valign=\"top\">0</th>\n      <th>1</th>\n      <td>25.0164</td>\n      <td>24.9557</td>\n      <td>25.1378</td>\n      <td>24.9436</td>\n      <td>642243.0</td>\n      <td>1.610060e+07</td>\n    </tr>\n    <tr>\n      <th>2</th>\n      <td>24.9557</td>\n      <td>24.8465</td>\n      <td>24.9557</td>\n      <td>24.8101</td>\n      <td>797872.0</td>\n      <td>1.984058e+07</td>\n    </tr>\n    <tr>\n      <th>3</th>\n      <td>24.8465</td>\n      <td>24.7008</td>\n      <td>24.8586</td>\n      <td>24.6644</td>\n      <td>1234546.0</td>\n      <td>3.056567e+07</td>\n    </tr>\n    <tr>\n      <th>4</th>\n      <td>24.7008</td>\n      <td>24.7615</td>\n      <td>24.7858</td>\n      <td>24.7008</td>\n      <td>533023.0</td>\n      <td>1.318848e+07</td>\n    </tr>\n    <tr>\n      <th>5</th>\n      <td>24.7615</td>\n      <td>24.7251</td>\n      <td>24.7615</td>\n      <td>24.7008</td>\n      <td>565000.0</td>\n      <td>1.396949e+07</td>\n    </tr>\n  </tbody>\n</table>\n</div>"
     },
     "execution_count": 73,
     "metadata": {},
     "output_type": "execute_result"
    }
   ],
   "source": [
    "m_df.head()"
   ],
   "metadata": {
    "collapsed": false,
    "pycharm": {
     "name": "#%%\n"
    }
   }
  },
  {
   "cell_type": "code",
   "execution_count": 90,
   "outputs": [],
   "source": [
    "T = 50.0 # number of time units\n",
    "m_df_std = m_df.groupby(level=[0,1])['close'].std()\n",
    "# note numpy use 0 dof while pd use 1 dof\n",
    "m_df_day['volatility'] = m_df_std*np.sqrt(T)"
   ],
   "metadata": {
    "collapsed": false,
    "pycharm": {
     "name": "#%% compute volatility\n"
    }
   }
  },
  {
   "cell_type": "code",
   "execution_count": 92,
   "outputs": [],
   "source": [
    "m_df_day['volume'] = m_df_day['volume']/50"
   ],
   "metadata": {
    "collapsed": false,
    "pycharm": {
     "name": "#%% compute mean volume\n"
    }
   }
  },
  {
   "cell_type": "code",
   "execution_count": 107,
   "outputs": [
    {
     "data": {
      "text/plain": "                        open    close     high      low     volume  \\\nday  asset timeslot                                                  \n1    0     1         25.0164  24.9557  25.1378  24.9436   642243.0   \n           2         24.9557  24.8465  24.9557  24.8101   797872.0   \n           3         24.8465  24.7008  24.8586  24.6644  1234546.0   \n           4         24.7008  24.7615  24.7858  24.7008   533023.0   \n           5         24.7615  24.7251  24.7615  24.7008   565000.0   \n...                      ...      ...      ...      ...        ...   \n1000 53    46         9.8439   9.8803   9.8925   9.8439   160915.0   \n           47         9.8803   9.9167   9.9289   9.8803   237961.0   \n           48         9.9167   9.9289   9.9289   9.9167   182479.0   \n           49         9.9289   9.8803   9.9289   9.8682   267976.0   \n           50         9.8803   9.9046   9.9046   9.8803   139460.0   \n\n                            money  \nday  asset timeslot                \n1    0     1         1.610060e+07  \n           2         1.984058e+07  \n           3         3.056567e+07  \n           4         1.318848e+07  \n           5         1.396949e+07  \n...                           ...  \n1000 53    46        1.587971e+06  \n           47        2.356753e+06  \n           48        1.809533e+06  \n           49        2.653046e+06  \n           50        1.380952e+06  \n\n[2700000 rows x 6 columns]",
      "text/html": "<div>\n<style scoped>\n    .dataframe tbody tr th:only-of-type {\n        vertical-align: middle;\n    }\n\n    .dataframe tbody tr th {\n        vertical-align: top;\n    }\n\n    .dataframe thead th {\n        text-align: right;\n    }\n</style>\n<table border=\"1\" class=\"dataframe\">\n  <thead>\n    <tr style=\"text-align: right;\">\n      <th></th>\n      <th></th>\n      <th></th>\n      <th>open</th>\n      <th>close</th>\n      <th>high</th>\n      <th>low</th>\n      <th>volume</th>\n      <th>money</th>\n    </tr>\n    <tr>\n      <th>day</th>\n      <th>asset</th>\n      <th>timeslot</th>\n      <th></th>\n      <th></th>\n      <th></th>\n      <th></th>\n      <th></th>\n      <th></th>\n    </tr>\n  </thead>\n  <tbody>\n    <tr>\n      <th rowspan=\"5\" valign=\"top\">1</th>\n      <th rowspan=\"5\" valign=\"top\">0</th>\n      <th>1</th>\n      <td>25.0164</td>\n      <td>24.9557</td>\n      <td>25.1378</td>\n      <td>24.9436</td>\n      <td>642243.0</td>\n      <td>1.610060e+07</td>\n    </tr>\n    <tr>\n      <th>2</th>\n      <td>24.9557</td>\n      <td>24.8465</td>\n      <td>24.9557</td>\n      <td>24.8101</td>\n      <td>797872.0</td>\n      <td>1.984058e+07</td>\n    </tr>\n    <tr>\n      <th>3</th>\n      <td>24.8465</td>\n      <td>24.7008</td>\n      <td>24.8586</td>\n      <td>24.6644</td>\n      <td>1234546.0</td>\n      <td>3.056567e+07</td>\n    </tr>\n    <tr>\n      <th>4</th>\n      <td>24.7008</td>\n      <td>24.7615</td>\n      <td>24.7858</td>\n      <td>24.7008</td>\n      <td>533023.0</td>\n      <td>1.318848e+07</td>\n    </tr>\n    <tr>\n      <th>5</th>\n      <td>24.7615</td>\n      <td>24.7251</td>\n      <td>24.7615</td>\n      <td>24.7008</td>\n      <td>565000.0</td>\n      <td>1.396949e+07</td>\n    </tr>\n    <tr>\n      <th>...</th>\n      <th>...</th>\n      <th>...</th>\n      <td>...</td>\n      <td>...</td>\n      <td>...</td>\n      <td>...</td>\n      <td>...</td>\n      <td>...</td>\n    </tr>\n    <tr>\n      <th rowspan=\"5\" valign=\"top\">1000</th>\n      <th rowspan=\"5\" valign=\"top\">53</th>\n      <th>46</th>\n      <td>9.8439</td>\n      <td>9.8803</td>\n      <td>9.8925</td>\n      <td>9.8439</td>\n      <td>160915.0</td>\n      <td>1.587971e+06</td>\n    </tr>\n    <tr>\n      <th>47</th>\n      <td>9.8803</td>\n      <td>9.9167</td>\n      <td>9.9289</td>\n      <td>9.8803</td>\n      <td>237961.0</td>\n      <td>2.356753e+06</td>\n    </tr>\n    <tr>\n      <th>48</th>\n      <td>9.9167</td>\n      <td>9.9289</td>\n      <td>9.9289</td>\n      <td>9.9167</td>\n      <td>182479.0</td>\n      <td>1.809533e+06</td>\n    </tr>\n    <tr>\n      <th>49</th>\n      <td>9.9289</td>\n      <td>9.8803</td>\n      <td>9.9289</td>\n      <td>9.8682</td>\n      <td>267976.0</td>\n      <td>2.653046e+06</td>\n    </tr>\n    <tr>\n      <th>50</th>\n      <td>9.8803</td>\n      <td>9.9046</td>\n      <td>9.9046</td>\n      <td>9.8803</td>\n      <td>139460.0</td>\n      <td>1.380952e+06</td>\n    </tr>\n  </tbody>\n</table>\n<p>2700000 rows × 6 columns</p>\n</div>"
     },
     "execution_count": 107,
     "metadata": {},
     "output_type": "execute_result"
    }
   ],
   "source": [
    "m_df"
   ],
   "metadata": {
    "collapsed": false,
    "pycharm": {
     "name": "#%%\n"
    }
   }
  },
  {
   "cell_type": "code",
   "execution_count": 94,
   "outputs": [
    {
     "data": {
      "text/plain": "day   asset\n1     0        454075.84\n      1        176868.36\n      2        361648.66\n      3        351809.54\n      4        338476.86\n                 ...    \n1000  49        93683.78\n      50        71372.44\n      51       391628.82\n      52       109396.98\n      53       208841.56\nName: volume, Length: 54000, dtype: float64"
     },
     "execution_count": 94,
     "metadata": {},
     "output_type": "execute_result"
    }
   ],
   "source": [
    "m_df.groupby(level=[0,1])['volume'].mean()\n"
   ],
   "metadata": {
    "collapsed": false,
    "pycharm": {
     "name": "#%%\n"
    }
   }
  },
  {
   "cell_type": "code",
   "execution_count": 95,
   "outputs": [
    {
     "data": {
      "text/plain": "True"
     },
     "execution_count": 95,
     "metadata": {},
     "output_type": "execute_result"
    }
   ],
   "source": [
    "np.size(m_df_day.isna().sum(axis=1).to_numpy().nonzero()[\n",
    "                       0]) == 0\n"
   ],
   "metadata": {
    "collapsed": false,
    "pycharm": {
     "name": "#%%\n"
    }
   }
  },
  {
   "cell_type": "code",
   "execution_count": 7,
   "outputs": [
    {
     "data": {
      "text/plain": "                 volume         money\nasset day                            \n0     1      22703792.0  5.574624e+08\n      2      20075851.0  4.800800e+08\n      3      15398462.0  3.637981e+08\n      4      28162025.0  6.723506e+08\n      5     112498597.0  2.939903e+09\n...                 ...           ...\n53    996     8227288.0  7.770097e+07\n      997    14086031.0  1.387734e+08\n      998    12641373.0  1.241513e+08\n      999    11411585.0  1.143978e+08\n      1000   10442078.0  1.037523e+08\n\n[54000 rows x 2 columns]",
      "text/html": "<div>\n<style scoped>\n    .dataframe tbody tr th:only-of-type {\n        vertical-align: middle;\n    }\n\n    .dataframe tbody tr th {\n        vertical-align: top;\n    }\n\n    .dataframe thead th {\n        text-align: right;\n    }\n</style>\n<table border=\"1\" class=\"dataframe\">\n  <thead>\n    <tr style=\"text-align: right;\">\n      <th></th>\n      <th></th>\n      <th>volume</th>\n      <th>money</th>\n    </tr>\n    <tr>\n      <th>asset</th>\n      <th>day</th>\n      <th></th>\n      <th></th>\n    </tr>\n  </thead>\n  <tbody>\n    <tr>\n      <th rowspan=\"5\" valign=\"top\">0</th>\n      <th>1</th>\n      <td>22703792.0</td>\n      <td>5.574624e+08</td>\n    </tr>\n    <tr>\n      <th>2</th>\n      <td>20075851.0</td>\n      <td>4.800800e+08</td>\n    </tr>\n    <tr>\n      <th>3</th>\n      <td>15398462.0</td>\n      <td>3.637981e+08</td>\n    </tr>\n    <tr>\n      <th>4</th>\n      <td>28162025.0</td>\n      <td>6.723506e+08</td>\n    </tr>\n    <tr>\n      <th>5</th>\n      <td>112498597.0</td>\n      <td>2.939903e+09</td>\n    </tr>\n    <tr>\n      <th>...</th>\n      <th>...</th>\n      <td>...</td>\n      <td>...</td>\n    </tr>\n    <tr>\n      <th rowspan=\"5\" valign=\"top\">53</th>\n      <th>996</th>\n      <td>8227288.0</td>\n      <td>7.770097e+07</td>\n    </tr>\n    <tr>\n      <th>997</th>\n      <td>14086031.0</td>\n      <td>1.387734e+08</td>\n    </tr>\n    <tr>\n      <th>998</th>\n      <td>12641373.0</td>\n      <td>1.241513e+08</td>\n    </tr>\n    <tr>\n      <th>999</th>\n      <td>11411585.0</td>\n      <td>1.143978e+08</td>\n    </tr>\n    <tr>\n      <th>1000</th>\n      <td>10442078.0</td>\n      <td>1.037523e+08</td>\n    </tr>\n  </tbody>\n</table>\n<p>54000 rows × 2 columns</p>\n</div>"
     },
     "execution_count": 7,
     "metadata": {},
     "output_type": "execute_result"
    }
   ],
   "source": [
    "m_df.groupby(level=[0, 1])[['volume', 'money']].sum()"
   ],
   "metadata": {
    "collapsed": false,
    "pycharm": {
     "name": "#%%\n"
    }
   }
  },
  {
   "cell_type": "code",
   "execution_count": null,
   "outputs": [],
   "source": [],
   "metadata": {
    "collapsed": false,
    "pycharm": {
     "name": "#%%\n"
    }
   }
  }
 ],
 "metadata": {
  "kernelspec": {
   "display_name": "Python 3",
   "language": "python",
   "name": "python3"
  },
  "language_info": {
   "codemirror_mode": {
    "name": "ipython",
    "version": 2
   },
   "file_extension": ".py",
   "mimetype": "text/x-python",
   "name": "python",
   "nbconvert_exporter": "python",
   "pygments_lexer": "ipython2",
   "version": "2.7.6"
  }
 },
 "nbformat": 4,
 "nbformat_minor": 0
}