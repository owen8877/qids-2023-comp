{
 "cells": [
  {
   "cell_type": "code",
   "execution_count": 19,
   "outputs": [
    {
     "name": "stdout",
     "output_type": "stream",
     "text": [
      "The autoreload extension is already loaded. To reload it, use:\n",
      "  %reload_ext autoreload\n"
     ]
    }
   ],
   "source": [
    "%load_ext autoreload\n",
    "%autoreload 2"
   ],
   "metadata": {
    "collapsed": false,
    "pycharm": {
     "name": "#%%\n"
    }
   }
  },
  {
   "cell_type": "code",
   "execution_count": 6,
   "metadata": {
    "collapsed": true
   },
   "outputs": [],
   "source": [
    "from qids_lib import QIDS\n",
    "import numpy as np\n",
    "import torch\n",
    "import torch.nn as nn\n",
    "from torch import nn, Tensor\n",
    "import torch.nn.functional as F\n",
    "from torch.autograd import Variable\n",
    "import torch.optim as optim\n",
    "import pandas as pd\n",
    "from pipeline import Dataset, backtest\n",
    "from matplotlib import pyplot as plt\n",
    "from datatools import data_quantization, check_dataframe, extract_market_data\n",
    "from sklearn.model_selection import TimeSeriesSplit\n",
    "from tqdm.auto import tqdm, trange\n",
    "from pandas import Series, DataFrame, MultiIndex\n",
    "from visualization.metric import Performance\n",
    "from sklearn.metrics import r2_score\n",
    "from visualization.metric import plot_performance\n",
    "from qids_lib import QIDS\n",
    "from sklearn.preprocessing import MinMaxScaler"
   ]
  },
  {
   "cell_type": "code",
   "execution_count": 5,
   "outputs": [],
   "source": [
    "dataset = Dataset.load('../../data/parsed')"
   ],
   "metadata": {
    "collapsed": false,
    "pycharm": {
     "name": "#%%\n"
    }
   }
  },
  {
   "cell_type": "code",
   "execution_count": 3,
   "outputs": [],
   "source": [
    "qids = QIDS(path_prefix='../../')"
   ],
   "metadata": {
    "collapsed": false,
    "pycharm": {
     "name": "#%%\n"
    }
   }
  },
  {
   "cell_type": "code",
   "execution_count": 4,
   "outputs": [],
   "source": [
    "class LSTM(nn.Module):\n",
    "\n",
    "    def __init__(self, num_output, num_features,\n",
    "                 hidden_size, num_layers):\n",
    "        ## hidden_size is like embedding feature space dimension\n",
    "        ## better > num_assets?\n",
    "        ## if num_layers = 2: stack 2 LSTM of lyaer 1:\n",
    "        # nn.Sequential(OrderedDict([\n",
    "        #     ('LSTM1', nn.LSTM(input_size, hidden_size, 1),\n",
    "        #     ('LSTM2', nn.LSTM(hidden_size, hidden_size, 1)\n",
    "        #     ]))\n",
    "        super(LSTM, self).__init__()\n",
    "        self.num_output = num_output\n",
    "        self.num_layers = num_layers\n",
    "        self.num_features = num_features\n",
    "        self.hidden_size = hidden_size\n",
    "        # self.window_size = window_size\n",
    "\n",
    "        self.lstm = nn.LSTM(input_size=num_features, hidden_size=hidden_size,\n",
    "                            num_layers=num_layers, batch_first=True)\n",
    "        self.dropout = nn.Dropout(p=0.2)\n",
    "        self.fc = nn.Linear(hidden_size, num_output)\n",
    "\n",
    "    def forward(self, x):\n",
    "        # print(x.shape)\n",
    "        batch_size = x.shape[0]\n",
    "        # the second dim for h_0 and c_0 is the batch dim\n",
    "        # hidden state\n",
    "        h_0 = Variable(torch.zeros(\n",
    "            self.num_layers, batch_size, self.hidden_size), requires_grad=True)\n",
    "        # cell state\n",
    "        c_0 = Variable(torch.zeros(\n",
    "            self.num_layers, batch_size, self.hidden_size), requires_grad=True)\n",
    "\n",
    "        # Propagate input through LSTM\n",
    "        ula, (h_out, _) = self.lstm(x, (h_0, c_0))\n",
    "        # get only the last hidden layer, needed for multiple layer\n",
    "        h_out = h_out[-1,:,:].view(-1, self.hidden_size)\n",
    "\n",
    "        out = self.fc(self.dropout(h_out))\n",
    "\n",
    "        return out\n"
   ],
   "metadata": {
    "collapsed": false,
    "pycharm": {
     "name": "#%%\n"
    }
   }
  },
  {
   "cell_type": "code",
   "execution_count": 77,
   "outputs": [],
   "source": [
    "class NN_wrapper():\n",
    "    def __init__(self, net_path, lookback_window, optimizer,\n",
    "                 num_features, learning_rate = 0.003,\n",
    "                 criterion = nn.MSELoss(), n_epoch = 3):\n",
    "\n",
    "        self.net =  LSTM(num_output=1, #only the return\n",
    "           num_features=num_features,\n",
    "             hidden_size=1024, num_layers=1)\n",
    "        self.net.load_state_dict(torch.load(net_path))\n",
    "        self.lookback_window = lookback_window\n",
    "        self.learning_rate = learning_rate\n",
    "        self.criterion = criterion\n",
    "        if optimizer == 'LBFGS':\n",
    "            self.optimizer = optim.LBFGS(self.net.parameters(), lr=learning_rate)\n",
    "        elif optimizer == 'ADAM':\n",
    "            self.optimizer = optim.Adam(self.net.parameters(), lr=learning_rate, betas = (0.9, 0.999))\n",
    "        else:\n",
    "            raise ValueError('Optimizer not supported')\n",
    "        self.optim_name = optimizer\n",
    "        self.n_epoch = n_epoch\n",
    "\n",
    "    def fit(self, X, y):\n",
    "        self.net.train()\n",
    "        torch.manual_seed(3407)\n",
    "        scaler = MinMaxScaler()\n",
    "        #compute known return\n",
    "        # print(X.query(\"day=='986'\"))\n",
    "        X['return_0+1'] = X['return_0']*X['return_1']+X['return_0']+X['return_1']\n",
    "        X = X.drop(columns=['return_0', 'return_1'])\n",
    "        X_np = X.swaplevel(1,0).sort_index(ascending=True).to_numpy().astype(np.float32)\n",
    "\n",
    "        X_np = scaler.fit_transform(X_np)\n",
    "\n",
    "\n",
    "        for epoch in range(self.n_epoch):\n",
    "            for i in range(int(X.shape[0]/54 - self.lookback_window)+1):\n",
    "                ## use continuous days as look back e.g. if lookback=2 days=[2,3,4,5]\n",
    "                ## then loop over: [2,3], [3,4], [4,5]\n",
    "                # print('look back day:', int(X.shape[0]/(self.lookback_window*54)))\n",
    "                X_np_day = X_np[i:(i+1)*self.lookback_window*54, :]\n",
    "\n",
    "                # shape (asset, days, feature) -> (ft, days, asset)\n",
    "                X_np_tensor = X_np_day.reshape(54,self.lookback_window,-1)\n",
    "                # dim (batch, days, features)\n",
    "                X_torch = torch.from_numpy(X_np_tensor)\n",
    "                # print(y.shape)\n",
    "                y_day = y.to_numpy().astype(np.float32)[i:(i+1)*self.lookback_window*54]\n",
    "                labels = torch.tensor(y_day[-54:]).to(torch.float)\n",
    "                # print('its actually training')\n",
    "                def closure():\n",
    "                    self.optimizer.zero_grad()\n",
    "                    outputs=self.net(X_torch)\n",
    "                    loss = self.criterion(outputs, labels)\n",
    "                    loss.backward()\n",
    "                    return loss\n",
    "                self.optimizer.zero_grad()\n",
    "                outputs = self.net(X_torch)\n",
    "                loss = self.criterion(outputs.squeeze(), labels)\n",
    "                loss.backward()\n",
    "                if self.optim_name == 'LBFGS':\n",
    "                    self.optimizer.step(closure) # need closure for LBFGS\n",
    "                else:\n",
    "                    self.optimizer.step()\n",
    "        return\n",
    "\n",
    "\n",
    "    def predict(self, X):\n",
    "        self.net.eval()\n",
    "        # print(X)\n",
    "        torch.manual_seed(3407)\n",
    "        scaler = MinMaxScaler()\n",
    "        #compute known return\n",
    "        X['return_0+1'] = X['return_0']*X['return_1']+X['return_0']+X['return_1']\n",
    "        X = X.drop(columns=['return_0', 'return_1'])\n",
    "\n",
    "        X_np = X.swaplevel(1,0).sort_index(ascending=True).to_numpy().astype(np.float32)\n",
    "        # shape (asset, days, feature) -> (ft, days, asset)\n",
    "        X_np = scaler.fit_transform(X_np)\n",
    "        X_np_tensor = X_np.reshape(54,self.lookback_window,-1)\n",
    "        # X_np_tensor = X_np_tensor[np.newaxis,:]  # add batch dimension\n",
    "        X_torch = torch.from_numpy(X_np_tensor)\n",
    "        y = self.net(X_torch)\n",
    "        return np.clip(y.squeeze().detach().numpy(), -0.2, 0.2)"
   ],
   "metadata": {
    "collapsed": false,
    "pycharm": {
     "name": "#%%\n"
    }
   }
  },
  {
   "cell_type": "code",
   "execution_count": null,
   "outputs": [],
   "source": [],
   "metadata": {
    "collapsed": false,
    "pycharm": {
     "name": "#%%\n"
    }
   }
  },
  {
   "cell_type": "code",
   "execution_count": 78,
   "outputs": [],
   "source": [
    "net_path = '../../model/dump/LSTM_1for54'\n",
    "train_lookback = 16\n",
    "eval_lookback = 16\n",
    "n_epoch = 1\n",
    "lr = 5e-5\n",
    "criterion = nn.MSELoss()\n",
    "# optimizer = 'LBFGS'\n",
    "optimizer = 'ADAM'\n",
    "# df = pd.concat([dataset.fundamental, dataset.ref_return], axis=1).dropna()\n",
    "# check_dataframe(df, expect_index=['day', 'asset'])\n",
    "# df['return_0+1'] = df['return'].shift(2 * 54).fillna(0)"
   ],
   "metadata": {
    "collapsed": false,
    "pycharm": {
     "name": "#%%\n"
    }
   }
  },
  {
   "cell_type": "code",
   "execution_count": 79,
   "outputs": [
    {
     "name": "stderr",
     "output_type": "stream",
     "text": [
      "/Users/lewisliu/Desktop/Study/Graduate_Study_Austin/Career/Practice/qids-2023-comp/pipeline/backtest.py:163: FutureWarning: Not prepending group keys to the result index of transform-like apply. In the future, the group keys will be included in the index, regardless of whether the applied function returns a like-indexed object.\n",
      "To preserve the previous behavior, use\n",
      "\n",
      "\t>>> .groupby(..., group_keys=False)\n",
      "\n",
      "To adopt the future behavior and silence this warning, use \n",
      "\n",
      "\t>>> .groupby(..., group_keys=True)\n",
      "  return_list.append(return_0.groupby(level=1).apply(lambda df: df.shift(i).bfill()).rename(f'return_{i}'))\n",
      "/Users/lewisliu/Desktop/Study/Graduate_Study_Austin/Career/Practice/qids-2023-comp/pipeline/backtest.py:163: FutureWarning: Not prepending group keys to the result index of transform-like apply. In the future, the group keys will be included in the index, regardless of whether the applied function returns a like-indexed object.\n",
      "To preserve the previous behavior, use\n",
      "\n",
      "\t>>> .groupby(..., group_keys=False)\n",
      "\n",
      "To adopt the future behavior and silence this warning, use \n",
      "\n",
      "\t>>> .groupby(..., group_keys=True)\n",
      "  return_list.append(return_0.groupby(level=1).apply(lambda df: df.shift(i).bfill()).rename(f'return_{i}'))\n"
     ]
    },
    {
     "data": {
      "text/plain": "  0%|          | 0/700 [00:00<?, ?it/s]",
      "application/vnd.jupyter.widget-view+json": {
       "version_major": 2,
       "version_minor": 0,
       "model_id": "a0a499b59f144a5286ac45b0dd5911d4"
      }
     },
     "metadata": {},
     "output_type": "display_data"
    },
    {
     "name": "stdout",
     "output_type": "stream",
     "text": [
      "Data Feeding is finished.\n"
     ]
    }
   ],
   "source": [
    "original_feature = ['turnoverRatio', 'transactionAmount', 'pb', 'ps', 'pe_ttm', 'pe', 'pcf', 'return_0',\n",
    "                    'return_1']\n",
    "from pipeline.backtest import evaluation_for_submission\n",
    "performance = evaluation_for_submission(NN_wrapper(net_path, eval_lookback, num_features=8, optimizer=optimizer, learning_rate = lr,\n",
    "                                                   criterion=criterion),\n",
    "                                        feature_columns=original_feature,\n",
    "                                        dataset=dataset, df=dataset.fundamental, qids=qids, lookback_window=train_lookback,\n",
    "                                        eval_lookback_window=eval_lookback)"
   ],
   "metadata": {
    "collapsed": false,
    "pycharm": {
     "name": "#%%\n"
    }
   }
  },
  {
   "cell_type": "code",
   "execution_count": 73,
   "outputs": [
    {
     "name": "stdout",
     "output_type": "stream",
     "text": [
      "The ending score for metric train_r2 is: 0.0000e+00\n",
      "The ending score for metric test_cum_r2 is: -7.6097e-01\n",
      "The ending score for metric test_cum_pearson is: -1.1117e-02\n"
     ]
    },
    {
     "data": {
      "text/plain": "<Figure size 432x288 with 1 Axes>",
      "image/png": "[encoded data removed]"
     },
     "metadata": {
      "needs_background": "light"
     },
     "output_type": "display_data"
    }
   ],
   "source": [
    "# train 3 epoch\n",
    "plt.figure()\n",
    "plot_performance(performance, metrics_selected=['train_r2', 'test_cum_r2', 'test_cum_pearson'])\n",
    "# plot_performance(performance, metrics_selected=['train_r2', 'val_cum_pearson','val_cum_r2'])\n",
    "plt.show()\n"
   ],
   "metadata": {
    "collapsed": false,
    "pycharm": {
     "name": "#%%\n"
    }
   }
  },
  {
   "cell_type": "code",
   "execution_count": 76,
   "outputs": [
    {
     "name": "stdout",
     "output_type": "stream",
     "text": [
      "The ending score for metric train_r2 is: 0.0000e+00\n",
      "The ending score for metric test_cum_r2 is: -6.1708e-02\n",
      "The ending score for metric test_cum_pearson is: 7.6011e-03\n"
     ]
    },
    {
     "data": {
      "text/plain": "<Figure size 432x288 with 1 Axes>",
      "image/png": "[encoded data removed]"
     },
     "metadata": {
      "needs_background": "light"
     },
     "output_type": "display_data"
    }
   ],
   "source": [
    "# no training\n",
    "plt.figure()\n",
    "plot_performance(performance, metrics_selected=['train_r2', 'test_cum_r2', 'test_cum_pearson'])\n",
    "# plot_performance(performance, metrics_selected=['train_r2', 'val_cum_pearson','val_cum_r2'])\n",
    "plt.show()"
   ],
   "metadata": {
    "collapsed": false,
    "pycharm": {
     "name": "#%%\n"
    }
   }
  },
  {
   "cell_type": "code",
   "execution_count": 80,
   "outputs": [
    {
     "name": "stdout",
     "output_type": "stream",
     "text": [
      "The ending score for metric train_r2 is: 0.0000e+00\n",
      "The ending score for metric test_cum_r2 is: -7.1084e-01\n",
      "The ending score for metric test_cum_pearson is: 4.4605e-03\n"
     ]
    },
    {
     "data": {
      "text/plain": "<Figure size 432x288 with 1 Axes>",
      "image/png": "[encoded data removed]"
     },
     "metadata": {
      "needs_background": "light"
     },
     "output_type": "display_data"
    }
   ],
   "source": [
    "# train 1 epoch\n",
    "plt.figure()\n",
    "plot_performance(performance, metrics_selected=['train_r2', 'test_cum_r2', 'test_cum_pearson'])\n",
    "# plot_performance(performance, metrics_selected=['train_r2', 'val_cum_pearson','val_cum_r2'])\n",
    "plt.show()"
   ],
   "metadata": {
    "collapsed": false,
    "pycharm": {
     "name": "#%%\n"
    }
   }
  },
  {
   "cell_type": "code",
   "execution_count": 32,
   "outputs": [
    {
     "data": {
      "text/plain": "-0.01562448736"
     },
     "execution_count": 32,
     "metadata": {},
     "output_type": "execute_result"
    }
   ],
   "source": [
    "a1 = -0.019765\n",
    "a2 =  0.004224\n",
    "a1*a2 + a1+a2"
   ],
   "metadata": {
    "collapsed": false,
    "pycharm": {
     "name": "#%%\n"
    }
   }
  },
  {
   "cell_type": "code",
   "execution_count": 33,
   "outputs": [
    {
     "data": {
      "text/plain": "-0.02203287808"
     },
     "execution_count": 33,
     "metadata": {},
     "output_type": "execute_result"
    }
   ],
   "source": [
    "a1 = -0.005840\n",
    "a2 =   -0.016288\n",
    "a1*a2 + a1+a2\n",
    "\n"
   ],
   "metadata": {
    "collapsed": false,
    "pycharm": {
     "name": "#%%\n"
    }
   }
  },
  {
   "cell_type": "code",
   "execution_count": 81,
   "outputs": [],
   "source": [
    "\n",
    "fundamental_df = dataset.fundamental"
   ],
   "metadata": {
    "collapsed": false,
    "pycharm": {
     "name": "#%%\n"
    }
   }
  },
  {
   "cell_type": "code",
   "execution_count": 82,
   "outputs": [],
   "source": [
    "df_np = fundamental_df.to_numpy().astype(np.float32)"
   ],
   "metadata": {
    "collapsed": false,
    "pycharm": {
     "name": "#%%\n"
    }
   }
  },
  {
   "cell_type": "code",
   "execution_count": 83,
   "outputs": [],
   "source": [
    "df_np = df_np.reshape(54,-1,7)"
   ],
   "metadata": {
    "collapsed": false,
    "pycharm": {
     "name": "#%%\n"
    }
   }
  },
  {
   "cell_type": "code",
   "execution_count": null,
   "outputs": [],
   "source": [],
   "metadata": {
    "collapsed": false,
    "pycharm": {
     "name": "#%%\n"
    }
   }
  }
 ],
 "metadata": {
  "kernelspec": {
   "display_name": "Python 3",
   "language": "python",
   "name": "python3"
  },
  "language_info": {
   "codemirror_mode": {
    "name": "ipython",
    "version": 2
   },
   "file_extension": ".py",
   "mimetype": "text/x-python",
   "name": "python",
   "nbconvert_exporter": "python",
   "pygments_lexer": "ipython2",
   "version": "2.7.6"
  }
 },
 "nbformat": 4,
 "nbformat_minor": 0
}
