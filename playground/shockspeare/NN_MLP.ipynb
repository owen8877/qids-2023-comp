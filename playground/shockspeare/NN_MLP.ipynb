{
 "cells": [
  {
   "cell_type": "code",
   "execution_count": 113,
   "metadata": {
    "collapsed": true
   },
   "outputs": [],
   "source": [
    "import numpy as np\n",
    "import torch\n",
    "import torch.nn as nn\n",
    "from torch import nn, Tensor\n",
    "import torch.nn.functional as F\n",
    "from torch.autograd import Variable\n",
    "import torch.optim as optim"
   ]
  },
  {
   "cell_type": "code",
   "execution_count": 2,
   "outputs": [],
   "source": [
    "class FCNet(nn.Module): # type1 - fully connected layers\n",
    "    def __init__(self, D_in, D_out, input_shape):\n",
    "        # D_in - dimension of input channel, should be 3 for point cloud coordinates\n",
    "        # D_out - number of classes label\n",
    "        # k - number of rays\n",
    "        # N - number of points on one ray\n",
    "        super(FCNet, self).__init__()\n",
    "        self.fc1 = nn.Linear(input_shape[0]*input_shape[1]*input_shape[2], 512)\n",
    "        self.fc2 = nn.Linear(512, 256)\n",
    "        self.fc3 = nn.Linear(256, 128)\n",
    "        self.fc4 = nn.Linear(128, D_out)\n",
    "        self.dropout = nn.Dropout(p=0.3)\n",
    "        self.bn1 = nn.BatchNorm1d(512)\n",
    "        self.bn2 = nn.BatchNorm1d(256)\n",
    "        self.bn3 = nn.BatchNorm1d(128)\n",
    "        self.relu = nn.ReLU()\n",
    "\n",
    "#         self.final_layer = nn.Softmax(dim=1)\n",
    "\n",
    "    def forward(self, x):\n",
    "        x = x.contiguous().view(-1,self.num_flat_features(x))\n",
    "        x = F.relu(self.bn1(self.fc1(x)))\n",
    "        x = F.relu(self.bn2(self.fc2(x)))\n",
    "        x = F.relu(self.bn3(self.dropout(self.fc3(x))))\n",
    "        x = self.fc4(x)\n",
    "#         x = self.final_layer(x)\n",
    "        return x\n",
    "\n",
    "    def num_flat_features(self, x):\n",
    "        size = x.size()[1:]  # all dimensions except the batch dimension\n",
    "        num_features = 1\n",
    "        for s in size:\n",
    "            num_features *= s\n",
    "        return num_features\n",
    "    def method_of_pred(self, x):\n",
    "        pass"
   ],
   "metadata": {
    "collapsed": false,
    "pycharm": {
     "name": "#%%\n"
    }
   }
  },
  {
   "cell_type": "code",
   "execution_count": 152,
   "outputs": [],
   "source": [
    "class oneDVerConvNet(nn.Module): # type3 - 1D Vertical Convolution\n",
    "    def __init__(self, D_in, D_out, input_shape, b_size):\n",
    "        # input_shape: without batch dimension\n",
    "        # b_size: batch size\n",
    "        super(oneDVerConvNet, self).__init__()\n",
    "        self.layer1 = nn.Sequential(\n",
    "            nn.Conv2d(D_in, 16, (3,1), stride = (1,1), padding = (1,0)),\n",
    "            # nn.BatchNorm2d(16), # no batch\n",
    "            nn.ReLU(),\n",
    "            nn.MaxPool2d(kernel_size = (2,1), stride = (2,1)))\n",
    "        self.layer2 = nn.Sequential(\n",
    "            nn.Conv2d(16, 64, kernel_size = (3,1), stride = (1,1), padding= (1,0)),\n",
    "            # nn.BatchNorm2d(64),\n",
    "            nn.ReLU(),\n",
    "            nn.MaxPool2d(kernel_size = (2,1), stride = (2,1)))\n",
    "        self.layer3 = nn.Sequential(\n",
    "            nn.Conv2d(64, 256, kernel_size = (3,1), stride = (1,1), padding= (1,0)),\n",
    "            # nn.BatchNorm2d(256),\n",
    "            nn.ReLU(),\n",
    "            nn.MaxPool2d(kernel_size = (2,1), stride = (2,1)))\n",
    "        self.layer4 = nn.Sequential(\n",
    "            nn.Conv2d(256, 1024, kernel_size = (3,1), stride = (1,1), padding= (1,0)),\n",
    "            # nn.BatchNorm2d(1024),\n",
    "            nn.ReLU(),\n",
    "            nn.MaxPool2d(kernel_size = (2,1), stride = (2,1)))\n",
    "        self.drop_out = nn.Dropout()\n",
    "        n_size = self._get_conv_output(input_shape, b_size)\n",
    "        # print(n_size)\n",
    " #       self.fc1 = nn.Linear(n_size, 256)\n",
    " #        self.fc1 = nn.Linear(1024, 256)\n",
    " #        self.fc2 = nn.Linear(256, 64)\n",
    " #        self.fc3 = nn.Linear(64,D_out)\n",
    "        self.transform1 = nn.Conv2d(n_size, 256, kernel_size = (1,1), stride = (1,1), padding=0)\n",
    "        self.transform2 = nn.Conv2d(256, 64, kernel_size = (1,1), stride = (1,1), padding=0)\n",
    "        self.transform3 = nn.Conv2d(64, D_out, kernel_size = (1,1), stride = (1,1), padding=0)\n",
    "        # self.bn1 = nn.BatchNorm1d(256)\n",
    "        # self.bn2 = nn.BatchNorm1d(64)\n",
    "\n",
    "    def _get_conv_output(self, shape, b_size):\n",
    "        input = Variable(torch.rand(b_size, *shape))\n",
    "        output_feat = self._forward_features(input)\n",
    "        n_size = output_feat.data.view(b_size, -1).size(1)\n",
    "        return n_size\n",
    "\n",
    "    def _forward_features(self, x):\n",
    "        x = self.layer1(x)\n",
    "        x = self.layer2(x)\n",
    "        x = self.layer3(x)\n",
    "        x = self.layer4(x)\n",
    "        # print(x.shape) # shape = (b_size, feature=1024, H=1, W = 54)\n",
    "        x = torch.max(x,3)[0]\n",
    "        return x\n",
    "\n",
    "    def forward(self, x):\n",
    "        x = self.layer1(x)\n",
    "        x = self.layer2(x)\n",
    "        x = self.layer3(x)\n",
    "        x = self.layer4(x)\n",
    "        # x = torch.max(x,3)[0] # questionable maybe do along [1]\n",
    "        # print(x.shape) # shape = (b_size, feature=1024, H=1) after max\n",
    "        #print(x.data.size())\n",
    "        # x = x.view(-1,self.num_flat_features(x))\n",
    "#        print(x.data.size())\n",
    "#         x = F.relu(self.bn1(self.fc1(x)))\n",
    "#         x = F.relu(self.bn2(self.drop_out(self.fc2(x))))\n",
    "        x = F.relu(self.transform1(x))\n",
    "        x = F.relu(self.drop_out(self.transform2(x)))\n",
    "        x = self.transform3(x)\n",
    "##        return x, new_features, contribution\n",
    "        return x.squeeze()\n",
    "\n",
    "    def num_flat_features(self, x):\n",
    "        size = x.size()[1:]  # all dimensions except the batch dimension\n",
    "        num_features = 1\n",
    "        for s in size:\n",
    "            num_features *= s\n",
    "        return num_features\n"
   ],
   "metadata": {
    "collapsed": false,
    "pycharm": {
     "name": "#%%\n"
    }
   }
  },
  {
   "cell_type": "code",
   "execution_count": null,
   "outputs": [],
   "source": [
    "class train_NN():\n",
    "    def __init__(\n",
    "        self,\n",
    "        optimizer,\n",
    "        net,\n",
    "    ):\n",
    "        self.optimizer = optimizer\n",
    "        self.net = net\n",
    "        self.n_jobs = n_jobs\n",
    "        self.positive = positive\n",
    "\n",
    "    def fit(self, X, y, nepoch=10):\n",
    "        for epoch in range(nepoch):\n",
    "            running_loss = 0\n",
    "            self.net.train()\n",
    "            np.random.seed()\n",
    "            self.optimizer.zero_grad()\n",
    "            for (i, data) in enumerate(X):\n",
    "                data, label = X, y[i]\n",
    "                label = label.view(-1)\n",
    "                num_examples = label.size()[0] # need this because it's not always the batch size\n",
    "\n",
    "                self.optimizer.zero_grad()\n",
    "\n",
    "        outputs = net(smatrix)\n",
    "\n",
    "        loss = criterion(outputs, labels)\n",
    "        loss.backward()\n",
    "        optimizer.step()\n",
    "        loss_list.append(loss.item())"
   ],
   "metadata": {
    "collapsed": false,
    "pycharm": {
     "name": "#%%\n"
    }
   }
  },
  {
   "cell_type": "code",
   "execution_count": 144,
   "outputs": [],
   "source": [
    "import pandas as pd\n",
    "from pipeline import Dataset, backtest\n",
    "from matplotlib import pyplot as plt\n",
    "from datatools import data_quantization, check_dataframe, extract_market_data\n",
    "from sklearn.model_selection import TimeSeriesSplit\n",
    "from tqdm.auto import tqdm, trange\n",
    "from pandas import Series, DataFrame, MultiIndex\n",
    "from visualization.metric import Performance\n",
    "from sklearn.metrics import r2_score\n",
    "from visualization.metric import plot_performance"
   ],
   "metadata": {
    "collapsed": false,
    "pycharm": {
     "name": "#%%\n"
    }
   }
  },
  {
   "cell_type": "code",
   "execution_count": 5,
   "outputs": [],
   "source": [
    "%load_ext autoreload\n",
    "%autoreload 2"
   ],
   "metadata": {
    "collapsed": false,
    "pycharm": {
     "name": "#%%\n"
    }
   }
  },
  {
   "cell_type": "code",
   "execution_count": 6,
   "outputs": [],
   "source": [
    "dataset = Dataset.load('../../data/parsed')\n",
    "# dataset = load_mini_dataset('../../data/parsed_mini/')"
   ],
   "metadata": {
    "collapsed": false,
    "pycharm": {
     "name": "#%% DataLoading\n"
    }
   }
  },
  {
   "cell_type": "code",
   "execution_count": 140,
   "outputs": [
    {
     "name": "stdout",
     "output_type": "stream",
     "text": [
      "Indices matched\n",
      "Features matched\n",
      "DataFame is all good for the tests\n"
     ]
    }
   ],
   "source": [
    "quantized_fundamental, _ = data_quantization(dataset.fundamental)\n",
    "df = pd.concat([quantized_fundamental, dataset.fundamental, dataset.ref_return], axis=1).dropna()\n",
    "quantile_feature = ['turnoverRatio_QUANTILE', 'transactionAmount_QUANTILE', 'pb_QUANTILE', 'ps_QUANTILE',\n",
    "                            'pe_ttm_QUANTILE', 'pe_QUANTILE', 'pcf_QUANTILE']\n",
    "original_feature = ['turnoverRatio', 'transactionAmount', 'pb', 'ps', 'pe_ttm', 'pe', 'pcf']\n",
    "\n",
    "check_dataframe(df, expect_index=['day','asset'])\n"
   ],
   "metadata": {
    "collapsed": false,
    "pycharm": {
     "name": "#%% Data Preprocessing\n"
    }
   }
  },
  {
   "cell_type": "code",
   "execution_count": 142,
   "outputs": [],
   "source": [
    "df['return_known'] = df['return'].shift(2*54)\n",
    "df=df.dropna()"
   ],
   "metadata": {
    "collapsed": false,
    "pycharm": {
     "name": "#%%\n"
    }
   }
  },
  {
   "cell_type": "code",
   "execution_count": 130,
   "outputs": [],
   "source": [
    "original_feature = ['turnoverRatio', 'transactionAmount', 'pb', 'ps', 'pe_ttm', 'pe', 'pcf','return_known']\n",
    "quantile_feature = ['turnoverRatio_QUANTILE', 'transactionAmount_QUANTILE', 'pb_QUANTILE', 'ps_QUANTILE',\n",
    "                            'pe_ttm_QUANTILE', 'pe_QUANTILE', 'pcf_QUANTILE', 'return_known']"
   ],
   "metadata": {
    "collapsed": false,
    "pycharm": {
     "name": "#%%\n"
    }
   }
  },
  {
   "cell_type": "markdown",
   "source": [
    "## Training always loop over all available data"
   ],
   "metadata": {
    "collapsed": false,
    "pycharm": {
     "name": "#%% md\n"
    }
   }
  },
  {
   "cell_type": "code",
   "execution_count": 207,
   "outputs": [
    {
     "data": {
      "text/plain": "  0%|          | 0/995 [00:00<?, ?it/s]",
      "application/vnd.jupyter.widget-view+json": {
       "version_major": 2,
       "version_minor": 0,
       "model_id": "42b007856de8495d892de83a3655be40"
      }
     },
     "metadata": {},
     "output_type": "display_data"
    },
    {
     "name": "stdout",
     "output_type": "stream",
     "text": [
      "Skipping this fold since we cannot truncate the last day.\n",
      "Fold [100/995], Loss: 0.3705, cum_train_r2: -0.58%\n",
      "Fold [200/995], Loss: 0.0517, cum_train_r2: -1.03%\n",
      "Fold [300/995], Loss: 0.0010, cum_train_r2: -0.76%\n",
      "Fold [400/995], Loss: 0.0006, cum_train_r2: -0.88%\n",
      "Fold [500/995], Loss: 0.0008, cum_train_r2: -3.21%\n",
      "Fold [600/995], Loss: 0.0014, cum_train_r2: -0.98%\n"
     ]
    },
    {
     "ename": "KeyboardInterrupt",
     "evalue": "",
     "output_type": "error",
     "traceback": [
      "\u001B[0;31m---------------------------------------------------------------------------\u001B[0m",
      "\u001B[0;31mKeyboardInterrupt\u001B[0m                         Traceback (most recent call last)",
      "\u001B[0;32m/var/folders/c_/y_0x4rsd6tb4chd_y83jnpzr0000gn/T/ipykernel_2610/3159425957.py\u001B[0m in \u001B[0;36m<module>\u001B[0;34m\u001B[0m\n\u001B[1;32m     49\u001B[0m         \u001B[0;32mfor\u001B[0m \u001B[0mi\u001B[0m \u001B[0;32min\u001B[0m \u001B[0mrange\u001B[0m\u001B[0;34m(\u001B[0m\u001B[0mlookback_window\u001B[0m\u001B[0;34m,\u001B[0m \u001B[0mlen\u001B[0m\u001B[0;34m(\u001B[0m\u001B[0mdays_train\u001B[0m\u001B[0;34m)\u001B[0m\u001B[0;34m)\u001B[0m\u001B[0;34m:\u001B[0m\u001B[0;34m\u001B[0m\u001B[0;34m\u001B[0m\u001B[0m\n\u001B[1;32m     50\u001B[0m             \u001B[0mdays_train_valid\u001B[0m \u001B[0;34m=\u001B[0m \u001B[0mdays_train\u001B[0m\u001B[0;34m[\u001B[0m\u001B[0mi\u001B[0m\u001B[0;34m-\u001B[0m\u001B[0mlookback_window\u001B[0m\u001B[0;34m:\u001B[0m\u001B[0mi\u001B[0m\u001B[0;34m]\u001B[0m \u001B[0;31m# last ends at valid-day-2\u001B[0m\u001B[0;34m\u001B[0m\u001B[0;34m\u001B[0m\u001B[0m\n\u001B[0;32m---> 51\u001B[0;31m             \u001B[0mX_train\u001B[0m\u001B[0;34m,\u001B[0m \u001B[0my_train_true\u001B[0m \u001B[0;34m=\u001B[0m \u001B[0mdf\u001B[0m\u001B[0;34m.\u001B[0m\u001B[0mloc\u001B[0m\u001B[0;34m[\u001B[0m\u001B[0;34m(\u001B[0m\u001B[0mdays_train_valid\u001B[0m\u001B[0;34m,\u001B[0m\u001B[0;34m)\u001B[0m\u001B[0;34m,\u001B[0m \u001B[0;34m:\u001B[0m\u001B[0;34m]\u001B[0m\u001B[0;34m[\u001B[0m\u001B[0mfeature_columns\u001B[0m\u001B[0;34m]\u001B[0m\u001B[0;34m,\u001B[0m \u001B[0mdf\u001B[0m\u001B[0;34m.\u001B[0m\u001B[0mloc\u001B[0m\u001B[0;34m[\u001B[0m\u001B[0;34m(\u001B[0m\u001B[0mdays_train_valid\u001B[0m\u001B[0;34m[\u001B[0m\u001B[0;34m-\u001B[0m\u001B[0;36m1\u001B[0m\u001B[0;34m]\u001B[0m\u001B[0;34m)\u001B[0m\u001B[0;34m,\u001B[0m\u001B[0;34m:\u001B[0m\u001B[0;34m]\u001B[0m\u001B[0;34m[\u001B[0m\u001B[0mreturn_column\u001B[0m\u001B[0;34m]\u001B[0m\u001B[0;34m\u001B[0m\u001B[0;34m\u001B[0m\u001B[0m\n\u001B[0m\u001B[1;32m     52\u001B[0m \u001B[0;34m\u001B[0m\u001B[0m\n\u001B[1;32m     53\u001B[0m             \u001B[0mX_np\u001B[0m \u001B[0;34m=\u001B[0m \u001B[0mX_train\u001B[0m\u001B[0;34m.\u001B[0m\u001B[0mswaplevel\u001B[0m\u001B[0;34m(\u001B[0m\u001B[0;36m1\u001B[0m\u001B[0;34m,\u001B[0m\u001B[0;36m0\u001B[0m\u001B[0;34m)\u001B[0m\u001B[0;34m.\u001B[0m\u001B[0msort_index\u001B[0m\u001B[0;34m(\u001B[0m\u001B[0mascending\u001B[0m\u001B[0;34m=\u001B[0m\u001B[0;32mTrue\u001B[0m\u001B[0;34m)\u001B[0m\u001B[0;34m.\u001B[0m\u001B[0mto_numpy\u001B[0m\u001B[0;34m(\u001B[0m\u001B[0;34m)\u001B[0m\u001B[0;34m.\u001B[0m\u001B[0mastype\u001B[0m\u001B[0;34m(\u001B[0m\u001B[0mnp\u001B[0m\u001B[0;34m.\u001B[0m\u001B[0mfloat32\u001B[0m\u001B[0;34m)\u001B[0m\u001B[0;34m\u001B[0m\u001B[0;34m\u001B[0m\u001B[0m\n",
      "\u001B[0;32m~/micromamba/envs/DataScience/lib/python3.9/site-packages/pandas/core/indexing.py\u001B[0m in \u001B[0;36m__getitem__\u001B[0;34m(self, key)\u001B[0m\n\u001B[1;32m   1065\u001B[0m             \u001B[0;32mif\u001B[0m \u001B[0mself\u001B[0m\u001B[0;34m.\u001B[0m\u001B[0m_is_scalar_access\u001B[0m\u001B[0;34m(\u001B[0m\u001B[0mkey\u001B[0m\u001B[0;34m)\u001B[0m\u001B[0;34m:\u001B[0m\u001B[0;34m\u001B[0m\u001B[0;34m\u001B[0m\u001B[0m\n\u001B[1;32m   1066\u001B[0m                 \u001B[0;32mreturn\u001B[0m \u001B[0mself\u001B[0m\u001B[0;34m.\u001B[0m\u001B[0mobj\u001B[0m\u001B[0;34m.\u001B[0m\u001B[0m_get_value\u001B[0m\u001B[0;34m(\u001B[0m\u001B[0;34m*\u001B[0m\u001B[0mkey\u001B[0m\u001B[0;34m,\u001B[0m \u001B[0mtakeable\u001B[0m\u001B[0;34m=\u001B[0m\u001B[0mself\u001B[0m\u001B[0;34m.\u001B[0m\u001B[0m_takeable\u001B[0m\u001B[0;34m)\u001B[0m\u001B[0;34m\u001B[0m\u001B[0;34m\u001B[0m\u001B[0m\n\u001B[0;32m-> 1067\u001B[0;31m             \u001B[0;32mreturn\u001B[0m \u001B[0mself\u001B[0m\u001B[0;34m.\u001B[0m\u001B[0m_getitem_tuple\u001B[0m\u001B[0;34m(\u001B[0m\u001B[0mkey\u001B[0m\u001B[0;34m)\u001B[0m\u001B[0;34m\u001B[0m\u001B[0;34m\u001B[0m\u001B[0m\n\u001B[0m\u001B[1;32m   1068\u001B[0m         \u001B[0;32melse\u001B[0m\u001B[0;34m:\u001B[0m\u001B[0;34m\u001B[0m\u001B[0;34m\u001B[0m\u001B[0m\n\u001B[1;32m   1069\u001B[0m             \u001B[0;31m# we by definition only have the 0th axis\u001B[0m\u001B[0;34m\u001B[0m\u001B[0;34m\u001B[0m\u001B[0m\n",
      "\u001B[0;32m~/micromamba/envs/DataScience/lib/python3.9/site-packages/pandas/core/indexing.py\u001B[0m in \u001B[0;36m_getitem_tuple\u001B[0;34m(self, tup)\u001B[0m\n\u001B[1;32m   1245\u001B[0m         \u001B[0;32mwith\u001B[0m \u001B[0msuppress\u001B[0m\u001B[0;34m(\u001B[0m\u001B[0mIndexingError\u001B[0m\u001B[0;34m)\u001B[0m\u001B[0;34m:\u001B[0m\u001B[0;34m\u001B[0m\u001B[0;34m\u001B[0m\u001B[0m\n\u001B[1;32m   1246\u001B[0m             \u001B[0mtup\u001B[0m \u001B[0;34m=\u001B[0m \u001B[0mself\u001B[0m\u001B[0;34m.\u001B[0m\u001B[0m_expand_ellipsis\u001B[0m\u001B[0;34m(\u001B[0m\u001B[0mtup\u001B[0m\u001B[0;34m)\u001B[0m\u001B[0;34m\u001B[0m\u001B[0;34m\u001B[0m\u001B[0m\n\u001B[0;32m-> 1247\u001B[0;31m             \u001B[0;32mreturn\u001B[0m \u001B[0mself\u001B[0m\u001B[0;34m.\u001B[0m\u001B[0m_getitem_lowerdim\u001B[0m\u001B[0;34m(\u001B[0m\u001B[0mtup\u001B[0m\u001B[0;34m)\u001B[0m\u001B[0;34m\u001B[0m\u001B[0;34m\u001B[0m\u001B[0m\n\u001B[0m\u001B[1;32m   1248\u001B[0m \u001B[0;34m\u001B[0m\u001B[0m\n\u001B[1;32m   1249\u001B[0m         \u001B[0;31m# no multi-index, so validate all of the indexers\u001B[0m\u001B[0;34m\u001B[0m\u001B[0;34m\u001B[0m\u001B[0m\n",
      "\u001B[0;32m~/micromamba/envs/DataScience/lib/python3.9/site-packages/pandas/core/indexing.py\u001B[0m in \u001B[0;36m_getitem_lowerdim\u001B[0;34m(self, tup)\u001B[0m\n\u001B[1;32m    939\u001B[0m         \u001B[0;31m# we may have a nested tuples indexer here\u001B[0m\u001B[0;34m\u001B[0m\u001B[0;34m\u001B[0m\u001B[0m\n\u001B[1;32m    940\u001B[0m         \u001B[0;32mif\u001B[0m \u001B[0mself\u001B[0m\u001B[0;34m.\u001B[0m\u001B[0m_is_nested_tuple_indexer\u001B[0m\u001B[0;34m(\u001B[0m\u001B[0mtup\u001B[0m\u001B[0;34m)\u001B[0m\u001B[0;34m:\u001B[0m\u001B[0;34m\u001B[0m\u001B[0;34m\u001B[0m\u001B[0m\n\u001B[0;32m--> 941\u001B[0;31m             \u001B[0;32mreturn\u001B[0m \u001B[0mself\u001B[0m\u001B[0;34m.\u001B[0m\u001B[0m_getitem_nested_tuple\u001B[0m\u001B[0;34m(\u001B[0m\u001B[0mtup\u001B[0m\u001B[0;34m)\u001B[0m\u001B[0;34m\u001B[0m\u001B[0;34m\u001B[0m\u001B[0m\n\u001B[0m\u001B[1;32m    942\u001B[0m \u001B[0;34m\u001B[0m\u001B[0m\n\u001B[1;32m    943\u001B[0m         \u001B[0;31m# we maybe be using a tuple to represent multiple dimensions here\u001B[0m\u001B[0;34m\u001B[0m\u001B[0;34m\u001B[0m\u001B[0m\n",
      "\u001B[0;32m~/micromamba/envs/DataScience/lib/python3.9/site-packages/pandas/core/indexing.py\u001B[0m in \u001B[0;36m_getitem_nested_tuple\u001B[0;34m(self, tup)\u001B[0m\n\u001B[1;32m    999\u001B[0m \u001B[0;34m\u001B[0m\u001B[0m\n\u001B[1;32m   1000\u001B[0m         \u001B[0;32mfor\u001B[0m \u001B[0mkey\u001B[0m \u001B[0;32min\u001B[0m \u001B[0mtup\u001B[0m\u001B[0;34m:\u001B[0m\u001B[0;34m\u001B[0m\u001B[0;34m\u001B[0m\u001B[0m\n\u001B[0;32m-> 1001\u001B[0;31m             \u001B[0mcheck_deprecated_indexers\u001B[0m\u001B[0;34m(\u001B[0m\u001B[0mkey\u001B[0m\u001B[0;34m)\u001B[0m\u001B[0;34m\u001B[0m\u001B[0;34m\u001B[0m\u001B[0m\n\u001B[0m\u001B[1;32m   1002\u001B[0m \u001B[0;34m\u001B[0m\u001B[0m\n\u001B[1;32m   1003\u001B[0m         \u001B[0;31m# we have too many indexers for our dim, but have at least 1\u001B[0m\u001B[0;34m\u001B[0m\u001B[0;34m\u001B[0m\u001B[0m\n",
      "\u001B[0;32m~/micromamba/envs/DataScience/lib/python3.9/site-packages/pandas/core/indexing.py\u001B[0m in \u001B[0;36mcheck_deprecated_indexers\u001B[0;34m(key)\u001B[0m\n\u001B[1;32m   2669\u001B[0m     if (\n\u001B[1;32m   2670\u001B[0m         \u001B[0misinstance\u001B[0m\u001B[0;34m(\u001B[0m\u001B[0mkey\u001B[0m\u001B[0;34m,\u001B[0m \u001B[0mdict\u001B[0m\u001B[0;34m)\u001B[0m\u001B[0;34m\u001B[0m\u001B[0;34m\u001B[0m\u001B[0m\n\u001B[0;32m-> 2671\u001B[0;31m         \u001B[0;32mor\u001B[0m \u001B[0misinstance\u001B[0m\u001B[0;34m(\u001B[0m\u001B[0mkey\u001B[0m\u001B[0;34m,\u001B[0m \u001B[0mtuple\u001B[0m\u001B[0;34m)\u001B[0m\u001B[0;34m\u001B[0m\u001B[0;34m\u001B[0m\u001B[0m\n\u001B[0m\u001B[1;32m   2672\u001B[0m         \u001B[0;32mand\u001B[0m \u001B[0many\u001B[0m\u001B[0;34m(\u001B[0m\u001B[0misinstance\u001B[0m\u001B[0;34m(\u001B[0m\u001B[0mx\u001B[0m\u001B[0;34m,\u001B[0m \u001B[0mdict\u001B[0m\u001B[0;34m)\u001B[0m \u001B[0;32mfor\u001B[0m \u001B[0mx\u001B[0m \u001B[0;32min\u001B[0m \u001B[0mkey\u001B[0m\u001B[0;34m)\u001B[0m\u001B[0;34m\u001B[0m\u001B[0;34m\u001B[0m\u001B[0m\n\u001B[1;32m   2673\u001B[0m     ):\n",
      "\u001B[0;31mKeyboardInterrupt\u001B[0m: "
     ]
    }
   ],
   "source": [
    "# Hyperparameter\n",
    "n_splits = 995\n",
    "# n_epoch = 10\n",
    "learning_rate = 0.1\n",
    "lookback_window = 16\n",
    "# Define loss\n",
    "# criterion = nn.CrossEntropyLoss()\n",
    "criterion = nn.MSELoss()\n",
    "# Define network\n",
    " # net = oneDVerConvNet(D_in=7, D_out=1, input_shape=(7,lookback_window,54), b_size=1)\n",
    "net = oneDVerConvNet(D_in=7, D_out=1, input_shape=(7,lookback_window,54), b_size=1)\n",
    "# Define the optimizier\n",
    "# optimizer = optim.LBFGS(net.parameters(), lr=learning_rate)\n",
    "optimizer = optim.Adam(net.parameters(), lr=learning_rate, betas = (0.9, 0.999))\n",
    "scheduler = optim.lr_scheduler.StepLR(optimizer, step_size = 100, gamma = 0.5)\n",
    "\n",
    "\n",
    "loss_list = []\n",
    "# label_train_list = []\n",
    "# test_list2 = []\n",
    "# test_score_old = 0\n",
    "\n",
    "days = df.index.get_level_values('day').unique()\n",
    "tscv = TimeSeriesSplit(n_splits=min(n_splits, len(days)))\n",
    "pbar = tqdm(tscv.split(days), total=tscv.n_splits)\n",
    "\n",
    "cum_y_val_true = Series(dtype=float)\n",
    "cum_y_val_prediction = Series(dtype=float)\n",
    "performance = Performance()\n",
    "# feature_columns = quantile_feature\n",
    "feature_columns = original_feature\n",
    "return_column = ['return']\n",
    "\n",
    "\n",
    "# for epoch in range(n_epoch):\n",
    "for fold, (train, val) in enumerate(pbar):\n",
    "    # X, _ = data_quantization(df[original_feature])\n",
    "    running_loss = 0\n",
    "    net.train()\n",
    "    np.random.seed()\n",
    "    days_train = days[train]\n",
    "\n",
    "    if len(days_train) < 2:\n",
    "        print('Skipping this fold since we cannot truncate the last day.')\n",
    "        continue\n",
    "    if (lookback_window is not None) and (len(days_train) > lookback_window):\n",
    "        cum_y_train_true = Series(dtype=float)\n",
    "        cum_y_train_prediction = Series(dtype=float)\n",
    "        for i in range(lookback_window, len(days_train)):\n",
    "            days_train_valid = days_train[i-lookback_window:i] # last ends at valid-day-2\n",
    "            X_train, y_train_true = df.loc[(days_train_valid,), :][feature_columns], df.loc[(days_train_valid[-1]),:][return_column]\n",
    "\n",
    "            X_np = X_train.swaplevel(1,0).sort_index(ascending=True).to_numpy().astype(np.float32)\n",
    "            # shape (asset, days, feature) -> (ft, days, asset)\n",
    "            X_np_tensor = X_np.reshape(54,lookback_window,-1).transpose([2,1,0])\n",
    "            X_np_tensor = X_np_tensor[np.newaxis,:]  # add batch dimension\n",
    "            X_torch = torch.from_numpy(X_np_tensor)\n",
    "            labels = torch.tensor(y_train_true['return'].values).to(torch.float)\n",
    "            #\n",
    "            # def closure():\n",
    "            #     optimizer.zero_grad()\n",
    "            #     outputs=net(X_torch)\n",
    "            #     loss = criterion(outputs, labels)\n",
    "            #     loss.backward()\n",
    "            #     return loss\n",
    "\n",
    "            optimizer.zero_grad()\n",
    "            outputs = net(X_torch)\n",
    "            loss = criterion(outputs, labels)\n",
    "            loss.backward()\n",
    "            # optimizer.step(closure) # need closure for LBFGS\n",
    "            optimizer.step()\n",
    "            cum_y_train_prediction = pd.concat([cum_y_train_prediction, Series(outputs.detach().numpy())])\n",
    "            cum_y_train_true = pd.concat([cum_y_train_true, y_train_true.squeeze()], ignore_index=True)\n",
    "\n",
    "        performance[fold,'train_r2'] = r2_score(cum_y_train_prediction, cum_y_train_true)\n",
    "        if fold % 100 == 0:\n",
    "            print('Fold [{}/{}], Loss: {:.4f}, cum_train_r2: {:.2f}%'.format(fold, len(pbar), loss.item(), r2_score(cum_y_train_prediction, cum_y_train_true)))\n",
    "        # Validation:\n",
    "        days_val = days[int(val)-lookback_window:int(val)]\n",
    "\n",
    "        X_val, y_val_true = df.loc[(days_val,), :][feature_columns], df.loc[(days_val[-1],), :][return_column]\n",
    "        net.eval()\n",
    "        net.train(False)\n",
    "        with torch.no_grad():\n",
    "            X_np_val = X_val.swaplevel(1,0).sort_index(ascending=True).to_numpy().astype(np.float32)\n",
    "            # shape (asset, days, feature) -> (ft, days, asset)\n",
    "            X_np_val_tensor = X_np_val.reshape(54,lookback_window,-1).transpose([2,1,0])\n",
    "            X_np_val_tensor = X_np_val_tensor[np.newaxis,:]  # add batch dimension\n",
    "            X_torch_val = torch.from_numpy(X_np_val_tensor)\n",
    "            labels = torch.tensor(y_val_true['return'].values).to(torch.float)\n",
    "\n",
    "            outputs_val = net(X_torch_val)\n",
    "            cum_y_val_prediction = pd.concat([cum_y_val_prediction, Series(outputs_val.numpy())])\n",
    "            cum_y_val_true = pd.concat([cum_y_val_true, y_val_true.squeeze()], ignore_index=True)\n",
    "\n",
    "        val_r2 = r2_score(y_val_true.squeeze(), Series(outputs_val.numpy())) # Do I need index for series to corr or R2?\n",
    "        performance[fold, 'val_r2'] = val_r2\n",
    "        val_pearson = y_val_true.squeeze().corr(Series(outputs_val.numpy()))\n",
    "        performance[fold, 'val_pearson'] = val_pearson\n",
    "        val_cum_r2 = r2_score(cum_y_val_true, cum_y_val_prediction)\n",
    "        performance[fold, 'val_cum_r2'] = val_cum_r2\n",
    "        val_cum_pearson = cum_y_val_true.corr(cum_y_val_prediction)\n",
    "        performance[fold, 'val_cum_pearson'] = val_cum_pearson\n",
    "\n",
    "        pbar.set_description(f'Fold {fold}, val_cum_r2={val_cum_r2:.4f}, val_cum_pearson={val_cum_pearson:.4f}')\n",
    "\n",
    "    else:\n",
    "        pass\n",
    "    # if fold > 20:\n",
    "    #     break\n",
    "    # X_train, y_train_true = df.loc[(days_train_valid,), :][feature_columns], df.loc[(days_train_valid,), :][return_column]\n",
    "    # X_val, y_val_true = df.loc[(days_val,), :][feature_columns], df.loc[(days_val,), :][return_column]\n",
    "\n",
    "    #"
   ],
   "metadata": {
    "collapsed": false,
    "pycharm": {
     "name": "#%%\n"
    }
   }
  },
  {
   "cell_type": "markdown",
   "source": [
    "## Training only use the current data (one data one training each fold)"
   ],
   "metadata": {
    "collapsed": false
   }
  },
  {
   "cell_type": "code",
   "execution_count": 216,
   "outputs": [
    {
     "data": {
      "text/plain": "  0%|          | 0/995 [00:00<?, ?it/s]",
      "application/vnd.jupyter.widget-view+json": {
       "version_major": 2,
       "version_minor": 0,
       "model_id": "8971953fc6694fbbbf087e9a302b7a49"
      }
     },
     "metadata": {},
     "output_type": "display_data"
    },
    {
     "name": "stdout",
     "output_type": "stream",
     "text": [
      "Skipping this fold since we cannot truncate the last day.\n"
     ]
    },
    {
     "name": "stderr",
     "output_type": "stream",
     "text": [
      "/Users/lewisliu/micromamba/envs/DataScience/lib/python3.9/site-packages/torch/optim/lr_scheduler.py:131: UserWarning: Detected call of `lr_scheduler.step()` before `optimizer.step()`. In PyTorch 1.1.0 and later, you should call them in the opposite order: `optimizer.step()` before `lr_scheduler.step()`.  Failure to do this will result in PyTorch skipping the first value of the learning rate schedule. See more details at https://pytorch.org/docs/stable/optim.html#how-to-adjust-learning-rate\n",
      "  warnings.warn(\"Detected call of `lr_scheduler.step()` before `optimizer.step()`. \"\n"
     ]
    },
    {
     "name": "stdout",
     "output_type": "stream",
     "text": [
      "Fold [100/995], Loss: 4562.5898, cum_train_r2: -0.71%\n",
      "Fold [200/995], Loss: 1226.9479, cum_train_r2: -0.79%\n",
      "Fold [300/995], Loss: 868.2052, cum_train_r2: -0.61%\n",
      "Fold [400/995], Loss: 507.5324, cum_train_r2: -1.08%\n",
      "Fold [500/995], Loss: 189.3078, cum_train_r2: -1.28%\n",
      "Fold [600/995], Loss: 190.2297, cum_train_r2: -1.39%\n",
      "Fold [700/995], Loss: 860.8625, cum_train_r2: -0.61%\n",
      "Fold [800/995], Loss: 705.0922, cum_train_r2: -0.88%\n",
      "Fold [900/995], Loss: 378.9142, cum_train_r2: -0.69%\n"
     ]
    },
    {
     "data": {
      "text/plain": "  0%|          | 0/995 [00:00<?, ?it/s]",
      "application/vnd.jupyter.widget-view+json": {
       "version_major": 2,
       "version_minor": 0,
       "model_id": "be691991bd6d477d872bdcc4466fba0e"
      }
     },
     "metadata": {},
     "output_type": "display_data"
    },
    {
     "name": "stdout",
     "output_type": "stream",
     "text": [
      "Skipping this fold since we cannot truncate the last day.\n",
      "Fold [100/995], Loss: 3767.4880, cum_train_r2: -0.82%\n",
      "Fold [200/995], Loss: 1265.0452, cum_train_r2: -0.96%\n",
      "Fold [300/995], Loss: 499.5302, cum_train_r2: -1.29%\n",
      "Fold [400/995], Loss: 669.6657, cum_train_r2: -0.67%\n",
      "Fold [500/995], Loss: 183.0281, cum_train_r2: -1.18%\n",
      "Fold [600/995], Loss: 228.0203, cum_train_r2: -1.73%\n",
      "Fold [700/995], Loss: 860.3463, cum_train_r2: -0.91%\n",
      "Fold [800/995], Loss: 782.5058, cum_train_r2: -0.84%\n",
      "Fold [900/995], Loss: 340.9067, cum_train_r2: -1.14%\n"
     ]
    },
    {
     "data": {
      "text/plain": "  0%|          | 0/995 [00:00<?, ?it/s]",
      "application/vnd.jupyter.widget-view+json": {
       "version_major": 2,
       "version_minor": 0,
       "model_id": "5f4046735a1649d3b174b9797fbdfd86"
      }
     },
     "metadata": {},
     "output_type": "display_data"
    },
    {
     "name": "stdout",
     "output_type": "stream",
     "text": [
      "Skipping this fold since we cannot truncate the last day.\n",
      "Fold [100/995], Loss: 4682.9399, cum_train_r2: -0.68%\n",
      "Fold [200/995], Loss: 867.1305, cum_train_r2: -0.75%\n",
      "Fold [300/995], Loss: 539.1282, cum_train_r2: -1.12%\n",
      "Fold [400/995], Loss: 534.5932, cum_train_r2: -0.78%\n",
      "Fold [500/995], Loss: 314.9617, cum_train_r2: -1.14%\n",
      "Fold [600/995], Loss: 241.6684, cum_train_r2: -1.30%\n",
      "Fold [700/995], Loss: 986.4664, cum_train_r2: -0.95%\n",
      "Fold [800/995], Loss: 5503.8125, cum_train_r2: -0.15%\n",
      "Fold [900/995], Loss: 365.3145, cum_train_r2: -0.94%\n"
     ]
    }
   ],
   "source": [
    "# Hyperparameter\n",
    "n_splits = 995\n",
    "n_epoch = 3\n",
    "learning_rate = 0.03\n",
    "lookback_window = 16\n",
    "# Define loss\n",
    "# criterion = nn.CrossEntropyLoss()\n",
    "criterion = nn.MSELoss()\n",
    "# Define network\n",
    " # net = oneDVerConvNet(D_in=7, D_out=1, input_shape=(7,lookback_window,54), b_size=1)\n",
    "net = oneDVerConvNet(D_in=7, D_out=1, input_shape=(7,lookback_window,54), b_size=1)\n",
    "# Define the optimizier\n",
    "optimizer = optim.LBFGS(net.parameters(), lr=learning_rate)\n",
    "# optimizer = optim.Adam(net.parameters(), lr=learning_rate, betas = (0.9, 0.999))\n",
    "scheduler = optim.lr_scheduler.StepLR(optimizer, step_size = 100, gamma = 0.5)\n",
    "\n",
    "\n",
    "loss_list = []\n",
    "# label_train_list = []\n",
    "# test_list2 = []\n",
    "# test_score_old = 0\n",
    "\n",
    "for epoch in range(n_epoch):\n",
    "    days = df.index.get_level_values('day').unique()\n",
    "    tscv = TimeSeriesSplit(n_splits=min(n_splits, len(days)))\n",
    "    pbar = tqdm(tscv.split(days), total=tscv.n_splits)\n",
    "\n",
    "    cum_y_val_true = Series(dtype=float)\n",
    "    cum_y_val_prediction = Series(dtype=float)\n",
    "    performance = Performance()\n",
    "    # feature_columns = quantile_feature\n",
    "    feature_columns = original_feature\n",
    "    return_column = ['return']\n",
    "\n",
    "\n",
    "    # for epoch in range(n_epoch):\n",
    "    for fold, (train, val) in enumerate(pbar):\n",
    "        # X, _ = data_quantization(df[original_feature])\n",
    "        running_loss = 0\n",
    "        net.train()\n",
    "        np.random.seed()\n",
    "        days_train = days[train]\n",
    "\n",
    "        if len(days_train) < 2:\n",
    "            print('Skipping this fold since we cannot truncate the last day.')\n",
    "            continue\n",
    "        if (lookback_window is not None) and (len(days_train) > lookback_window):\n",
    "            cum_y_train_true = Series(dtype=float)\n",
    "            cum_y_train_prediction = Series(dtype=float)\n",
    "\n",
    "            days_train_valid = days_train[-lookback_window-1:-1] # last ends at valid-day-2\n",
    "            X_train, y_train_true = df.loc[(days_train_valid,), :][feature_columns], df.loc[(days_train_valid[-1]),:][return_column]\n",
    "\n",
    "            X_np = X_train.swaplevel(1,0).sort_index(ascending=True).to_numpy().astype(np.float32)\n",
    "                # shape (asset, days, feature) -> (ft, days, asset)\n",
    "            X_np_tensor = X_np.reshape(54,lookback_window,-1).transpose([2,1,0])\n",
    "            X_np_tensor = X_np_tensor[np.newaxis,:]  # add batch dimension\n",
    "            X_torch = torch.from_numpy(X_np_tensor)\n",
    "            labels = torch.tensor(y_train_true['return'].values).to(torch.float)\n",
    "                #\n",
    "            def closure():\n",
    "                optimizer.zero_grad()\n",
    "                outputs=net(X_torch)\n",
    "                loss = criterion(outputs, labels)\n",
    "                loss.backward()\n",
    "                return loss\n",
    "\n",
    "            optimizer.zero_grad()\n",
    "            outputs = net(X_torch)\n",
    "            loss = criterion(outputs, labels)\n",
    "            loss.backward()\n",
    "            optimizer.step(closure) # need closure for LBFGS\n",
    "            # optimizer.step()\n",
    "            cum_y_train_prediction = pd.concat([cum_y_train_prediction, Series(outputs.detach().numpy())])\n",
    "            cum_y_train_true = pd.concat([cum_y_train_true, y_train_true.squeeze()], ignore_index=True)\n",
    "\n",
    "            performance[fold,'train_r2'] = r2_score(cum_y_train_prediction, cum_y_train_true)\n",
    "            if fold % 100 == 0:\n",
    "                print('Fold [{}/{}], Loss: {:.4f}, cum_train_r2: {:.2f}%'.format(fold, len(pbar), loss.item(), r2_score(cum_y_train_prediction, cum_y_train_true)))\n",
    "            # Validation:\n",
    "            days_val = days[int(val)-lookback_window:int(val)]\n",
    "\n",
    "            X_val, y_val_true = df.loc[(days_val,), :][feature_columns], df.loc[(days_val[-1],), :][return_column]\n",
    "            net.eval()\n",
    "            net.train(False)\n",
    "            with torch.no_grad():\n",
    "                X_np_val = X_val.swaplevel(1,0).sort_index(ascending=True).to_numpy().astype(np.float32)\n",
    "                # shape (asset, days, feature) -> (ft, days, asset)\n",
    "                X_np_val_tensor = X_np_val.reshape(54,lookback_window,-1).transpose([2,1,0])\n",
    "                X_np_val_tensor = X_np_val_tensor[np.newaxis,:]  # add batch dimension\n",
    "                X_torch_val = torch.from_numpy(X_np_val_tensor)\n",
    "                labels = torch.tensor(y_val_true['return'].values).to(torch.float)\n",
    "\n",
    "                outputs_val = net(X_torch_val)\n",
    "                cum_y_val_prediction = pd.concat([cum_y_val_prediction, Series(outputs_val.numpy())])\n",
    "                cum_y_val_true = pd.concat([cum_y_val_true, y_val_true.squeeze()], ignore_index=True)\n",
    "\n",
    "            val_r2 = r2_score(y_val_true.squeeze(), Series(outputs_val.numpy())) # Do I need index for series to corr or R2?\n",
    "            performance[fold, 'val_r2'] = val_r2\n",
    "            val_pearson = y_val_true.squeeze().corr(Series(outputs_val.numpy()))\n",
    "            performance[fold, 'val_pearson'] = val_pearson\n",
    "            val_cum_r2 = r2_score(cum_y_val_true, cum_y_val_prediction)\n",
    "            performance[fold, 'val_cum_r2'] = val_cum_r2\n",
    "            val_cum_pearson = cum_y_val_true.corr(cum_y_val_prediction)\n",
    "            performance[fold, 'val_cum_pearson'] = val_cum_pearson\n",
    "\n",
    "            pbar.set_description(f'Fold {fold}, val_cum_r2={val_cum_r2:.4f}, val_cum_pearson={val_cum_pearson:.4f}')\n",
    "\n",
    "        else:\n",
    "            pass\n",
    "        scheduler.step() ### !!!!!\n",
    "        # if fold > 20:\n",
    "        #     break\n",
    "        # X_train, y_train_true = df.loc[(days_train_valid,), :][feature_columns], df.loc[(days_train_valid,), :][return_column]\n",
    "        # X_val, y_val_true = df.loc[(days_val,), :][feature_columns], df.loc[(days_val,), :][return_column]\n",
    "\n",
    "        #"
   ],
   "metadata": {
    "collapsed": false,
    "pycharm": {
     "name": "#%%\n"
    }
   }
  },
  {
   "cell_type": "code",
   "execution_count": 137,
   "outputs": [
    {
     "data": {
      "text/plain": "277"
     },
     "execution_count": 137,
     "metadata": {},
     "output_type": "execute_result"
    }
   ],
   "source": [
    "days_train_valid[-1]"
   ],
   "metadata": {
    "collapsed": false,
    "pycharm": {
     "name": "#%%\n"
    }
   }
  },
  {
   "cell_type": "code",
   "execution_count": 99,
   "outputs": [],
   "source": [
    "X_np = X_train.swaplevel(1,0).sort_index(ascending=True).to_numpy().astype(np.float32)"
   ],
   "metadata": {
    "collapsed": false,
    "pycharm": {
     "name": "#%%\n"
    }
   }
  },
  {
   "cell_type": "code",
   "execution_count": 33,
   "outputs": [
    {
     "data": {
      "text/plain": "array([[ 9,  9,  6, ...,  6,  5,  1],\n       [ 9,  8,  6, ...,  3,  3,  3],\n       [10, 10,  6, ...,  3,  3,  3],\n       ...,\n       [ 4,  3,  5, ...,  2,  3,  6],\n       [ 2,  1,  5, ...,  2,  3,  6],\n       [ 7,  5,  5, ...,  3,  3,  6]])"
     },
     "execution_count": 33,
     "metadata": {},
     "output_type": "execute_result"
    }
   ],
   "source": [
    "X_np"
   ],
   "metadata": {
    "collapsed": false,
    "pycharm": {
     "name": "#%%\n"
    }
   }
  },
  {
   "cell_type": "code",
   "execution_count": 100,
   "outputs": [],
   "source": [
    "# shape (asset, days, feature) -> (ft, days, asset)\n",
    "X_np_tensor = X_np.reshape(54,16,-1).transpose([2,1,0])\n"
   ],
   "metadata": {
    "collapsed": false,
    "pycharm": {
     "name": "#%%\n"
    }
   }
  },
  {
   "cell_type": "code",
   "execution_count": 50,
   "outputs": [
    {
     "data": {
      "text/plain": "array([[ 9,  9, 10, 10, 10, 10, 10, 10, 10,  9],\n       [ 9,  8, 10, 10, 10, 10, 10, 10,  9,  9],\n       [ 6,  6,  6,  6,  6,  6,  6,  6,  6,  6],\n       [ 5,  4,  5,  5,  5,  5,  5,  5,  5,  5],\n       [ 6,  3,  3,  4,  3,  3,  3,  3,  3,  3],\n       [ 5,  3,  3,  4,  4,  4,  4,  4,  4,  4],\n       [ 1,  3,  3,  3,  3,  3,  3,  3,  3,  3]])"
     },
     "execution_count": 50,
     "metadata": {},
     "output_type": "execute_result"
    }
   ],
   "source": [
    "# Conv2d input: (B=1, D, H, W)\n",
    "# X_np_tensor: (ft, days, asset)\n",
    "X_np_tensor[:,:,0]"
   ],
   "metadata": {
    "collapsed": false,
    "pycharm": {
     "name": "#%%\n"
    }
   }
  },
  {
   "cell_type": "code",
   "execution_count": 101,
   "outputs": [],
   "source": [
    "X_np_tensor = X_np_tensor[np.newaxis,:] # add"
   ],
   "metadata": {
    "collapsed": false,
    "pycharm": {
     "name": "#%%\n"
    }
   }
  },
  {
   "cell_type": "code",
   "execution_count": 125,
   "outputs": [],
   "source": [
    "X_torch = torch.from_numpy(X_np_tensor)\n",
    "net = oneDVerConvNet(D_in=7, D_out=1, input_shape=(7,16,54), b_size=1)\n",
    "result = net(X_torch)"
   ],
   "metadata": {
    "collapsed": false,
    "pycharm": {
     "name": "#%% batch dimension\n"
    }
   }
  },
  {
   "cell_type": "code",
   "execution_count": 108,
   "outputs": [
    {
     "data": {
      "text/plain": "torch.float32"
     },
     "execution_count": 108,
     "metadata": {},
     "output_type": "execute_result"
    }
   ],
   "source": [
    "X_torch.dtype\n"
   ],
   "metadata": {
    "collapsed": false,
    "pycharm": {
     "name": "#%%\n"
    }
   }
  },
  {
   "cell_type": "code",
   "execution_count": 106,
   "outputs": [
    {
     "data": {
      "text/plain": "dtype('float32')"
     },
     "execution_count": 106,
     "metadata": {},
     "output_type": "execute_result"
    }
   ],
   "source": [
    "X_np.dtype"
   ],
   "metadata": {
    "collapsed": false,
    "pycharm": {
     "name": "#%%\n"
    }
   }
  },
  {
   "cell_type": "code",
   "execution_count": 105,
   "outputs": [
    {
     "data": {
      "text/plain": "dtype('float32')"
     },
     "execution_count": 105,
     "metadata": {},
     "output_type": "execute_result"
    }
   ],
   "source": [
    "X_np_tensor.dtype\n"
   ],
   "metadata": {
    "collapsed": false,
    "pycharm": {
     "name": "#%%\n"
    }
   }
  },
  {
   "cell_type": "code",
   "execution_count": 147,
   "outputs": [
    {
     "data": {
      "text/plain": "torch.float32"
     },
     "execution_count": 147,
     "metadata": {},
     "output_type": "execute_result"
    }
   ],
   "source": [
    "outputs.dtype"
   ],
   "metadata": {
    "collapsed": false,
    "pycharm": {
     "name": "#%%\n"
    }
   }
  },
  {
   "cell_type": "code",
   "execution_count": 148,
   "outputs": [
    {
     "data": {
      "text/plain": "torch.float64"
     },
     "execution_count": 148,
     "metadata": {},
     "output_type": "execute_result"
    }
   ],
   "source": [
    "labels.dtype\n"
   ],
   "metadata": {
    "collapsed": false,
    "pycharm": {
     "name": "#%%\n"
    }
   }
  },
  {
   "cell_type": "code",
   "execution_count": 159,
   "outputs": [
    {
     "data": {
      "text/plain": "         return\nasset          \n0      0.004256\n1      0.006398\n2      0.020687\n3      0.038906\n4      0.067663\n5      0.031702\n6      0.013807\n7      0.001451\n8      0.025641\n9      0.035014\n10     0.026221\n11     0.003853\n12     0.039415\n13     0.000731\n14    -0.002828\n15     0.016185\n16     0.044301\n17     0.024825\n18    -0.030071\n19     0.021049\n20     0.065162\n21     0.009810\n22     0.022805\n23     0.023443\n24     0.006238\n25     0.014275\n26     0.031767\n27     0.015421\n28    -0.004718\n29     0.024829\n30     0.001149\n31     0.061746\n32     0.034813\n33     0.031757\n34     0.005987\n35     0.038168\n36     0.003685\n37     0.006733\n38     0.046112\n39     0.030467\n40     0.031605\n41     0.052146\n42     0.048666\n43     0.030405\n44     0.021027\n45     0.023225\n46     0.024411\n47     0.021748\n48     0.012484\n49     0.037496\n50     0.015389\n51     0.022050\n52     0.042382\n53     0.023863",
      "text/html": "<div>\n<style scoped>\n    .dataframe tbody tr th:only-of-type {\n        vertical-align: middle;\n    }\n\n    .dataframe tbody tr th {\n        vertical-align: top;\n    }\n\n    .dataframe thead th {\n        text-align: right;\n    }\n</style>\n<table border=\"1\" class=\"dataframe\">\n  <thead>\n    <tr style=\"text-align: right;\">\n      <th></th>\n      <th>return</th>\n    </tr>\n    <tr>\n      <th>asset</th>\n      <th></th>\n    </tr>\n  </thead>\n  <tbody>\n    <tr>\n      <th>0</th>\n      <td>0.004256</td>\n    </tr>\n    <tr>\n      <th>1</th>\n      <td>0.006398</td>\n    </tr>\n    <tr>\n      <th>2</th>\n      <td>0.020687</td>\n    </tr>\n    <tr>\n      <th>3</th>\n      <td>0.038906</td>\n    </tr>\n    <tr>\n      <th>4</th>\n      <td>0.067663</td>\n    </tr>\n    <tr>\n      <th>5</th>\n      <td>0.031702</td>\n    </tr>\n    <tr>\n      <th>6</th>\n      <td>0.013807</td>\n    </tr>\n    <tr>\n      <th>7</th>\n      <td>0.001451</td>\n    </tr>\n    <tr>\n      <th>8</th>\n      <td>0.025641</td>\n    </tr>\n    <tr>\n      <th>9</th>\n      <td>0.035014</td>\n    </tr>\n    <tr>\n      <th>10</th>\n      <td>0.026221</td>\n    </tr>\n    <tr>\n      <th>11</th>\n      <td>0.003853</td>\n    </tr>\n    <tr>\n      <th>12</th>\n      <td>0.039415</td>\n    </tr>\n    <tr>\n      <th>13</th>\n      <td>0.000731</td>\n    </tr>\n    <tr>\n      <th>14</th>\n      <td>-0.002828</td>\n    </tr>\n    <tr>\n      <th>15</th>\n      <td>0.016185</td>\n    </tr>\n    <tr>\n      <th>16</th>\n      <td>0.044301</td>\n    </tr>\n    <tr>\n      <th>17</th>\n      <td>0.024825</td>\n    </tr>\n    <tr>\n      <th>18</th>\n      <td>-0.030071</td>\n    </tr>\n    <tr>\n      <th>19</th>\n      <td>0.021049</td>\n    </tr>\n    <tr>\n      <th>20</th>\n      <td>0.065162</td>\n    </tr>\n    <tr>\n      <th>21</th>\n      <td>0.009810</td>\n    </tr>\n    <tr>\n      <th>22</th>\n      <td>0.022805</td>\n    </tr>\n    <tr>\n      <th>23</th>\n      <td>0.023443</td>\n    </tr>\n    <tr>\n      <th>24</th>\n      <td>0.006238</td>\n    </tr>\n    <tr>\n      <th>25</th>\n      <td>0.014275</td>\n    </tr>\n    <tr>\n      <th>26</th>\n      <td>0.031767</td>\n    </tr>\n    <tr>\n      <th>27</th>\n      <td>0.015421</td>\n    </tr>\n    <tr>\n      <th>28</th>\n      <td>-0.004718</td>\n    </tr>\n    <tr>\n      <th>29</th>\n      <td>0.024829</td>\n    </tr>\n    <tr>\n      <th>30</th>\n      <td>0.001149</td>\n    </tr>\n    <tr>\n      <th>31</th>\n      <td>0.061746</td>\n    </tr>\n    <tr>\n      <th>32</th>\n      <td>0.034813</td>\n    </tr>\n    <tr>\n      <th>33</th>\n      <td>0.031757</td>\n    </tr>\n    <tr>\n      <th>34</th>\n      <td>0.005987</td>\n    </tr>\n    <tr>\n      <th>35</th>\n      <td>0.038168</td>\n    </tr>\n    <tr>\n      <th>36</th>\n      <td>0.003685</td>\n    </tr>\n    <tr>\n      <th>37</th>\n      <td>0.006733</td>\n    </tr>\n    <tr>\n      <th>38</th>\n      <td>0.046112</td>\n    </tr>\n    <tr>\n      <th>39</th>\n      <td>0.030467</td>\n    </tr>\n    <tr>\n      <th>40</th>\n      <td>0.031605</td>\n    </tr>\n    <tr>\n      <th>41</th>\n      <td>0.052146</td>\n    </tr>\n    <tr>\n      <th>42</th>\n      <td>0.048666</td>\n    </tr>\n    <tr>\n      <th>43</th>\n      <td>0.030405</td>\n    </tr>\n    <tr>\n      <th>44</th>\n      <td>0.021027</td>\n    </tr>\n    <tr>\n      <th>45</th>\n      <td>0.023225</td>\n    </tr>\n    <tr>\n      <th>46</th>\n      <td>0.024411</td>\n    </tr>\n    <tr>\n      <th>47</th>\n      <td>0.021748</td>\n    </tr>\n    <tr>\n      <th>48</th>\n      <td>0.012484</td>\n    </tr>\n    <tr>\n      <th>49</th>\n      <td>0.037496</td>\n    </tr>\n    <tr>\n      <th>50</th>\n      <td>0.015389</td>\n    </tr>\n    <tr>\n      <th>51</th>\n      <td>0.022050</td>\n    </tr>\n    <tr>\n      <th>52</th>\n      <td>0.042382</td>\n    </tr>\n    <tr>\n      <th>53</th>\n      <td>0.023863</td>\n    </tr>\n  </tbody>\n</table>\n</div>"
     },
     "execution_count": 159,
     "metadata": {},
     "output_type": "execute_result"
    }
   ],
   "source": [
    "df.loc[(days_train_valid[-1]),:][return_column]"
   ],
   "metadata": {
    "collapsed": false,
    "pycharm": {
     "name": "#%%\n"
    }
   }
  },
  {
   "cell_type": "code",
   "execution_count": 185,
   "outputs": [],
   "source": [
    "cum_y_train_true = Series(dtype=float)\n"
   ],
   "metadata": {
    "collapsed": false,
    "pycharm": {
     "name": "#%%\n"
    }
   }
  },
  {
   "cell_type": "code",
   "execution_count": 186,
   "outputs": [],
   "source": [
    "cum_y_train_true = pd.concat([cum_y_train_true, y_train_true_series])"
   ],
   "metadata": {
    "collapsed": false,
    "pycharm": {
     "name": "#%%\n"
    }
   }
  },
  {
   "cell_type": "code",
   "execution_count": 184,
   "outputs": [],
   "source": [
    "y_train_true_series = y_train_true.squeeze()"
   ],
   "metadata": {
    "collapsed": false,
    "pycharm": {
     "name": "#%%\n"
    }
   }
  },
  {
   "cell_type": "code",
   "execution_count": 180,
   "outputs": [
    {
     "data": {
      "text/plain": "     0         1\n0  NaN  0.004256\n1  NaN  0.006398\n2  NaN  0.020687\n3  NaN  0.038906\n4  NaN  0.067663\n5  NaN  0.031702\n6  NaN  0.013807\n7  NaN  0.001451\n8  NaN  0.025641\n9  NaN  0.035014\n10 NaN  0.026221\n11 NaN  0.003853\n12 NaN  0.039415\n13 NaN  0.000731\n14 NaN -0.002828\n15 NaN  0.016185\n16 NaN  0.044301\n17 NaN  0.024825\n18 NaN -0.030071\n19 NaN  0.021049\n20 NaN  0.065162\n21 NaN  0.009810\n22 NaN  0.022805\n23 NaN  0.023443\n24 NaN  0.006238\n25 NaN  0.014275\n26 NaN  0.031767\n27 NaN  0.015421\n28 NaN -0.004718\n29 NaN  0.024829\n30 NaN  0.001149\n31 NaN  0.061746\n32 NaN  0.034813\n33 NaN  0.031757\n34 NaN  0.005987\n35 NaN  0.038168\n36 NaN  0.003685\n37 NaN  0.006733\n38 NaN  0.046112\n39 NaN  0.030467\n40 NaN  0.031605\n41 NaN  0.052146\n42 NaN  0.048666\n43 NaN  0.030405\n44 NaN  0.021027\n45 NaN  0.023225\n46 NaN  0.024411\n47 NaN  0.021748\n48 NaN  0.012484\n49 NaN  0.037496\n50 NaN  0.015389\n51 NaN  0.022050\n52 NaN  0.042382\n53 NaN  0.023863",
      "text/html": "<div>\n<style scoped>\n    .dataframe tbody tr th:only-of-type {\n        vertical-align: middle;\n    }\n\n    .dataframe tbody tr th {\n        vertical-align: top;\n    }\n\n    .dataframe thead th {\n        text-align: right;\n    }\n</style>\n<table border=\"1\" class=\"dataframe\">\n  <thead>\n    <tr style=\"text-align: right;\">\n      <th></th>\n      <th>0</th>\n      <th>1</th>\n    </tr>\n  </thead>\n  <tbody>\n    <tr>\n      <th>0</th>\n      <td>NaN</td>\n      <td>0.004256</td>\n    </tr>\n    <tr>\n      <th>1</th>\n      <td>NaN</td>\n      <td>0.006398</td>\n    </tr>\n    <tr>\n      <th>2</th>\n      <td>NaN</td>\n      <td>0.020687</td>\n    </tr>\n    <tr>\n      <th>3</th>\n      <td>NaN</td>\n      <td>0.038906</td>\n    </tr>\n    <tr>\n      <th>4</th>\n      <td>NaN</td>\n      <td>0.067663</td>\n    </tr>\n    <tr>\n      <th>5</th>\n      <td>NaN</td>\n      <td>0.031702</td>\n    </tr>\n    <tr>\n      <th>6</th>\n      <td>NaN</td>\n      <td>0.013807</td>\n    </tr>\n    <tr>\n      <th>7</th>\n      <td>NaN</td>\n      <td>0.001451</td>\n    </tr>\n    <tr>\n      <th>8</th>\n      <td>NaN</td>\n      <td>0.025641</td>\n    </tr>\n    <tr>\n      <th>9</th>\n      <td>NaN</td>\n      <td>0.035014</td>\n    </tr>\n    <tr>\n      <th>10</th>\n      <td>NaN</td>\n      <td>0.026221</td>\n    </tr>\n    <tr>\n      <th>11</th>\n      <td>NaN</td>\n      <td>0.003853</td>\n    </tr>\n    <tr>\n      <th>12</th>\n      <td>NaN</td>\n      <td>0.039415</td>\n    </tr>\n    <tr>\n      <th>13</th>\n      <td>NaN</td>\n      <td>0.000731</td>\n    </tr>\n    <tr>\n      <th>14</th>\n      <td>NaN</td>\n      <td>-0.002828</td>\n    </tr>\n    <tr>\n      <th>15</th>\n      <td>NaN</td>\n      <td>0.016185</td>\n    </tr>\n    <tr>\n      <th>16</th>\n      <td>NaN</td>\n      <td>0.044301</td>\n    </tr>\n    <tr>\n      <th>17</th>\n      <td>NaN</td>\n      <td>0.024825</td>\n    </tr>\n    <tr>\n      <th>18</th>\n      <td>NaN</td>\n      <td>-0.030071</td>\n    </tr>\n    <tr>\n      <th>19</th>\n      <td>NaN</td>\n      <td>0.021049</td>\n    </tr>\n    <tr>\n      <th>20</th>\n      <td>NaN</td>\n      <td>0.065162</td>\n    </tr>\n    <tr>\n      <th>21</th>\n      <td>NaN</td>\n      <td>0.009810</td>\n    </tr>\n    <tr>\n      <th>22</th>\n      <td>NaN</td>\n      <td>0.022805</td>\n    </tr>\n    <tr>\n      <th>23</th>\n      <td>NaN</td>\n      <td>0.023443</td>\n    </tr>\n    <tr>\n      <th>24</th>\n      <td>NaN</td>\n      <td>0.006238</td>\n    </tr>\n    <tr>\n      <th>25</th>\n      <td>NaN</td>\n      <td>0.014275</td>\n    </tr>\n    <tr>\n      <th>26</th>\n      <td>NaN</td>\n      <td>0.031767</td>\n    </tr>\n    <tr>\n      <th>27</th>\n      <td>NaN</td>\n      <td>0.015421</td>\n    </tr>\n    <tr>\n      <th>28</th>\n      <td>NaN</td>\n      <td>-0.004718</td>\n    </tr>\n    <tr>\n      <th>29</th>\n      <td>NaN</td>\n      <td>0.024829</td>\n    </tr>\n    <tr>\n      <th>30</th>\n      <td>NaN</td>\n      <td>0.001149</td>\n    </tr>\n    <tr>\n      <th>31</th>\n      <td>NaN</td>\n      <td>0.061746</td>\n    </tr>\n    <tr>\n      <th>32</th>\n      <td>NaN</td>\n      <td>0.034813</td>\n    </tr>\n    <tr>\n      <th>33</th>\n      <td>NaN</td>\n      <td>0.031757</td>\n    </tr>\n    <tr>\n      <th>34</th>\n      <td>NaN</td>\n      <td>0.005987</td>\n    </tr>\n    <tr>\n      <th>35</th>\n      <td>NaN</td>\n      <td>0.038168</td>\n    </tr>\n    <tr>\n      <th>36</th>\n      <td>NaN</td>\n      <td>0.003685</td>\n    </tr>\n    <tr>\n      <th>37</th>\n      <td>NaN</td>\n      <td>0.006733</td>\n    </tr>\n    <tr>\n      <th>38</th>\n      <td>NaN</td>\n      <td>0.046112</td>\n    </tr>\n    <tr>\n      <th>39</th>\n      <td>NaN</td>\n      <td>0.030467</td>\n    </tr>\n    <tr>\n      <th>40</th>\n      <td>NaN</td>\n      <td>0.031605</td>\n    </tr>\n    <tr>\n      <th>41</th>\n      <td>NaN</td>\n      <td>0.052146</td>\n    </tr>\n    <tr>\n      <th>42</th>\n      <td>NaN</td>\n      <td>0.048666</td>\n    </tr>\n    <tr>\n      <th>43</th>\n      <td>NaN</td>\n      <td>0.030405</td>\n    </tr>\n    <tr>\n      <th>44</th>\n      <td>NaN</td>\n      <td>0.021027</td>\n    </tr>\n    <tr>\n      <th>45</th>\n      <td>NaN</td>\n      <td>0.023225</td>\n    </tr>\n    <tr>\n      <th>46</th>\n      <td>NaN</td>\n      <td>0.024411</td>\n    </tr>\n    <tr>\n      <th>47</th>\n      <td>NaN</td>\n      <td>0.021748</td>\n    </tr>\n    <tr>\n      <th>48</th>\n      <td>NaN</td>\n      <td>0.012484</td>\n    </tr>\n    <tr>\n      <th>49</th>\n      <td>NaN</td>\n      <td>0.037496</td>\n    </tr>\n    <tr>\n      <th>50</th>\n      <td>NaN</td>\n      <td>0.015389</td>\n    </tr>\n    <tr>\n      <th>51</th>\n      <td>NaN</td>\n      <td>0.022050</td>\n    </tr>\n    <tr>\n      <th>52</th>\n      <td>NaN</td>\n      <td>0.042382</td>\n    </tr>\n    <tr>\n      <th>53</th>\n      <td>NaN</td>\n      <td>0.023863</td>\n    </tr>\n  </tbody>\n</table>\n</div>"
     },
     "execution_count": 180,
     "metadata": {},
     "output_type": "execute_result"
    }
   ],
   "source": [
    "cum_y_train_true"
   ],
   "metadata": {
    "collapsed": false,
    "pycharm": {
     "name": "#%%\n"
    }
   }
  },
  {
   "cell_type": "code",
   "execution_count": 181,
   "outputs": [
    {
     "data": {
      "text/plain": "Int64Index([ 0,  1,  2,  3,  4,  5,  6,  7,  8,  9, 10, 11, 12, 13, 14, 15, 16,\n            17, 18, 19, 20, 21, 22, 23, 24, 25, 26, 27, 28, 29, 30, 31, 32, 33,\n            34, 35, 36, 37, 38, 39, 40, 41, 42, 43, 44, 45, 46, 47, 48, 49, 50,\n            51, 52, 53],\n           dtype='int64', name='asset')"
     },
     "execution_count": 181,
     "metadata": {},
     "output_type": "execute_result"
    }
   ],
   "source": [
    "y_train_true.index"
   ],
   "metadata": {
    "collapsed": false,
    "pycharm": {
     "name": "#%%\n"
    }
   }
  },
  {
   "cell_type": "code",
   "execution_count": 191,
   "outputs": [
    {
     "ename": "ValueError",
     "evalue": "The truth value of a Series is ambiguous. Use a.empty, a.bool(), a.item(), a.any() or a.all().",
     "output_type": "error",
     "traceback": [
      "\u001B[0;31m---------------------------------------------------------------------------\u001B[0m",
      "\u001B[0;31mValueError\u001B[0m                                Traceback (most recent call last)",
      "\u001B[0;32m/var/folders/c_/y_0x4rsd6tb4chd_y83jnpzr0000gn/T/ipykernel_2610/2318841515.py\u001B[0m in \u001B[0;36m<module>\u001B[0;34m\u001B[0m\n\u001B[0;32m----> 1\u001B[0;31m \u001B[0my_val_true\u001B[0m\u001B[0;34m.\u001B[0m\u001B[0mcorr\u001B[0m\u001B[0;34m(\u001B[0m\u001B[0mSeries\u001B[0m\u001B[0;34m(\u001B[0m\u001B[0moutputs_val\u001B[0m\u001B[0;34m.\u001B[0m\u001B[0mnumpy\u001B[0m\u001B[0;34m(\u001B[0m\u001B[0;34m)\u001B[0m\u001B[0;34m)\u001B[0m\u001B[0;34m)\u001B[0m\u001B[0;34m\u001B[0m\u001B[0;34m\u001B[0m\u001B[0m\n\u001B[0m",
      "\u001B[0;32m~/micromamba/envs/DataScience/lib/python3.9/site-packages/pandas/core/frame.py\u001B[0m in \u001B[0;36mcorr\u001B[0;34m(self, method, min_periods, numeric_only)\u001B[0m\n\u001B[1;32m  10307\u001B[0m         \u001B[0mmat\u001B[0m \u001B[0;34m=\u001B[0m \u001B[0mdata\u001B[0m\u001B[0;34m.\u001B[0m\u001B[0mto_numpy\u001B[0m\u001B[0;34m(\u001B[0m\u001B[0mdtype\u001B[0m\u001B[0;34m=\u001B[0m\u001B[0mfloat\u001B[0m\u001B[0;34m,\u001B[0m \u001B[0mna_value\u001B[0m\u001B[0;34m=\u001B[0m\u001B[0mnp\u001B[0m\u001B[0;34m.\u001B[0m\u001B[0mnan\u001B[0m\u001B[0;34m,\u001B[0m \u001B[0mcopy\u001B[0m\u001B[0;34m=\u001B[0m\u001B[0;32mFalse\u001B[0m\u001B[0;34m)\u001B[0m\u001B[0;34m\u001B[0m\u001B[0;34m\u001B[0m\u001B[0m\n\u001B[1;32m  10308\u001B[0m \u001B[0;34m\u001B[0m\u001B[0m\n\u001B[0;32m> 10309\u001B[0;31m         \u001B[0;32mif\u001B[0m \u001B[0mmethod\u001B[0m \u001B[0;34m==\u001B[0m \u001B[0;34m\"pearson\"\u001B[0m\u001B[0;34m:\u001B[0m\u001B[0;34m\u001B[0m\u001B[0;34m\u001B[0m\u001B[0m\n\u001B[0m\u001B[1;32m  10310\u001B[0m             \u001B[0mcorrel\u001B[0m \u001B[0;34m=\u001B[0m \u001B[0mlibalgos\u001B[0m\u001B[0;34m.\u001B[0m\u001B[0mnancorr\u001B[0m\u001B[0;34m(\u001B[0m\u001B[0mmat\u001B[0m\u001B[0;34m,\u001B[0m \u001B[0mminp\u001B[0m\u001B[0;34m=\u001B[0m\u001B[0mmin_periods\u001B[0m\u001B[0;34m)\u001B[0m\u001B[0;34m\u001B[0m\u001B[0;34m\u001B[0m\u001B[0m\n\u001B[1;32m  10311\u001B[0m         \u001B[0;32melif\u001B[0m \u001B[0mmethod\u001B[0m \u001B[0;34m==\u001B[0m \u001B[0;34m\"spearman\"\u001B[0m\u001B[0;34m:\u001B[0m\u001B[0;34m\u001B[0m\u001B[0;34m\u001B[0m\u001B[0m\n",
      "\u001B[0;32m~/micromamba/envs/DataScience/lib/python3.9/site-packages/pandas/core/generic.py\u001B[0m in \u001B[0;36m__nonzero__\u001B[0;34m(self)\u001B[0m\n\u001B[1;32m   1525\u001B[0m     \u001B[0;34m@\u001B[0m\u001B[0mfinal\u001B[0m\u001B[0;34m\u001B[0m\u001B[0;34m\u001B[0m\u001B[0m\n\u001B[1;32m   1526\u001B[0m     \u001B[0;32mdef\u001B[0m \u001B[0m__nonzero__\u001B[0m\u001B[0;34m(\u001B[0m\u001B[0mself\u001B[0m\u001B[0;34m)\u001B[0m \u001B[0;34m->\u001B[0m \u001B[0mNoReturn\u001B[0m\u001B[0;34m:\u001B[0m\u001B[0;34m\u001B[0m\u001B[0;34m\u001B[0m\u001B[0m\n\u001B[0;32m-> 1527\u001B[0;31m         raise ValueError(\n\u001B[0m\u001B[1;32m   1528\u001B[0m             \u001B[0;34mf\"The truth value of a {type(self).__name__} is ambiguous. \"\u001B[0m\u001B[0;34m\u001B[0m\u001B[0;34m\u001B[0m\u001B[0m\n\u001B[1;32m   1529\u001B[0m             \u001B[0;34m\"Use a.empty, a.bool(), a.item(), a.any() or a.all().\"\u001B[0m\u001B[0;34m\u001B[0m\u001B[0;34m\u001B[0m\u001B[0m\n",
      "\u001B[0;31mValueError\u001B[0m: The truth value of a Series is ambiguous. Use a.empty, a.bool(), a.item(), a.any() or a.all()."
     ]
    }
   ],
   "source": [
    "y_val_true.corr(Series(outputs_val.numpy()))"
   ],
   "metadata": {
    "collapsed": false,
    "pycharm": {
     "name": "#%%\n"
    }
   }
  },
  {
   "cell_type": "code",
   "execution_count": 195,
   "outputs": [],
   "source": [
    "test = net(X_torch)\n"
   ],
   "metadata": {
    "collapsed": false,
    "pycharm": {
     "name": "#%%\n"
    }
   }
  },
  {
   "cell_type": "code",
   "execution_count": 196,
   "outputs": [
    {
     "data": {
      "text/plain": "995"
     },
     "execution_count": 196,
     "metadata": {},
     "output_type": "execute_result"
    }
   ],
   "source": [
    "len(pbar)"
   ],
   "metadata": {
    "collapsed": false,
    "pycharm": {
     "name": "#%%\n"
    }
   }
  },
  {
   "cell_type": "code",
   "execution_count": 202,
   "outputs": [
    {
     "data": {
      "text/plain": "0     False\n1     False\n2     False\n3     False\n4     False\n      ...  \n49     True\n50     True\n51     True\n52     True\n53     True\nLength: 2538, dtype: bool"
     },
     "execution_count": 202,
     "metadata": {},
     "output_type": "execute_result"
    }
   ],
   "source": [
    "\n",
    "cum_y_train_prediction.isna()"
   ],
   "metadata": {
    "collapsed": false,
    "pycharm": {
     "name": "#%%\n"
    }
   }
  },
  {
   "cell_type": "code",
   "execution_count": 217,
   "outputs": [
    {
     "name": "stdout",
     "output_type": "stream",
     "text": [
      "The ending score for metric train_r2 is: -1.1653e+00\n",
      "The ending score for metric val_cum_r2 is: -4.8179e+05\n",
      "The ending score for metric val_cum_pearson is: 9.0559e-02\n"
     ]
    },
    {
     "data": {
      "text/plain": "<Figure size 432x288 with 1 Axes>",
      "image/png": "[encoded data removed]"
     },
     "metadata": {
      "needs_background": "light"
     },
     "output_type": "display_data"
    }
   ],
   "source": [
    "plt.figure()\n",
    "# plot_performance(performance, metrics_selected=['train_r2', 'test_cum_r2', 'test_cum_pearson'])\n",
    "plot_performance(performance, metrics_selected=['train_r2', 'val_cum_pearson','val_cum_r2'])\n",
    "plt.show()"
   ],
   "metadata": {
    "collapsed": false,
    "pycharm": {
     "name": "#%%\n"
    }
   }
  },
  {
   "cell_type": "code",
   "execution_count": 218,
   "outputs": [
    {
     "data": {
      "text/plain": "'/Users/lewisliu/Desktop/Study/Graduate_Study_Austin/Career/Practice/qids-2023-comp/playground/shockspeare'"
     },
     "execution_count": 218,
     "metadata": {},
     "output_type": "execute_result"
    }
   ],
   "source": [
    "pwd"
   ],
   "metadata": {
    "collapsed": false,
    "pycharm": {
     "name": "#%%\n"
    }
   }
  },
  {
   "cell_type": "code",
   "execution_count": 219,
   "outputs": [],
   "source": [
    "model_path = '../../model/dump/1DConv'\n",
    "torch.save(net.state_dict(), model_path)\n"
   ],
   "metadata": {
    "collapsed": false,
    "pycharm": {
     "name": "#%% Save model\n"
    }
   }
  },
  {
   "cell_type": "code",
   "execution_count": 221,
   "outputs": [],
   "source": [
    "from qids_lib import QIDS\n",
    "from pipeline.backtest import evaluation_for_submission\n",
    "\n",
    "\n",
    "dataset = Dataset.load('../data/parsed')\n",
    "df = pd.concat([dataset.fundamental, extract_market_data(dataset.market)], axis=1).dropna()\n",
    "df['return_known'] = df['return'].shift(2*54)\n",
    "df=df.dropna()\n",
    "f_quantile_feature = ['turnoverRatio_QUANTILE', 'transactionAmount_QUANTILE', 'pb_QUANTILE', 'ps_QUANTILE',\n",
    "                      'pe_ttm_QUANTILE', 'pe_QUANTILE', 'pcf_QUANTILE', 'return_known']\n",
    "m_quantile_feature = ['avg_price_QUANTILE', 'volatility_QUANTILE', 'mean_volume_QUANTILE', 'return_known']\n",
    "# feature = ['turnoverRatio', 'transactionAmount', 'pb', 'ps', 'pe_ttm', 'pe', 'pcf', 'avg_price', 'volatility',\n",
    "#            'mean_volume']\n",
    "\n",
    "\n",
    "\n",
    "# q_df, _ = data_quantization(dataset.fundamental)\n",
    "# full_df = pd.concat([q_df, dataset.ref_return], axis=1).dropna()\n",
    "# model = linear_model(full_df[f_quantile_feature], full_df['return'])\n",
    "\n",
    "qids = QIDS(path_prefix='../')\n",
    "performance = evaluation_for_submission(linear_model, original_feature, dataset=dataset, df=df, qids=qids,\n",
    "                                        lookback_window=200)\n",
    "\n"
   ],
   "metadata": {
    "collapsed": false,
    "pycharm": {
     "name": "#%% Test\n"
    }
   }
  },
  {
   "cell_type": "code",
   "execution_count": null,
   "outputs": [],
   "source": [],
   "metadata": {
    "collapsed": false,
    "pycharm": {
     "name": "#%%\n"
    }
   }
  }
 ],
 "metadata": {
  "kernelspec": {
   "display_name": "Python 3",
   "language": "python",
   "name": "python3"
  },
  "language_info": {
   "codemirror_mode": {
    "name": "ipython",
    "version": 2
   },
   "file_extension": ".py",
   "mimetype": "text/x-python",
   "name": "python",
   "nbconvert_exporter": "python",
   "pygments_lexer": "ipython2",
   "version": "2.7.6"
  }
 },
 "nbformat": 4,
 "nbformat_minor": 0
}