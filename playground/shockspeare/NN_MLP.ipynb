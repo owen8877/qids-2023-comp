{
 "cells": [
  {
   "cell_type": "code",
   "execution_count": null,
   "outputs": [],
   "source": [
    "%load_ext autoreload\n",
    "%autoreload 2"
   ],
   "metadata": {
    "collapsed": false,
    "pycharm": {
     "name": "#%%\n"
    }
   }
  },
  {
   "cell_type": "code",
   "execution_count": 18,
   "metadata": {
    "collapsed": true
   },
   "outputs": [],
   "source": [
    "import numpy as np\n",
    "import torch\n",
    "import torch.nn as nn\n",
    "from torch import nn, Tensor\n",
    "import torch.nn.functional as F\n",
    "from torch.autograd import Variable\n",
    "import torch.optim as optim"
   ]
  },
  {
   "cell_type": "code",
   "execution_count": 2,
   "outputs": [],
   "source": [
    "class FCNet(nn.Module): # type1 - fully connected layers\n",
    "    def __init__(self, D_in, D_out, input_shape):\n",
    "        # D_in - dimension of input channel, should be 3 for point cloud coordinates\n",
    "        # D_out - number of classes label\n",
    "        # k - number of rays\n",
    "        # N - number of points on one ray\n",
    "        super(FCNet, self).__init__()\n",
    "        self.fc1 = nn.Linear(input_shape[0]*input_shape[1]*input_shape[2], 512)\n",
    "        self.fc2 = nn.Linear(512, 256)\n",
    "        self.fc3 = nn.Linear(256, 128)\n",
    "        self.fc4 = nn.Linear(128, D_out)\n",
    "        self.dropout = nn.Dropout(p=0.3)\n",
    "        self.bn1 = nn.BatchNorm1d(512)\n",
    "        self.bn2 = nn.BatchNorm1d(256)\n",
    "        self.bn3 = nn.BatchNorm1d(128)\n",
    "        self.relu = nn.ReLU()\n",
    "\n",
    "#         self.final_layer = nn.Softmax(dim=1)\n",
    "\n",
    "    def forward(self, x):\n",
    "        x = x.contiguous().view(-1,self.num_flat_features(x))\n",
    "        x = F.relu(self.bn1(self.fc1(x)))\n",
    "        x = F.relu(self.bn2(self.fc2(x)))\n",
    "        x = F.relu(self.bn3(self.dropout(self.fc3(x))))\n",
    "        x = self.fc4(x)\n",
    "#         x = self.final_layer(x)\n",
    "        return x\n",
    "\n",
    "    def num_flat_features(self, x):\n",
    "        size = x.size()[1:]  # all dimensions except the batch dimension\n",
    "        num_features = 1\n",
    "        for s in size:\n",
    "            num_features *= s\n",
    "        return num_features\n",
    "    def method_of_pred(self, x):\n",
    "        pass"
   ],
   "metadata": {
    "collapsed": false,
    "pycharm": {
     "name": "#%%\n"
    }
   }
  },
  {
   "cell_type": "code",
   "execution_count": 19,
   "outputs": [],
   "source": [
    "class oneDVerConvNet(nn.Module): # type3 - 1D Vertical Convolution\n",
    "    def __init__(self, D_in, D_out, input_shape, b_size):\n",
    "        # input_shape: without batch dimension\n",
    "        # b_size: batch size\n",
    "        super(oneDVerConvNet, self).__init__()\n",
    "        self.layer1 = nn.Sequential(\n",
    "            nn.Conv2d(D_in, 16, (3,1), stride = (1,1), padding = (1,0)),\n",
    "            # nn.BatchNorm2d(16), # no batch\n",
    "            nn.ReLU(),\n",
    "            nn.MaxPool2d(kernel_size = (2,1), stride = (2,1)))\n",
    "        self.layer2 = nn.Sequential(\n",
    "            nn.Conv2d(16, 64, kernel_size = (3,1), stride = (1,1), padding= (1,0)),\n",
    "            # nn.BatchNorm2d(64),\n",
    "            nn.ReLU(),\n",
    "            nn.MaxPool2d(kernel_size = (2,1), stride = (2,1)))\n",
    "        self.layer3 = nn.Sequential(\n",
    "            nn.Conv2d(64, 256, kernel_size = (3,1), stride = (1,1), padding= (1,0)),\n",
    "            # nn.BatchNorm2d(256),\n",
    "            nn.ReLU(),\n",
    "            nn.MaxPool2d(kernel_size = (2,1), stride = (2,1)))\n",
    "        self.layer4 = nn.Sequential(\n",
    "            nn.Conv2d(256, 1024, kernel_size = (3,1), stride = (1,1), padding= (1,0)),\n",
    "            # nn.BatchNorm2d(1024),\n",
    "            nn.ReLU(),\n",
    "            nn.MaxPool2d(kernel_size = (2,1), stride = (2,1)))\n",
    "        self.drop_out = nn.Dropout()\n",
    "        n_size = self._get_conv_output(input_shape, b_size)\n",
    "        # print(n_size)\n",
    " #       self.fc1 = nn.Linear(n_size, 256)\n",
    " #        self.fc1 = nn.Linear(1024, 256)\n",
    " #        self.fc2 = nn.Linear(256, 64)\n",
    " #        self.fc3 = nn.Linear(64,D_out)\n",
    "        self.transform1 = nn.Conv2d(n_size, 256, kernel_size = (1,1), stride = (1,1), padding=0)\n",
    "        self.transform2 = nn.Conv2d(256, 64, kernel_size = (1,1), stride = (1,1), padding=0)\n",
    "        self.transform3 = nn.Conv2d(64, D_out, kernel_size = (1,1), stride = (1,1), padding=0)\n",
    "        # self.bn1 = nn.BatchNorm1d(256)\n",
    "        # self.bn2 = nn.BatchNorm1d(64)\n",
    "\n",
    "    def _get_conv_output(self, shape, b_size):\n",
    "        input = Variable(torch.rand(b_size, *shape))\n",
    "        output_feat = self._forward_features(input)\n",
    "        n_size = output_feat.data.view(b_size, -1).size(1)\n",
    "        return n_size\n",
    "\n",
    "    def _forward_features(self, x):\n",
    "        x = self.layer1(x)\n",
    "        x = self.layer2(x)\n",
    "        x = self.layer3(x)\n",
    "        x = self.layer4(x)\n",
    "        # print(x.shape) # shape = (b_size, feature=1024, H=1, W = 54)\n",
    "        x = torch.max(x,3)[0]\n",
    "        return x\n",
    "\n",
    "    def forward(self, x):\n",
    "        x = self.layer1(x)\n",
    "        x = self.layer2(x)\n",
    "        x = self.layer3(x)\n",
    "        x = self.layer4(x)\n",
    "        # x = torch.max(x,3)[0] # questionable maybe do along [1]\n",
    "        # print(x.shape) # shape = (b_size, feature=1024, H=1) after max\n",
    "        #print(x.data.size())\n",
    "        # x = x.view(-1,self.num_flat_features(x))\n",
    "#        print(x.data.size())\n",
    "#         x = F.relu(self.bn1(self.fc1(x)))\n",
    "#         x = F.relu(self.bn2(self.drop_out(self.fc2(x))))\n",
    "        x = F.relu(self.transform1(x))\n",
    "        x = F.relu(self.drop_out(self.transform2(x)))\n",
    "        x = self.transform3(x)\n",
    "##        return x, new_features, contribution\n",
    "        return x.squeeze()\n",
    "\n",
    "    def num_flat_features(self, x):\n",
    "        size = x.size()[1:]  # all dimensions except the batch dimension\n",
    "        num_features = 1\n",
    "        for s in size:\n",
    "            num_features *= s\n",
    "        return num_features\n"
   ],
   "metadata": {
    "collapsed": false,
    "pycharm": {
     "name": "#%%\n"
    }
   }
  },
  {
   "cell_type": "code",
   "execution_count": null,
   "outputs": [],
   "source": [
    "class train_NN():\n",
    "    def __init__(\n",
    "        self,\n",
    "        optimizer,\n",
    "        net,\n",
    "    ):\n",
    "        self.optimizer = optimizer\n",
    "        self.net = net\n",
    "        self.n_jobs = n_jobs\n",
    "        self.positive = positive\n",
    "\n",
    "    def fit(self, X, y, nepoch=10):\n",
    "        for epoch in range(nepoch):\n",
    "            running_loss = 0\n",
    "            self.net.train()\n",
    "            np.random.seed()\n",
    "            self.optimizer.zero_grad()\n",
    "            for (i, data) in enumerate(X):\n",
    "                data, label = X, y[i]\n",
    "                label = label.view(-1)\n",
    "                num_examples = label.size()[0] # need this because it's not always the batch size\n",
    "\n",
    "                self.optimizer.zero_grad()\n",
    "\n",
    "        outputs = net(smatrix)\n",
    "\n",
    "        loss = criterion(outputs, labels)\n",
    "        loss.backward()\n",
    "        optimizer.step()\n",
    "        loss_list.append(loss.item())"
   ],
   "metadata": {
    "collapsed": false,
    "pycharm": {
     "name": "#%%\n"
    }
   }
  },
  {
   "cell_type": "code",
   "execution_count": 20,
   "outputs": [],
   "source": [
    "import pandas as pd\n",
    "from pipeline import Dataset, backtest\n",
    "from matplotlib import pyplot as plt\n",
    "from datatools import data_quantization, check_dataframe, extract_market_data\n",
    "from sklearn.model_selection import TimeSeriesSplit\n",
    "from tqdm.auto import tqdm, trange\n",
    "from pandas import Series, DataFrame, MultiIndex\n",
    "from visualization.metric import Performance\n",
    "from sklearn.metrics import r2_score\n",
    "from visualization.metric import plot_performance\n",
    "\n"
   ],
   "metadata": {
    "collapsed": false,
    "pycharm": {
     "name": "#%%\n"
    }
   }
  },
  {
   "cell_type": "code",
   "execution_count": 21,
   "outputs": [],
   "source": [
    "dataset = Dataset.load('../../data/parsed')\n",
    "# dataset = load_mini_dataset('../../data/parsed_mini/')"
   ],
   "metadata": {
    "collapsed": false,
    "pycharm": {
     "name": "#%% DataLoading\n"
    }
   }
  },
  {
   "cell_type": "code",
   "execution_count": 140,
   "outputs": [
    {
     "name": "stdout",
     "output_type": "stream",
     "text": [
      "Indices matched\n",
      "Features matched\n",
      "DataFame is all good for the tests\n"
     ]
    }
   ],
   "source": [
    "quantized_fundamental, _ = data_quantization(dataset.fundamental)\n",
    "df = pd.concat([quantized_fundamental, dataset.fundamental, dataset.ref_return], axis=1).dropna()\n",
    "quantile_feature = ['turnoverRatio_QUANTILE', 'transactionAmount_QUANTILE', 'pb_QUANTILE', 'ps_QUANTILE',\n",
    "                            'pe_ttm_QUANTILE', 'pe_QUANTILE', 'pcf_QUANTILE']\n",
    "original_feature = ['turnoverRatio', 'transactionAmount', 'pb', 'ps', 'pe_ttm', 'pe', 'pcf']\n",
    "\n",
    "check_dataframe(df, expect_index=['day','asset'])\n"
   ],
   "metadata": {
    "collapsed": false,
    "pycharm": {
     "name": "#%% Data Preprocessing\n"
    }
   }
  },
  {
   "cell_type": "code",
   "execution_count": 142,
   "outputs": [],
   "source": [
    "df['return_known'] = df['return'].shift(2*54)\n",
    "df=df.dropna()"
   ],
   "metadata": {
    "collapsed": false,
    "pycharm": {
     "name": "#%%\n"
    }
   }
  },
  {
   "cell_type": "code",
   "execution_count": 130,
   "outputs": [],
   "source": [
    "original_feature = ['turnoverRatio', 'transactionAmount', 'pb', 'ps', 'pe_ttm', 'pe', 'pcf','return_known']\n",
    "quantile_feature = ['turnoverRatio_QUANTILE', 'transactionAmount_QUANTILE', 'pb_QUANTILE', 'ps_QUANTILE',\n",
    "                            'pe_ttm_QUANTILE', 'pe_QUANTILE', 'pcf_QUANTILE', 'return_known']"
   ],
   "metadata": {
    "collapsed": false,
    "pycharm": {
     "name": "#%%\n"
    }
   }
  },
  {
   "cell_type": "markdown",
   "source": [
    "## Training always loop over all available data"
   ],
   "metadata": {
    "collapsed": false,
    "pycharm": {
     "name": "#%% md\n"
    }
   }
  },
  {
   "cell_type": "code",
   "execution_count": 207,
   "outputs": [
    {
     "data": {
      "text/plain": "  0%|          | 0/995 [00:00<?, ?it/s]",
      "application/vnd.jupyter.widget-view+json": {
       "version_major": 2,
       "version_minor": 0,
       "model_id": "42b007856de8495d892de83a3655be40"
      }
     },
     "metadata": {},
     "output_type": "display_data"
    },
    {
     "name": "stdout",
     "output_type": "stream",
     "text": [
      "Skipping this fold since we cannot truncate the last day.\n",
      "Fold [100/995], Loss: 0.3705, cum_train_r2: -0.58%\n",
      "Fold [200/995], Loss: 0.0517, cum_train_r2: -1.03%\n",
      "Fold [300/995], Loss: 0.0010, cum_train_r2: -0.76%\n",
      "Fold [400/995], Loss: 0.0006, cum_train_r2: -0.88%\n",
      "Fold [500/995], Loss: 0.0008, cum_train_r2: -3.21%\n",
      "Fold [600/995], Loss: 0.0014, cum_train_r2: -0.98%\n"
     ]
    },
    {
     "ename": "KeyboardInterrupt",
     "evalue": "",
     "output_type": "error",
     "traceback": [
      "\u001B[0;31m---------------------------------------------------------------------------\u001B[0m",
      "\u001B[0;31mKeyboardInterrupt\u001B[0m                         Traceback (most recent call last)",
      "\u001B[0;32m/var/folders/c_/y_0x4rsd6tb4chd_y83jnpzr0000gn/T/ipykernel_2610/3159425957.py\u001B[0m in \u001B[0;36m<module>\u001B[0;34m\u001B[0m\n\u001B[1;32m     49\u001B[0m         \u001B[0;32mfor\u001B[0m \u001B[0mi\u001B[0m \u001B[0;32min\u001B[0m \u001B[0mrange\u001B[0m\u001B[0;34m(\u001B[0m\u001B[0mlookback_window\u001B[0m\u001B[0;34m,\u001B[0m \u001B[0mlen\u001B[0m\u001B[0;34m(\u001B[0m\u001B[0mdays_train\u001B[0m\u001B[0;34m)\u001B[0m\u001B[0;34m)\u001B[0m\u001B[0;34m:\u001B[0m\u001B[0;34m\u001B[0m\u001B[0;34m\u001B[0m\u001B[0m\n\u001B[1;32m     50\u001B[0m             \u001B[0mdays_train_valid\u001B[0m \u001B[0;34m=\u001B[0m \u001B[0mdays_train\u001B[0m\u001B[0;34m[\u001B[0m\u001B[0mi\u001B[0m\u001B[0;34m-\u001B[0m\u001B[0mlookback_window\u001B[0m\u001B[0;34m:\u001B[0m\u001B[0mi\u001B[0m\u001B[0;34m]\u001B[0m \u001B[0;31m# last ends at valid-day-2\u001B[0m\u001B[0;34m\u001B[0m\u001B[0;34m\u001B[0m\u001B[0m\n\u001B[0;32m---> 51\u001B[0;31m             \u001B[0mX_train\u001B[0m\u001B[0;34m,\u001B[0m \u001B[0my_train_true\u001B[0m \u001B[0;34m=\u001B[0m \u001B[0mdf\u001B[0m\u001B[0;34m.\u001B[0m\u001B[0mloc\u001B[0m\u001B[0;34m[\u001B[0m\u001B[0;34m(\u001B[0m\u001B[0mdays_train_valid\u001B[0m\u001B[0;34m,\u001B[0m\u001B[0;34m)\u001B[0m\u001B[0;34m,\u001B[0m \u001B[0;34m:\u001B[0m\u001B[0;34m]\u001B[0m\u001B[0;34m[\u001B[0m\u001B[0mfeature_columns\u001B[0m\u001B[0;34m]\u001B[0m\u001B[0;34m,\u001B[0m \u001B[0mdf\u001B[0m\u001B[0;34m.\u001B[0m\u001B[0mloc\u001B[0m\u001B[0;34m[\u001B[0m\u001B[0;34m(\u001B[0m\u001B[0mdays_train_valid\u001B[0m\u001B[0;34m[\u001B[0m\u001B[0;34m-\u001B[0m\u001B[0;36m1\u001B[0m\u001B[0;34m]\u001B[0m\u001B[0;34m)\u001B[0m\u001B[0;34m,\u001B[0m\u001B[0;34m:\u001B[0m\u001B[0;34m]\u001B[0m\u001B[0;34m[\u001B[0m\u001B[0mreturn_column\u001B[0m\u001B[0;34m]\u001B[0m\u001B[0;34m\u001B[0m\u001B[0;34m\u001B[0m\u001B[0m\n\u001B[0m\u001B[1;32m     52\u001B[0m \u001B[0;34m\u001B[0m\u001B[0m\n\u001B[1;32m     53\u001B[0m             \u001B[0mX_np\u001B[0m \u001B[0;34m=\u001B[0m \u001B[0mX_train\u001B[0m\u001B[0;34m.\u001B[0m\u001B[0mswaplevel\u001B[0m\u001B[0;34m(\u001B[0m\u001B[0;36m1\u001B[0m\u001B[0;34m,\u001B[0m\u001B[0;36m0\u001B[0m\u001B[0;34m)\u001B[0m\u001B[0;34m.\u001B[0m\u001B[0msort_index\u001B[0m\u001B[0;34m(\u001B[0m\u001B[0mascending\u001B[0m\u001B[0;34m=\u001B[0m\u001B[0;32mTrue\u001B[0m\u001B[0;34m)\u001B[0m\u001B[0;34m.\u001B[0m\u001B[0mto_numpy\u001B[0m\u001B[0;34m(\u001B[0m\u001B[0;34m)\u001B[0m\u001B[0;34m.\u001B[0m\u001B[0mastype\u001B[0m\u001B[0;34m(\u001B[0m\u001B[0mnp\u001B[0m\u001B[0;34m.\u001B[0m\u001B[0mfloat32\u001B[0m\u001B[0;34m)\u001B[0m\u001B[0;34m\u001B[0m\u001B[0;34m\u001B[0m\u001B[0m\n",
      "\u001B[0;32m~/micromamba/envs/DataScience/lib/python3.9/site-packages/pandas/core/indexing.py\u001B[0m in \u001B[0;36m__getitem__\u001B[0;34m(self, key)\u001B[0m\n\u001B[1;32m   1065\u001B[0m             \u001B[0;32mif\u001B[0m \u001B[0mself\u001B[0m\u001B[0;34m.\u001B[0m\u001B[0m_is_scalar_access\u001B[0m\u001B[0;34m(\u001B[0m\u001B[0mkey\u001B[0m\u001B[0;34m)\u001B[0m\u001B[0;34m:\u001B[0m\u001B[0;34m\u001B[0m\u001B[0;34m\u001B[0m\u001B[0m\n\u001B[1;32m   1066\u001B[0m                 \u001B[0;32mreturn\u001B[0m \u001B[0mself\u001B[0m\u001B[0;34m.\u001B[0m\u001B[0mobj\u001B[0m\u001B[0;34m.\u001B[0m\u001B[0m_get_value\u001B[0m\u001B[0;34m(\u001B[0m\u001B[0;34m*\u001B[0m\u001B[0mkey\u001B[0m\u001B[0;34m,\u001B[0m \u001B[0mtakeable\u001B[0m\u001B[0;34m=\u001B[0m\u001B[0mself\u001B[0m\u001B[0;34m.\u001B[0m\u001B[0m_takeable\u001B[0m\u001B[0;34m)\u001B[0m\u001B[0;34m\u001B[0m\u001B[0;34m\u001B[0m\u001B[0m\n\u001B[0;32m-> 1067\u001B[0;31m             \u001B[0;32mreturn\u001B[0m \u001B[0mself\u001B[0m\u001B[0;34m.\u001B[0m\u001B[0m_getitem_tuple\u001B[0m\u001B[0;34m(\u001B[0m\u001B[0mkey\u001B[0m\u001B[0;34m)\u001B[0m\u001B[0;34m\u001B[0m\u001B[0;34m\u001B[0m\u001B[0m\n\u001B[0m\u001B[1;32m   1068\u001B[0m         \u001B[0;32melse\u001B[0m\u001B[0;34m:\u001B[0m\u001B[0;34m\u001B[0m\u001B[0;34m\u001B[0m\u001B[0m\n\u001B[1;32m   1069\u001B[0m             \u001B[0;31m# we by definition only have the 0th axis\u001B[0m\u001B[0;34m\u001B[0m\u001B[0;34m\u001B[0m\u001B[0m\n",
      "\u001B[0;32m~/micromamba/envs/DataScience/lib/python3.9/site-packages/pandas/core/indexing.py\u001B[0m in \u001B[0;36m_getitem_tuple\u001B[0;34m(self, tup)\u001B[0m\n\u001B[1;32m   1245\u001B[0m         \u001B[0;32mwith\u001B[0m \u001B[0msuppress\u001B[0m\u001B[0;34m(\u001B[0m\u001B[0mIndexingError\u001B[0m\u001B[0;34m)\u001B[0m\u001B[0;34m:\u001B[0m\u001B[0;34m\u001B[0m\u001B[0;34m\u001B[0m\u001B[0m\n\u001B[1;32m   1246\u001B[0m             \u001B[0mtup\u001B[0m \u001B[0;34m=\u001B[0m \u001B[0mself\u001B[0m\u001B[0;34m.\u001B[0m\u001B[0m_expand_ellipsis\u001B[0m\u001B[0;34m(\u001B[0m\u001B[0mtup\u001B[0m\u001B[0;34m)\u001B[0m\u001B[0;34m\u001B[0m\u001B[0;34m\u001B[0m\u001B[0m\n\u001B[0;32m-> 1247\u001B[0;31m             \u001B[0;32mreturn\u001B[0m \u001B[0mself\u001B[0m\u001B[0;34m.\u001B[0m\u001B[0m_getitem_lowerdim\u001B[0m\u001B[0;34m(\u001B[0m\u001B[0mtup\u001B[0m\u001B[0;34m)\u001B[0m\u001B[0;34m\u001B[0m\u001B[0;34m\u001B[0m\u001B[0m\n\u001B[0m\u001B[1;32m   1248\u001B[0m \u001B[0;34m\u001B[0m\u001B[0m\n\u001B[1;32m   1249\u001B[0m         \u001B[0;31m# no multi-index, so validate all of the indexers\u001B[0m\u001B[0;34m\u001B[0m\u001B[0;34m\u001B[0m\u001B[0m\n",
      "\u001B[0;32m~/micromamba/envs/DataScience/lib/python3.9/site-packages/pandas/core/indexing.py\u001B[0m in \u001B[0;36m_getitem_lowerdim\u001B[0;34m(self, tup)\u001B[0m\n\u001B[1;32m    939\u001B[0m         \u001B[0;31m# we may have a nested tuples indexer here\u001B[0m\u001B[0;34m\u001B[0m\u001B[0;34m\u001B[0m\u001B[0m\n\u001B[1;32m    940\u001B[0m         \u001B[0;32mif\u001B[0m \u001B[0mself\u001B[0m\u001B[0;34m.\u001B[0m\u001B[0m_is_nested_tuple_indexer\u001B[0m\u001B[0;34m(\u001B[0m\u001B[0mtup\u001B[0m\u001B[0;34m)\u001B[0m\u001B[0;34m:\u001B[0m\u001B[0;34m\u001B[0m\u001B[0;34m\u001B[0m\u001B[0m\n\u001B[0;32m--> 941\u001B[0;31m             \u001B[0;32mreturn\u001B[0m \u001B[0mself\u001B[0m\u001B[0;34m.\u001B[0m\u001B[0m_getitem_nested_tuple\u001B[0m\u001B[0;34m(\u001B[0m\u001B[0mtup\u001B[0m\u001B[0;34m)\u001B[0m\u001B[0;34m\u001B[0m\u001B[0;34m\u001B[0m\u001B[0m\n\u001B[0m\u001B[1;32m    942\u001B[0m \u001B[0;34m\u001B[0m\u001B[0m\n\u001B[1;32m    943\u001B[0m         \u001B[0;31m# we maybe be using a tuple to represent multiple dimensions here\u001B[0m\u001B[0;34m\u001B[0m\u001B[0;34m\u001B[0m\u001B[0m\n",
      "\u001B[0;32m~/micromamba/envs/DataScience/lib/python3.9/site-packages/pandas/core/indexing.py\u001B[0m in \u001B[0;36m_getitem_nested_tuple\u001B[0;34m(self, tup)\u001B[0m\n\u001B[1;32m    999\u001B[0m \u001B[0;34m\u001B[0m\u001B[0m\n\u001B[1;32m   1000\u001B[0m         \u001B[0;32mfor\u001B[0m \u001B[0mkey\u001B[0m \u001B[0;32min\u001B[0m \u001B[0mtup\u001B[0m\u001B[0;34m:\u001B[0m\u001B[0;34m\u001B[0m\u001B[0;34m\u001B[0m\u001B[0m\n\u001B[0;32m-> 1001\u001B[0;31m             \u001B[0mcheck_deprecated_indexers\u001B[0m\u001B[0;34m(\u001B[0m\u001B[0mkey\u001B[0m\u001B[0;34m)\u001B[0m\u001B[0;34m\u001B[0m\u001B[0;34m\u001B[0m\u001B[0m\n\u001B[0m\u001B[1;32m   1002\u001B[0m \u001B[0;34m\u001B[0m\u001B[0m\n\u001B[1;32m   1003\u001B[0m         \u001B[0;31m# we have too many indexers for our dim, but have at least 1\u001B[0m\u001B[0;34m\u001B[0m\u001B[0;34m\u001B[0m\u001B[0m\n",
      "\u001B[0;32m~/micromamba/envs/DataScience/lib/python3.9/site-packages/pandas/core/indexing.py\u001B[0m in \u001B[0;36mcheck_deprecated_indexers\u001B[0;34m(key)\u001B[0m\n\u001B[1;32m   2669\u001B[0m     if (\n\u001B[1;32m   2670\u001B[0m         \u001B[0misinstance\u001B[0m\u001B[0;34m(\u001B[0m\u001B[0mkey\u001B[0m\u001B[0;34m,\u001B[0m \u001B[0mdict\u001B[0m\u001B[0;34m)\u001B[0m\u001B[0;34m\u001B[0m\u001B[0;34m\u001B[0m\u001B[0m\n\u001B[0;32m-> 2671\u001B[0;31m         \u001B[0;32mor\u001B[0m \u001B[0misinstance\u001B[0m\u001B[0;34m(\u001B[0m\u001B[0mkey\u001B[0m\u001B[0;34m,\u001B[0m \u001B[0mtuple\u001B[0m\u001B[0;34m)\u001B[0m\u001B[0;34m\u001B[0m\u001B[0;34m\u001B[0m\u001B[0m\n\u001B[0m\u001B[1;32m   2672\u001B[0m         \u001B[0;32mand\u001B[0m \u001B[0many\u001B[0m\u001B[0;34m(\u001B[0m\u001B[0misinstance\u001B[0m\u001B[0;34m(\u001B[0m\u001B[0mx\u001B[0m\u001B[0;34m,\u001B[0m \u001B[0mdict\u001B[0m\u001B[0;34m)\u001B[0m \u001B[0;32mfor\u001B[0m \u001B[0mx\u001B[0m \u001B[0;32min\u001B[0m \u001B[0mkey\u001B[0m\u001B[0;34m)\u001B[0m\u001B[0;34m\u001B[0m\u001B[0;34m\u001B[0m\u001B[0m\n\u001B[1;32m   2673\u001B[0m     ):\n",
      "\u001B[0;31mKeyboardInterrupt\u001B[0m: "
     ]
    }
   ],
   "source": [
    "# Hyperparameter\n",
    "n_splits = 995\n",
    "# n_epoch = 10\n",
    "learning_rate = 0.1\n",
    "lookback_window = 16\n",
    "# Define loss\n",
    "# criterion = nn.CrossEntropyLoss()\n",
    "criterion = nn.MSELoss()\n",
    "# Define network\n",
    " # net = oneDVerConvNet(D_in=7, D_out=1, input_shape=(7,lookback_window,54), b_size=1)\n",
    "net = oneDVerConvNet(D_in=7, D_out=1, input_shape=(7,lookback_window,54), b_size=1)\n",
    "# Define the optimizier\n",
    "# optimizer = optim.LBFGS(net.parameters(), lr=learning_rate)\n",
    "optimizer = optim.Adam(net.parameters(), lr=learning_rate, betas = (0.9, 0.999))\n",
    "scheduler = optim.lr_scheduler.StepLR(optimizer, step_size = 100, gamma = 0.5)\n",
    "\n",
    "\n",
    "loss_list = []\n",
    "# label_train_list = []\n",
    "# test_list2 = []\n",
    "# test_score_old = 0\n",
    "\n",
    "days = df.index.get_level_values('day').unique()\n",
    "tscv = TimeSeriesSplit(n_splits=min(n_splits, len(days)))\n",
    "pbar = tqdm(tscv.split(days), total=tscv.n_splits)\n",
    "\n",
    "cum_y_val_true = Series(dtype=float)\n",
    "cum_y_val_prediction = Series(dtype=float)\n",
    "performance = Performance()\n",
    "# feature_columns = quantile_feature\n",
    "feature_columns = original_feature\n",
    "return_column = ['return']\n",
    "\n",
    "\n",
    "# for epoch in range(n_epoch):\n",
    "for fold, (train, val) in enumerate(pbar):\n",
    "    # X, _ = data_quantization(df[original_feature])\n",
    "    running_loss = 0\n",
    "    net.train()\n",
    "    np.random.seed()\n",
    "    days_train = days[train]\n",
    "\n",
    "    if len(days_train) < 2:\n",
    "        print('Skipping this fold since we cannot truncate the last day.')\n",
    "        continue\n",
    "    if (lookback_window is not None) and (len(days_train) > lookback_window):\n",
    "        cum_y_train_true = Series(dtype=float)\n",
    "        cum_y_train_prediction = Series(dtype=float)\n",
    "        for i in range(lookback_window, len(days_train)):\n",
    "            days_train_valid = days_train[i-lookback_window:i] # last ends at valid-day-2\n",
    "            X_train, y_train_true = df.loc[(days_train_valid,), :][feature_columns], df.loc[(days_train_valid[-1]),:][return_column]\n",
    "\n",
    "            X_np = X_train.swaplevel(1,0).sort_index(ascending=True).to_numpy().astype(np.float32)\n",
    "            # shape (asset, days, feature) -> (ft, days, asset)\n",
    "            X_np_tensor = X_np.reshape(54,lookback_window,-1).transpose([2,1,0])\n",
    "            X_np_tensor = X_np_tensor[np.newaxis,:]  # add batch dimension\n",
    "            X_torch = torch.from_numpy(X_np_tensor)\n",
    "            labels = torch.tensor(y_train_true['return'].values).to(torch.float)\n",
    "            #\n",
    "            # def closure():\n",
    "            #     optimizer.zero_grad()\n",
    "            #     outputs=net(X_torch)\n",
    "            #     loss = criterion(outputs, labels)\n",
    "            #     loss.backward()\n",
    "            #     return loss\n",
    "\n",
    "            optimizer.zero_grad()\n",
    "            outputs = net(X_torch)\n",
    "            loss = criterion(outputs, labels)\n",
    "            loss.backward()\n",
    "            # optimizer.step(closure) # need closure for LBFGS\n",
    "            optimizer.step()\n",
    "            cum_y_train_prediction = pd.concat([cum_y_train_prediction, Series(outputs.detach().numpy())])\n",
    "            cum_y_train_true = pd.concat([cum_y_train_true, y_train_true.squeeze()], ignore_index=True)\n",
    "\n",
    "        performance[fold,'train_r2'] = r2_score(cum_y_train_prediction, cum_y_train_true)\n",
    "        if fold % 100 == 0:\n",
    "            print('Fold [{}/{}], Loss: {:.4f}, cum_train_r2: {:.2f}%'.format(fold, len(pbar), loss.item(), r2_score(cum_y_train_prediction, cum_y_train_true)))\n",
    "        # Validation:\n",
    "        days_val = days[int(val)-lookback_window:int(val)]\n",
    "\n",
    "        X_val, y_val_true = df.loc[(days_val,), :][feature_columns], df.loc[(days_val[-1],), :][return_column]\n",
    "        net.eval()\n",
    "        net.train(False)\n",
    "        with torch.no_grad():\n",
    "            X_np_val = X_val.swaplevel(1,0).sort_index(ascending=True).to_numpy().astype(np.float32)\n",
    "            # shape (asset, days, feature) -> (ft, days, asset)\n",
    "            X_np_val_tensor = X_np_val.reshape(54,lookback_window,-1).transpose([2,1,0])\n",
    "            X_np_val_tensor = X_np_val_tensor[np.newaxis,:]  # add batch dimension\n",
    "            X_torch_val = torch.from_numpy(X_np_val_tensor)\n",
    "            labels = torch.tensor(y_val_true['return'].values).to(torch.float)\n",
    "\n",
    "            outputs_val = net(X_torch_val)\n",
    "            cum_y_val_prediction = pd.concat([cum_y_val_prediction, Series(outputs_val.numpy())])\n",
    "            cum_y_val_true = pd.concat([cum_y_val_true, y_val_true.squeeze()], ignore_index=True)\n",
    "\n",
    "        val_r2 = r2_score(y_val_true.squeeze(), Series(outputs_val.numpy())) # Do I need index for series to corr or R2?\n",
    "        performance[fold, 'val_r2'] = val_r2\n",
    "        val_pearson = y_val_true.squeeze().corr(Series(outputs_val.numpy()))\n",
    "        performance[fold, 'val_pearson'] = val_pearson\n",
    "        val_cum_r2 = r2_score(cum_y_val_true, cum_y_val_prediction)\n",
    "        performance[fold, 'val_cum_r2'] = val_cum_r2\n",
    "        val_cum_pearson = cum_y_val_true.corr(cum_y_val_prediction)\n",
    "        performance[fold, 'val_cum_pearson'] = val_cum_pearson\n",
    "\n",
    "        pbar.set_description(f'Fold {fold}, val_cum_r2={val_cum_r2:.4f}, val_cum_pearson={val_cum_pearson:.4f}')\n",
    "\n",
    "    else:\n",
    "        pass\n",
    "    # if fold > 20:\n",
    "    #     break\n",
    "    # X_train, y_train_true = df.loc[(days_train_valid,), :][feature_columns], df.loc[(days_train_valid,), :][return_column]\n",
    "    # X_val, y_val_true = df.loc[(days_val,), :][feature_columns], df.loc[(days_val,), :][return_column]\n",
    "\n",
    "    #"
   ],
   "metadata": {
    "collapsed": false,
    "pycharm": {
     "name": "#%%\n"
    }
   }
  },
  {
   "cell_type": "markdown",
   "source": [
    "## Training only use the current data (one data one training each fold)"
   ],
   "metadata": {
    "collapsed": false
   }
  },
  {
   "cell_type": "code",
   "execution_count": 40,
   "outputs": [
    {
     "data": {
      "text/plain": "  0%|          | 0/995 [00:00<?, ?it/s]",
      "application/vnd.jupyter.widget-view+json": {
       "version_major": 2,
       "version_minor": 0,
       "model_id": "7dcac9298fb14c2aba108bdd91d0cd54"
      }
     },
     "metadata": {},
     "output_type": "display_data"
    },
    {
     "name": "stdout",
     "output_type": "stream",
     "text": [
      "Skipping this fold since we cannot truncate the last day.\n",
      "Fold [100/995], Loss: 738.3954, cum_train_r2: -0.64%\n",
      "Fold [200/995], Loss: 196.6356, cum_train_r2: -0.49%\n",
      "Fold [300/995], Loss: 46.9000, cum_train_r2: -0.71%\n",
      "Fold [400/995], Loss: 67.9767, cum_train_r2: -0.55%\n",
      "Fold [500/995], Loss: 47.4468, cum_train_r2: -1.03%\n",
      "Fold [600/995], Loss: 26.7176, cum_train_r2: -1.31%\n",
      "Fold [700/995], Loss: 52.4082, cum_train_r2: -1.12%\n",
      "Fold [800/995], Loss: 184.5518, cum_train_r2: -0.21%\n",
      "Fold [900/995], Loss: 40.3373, cum_train_r2: -0.26%\n"
     ]
    },
    {
     "data": {
      "text/plain": "  0%|          | 0/995 [00:00<?, ?it/s]",
      "application/vnd.jupyter.widget-view+json": {
       "version_major": 2,
       "version_minor": 0,
       "model_id": "1873f645f47445ff8e0d69c9ade7a812"
      }
     },
     "metadata": {},
     "output_type": "display_data"
    },
    {
     "name": "stdout",
     "output_type": "stream",
     "text": [
      "Skipping this fold since we cannot truncate the last day.\n",
      "Fold [100/995], Loss: 738.3954, cum_train_r2: -0.64%\n",
      "Fold [200/995], Loss: 196.6356, cum_train_r2: -0.49%\n",
      "Fold [300/995], Loss: 46.9000, cum_train_r2: -0.71%\n",
      "Fold [400/995], Loss: 67.9767, cum_train_r2: -0.55%\n",
      "Fold [500/995], Loss: 47.4468, cum_train_r2: -1.03%\n",
      "Fold [600/995], Loss: 26.7176, cum_train_r2: -1.31%\n",
      "Fold [700/995], Loss: 52.4082, cum_train_r2: -1.12%\n",
      "Fold [800/995], Loss: 184.5518, cum_train_r2: -0.21%\n",
      "Fold [900/995], Loss: 40.3373, cum_train_r2: -0.26%\n"
     ]
    },
    {
     "data": {
      "text/plain": "  0%|          | 0/995 [00:00<?, ?it/s]",
      "application/vnd.jupyter.widget-view+json": {
       "version_major": 2,
       "version_minor": 0,
       "model_id": "5d2679851609405e8a79753326262133"
      }
     },
     "metadata": {},
     "output_type": "display_data"
    },
    {
     "name": "stdout",
     "output_type": "stream",
     "text": [
      "Skipping this fold since we cannot truncate the last day.\n",
      "Fold [100/995], Loss: 738.3954, cum_train_r2: -0.64%\n",
      "Fold [200/995], Loss: 196.6356, cum_train_r2: -0.49%\n",
      "Fold [300/995], Loss: 46.9000, cum_train_r2: -0.71%\n",
      "Fold [400/995], Loss: 67.9767, cum_train_r2: -0.55%\n",
      "Fold [500/995], Loss: 47.4468, cum_train_r2: -1.03%\n",
      "Fold [600/995], Loss: 26.7176, cum_train_r2: -1.31%\n",
      "Fold [700/995], Loss: 52.4082, cum_train_r2: -1.12%\n",
      "Fold [800/995], Loss: 184.5518, cum_train_r2: -0.21%\n",
      "Fold [900/995], Loss: 40.3373, cum_train_r2: -0.26%\n"
     ]
    }
   ],
   "source": [
    "# Hyperparameter\n",
    "n_splits = 995\n",
    "n_epoch = 3\n",
    "learning_rate = 0.03\n",
    "lookback_window = 16\n",
    "# Define loss\n",
    "# criterion = nn.CrossEntropyLoss()\n",
    "criterion = nn.MSELoss()\n",
    "# Define feature\n",
    "original_feature = ['turnoverRatio', 'transactionAmount', 'pb', 'ps', 'pe_ttm', 'pe', 'pcf','return_known']\n",
    "feature_columns = original_feature\n",
    "return_column = ['return']\n",
    "num_feature = len(feature_columns)\n",
    "\n",
    "# Define network\n",
    " # net = oneDVerConvNet(D_in=7, D_out=1, input_shape=(7,lookback_window,54), b_size=1)\n",
    "net = oneDVerConvNet(D_in=num_feature, D_out=1, input_shape=(num_feature,lookback_window,54), b_size=1)\n",
    "# Define the optimizier\n",
    "optimizer = optim.LBFGS(net.parameters(), lr=learning_rate)\n",
    "# optimizer = optim.Adam(net.parameters(), lr=learning_rate, betas = (0.9, 0.999))\n",
    "scheduler = optim.lr_scheduler.StepLR(optimizer, step_size = 100, gamma = 0.5)\n",
    "\n",
    "loss_list = []\n",
    "# label_train_list = []\n",
    "# test_list2 = []\n",
    "# test_score_old = 0\n",
    "days = df.index.get_level_values('day').unique()\n",
    "tscv = TimeSeriesSplit(n_splits=min(n_splits, len(days)))\n",
    "\n",
    "torch.manual_seed(3407)\n",
    "\n",
    "for epoch in range(n_epoch):\n",
    "\n",
    "    pbar = tqdm(tscv.split(days), total=tscv.n_splits)\n",
    "\n",
    "    cum_y_val_true = Series(dtype=float)\n",
    "    cum_y_val_prediction = Series(dtype=float)\n",
    "    performance = Performance()\n",
    "    # feature_columns = quantile_feature\n",
    "\n",
    "    net.train()\n",
    "    # np.random.seed(44)\n",
    "    # for epoch in range(n_epoch):\n",
    "    for fold, (train, val) in enumerate(pbar):\n",
    "        # X, _ = data_quantization(df[original_feature])\n",
    "        running_loss = 0\n",
    "        days_train = days[train]\n",
    "\n",
    "        if len(days_train) < 2:\n",
    "            print('Skipping this fold since we cannot truncate the last day.')\n",
    "            continue\n",
    "        if (lookback_window is not None) and (len(days_train) > lookback_window):\n",
    "            cum_y_train_true = Series(dtype=float)\n",
    "            cum_y_train_prediction = Series(dtype=float)\n",
    "\n",
    "            days_train_valid = days_train[-lookback_window-1:-1] # last ends at valid-day-2\n",
    "            X_train, y_train_true = df.loc[(days_train_valid,), :][feature_columns], df.loc[(days_train_valid[-1]),:][return_column]\n",
    "\n",
    "            X_np = X_train.swaplevel(1,0).sort_index(ascending=True).to_numpy().astype(np.float32)\n",
    "                # shape (asset, days, feature) -> (ft, days, asset)\n",
    "            X_np_tensor = X_np.reshape(54,lookback_window,-1).transpose([2,1,0])\n",
    "            X_np_tensor = X_np_tensor[np.newaxis,:]  # add batch dimension\n",
    "            X_torch = torch.from_numpy(X_np_tensor)\n",
    "            labels = torch.tensor(y_train_true['return'].values).to(torch.float)\n",
    "                #\n",
    "            def closure():\n",
    "                optimizer.zero_grad()\n",
    "                outputs=net(X_torch)\n",
    "                loss = criterion(outputs, labels)\n",
    "                loss.backward()\n",
    "                return loss\n",
    "\n",
    "            optimizer.zero_grad()\n",
    "            outputs = net(X_torch)\n",
    "            loss = criterion(outputs, labels)\n",
    "            loss.backward()\n",
    "            optimizer.step(closure) # need closure for LBFGS\n",
    "            # optimizer.step()\n",
    "\n",
    "            scheduler.step() ### !!!!!\n",
    "            cum_y_train_prediction = pd.concat([cum_y_train_prediction, Series(outputs.detach().numpy())])\n",
    "            cum_y_train_true = pd.concat([cum_y_train_true, y_train_true.squeeze()], ignore_index=True)\n",
    "\n",
    "            performance[fold,'train_r2'] = r2_score(cum_y_train_prediction, cum_y_train_true)\n",
    "            if fold % 100 == 0:\n",
    "                print('Fold [{}/{}], Loss: {:.4f}, cum_train_r2: {:.2f}%'.format(fold, len(pbar), loss.item(), r2_score(cum_y_train_prediction, cum_y_train_true)))\n",
    "            # Validation:\n",
    "            days_val = days[int(val)-lookback_window:int(val)]\n",
    "\n",
    "            X_val, y_val_true = df.loc[(days_val,), :][feature_columns], df.loc[(days_val[-1],), :][return_column]\n",
    "            net.eval()\n",
    "            net.train(False)\n",
    "            with torch.no_grad():\n",
    "                X_np_val = X_val.swaplevel(1,0).sort_index(ascending=True).to_numpy().astype(np.float32)\n",
    "                # shape (asset, days, feature) -> (ft, days, asset)\n",
    "                X_np_val_tensor = X_np_val.reshape(54,lookback_window,-1).transpose([2,1,0])\n",
    "                X_np_val_tensor = X_np_val_tensor[np.newaxis,:]  # add batch dimension\n",
    "                X_torch_val = torch.from_numpy(X_np_val_tensor)\n",
    "                labels = torch.tensor(y_val_true['return'].values).to(torch.float)\n",
    "\n",
    "                outputs_val = net(X_torch_val)\n",
    "                cum_y_val_prediction = pd.concat([cum_y_val_prediction, Series(outputs_val.numpy())])\n",
    "                cum_y_val_true = pd.concat([cum_y_val_true, y_val_true.squeeze()], ignore_index=True)\n",
    "\n",
    "            val_r2 = r2_score(y_val_true.squeeze(), Series(outputs_val.numpy())) # Do I need index for series to corr or R2?\n",
    "            performance[fold, 'val_r2'] = val_r2\n",
    "            val_pearson = y_val_true.squeeze().corr(Series(outputs_val.numpy()))\n",
    "            performance[fold, 'val_pearson'] = val_pearson\n",
    "            val_cum_r2 = r2_score(cum_y_val_true, cum_y_val_prediction)\n",
    "            performance[fold, 'val_cum_r2'] = val_cum_r2\n",
    "            val_cum_pearson = cum_y_val_true.corr(cum_y_val_prediction)\n",
    "            performance[fold, 'val_cum_pearson'] = val_cum_pearson\n",
    "\n",
    "            pbar.set_description(f'Fold {fold}, val_cum_r2={val_cum_r2:.4f}, val_cum_pearson={val_cum_pearson:.4f}')\n",
    "\n",
    "        else:\n",
    "            pass\n",
    "\n",
    "        # if fold > 20:\n",
    "        #     break\n",
    "        # X_train, y_train_true = df.loc[(days_train_valid,), :][feature_columns], df.loc[(days_train_valid,), :][return_column]\n",
    "        # X_val, y_val_true = df.loc[(days_val,), :][feature_columns], df.loc[(days_val,), :][return_column]\n",
    "\n",
    "        #\n"
   ],
   "metadata": {
    "collapsed": false,
    "pycharm": {
     "name": "#%%\n"
    }
   }
  },
  {
   "cell_type": "markdown",
   "source": [
    "## Baseline case: use only old return:\n",
    "- validation R_2 can achieve almost -0 using ADAM"
   ],
   "metadata": {
    "collapsed": false,
    "pycharm": {
     "name": "#%% md\n"
    }
   }
  },
  {
   "cell_type": "code",
   "execution_count": 22,
   "outputs": [
    {
     "name": "stdout",
     "output_type": "stream",
     "text": [
      "Indices matched\n",
      "Features matched\n",
      "DataFame is all good for the tests\n"
     ]
    }
   ],
   "source": [
    "quantized_fundamental, _ = data_quantization(dataset.fundamental)\n",
    "df = pd.concat([quantized_fundamental, dataset.fundamental, dataset.ref_return], axis=1).dropna()\n",
    "quantile_feature = ['turnoverRatio_QUANTILE', 'transactionAmount_QUANTILE', 'pb_QUANTILE', 'ps_QUANTILE',\n",
    "                            'pe_ttm_QUANTILE', 'pe_QUANTILE', 'pcf_QUANTILE']\n",
    "original_feature = ['turnoverRatio', 'transactionAmount', 'pb', 'ps', 'pe_ttm', 'pe', 'pcf']\n",
    "\n",
    "check_dataframe(df, expect_index=['day','asset'], shutup=False)\n"
   ],
   "metadata": {
    "collapsed": false,
    "pycharm": {
     "name": "#%%\n"
    }
   }
  },
  {
   "cell_type": "code",
   "execution_count": 23,
   "outputs": [],
   "source": [
    "df['return_known'] = df['return'].shift(2*54)\n",
    "df=df.dropna()\n"
   ],
   "metadata": {
    "collapsed": false,
    "pycharm": {
     "name": "#%%\n"
    }
   }
  },
  {
   "cell_type": "code",
   "execution_count": 35,
   "outputs": [
    {
     "data": {
      "text/plain": "  0%|          | 0/995 [00:00<?, ?it/s]",
      "application/vnd.jupyter.widget-view+json": {
       "version_major": 2,
       "version_minor": 0,
       "model_id": "645363c1e5ba4d339eac484a51e518e6"
      }
     },
     "metadata": {},
     "output_type": "display_data"
    },
    {
     "name": "stdout",
     "output_type": "stream",
     "text": [
      "Skipping this fold since we cannot truncate the last day.\n",
      "Fold [100/995], Loss: 0.0032, cum_train_r2: -1274534.66%\n",
      "Fold [200/995], Loss: 0.0017, cum_train_r2: -2280200.11%\n",
      "Fold [300/995], Loss: 0.0009, cum_train_r2: -615003.87%\n",
      "Fold [400/995], Loss: 0.0004, cum_train_r2: -586695.02%\n",
      "Fold [500/995], Loss: 0.0004, cum_train_r2: -803927.17%\n",
      "Fold [600/995], Loss: 0.0006, cum_train_r2: -1908007.20%\n",
      "Fold [700/995], Loss: 0.0007, cum_train_r2: -946195.67%\n",
      "Fold [800/995], Loss: 0.0012, cum_train_r2: -1575971.34%\n",
      "Fold [900/995], Loss: 0.0004, cum_train_r2: -562351.15%\n"
     ]
    },
    {
     "data": {
      "text/plain": "  0%|          | 0/995 [00:00<?, ?it/s]",
      "application/vnd.jupyter.widget-view+json": {
       "version_major": 2,
       "version_minor": 0,
       "model_id": "e7a49bcdb9374da7af5f86f94dc6ef56"
      }
     },
     "metadata": {},
     "output_type": "display_data"
    },
    {
     "name": "stdout",
     "output_type": "stream",
     "text": [
      "Skipping this fold since we cannot truncate the last day.\n",
      "Fold [100/995], Loss: 0.0032, cum_train_r2: -1274622.31%\n",
      "Fold [200/995], Loss: 0.0017, cum_train_r2: -2280191.03%\n",
      "Fold [300/995], Loss: 0.0009, cum_train_r2: -615003.87%\n",
      "Fold [400/995], Loss: 0.0004, cum_train_r2: -586692.69%\n",
      "Fold [500/995], Loss: 0.0004, cum_train_r2: -803927.17%\n",
      "Fold [600/995], Loss: 0.0006, cum_train_r2: -1908033.95%\n",
      "Fold [700/995], Loss: 0.0007, cum_train_r2: -946192.65%\n",
      "Fold [800/995], Loss: 0.0012, cum_train_r2: -1575956.92%\n",
      "Fold [900/995], Loss: 0.0004, cum_train_r2: -562350.45%\n"
     ]
    },
    {
     "data": {
      "text/plain": "  0%|          | 0/995 [00:00<?, ?it/s]",
      "application/vnd.jupyter.widget-view+json": {
       "version_major": 2,
       "version_minor": 0,
       "model_id": "21e64f44dc8d42b2a25255c43fb4a0ff"
      }
     },
     "metadata": {},
     "output_type": "display_data"
    },
    {
     "name": "stdout",
     "output_type": "stream",
     "text": [
      "Skipping this fold since we cannot truncate the last day.\n",
      "Fold [100/995], Loss: 0.0032, cum_train_r2: -1274622.31%\n",
      "Fold [200/995], Loss: 0.0017, cum_train_r2: -2280191.03%\n",
      "Fold [300/995], Loss: 0.0009, cum_train_r2: -615003.87%\n",
      "Fold [400/995], Loss: 0.0004, cum_train_r2: -586692.69%\n",
      "Fold [500/995], Loss: 0.0004, cum_train_r2: -803927.17%\n",
      "Fold [600/995], Loss: 0.0006, cum_train_r2: -1908033.95%\n",
      "Fold [700/995], Loss: 0.0007, cum_train_r2: -946192.65%\n",
      "Fold [800/995], Loss: 0.0012, cum_train_r2: -1575956.92%\n",
      "Fold [900/995], Loss: 0.0004, cum_train_r2: -562350.45%\n"
     ]
    }
   ],
   "source": [
    "\n",
    "# Hyperparameter\n",
    "n_splits = 995\n",
    "n_epoch = 3\n",
    "learning_rate = 0.05\n",
    "lookback_window = 16\n",
    "# Define loss\n",
    "# criterion = nn.CrossEntropyLoss()\n",
    "criterion = nn.MSELoss()\n",
    "# Define feature:\n",
    "# feature_columns = quantile_feature\n",
    "# feature_columns = original_featxure\n",
    "feature_columns = ['return_known']\n",
    "return_column = ['return']\n",
    "num_feature = len(feature_columns)\n",
    "\n",
    "# Define network\n",
    " # net = oneDVerConvNet(D_in=7, D_out=1, input_shape=(7,lookback_window,54), b_size=1)\n",
    "net = oneDVerConvNet(D_in=num_feature, D_out=1, input_shape=(num_feature,lookback_window,54), b_size=1)\n",
    "# Define the optimizier\n",
    "optimizer = optim.LBFGS(net.parameters(), lr=learning_rate)\n",
    "# optimizer = optim.Adam(net.parameters(), lr=learning_rate, betas = (0.9, 0.999))\n",
    "scheduler = optim.lr_scheduler.StepLR(optimizer, step_size = 100, gamma = 0.5)\n",
    "\n",
    "\n",
    "loss_list = []\n",
    "# label_train_list = []\n",
    "# test_list2 = []\n",
    "# test_score_old = 0\n",
    "\n",
    "days = df.index.get_level_values('day').unique()\n",
    "tscv = TimeSeriesSplit(n_splits=min(n_splits, len(days)))\n",
    "\n",
    "\n",
    "for epoch in range(n_epoch):\n",
    "    pbar = tqdm(tscv.split(days), total=tscv.n_splits)\n",
    "    cum_y_val_true = Series(dtype=float)\n",
    "    cum_y_val_prediction = Series(dtype=float)\n",
    "    performance = Performance()\n",
    "    net.train()\n",
    "    np.random.seed(44)\n",
    "    # for epoch in range(n_epoch):\n",
    "    for fold, (train, val) in enumerate(pbar):\n",
    "        # X, _ = data_quantization(df[original_feature])\n",
    "        running_loss = 0\n",
    "        days_train = days[train]\n",
    "\n",
    "        if len(days_train) < 2:\n",
    "            print('Skipping this fold since we cannot truncate the last day.')\n",
    "            continue\n",
    "        if (lookback_window is not None) and (len(days_train) > lookback_window):\n",
    "            cum_y_train_true = Series(dtype=float)\n",
    "            cum_y_train_prediction = Series(dtype=float)\n",
    "\n",
    "            days_train_valid = days_train[-lookback_window-1:-1] # last ends at valid-day-2\n",
    "            X_train, y_train_true = df.loc[(days_train_valid,), :][feature_columns], df.loc[(days_train_valid[-1]),:][return_column]\n",
    "\n",
    "            X_np = X_train.swaplevel(1,0).sort_index(ascending=True).to_numpy().astype(np.float32)\n",
    "                # shape (asset, days, feature) -> (ft, days, asset)\n",
    "            X_np_tensor = X_np.reshape(54,lookback_window,-1).transpose([2,1,0])\n",
    "            X_np_tensor = X_np_tensor[np.newaxis,:]  # add batch dimension\n",
    "            X_torch = torch.from_numpy(X_np_tensor)\n",
    "            labels = torch.tensor(y_train_true['return'].values).to(torch.float)\n",
    "                #\n",
    "            def closure():\n",
    "                optimizer.zero_grad()\n",
    "                outputs=net(X_torch)\n",
    "                loss = criterion(outputs, labels)\n",
    "                loss.backward()\n",
    "                return loss\n",
    "\n",
    "            optimizer.zero_grad()\n",
    "            outputs = net(X_torch)\n",
    "            loss = criterion(outputs, labels)\n",
    "            loss.backward()\n",
    "            optimizer.step(closure) # need closure for LBFGS\n",
    "            # optimizer.step()\n",
    "\n",
    "            scheduler.step() ### !!!!!\n",
    "            cum_y_train_prediction = pd.concat([cum_y_train_prediction, Series(outputs.detach().numpy())])\n",
    "            cum_y_train_true = pd.concat([cum_y_train_true, y_train_true.squeeze()], ignore_index=True)\n",
    "\n",
    "            performance[fold,'train_r2'] = r2_score(cum_y_train_prediction, cum_y_train_true)\n",
    "            if fold % 100 == 0:\n",
    "                print('Fold [{}/{}], Loss: {:.4f}, cum_train_r2: {:.2f}%'.format(fold, len(pbar), loss.item(), r2_score(cum_y_train_prediction, cum_y_train_true)))\n",
    "            # Validation:\n",
    "            days_val = days[int(val)-lookback_window:int(val)]\n",
    "\n",
    "            X_val, y_val_true = df.loc[(days_val,), :][feature_columns], df.loc[(days_val[-1],), :][return_column]\n",
    "            net.eval()\n",
    "            net.train(False)\n",
    "            with torch.no_grad():\n",
    "                X_np_val = X_val.swaplevel(1,0).sort_index(ascending=True).to_numpy().astype(np.float32)\n",
    "                # shape (asset, days, feature) -> (ft, days, asset)\n",
    "                X_np_val_tensor = X_np_val.reshape(54,lookback_window,-1).transpose([2,1,0])\n",
    "                X_np_val_tensor = X_np_val_tensor[np.newaxis,:]  # add batch dimension\n",
    "                X_torch_val = torch.from_numpy(X_np_val_tensor)\n",
    "                labels = torch.tensor(y_val_true['return'].values).to(torch.float)\n",
    "\n",
    "                outputs_val = net(X_torch_val)\n",
    "                cum_y_val_prediction = pd.concat([cum_y_val_prediction, Series(outputs_val.numpy())])\n",
    "                cum_y_val_true = pd.concat([cum_y_val_true, y_val_true.squeeze()], ignore_index=True)\n",
    "\n",
    "            val_r2 = r2_score(y_val_true.squeeze(), Series(outputs_val.numpy())) # Do I need index for series to corr or R2?\n",
    "            performance[fold, 'val_r2'] = val_r2\n",
    "            val_pearson = y_val_true.squeeze().corr(Series(outputs_val.numpy()))\n",
    "            performance[fold, 'val_pearson'] = val_pearson\n",
    "            val_cum_r2 = r2_score(cum_y_val_true, cum_y_val_prediction)\n",
    "            performance[fold, 'val_cum_r2'] = val_cum_r2\n",
    "            val_cum_pearson = cum_y_val_true.corr(cum_y_val_prediction)\n",
    "            performance[fold, 'val_cum_pearson'] = val_cum_pearson\n",
    "\n",
    "            pbar.set_description(f'Fold {fold}, val_cum_r2={val_cum_r2:.4f}, val_cum_pearson={val_cum_pearson:.4f}')\n",
    "\n",
    "        else:\n",
    "            pass\n",
    "\n",
    "        # if fold > 20:\n",
    "        #     break\n",
    "        # X_train, y_train_true = df.loc[(days_train_valid,), :][feature_columns], df.loc[(days_train_valid,), :][return_column]\n",
    "        # X_val, y_val_true = df.loc[(days_val,), :][feature_columns], df.loc[(days_val,), :][return_column]\n",
    "\n",
    "        #\n"
   ],
   "metadata": {
    "collapsed": false,
    "pycharm": {
     "name": "#%%\n"
    }
   }
  },
  {
   "cell_type": "code",
   "execution_count": 202,
   "outputs": [
    {
     "data": {
      "text/plain": "0     False\n1     False\n2     False\n3     False\n4     False\n      ...  \n49     True\n50     True\n51     True\n52     True\n53     True\nLength: 2538, dtype: bool"
     },
     "execution_count": 202,
     "metadata": {},
     "output_type": "execute_result"
    }
   ],
   "source": [
    "\n",
    "cum_y_train_prediction.isna()"
   ],
   "metadata": {
    "collapsed": false,
    "pycharm": {
     "name": "#%%\n"
    }
   }
  },
  {
   "cell_type": "code",
   "execution_count": 36,
   "outputs": [
    {
     "name": "stdout",
     "output_type": "stream",
     "text": [
      "The ending score for metric train_r2 is: -7.6914e+05\n",
      "The ending score for metric val_cum_r2 is: -3.1575e-04\n",
      "The ending score for metric val_cum_pearson is: 1.8511e-02\n"
     ]
    },
    {
     "data": {
      "text/plain": "<Figure size 432x288 with 1 Axes>",
      "image/png": "[encoded data removed]"
     },
     "metadata": {
      "needs_background": "light"
     },
     "output_type": "display_data"
    }
   ],
   "source": [
    "plt.figure()\n",
    "# plot_performance(performance, metrics_selected=['train_r2', 'test_cum_r2', 'test_cum_pearson'])\n",
    "plot_performance(performance, metrics_selected=['train_r2', 'val_cum_pearson','val_cum_r2'])\n",
    "plt.show()"
   ],
   "metadata": {
    "collapsed": false,
    "pycharm": {
     "name": "#%%\n"
    }
   }
  },
  {
   "cell_type": "code",
   "execution_count": 34,
   "outputs": [
    {
     "data": {
      "text/plain": "<visualization.metric.Performance at 0x175a70730>"
     },
     "execution_count": 34,
     "metadata": {},
     "output_type": "execute_result"
    }
   ],
   "source": [
    "performance"
   ],
   "metadata": {
    "collapsed": false,
    "pycharm": {
     "name": "#%%\n"
    }
   }
  },
  {
   "cell_type": "code",
   "execution_count": 219,
   "outputs": [],
   "source": [
    "model_path = '../../model/dump/1DConv'\n",
    "torch.save(net.state_dict(), model_path)\n"
   ],
   "metadata": {
    "collapsed": false,
    "pycharm": {
     "name": "#%% Save model\n"
    }
   }
  },
  {
   "cell_type": "code",
   "execution_count": 221,
   "outputs": [],
   "source": [
    "from qids_lib import QIDS\n",
    "from pipeline.backtest import evaluation_for_submission\n",
    "\n",
    "\n",
    "dataset = Dataset.load('../data/parsed')\n",
    "df = pd.concat([dataset.fundamental, extract_market_data(dataset.market)], axis=1).dropna()\n",
    "df['return_known'] = df['return'].shift(2*54)\n",
    "df=df.dropna()\n",
    "f_quantile_feature = ['turnoverRatio_QUANTILE', 'transactionAmount_QUANTILE', 'pb_QUANTILE', 'ps_QUANTILE',\n",
    "                      'pe_ttm_QUANTILE', 'pe_QUANTILE', 'pcf_QUANTILE', 'return_known']\n",
    "m_quantile_feature = ['avg_price_QUANTILE', 'volatility_QUANTILE', 'mean_volume_QUANTILE', 'return_known']\n",
    "# feature = ['turnoverRatio', 'transactionAmount', 'pb', 'ps', 'pe_ttm', 'pe', 'pcf', 'avg_price', 'volatility',\n",
    "#            'mean_volume']\n",
    "\n",
    "\n",
    "\n",
    "# q_df, _ = data_quantization(dataset.fundamental)\n",
    "# full_df = pd.concat([q_df, dataset.ref_return], axis=1).dropna()\n",
    "# model = linear_model(full_df[f_quantile_feature], full_df['return'])\n",
    "\n",
    "qids = QIDS(path_prefix='../')\n",
    "\n",
    "\n"
   ],
   "metadata": {
    "collapsed": false,
    "pycharm": {
     "name": "#%% Test\n"
    }
   }
  },
  {
   "cell_type": "code",
   "execution_count": null,
   "outputs": [],
   "source": [],
   "metadata": {
    "collapsed": false,
    "pycharm": {
     "name": "#%%\n"
    }
   }
  }
 ],
 "metadata": {
  "kernelspec": {
   "display_name": "Python 3",
   "language": "python",
   "name": "python3"
  },
  "language_info": {
   "codemirror_mode": {
    "name": "ipython",
    "version": 2
   },
   "file_extension": ".py",
   "mimetype": "text/x-python",
   "name": "python",
   "nbconvert_exporter": "python",
   "pygments_lexer": "ipython2",
   "version": "2.7.6"
  }
 },
 "nbformat": 4,
 "nbformat_minor": 0
}