{
 "cells": [
  {
   "cell_type": "markdown",
   "source": [
    "# Notebook for running all the network at one place"
   ],
   "metadata": {
    "collapsed": false
   }
  },
  {
   "cell_type": "markdown",
   "source": [
    "## Initialization and Data Loading"
   ],
   "metadata": {
    "collapsed": false
   }
  },
  {
   "cell_type": "code",
   "execution_count": 1,
   "outputs": [],
   "source": [
    "%load_ext autoreload\n",
    "%autoreload 2"
   ],
   "metadata": {
    "collapsed": false
   }
  },
  {
   "cell_type": "code",
   "execution_count": 18,
   "outputs": [],
   "source": [
    "import numpy as np\n",
    "import pandas as pd\n",
    "from matplotlib import pyplot as plt\n",
    "from pandas import DataFrame, Series\n",
    "from sklearn.preprocessing import RobustScaler, MinMaxScaler\n",
    "\n",
    "from datatools import extract_market_data, data_quantization\n",
    "from pipeline import Dataset\n",
    "from pipeline.backtest import evaluation_for_submission, cross_validation\n",
    "from visualization.metric import plot_performance\n",
    "\n",
    "import xarray as xr\n",
    "import seaborn as sns\n",
    "sns.set_theme(style=\"whitegrid\")"
   ],
   "metadata": {
    "collapsed": false
   }
  },
  {
   "cell_type": "code",
   "execution_count": 8,
   "outputs": [],
   "source": [
    "from qids_lib import QIDS\n",
    "\n",
    "# dataset = Dataset.load('../../data/parsed') # Deprecated\n",
    "qids = QIDS(path_prefix='../../')"
   ],
   "metadata": {
    "collapsed": false
   }
  },
  {
   "cell_type": "code",
   "execution_count": 12,
   "outputs": [],
   "source": [
    "base_ds = xr.open_dataset('../../data/nc/base.nc')\n",
    "market_brief_ds = xr.open_dataset('../../data/nc/market_brief.nc')\n",
    "ds = base_ds.merge(market_brief_ds)"
   ],
   "metadata": {
    "collapsed": false
   }
  },
  {
   "cell_type": "code",
   "execution_count": 14,
   "outputs": [
    {
     "data": {
      "text/plain": "Frozen({'day': 1000, 'asset': 54, 'timeslot': 50})"
     },
     "execution_count": 14,
     "metadata": {},
     "output_type": "execute_result"
    }
   ],
   "source": [
    "ds.dims"
   ],
   "metadata": {
    "collapsed": false
   }
  },
  {
   "cell_type": "code",
   "execution_count": 13,
   "outputs": [
    {
     "data": {
      "text/plain": "<xarray.Dataset>\nDimensions:            (day: 1000, asset: 54, timeslot: 50)\nCoordinates:\n  * day                (day) int32 1 2 3 4 5 6 7 ... 995 996 997 998 999 1000\n  * asset              (asset) int32 0 1 2 3 4 5 6 7 ... 46 47 48 49 50 51 52 53\n  * timeslot           (timeslot) int32 1 2 3 4 5 6 7 8 ... 44 45 46 47 48 49 50\nData variables: (12/22)\n    open               (day, asset, timeslot) float64 ...\n    close              (day, asset, timeslot) float64 ...\n    high               (day, asset, timeslot) float64 ...\n    low                (day, asset, timeslot) float64 ...\n    volume             (day, asset, timeslot) float64 ...\n    money              (day, asset, timeslot) float64 ...\n    ...                 ...\n    mean_volume        (day, asset) float64 ...\n    close_0            (day, asset) float64 ...\n    open_0             (day, asset) float64 ...\n    high_0             (day, asset) float64 ...\n    low_0              (day, asset) float64 ...\n    return_0           (day, asset) float64 ...",
      "text/html": "<div><svg style=\"position: absolute; width: 0; height: 0; overflow: hidden\">\n<defs>\n<symbol id=\"icon-database\" viewBox=\"0 0 32 32\">\n<path d=\"M16 0c-8.837 0-16 2.239-16 5v4c0 2.761 7.163 5 16 5s16-2.239 16-5v-4c0-2.761-7.163-5-16-5z\"></path>\n<path d=\"M16 17c-8.837 0-16-2.239-16-5v6c0 2.761 7.163 5 16 5s16-2.239 16-5v-6c0 2.761-7.163 5-16 5z\"></path>\n<path d=\"M16 26c-8.837 0-16-2.239-16-5v6c0 2.761 7.163 5 16 5s16-2.239 16-5v-6c0 2.761-7.163 5-16 5z\"></path>\n</symbol>\n<symbol id=\"icon-file-text2\" viewBox=\"0 0 32 32\">\n<path d=\"M28.681 7.159c-0.694-0.947-1.662-2.053-2.724-3.116s-2.169-2.030-3.116-2.724c-1.612-1.182-2.393-1.319-2.841-1.319h-15.5c-1.378 0-2.5 1.121-2.5 2.5v27c0 1.378 1.122 2.5 2.5 2.5h23c1.378 0 2.5-1.122 2.5-2.5v-19.5c0-0.448-0.137-1.23-1.319-2.841zM24.543 5.457c0.959 0.959 1.712 1.825 2.268 2.543h-4.811v-4.811c0.718 0.556 1.584 1.309 2.543 2.268zM28 29.5c0 0.271-0.229 0.5-0.5 0.5h-23c-0.271 0-0.5-0.229-0.5-0.5v-27c0-0.271 0.229-0.5 0.5-0.5 0 0 15.499-0 15.5 0v7c0 0.552 0.448 1 1 1h7v19.5z\"></path>\n<path d=\"M23 26h-14c-0.552 0-1-0.448-1-1s0.448-1 1-1h14c0.552 0 1 0.448 1 1s-0.448 1-1 1z\"></path>\n<path d=\"M23 22h-14c-0.552 0-1-0.448-1-1s0.448-1 1-1h14c0.552 0 1 0.448 1 1s-0.448 1-1 1z\"></path>\n<path d=\"M23 18h-14c-0.552 0-1-0.448-1-1s0.448-1 1-1h14c0.552 0 1 0.448 1 1s-0.448 1-1 1z\"></path>\n</symbol>\n</defs>\n</svg>\n<style>/* CSS stylesheet for displaying xarray objects in jupyterlab.\n *\n */\n\n:root {\n  --xr-font-color0: var(--jp-content-font-color0, rgba(0, 0, 0, 1));\n  --xr-font-color2: var(--jp-content-font-color2, rgba(0, 0, 0, 0.54));\n  --xr-font-color3: var(--jp-content-font-color3, rgba(0, 0, 0, 0.38));\n  --xr-border-color: var(--jp-border-color2, #e0e0e0);\n  --xr-disabled-color: var(--jp-layout-color3, #bdbdbd);\n  --xr-background-color: var(--jp-layout-color0, white);\n  --xr-background-color-row-even: var(--jp-layout-color1, white);\n  --xr-background-color-row-odd: var(--jp-layout-color2, #eeeeee);\n}\n\nhtml[theme=dark],\nbody[data-theme=dark],\nbody.vscode-dark {\n  --xr-font-color0: rgba(255, 255, 255, 1);\n  --xr-font-color2: rgba(255, 255, 255, 0.54);\n  --xr-font-color3: rgba(255, 255, 255, 0.38);\n  --xr-border-color: #1F1F1F;\n  --xr-disabled-color: #515151;\n  --xr-background-color: #111111;\n  --xr-background-color-row-even: #111111;\n  --xr-background-color-row-odd: #313131;\n}\n\n.xr-wrap {\n  display: block !important;\n  min-width: 300px;\n  max-width: 700px;\n}\n\n.xr-text-repr-fallback {\n  /* fallback to plain text repr when CSS is not injected (untrusted notebook) */\n  display: none;\n}\n\n.xr-header {\n  padding-top: 6px;\n  padding-bottom: 6px;\n  margin-bottom: 4px;\n  border-bottom: solid 1px var(--xr-border-color);\n}\n\n.xr-header > div,\n.xr-header > ul {\n  display: inline;\n  margin-top: 0;\n  margin-bottom: 0;\n}\n\n.xr-obj-type,\n.xr-array-name {\n  margin-left: 2px;\n  margin-right: 10px;\n}\n\n.xr-obj-type {\n  color: var(--xr-font-color2);\n}\n\n.xr-sections {\n  padding-left: 0 !important;\n  display: grid;\n  grid-template-columns: 150px auto auto 1fr 20px 20px;\n}\n\n.xr-section-item {\n  display: contents;\n}\n\n.xr-section-item input {\n  display: none;\n}\n\n.xr-section-item input + label {\n  color: var(--xr-disabled-color);\n}\n\n.xr-section-item input:enabled + label {\n  cursor: pointer;\n  color: var(--xr-font-color2);\n}\n\n.xr-section-item input:enabled + label:hover {\n  color: var(--xr-font-color0);\n}\n\n.xr-section-summary {\n  grid-column: 1;\n  color: var(--xr-font-color2);\n  font-weight: 500;\n}\n\n.xr-section-summary > span {\n  display: inline-block;\n  padding-left: 0.5em;\n}\n\n.xr-section-summary-in:disabled + label {\n  color: var(--xr-font-color2);\n}\n\n.xr-section-summary-in + label:before {\n  display: inline-block;\n  content: '►';\n  font-size: 11px;\n  width: 15px;\n  text-align: center;\n}\n\n.xr-section-summary-in:disabled + label:before {\n  color: var(--xr-disabled-color);\n}\n\n.xr-section-summary-in:checked + label:before {\n  content: '▼';\n}\n\n.xr-section-summary-in:checked + label > span {\n  display: none;\n}\n\n.xr-section-summary,\n.xr-section-inline-details {\n  padding-top: 4px;\n  padding-bottom: 4px;\n}\n\n.xr-section-inline-details {\n  grid-column: 2 / -1;\n}\n\n.xr-section-details {\n  display: none;\n  grid-column: 1 / -1;\n  margin-bottom: 5px;\n}\n\n.xr-section-summary-in:checked ~ .xr-section-details {\n  display: contents;\n}\n\n.xr-array-wrap {\n  grid-column: 1 / -1;\n  display: grid;\n  grid-template-columns: 20px auto;\n}\n\n.xr-array-wrap > label {\n  grid-column: 1;\n  vertical-align: top;\n}\n\n.xr-preview {\n  color: var(--xr-font-color3);\n}\n\n.xr-array-preview,\n.xr-array-data {\n  padding: 0 5px !important;\n  grid-column: 2;\n}\n\n.xr-array-data,\n.xr-array-in:checked ~ .xr-array-preview {\n  display: none;\n}\n\n.xr-array-in:checked ~ .xr-array-data,\n.xr-array-preview {\n  display: inline-block;\n}\n\n.xr-dim-list {\n  display: inline-block !important;\n  list-style: none;\n  padding: 0 !important;\n  margin: 0;\n}\n\n.xr-dim-list li {\n  display: inline-block;\n  padding: 0;\n  margin: 0;\n}\n\n.xr-dim-list:before {\n  content: '(';\n}\n\n.xr-dim-list:after {\n  content: ')';\n}\n\n.xr-dim-list li:not(:last-child):after {\n  content: ',';\n  padding-right: 5px;\n}\n\n.xr-has-index {\n  font-weight: bold;\n}\n\n.xr-var-list,\n.xr-var-item {\n  display: contents;\n}\n\n.xr-var-item > div,\n.xr-var-item label,\n.xr-var-item > .xr-var-name span {\n  background-color: var(--xr-background-color-row-even);\n  margin-bottom: 0;\n}\n\n.xr-var-item > .xr-var-name:hover span {\n  padding-right: 5px;\n}\n\n.xr-var-list > li:nth-child(odd) > div,\n.xr-var-list > li:nth-child(odd) > label,\n.xr-var-list > li:nth-child(odd) > .xr-var-name span {\n  background-color: var(--xr-background-color-row-odd);\n}\n\n.xr-var-name {\n  grid-column: 1;\n}\n\n.xr-var-dims {\n  grid-column: 2;\n}\n\n.xr-var-dtype {\n  grid-column: 3;\n  text-align: right;\n  color: var(--xr-font-color2);\n}\n\n.xr-var-preview {\n  grid-column: 4;\n}\n\n.xr-index-preview {\n  grid-column: 2 / 5;\n  color: var(--xr-font-color2);\n}\n\n.xr-var-name,\n.xr-var-dims,\n.xr-var-dtype,\n.xr-preview,\n.xr-attrs dt {\n  white-space: nowrap;\n  overflow: hidden;\n  text-overflow: ellipsis;\n  padding-right: 10px;\n}\n\n.xr-var-name:hover,\n.xr-var-dims:hover,\n.xr-var-dtype:hover,\n.xr-attrs dt:hover {\n  overflow: visible;\n  width: auto;\n  z-index: 1;\n}\n\n.xr-var-attrs,\n.xr-var-data,\n.xr-index-data {\n  display: none;\n  background-color: var(--xr-background-color) !important;\n  padding-bottom: 5px !important;\n}\n\n.xr-var-attrs-in:checked ~ .xr-var-attrs,\n.xr-var-data-in:checked ~ .xr-var-data,\n.xr-index-data-in:checked ~ .xr-index-data {\n  display: block;\n}\n\n.xr-var-data > table {\n  float: right;\n}\n\n.xr-var-name span,\n.xr-var-data,\n.xr-index-name div,\n.xr-index-data,\n.xr-attrs {\n  padding-left: 25px !important;\n}\n\n.xr-attrs,\n.xr-var-attrs,\n.xr-var-data,\n.xr-index-data {\n  grid-column: 1 / -1;\n}\n\ndl.xr-attrs {\n  padding: 0;\n  margin: 0;\n  display: grid;\n  grid-template-columns: 125px auto;\n}\n\n.xr-attrs dt,\n.xr-attrs dd {\n  padding: 0;\n  margin: 0;\n  float: left;\n  padding-right: 10px;\n  width: auto;\n}\n\n.xr-attrs dt {\n  font-weight: normal;\n  grid-column: 1;\n}\n\n.xr-attrs dt:hover span {\n  display: inline-block;\n  background: var(--xr-background-color);\n  padding-right: 10px;\n}\n\n.xr-attrs dd {\n  grid-column: 2;\n  white-space: pre-wrap;\n  word-break: break-all;\n}\n\n.xr-icon-database,\n.xr-icon-file-text2,\n.xr-no-icon {\n  display: inline-block;\n  vertical-align: middle;\n  width: 1em;\n  height: 1.5em !important;\n  stroke-width: 0;\n  stroke: currentColor;\n  fill: currentColor;\n}\n</style><pre class='xr-text-repr-fallback'>&lt;xarray.Dataset&gt;\nDimensions:            (day: 1000, asset: 54, timeslot: 50)\nCoordinates:\n  * day                (day) int32 1 2 3 4 5 6 7 ... 995 996 997 998 999 1000\n  * asset              (asset) int32 0 1 2 3 4 5 6 7 ... 46 47 48 49 50 51 52 53\n  * timeslot           (timeslot) int32 1 2 3 4 5 6 7 8 ... 44 45 46 47 48 49 50\nData variables: (12/22)\n    open               (day, asset, timeslot) float64 ...\n    close              (day, asset, timeslot) float64 ...\n    high               (day, asset, timeslot) float64 ...\n    low                (day, asset, timeslot) float64 ...\n    volume             (day, asset, timeslot) float64 ...\n    money              (day, asset, timeslot) float64 ...\n    ...                 ...\n    mean_volume        (day, asset) float64 ...\n    close_0            (day, asset) float64 ...\n    open_0             (day, asset) float64 ...\n    high_0             (day, asset) float64 ...\n    low_0              (day, asset) float64 ...\n    return_0           (day, asset) float64 ...</pre><div class='xr-wrap' style='display:none'><div class='xr-header'><div class='xr-obj-type'>xarray.Dataset</div></div><ul class='xr-sections'><li class='xr-section-item'><input id='section-0aedc99a-a79a-4976-9b91-3a347951e6b5' class='xr-section-summary-in' type='checkbox' disabled ><label for='section-0aedc99a-a79a-4976-9b91-3a347951e6b5' class='xr-section-summary'  title='Expand/collapse section'>Dimensions:</label><div class='xr-section-inline-details'><ul class='xr-dim-list'><li><span class='xr-has-index'>day</span>: 1000</li><li><span class='xr-has-index'>asset</span>: 54</li><li><span class='xr-has-index'>timeslot</span>: 50</li></ul></div><div class='xr-section-details'></div></li><li class='xr-section-item'><input id='section-b03e8380-72a4-4e57-b60d-e5b9b006d72b' class='xr-section-summary-in' type='checkbox'  checked><label for='section-b03e8380-72a4-4e57-b60d-e5b9b006d72b' class='xr-section-summary' >Coordinates: <span>(3)</span></label><div class='xr-section-inline-details'></div><div class='xr-section-details'><ul class='xr-var-list'><li class='xr-var-item'><div class='xr-var-name'><span class='xr-has-index'>day</span></div><div class='xr-var-dims'>(day)</div><div class='xr-var-dtype'>int32</div><div class='xr-var-preview xr-preview'>1 2 3 4 5 ... 996 997 998 999 1000</div><input id='attrs-d69d710e-2ae4-46fd-844c-93631e6e7c9d' class='xr-var-attrs-in' type='checkbox' disabled><label for='attrs-d69d710e-2ae4-46fd-844c-93631e6e7c9d' title='Show/Hide attributes'><svg class='icon xr-icon-file-text2'><use xlink:href='#icon-file-text2'></use></svg></label><input id='data-36575318-de68-4a2f-b821-823b036ce319' class='xr-var-data-in' type='checkbox'><label for='data-36575318-de68-4a2f-b821-823b036ce319' title='Show/Hide data repr'><svg class='icon xr-icon-database'><use xlink:href='#icon-database'></use></svg></label><div class='xr-var-attrs'><dl class='xr-attrs'></dl></div><div class='xr-var-data'><pre>array([   1,    2,    3, ...,  998,  999, 1000], dtype=int32)</pre></div></li><li class='xr-var-item'><div class='xr-var-name'><span class='xr-has-index'>asset</span></div><div class='xr-var-dims'>(asset)</div><div class='xr-var-dtype'>int32</div><div class='xr-var-preview xr-preview'>0 1 2 3 4 5 6 ... 48 49 50 51 52 53</div><input id='attrs-1232629d-edc1-4e98-869d-0d8c5307296f' class='xr-var-attrs-in' type='checkbox' disabled><label for='attrs-1232629d-edc1-4e98-869d-0d8c5307296f' title='Show/Hide attributes'><svg class='icon xr-icon-file-text2'><use xlink:href='#icon-file-text2'></use></svg></label><input id='data-e8412c2e-9186-45e0-825a-189761c86a12' class='xr-var-data-in' type='checkbox'><label for='data-e8412c2e-9186-45e0-825a-189761c86a12' title='Show/Hide data repr'><svg class='icon xr-icon-database'><use xlink:href='#icon-database'></use></svg></label><div class='xr-var-attrs'><dl class='xr-attrs'></dl></div><div class='xr-var-data'><pre>array([ 0,  1,  2,  3,  4,  5,  6,  7,  8,  9, 10, 11, 12, 13, 14, 15, 16, 17,\n       18, 19, 20, 21, 22, 23, 24, 25, 26, 27, 28, 29, 30, 31, 32, 33, 34, 35,\n       36, 37, 38, 39, 40, 41, 42, 43, 44, 45, 46, 47, 48, 49, 50, 51, 52, 53],\n      dtype=int32)</pre></div></li><li class='xr-var-item'><div class='xr-var-name'><span class='xr-has-index'>timeslot</span></div><div class='xr-var-dims'>(timeslot)</div><div class='xr-var-dtype'>int32</div><div class='xr-var-preview xr-preview'>1 2 3 4 5 6 7 ... 45 46 47 48 49 50</div><input id='attrs-75f915d9-6b09-424f-a65d-3c3da95e79ec' class='xr-var-attrs-in' type='checkbox' disabled><label for='attrs-75f915d9-6b09-424f-a65d-3c3da95e79ec' title='Show/Hide attributes'><svg class='icon xr-icon-file-text2'><use xlink:href='#icon-file-text2'></use></svg></label><input id='data-71b8fdba-926f-437c-b92f-b9313a13562c' class='xr-var-data-in' type='checkbox'><label for='data-71b8fdba-926f-437c-b92f-b9313a13562c' title='Show/Hide data repr'><svg class='icon xr-icon-database'><use xlink:href='#icon-database'></use></svg></label><div class='xr-var-attrs'><dl class='xr-attrs'></dl></div><div class='xr-var-data'><pre>array([ 1,  2,  3,  4,  5,  6,  7,  8,  9, 10, 11, 12, 13, 14, 15, 16, 17, 18,\n       19, 20, 21, 22, 23, 24, 25, 26, 27, 28, 29, 30, 31, 32, 33, 34, 35, 36,\n       37, 38, 39, 40, 41, 42, 43, 44, 45, 46, 47, 48, 49, 50], dtype=int32)</pre></div></li></ul></div></li><li class='xr-section-item'><input id='section-f1edc524-a076-49d6-9547-ab792ecc7b3d' class='xr-section-summary-in' type='checkbox'  ><label for='section-f1edc524-a076-49d6-9547-ab792ecc7b3d' class='xr-section-summary' >Data variables: <span>(22)</span></label><div class='xr-section-inline-details'></div><div class='xr-section-details'><ul class='xr-var-list'><li class='xr-var-item'><div class='xr-var-name'><span>open</span></div><div class='xr-var-dims'>(day, asset, timeslot)</div><div class='xr-var-dtype'>float64</div><div class='xr-var-preview xr-preview'>...</div><input id='attrs-29ddf1aa-4e6f-4f59-87ed-bf722a2868d6' class='xr-var-attrs-in' type='checkbox' disabled><label for='attrs-29ddf1aa-4e6f-4f59-87ed-bf722a2868d6' title='Show/Hide attributes'><svg class='icon xr-icon-file-text2'><use xlink:href='#icon-file-text2'></use></svg></label><input id='data-3529c95a-8785-4fa2-af52-2c13e72fb782' class='xr-var-data-in' type='checkbox'><label for='data-3529c95a-8785-4fa2-af52-2c13e72fb782' title='Show/Hide data repr'><svg class='icon xr-icon-database'><use xlink:href='#icon-database'></use></svg></label><div class='xr-var-attrs'><dl class='xr-attrs'></dl></div><div class='xr-var-data'><pre>[2700000 values with dtype=float64]</pre></div></li><li class='xr-var-item'><div class='xr-var-name'><span>close</span></div><div class='xr-var-dims'>(day, asset, timeslot)</div><div class='xr-var-dtype'>float64</div><div class='xr-var-preview xr-preview'>...</div><input id='attrs-04acf5d5-962a-4a49-ab2c-9644a9b027bf' class='xr-var-attrs-in' type='checkbox' disabled><label for='attrs-04acf5d5-962a-4a49-ab2c-9644a9b027bf' title='Show/Hide attributes'><svg class='icon xr-icon-file-text2'><use xlink:href='#icon-file-text2'></use></svg></label><input id='data-449b320e-550d-457f-8a25-9f120098b0a1' class='xr-var-data-in' type='checkbox'><label for='data-449b320e-550d-457f-8a25-9f120098b0a1' title='Show/Hide data repr'><svg class='icon xr-icon-database'><use xlink:href='#icon-database'></use></svg></label><div class='xr-var-attrs'><dl class='xr-attrs'></dl></div><div class='xr-var-data'><pre>[2700000 values with dtype=float64]</pre></div></li><li class='xr-var-item'><div class='xr-var-name'><span>high</span></div><div class='xr-var-dims'>(day, asset, timeslot)</div><div class='xr-var-dtype'>float64</div><div class='xr-var-preview xr-preview'>...</div><input id='attrs-c52f4a69-4fd9-4389-94dd-6ed494757430' class='xr-var-attrs-in' type='checkbox' disabled><label for='attrs-c52f4a69-4fd9-4389-94dd-6ed494757430' title='Show/Hide attributes'><svg class='icon xr-icon-file-text2'><use xlink:href='#icon-file-text2'></use></svg></label><input id='data-d42d0e81-1514-41e7-a2b9-11dbef943056' class='xr-var-data-in' type='checkbox'><label for='data-d42d0e81-1514-41e7-a2b9-11dbef943056' title='Show/Hide data repr'><svg class='icon xr-icon-database'><use xlink:href='#icon-database'></use></svg></label><div class='xr-var-attrs'><dl class='xr-attrs'></dl></div><div class='xr-var-data'><pre>[2700000 values with dtype=float64]</pre></div></li><li class='xr-var-item'><div class='xr-var-name'><span>low</span></div><div class='xr-var-dims'>(day, asset, timeslot)</div><div class='xr-var-dtype'>float64</div><div class='xr-var-preview xr-preview'>...</div><input id='attrs-267d9753-a91c-4041-9537-5f4adbbf79fa' class='xr-var-attrs-in' type='checkbox' disabled><label for='attrs-267d9753-a91c-4041-9537-5f4adbbf79fa' title='Show/Hide attributes'><svg class='icon xr-icon-file-text2'><use xlink:href='#icon-file-text2'></use></svg></label><input id='data-75130973-b5f5-4e1c-8f94-f6598982972f' class='xr-var-data-in' type='checkbox'><label for='data-75130973-b5f5-4e1c-8f94-f6598982972f' title='Show/Hide data repr'><svg class='icon xr-icon-database'><use xlink:href='#icon-database'></use></svg></label><div class='xr-var-attrs'><dl class='xr-attrs'></dl></div><div class='xr-var-data'><pre>[2700000 values with dtype=float64]</pre></div></li><li class='xr-var-item'><div class='xr-var-name'><span>volume</span></div><div class='xr-var-dims'>(day, asset, timeslot)</div><div class='xr-var-dtype'>float64</div><div class='xr-var-preview xr-preview'>...</div><input id='attrs-7788dfe3-9080-46ce-93a2-896ec5293c3c' class='xr-var-attrs-in' type='checkbox' disabled><label for='attrs-7788dfe3-9080-46ce-93a2-896ec5293c3c' title='Show/Hide attributes'><svg class='icon xr-icon-file-text2'><use xlink:href='#icon-file-text2'></use></svg></label><input id='data-a6c5b25a-b82f-4b18-b9af-398d2aa93280' class='xr-var-data-in' type='checkbox'><label for='data-a6c5b25a-b82f-4b18-b9af-398d2aa93280' title='Show/Hide data repr'><svg class='icon xr-icon-database'><use xlink:href='#icon-database'></use></svg></label><div class='xr-var-attrs'><dl class='xr-attrs'></dl></div><div class='xr-var-data'><pre>[2700000 values with dtype=float64]</pre></div></li><li class='xr-var-item'><div class='xr-var-name'><span>money</span></div><div class='xr-var-dims'>(day, asset, timeslot)</div><div class='xr-var-dtype'>float64</div><div class='xr-var-preview xr-preview'>...</div><input id='attrs-e7ec8644-e948-4efd-8d42-cd826467c839' class='xr-var-attrs-in' type='checkbox' disabled><label for='attrs-e7ec8644-e948-4efd-8d42-cd826467c839' title='Show/Hide attributes'><svg class='icon xr-icon-file-text2'><use xlink:href='#icon-file-text2'></use></svg></label><input id='data-e5a46164-4be4-4ee5-9b12-86f351cff00a' class='xr-var-data-in' type='checkbox'><label for='data-e5a46164-4be4-4ee5-9b12-86f351cff00a' title='Show/Hide data repr'><svg class='icon xr-icon-database'><use xlink:href='#icon-database'></use></svg></label><div class='xr-var-attrs'><dl class='xr-attrs'></dl></div><div class='xr-var-data'><pre>[2700000 values with dtype=float64]</pre></div></li><li class='xr-var-item'><div class='xr-var-name'><span>turnoverRatio</span></div><div class='xr-var-dims'>(day, asset)</div><div class='xr-var-dtype'>float64</div><div class='xr-var-preview xr-preview'>...</div><input id='attrs-652ad728-f025-4890-97a7-2a3514f0101d' class='xr-var-attrs-in' type='checkbox' disabled><label for='attrs-652ad728-f025-4890-97a7-2a3514f0101d' title='Show/Hide attributes'><svg class='icon xr-icon-file-text2'><use xlink:href='#icon-file-text2'></use></svg></label><input id='data-da5117c9-226b-4d85-828f-4c253d109751' class='xr-var-data-in' type='checkbox'><label for='data-da5117c9-226b-4d85-828f-4c253d109751' title='Show/Hide data repr'><svg class='icon xr-icon-database'><use xlink:href='#icon-database'></use></svg></label><div class='xr-var-attrs'><dl class='xr-attrs'></dl></div><div class='xr-var-data'><pre>[54000 values with dtype=float64]</pre></div></li><li class='xr-var-item'><div class='xr-var-name'><span>transactionAmount</span></div><div class='xr-var-dims'>(day, asset)</div><div class='xr-var-dtype'>float64</div><div class='xr-var-preview xr-preview'>...</div><input id='attrs-761001fa-46b5-49a0-b64a-f578f456d082' class='xr-var-attrs-in' type='checkbox' disabled><label for='attrs-761001fa-46b5-49a0-b64a-f578f456d082' title='Show/Hide attributes'><svg class='icon xr-icon-file-text2'><use xlink:href='#icon-file-text2'></use></svg></label><input id='data-973c4dc7-99df-4314-a04b-f8e7d4a3f01c' class='xr-var-data-in' type='checkbox'><label for='data-973c4dc7-99df-4314-a04b-f8e7d4a3f01c' title='Show/Hide data repr'><svg class='icon xr-icon-database'><use xlink:href='#icon-database'></use></svg></label><div class='xr-var-attrs'><dl class='xr-attrs'></dl></div><div class='xr-var-data'><pre>[54000 values with dtype=float64]</pre></div></li><li class='xr-var-item'><div class='xr-var-name'><span>pe_ttm</span></div><div class='xr-var-dims'>(day, asset)</div><div class='xr-var-dtype'>float64</div><div class='xr-var-preview xr-preview'>...</div><input id='attrs-d71c82d5-3c08-4532-89cd-2b4a25581d9f' class='xr-var-attrs-in' type='checkbox' disabled><label for='attrs-d71c82d5-3c08-4532-89cd-2b4a25581d9f' title='Show/Hide attributes'><svg class='icon xr-icon-file-text2'><use xlink:href='#icon-file-text2'></use></svg></label><input id='data-7fec6204-0c8d-4497-9b6b-d2578c714e3c' class='xr-var-data-in' type='checkbox'><label for='data-7fec6204-0c8d-4497-9b6b-d2578c714e3c' title='Show/Hide data repr'><svg class='icon xr-icon-database'><use xlink:href='#icon-database'></use></svg></label><div class='xr-var-attrs'><dl class='xr-attrs'></dl></div><div class='xr-var-data'><pre>[54000 values with dtype=float64]</pre></div></li><li class='xr-var-item'><div class='xr-var-name'><span>pe</span></div><div class='xr-var-dims'>(day, asset)</div><div class='xr-var-dtype'>float64</div><div class='xr-var-preview xr-preview'>...</div><input id='attrs-af52e469-38e5-4f5b-ae63-358a1359f41d' class='xr-var-attrs-in' type='checkbox' disabled><label for='attrs-af52e469-38e5-4f5b-ae63-358a1359f41d' title='Show/Hide attributes'><svg class='icon xr-icon-file-text2'><use xlink:href='#icon-file-text2'></use></svg></label><input id='data-7ffba953-c098-49d2-a533-798883f05a56' class='xr-var-data-in' type='checkbox'><label for='data-7ffba953-c098-49d2-a533-798883f05a56' title='Show/Hide data repr'><svg class='icon xr-icon-database'><use xlink:href='#icon-database'></use></svg></label><div class='xr-var-attrs'><dl class='xr-attrs'></dl></div><div class='xr-var-data'><pre>[54000 values with dtype=float64]</pre></div></li><li class='xr-var-item'><div class='xr-var-name'><span>pb</span></div><div class='xr-var-dims'>(day, asset)</div><div class='xr-var-dtype'>float64</div><div class='xr-var-preview xr-preview'>...</div><input id='attrs-addb33b0-3119-4dd5-a29d-108b25a0b420' class='xr-var-attrs-in' type='checkbox' disabled><label for='attrs-addb33b0-3119-4dd5-a29d-108b25a0b420' title='Show/Hide attributes'><svg class='icon xr-icon-file-text2'><use xlink:href='#icon-file-text2'></use></svg></label><input id='data-a9d5fe91-ebb3-49be-8c0c-f393fa4adb2f' class='xr-var-data-in' type='checkbox'><label for='data-a9d5fe91-ebb3-49be-8c0c-f393fa4adb2f' title='Show/Hide data repr'><svg class='icon xr-icon-database'><use xlink:href='#icon-database'></use></svg></label><div class='xr-var-attrs'><dl class='xr-attrs'></dl></div><div class='xr-var-data'><pre>[54000 values with dtype=float64]</pre></div></li><li class='xr-var-item'><div class='xr-var-name'><span>ps</span></div><div class='xr-var-dims'>(day, asset)</div><div class='xr-var-dtype'>float64</div><div class='xr-var-preview xr-preview'>...</div><input id='attrs-52ed7a46-996f-4b94-ab45-f3d343812c9d' class='xr-var-attrs-in' type='checkbox' disabled><label for='attrs-52ed7a46-996f-4b94-ab45-f3d343812c9d' title='Show/Hide attributes'><svg class='icon xr-icon-file-text2'><use xlink:href='#icon-file-text2'></use></svg></label><input id='data-16dc839e-f87c-41c7-a305-c17231bcac45' class='xr-var-data-in' type='checkbox'><label for='data-16dc839e-f87c-41c7-a305-c17231bcac45' title='Show/Hide data repr'><svg class='icon xr-icon-database'><use xlink:href='#icon-database'></use></svg></label><div class='xr-var-attrs'><dl class='xr-attrs'></dl></div><div class='xr-var-data'><pre>[54000 values with dtype=float64]</pre></div></li><li class='xr-var-item'><div class='xr-var-name'><span>pcf</span></div><div class='xr-var-dims'>(day, asset)</div><div class='xr-var-dtype'>float64</div><div class='xr-var-preview xr-preview'>...</div><input id='attrs-39f5d5d3-d78b-4cd6-b426-0c8a14a051ed' class='xr-var-attrs-in' type='checkbox' disabled><label for='attrs-39f5d5d3-d78b-4cd6-b426-0c8a14a051ed' title='Show/Hide attributes'><svg class='icon xr-icon-file-text2'><use xlink:href='#icon-file-text2'></use></svg></label><input id='data-4f5e8ed3-36fc-4f75-95aa-8afe9583571e' class='xr-var-data-in' type='checkbox'><label for='data-4f5e8ed3-36fc-4f75-95aa-8afe9583571e' title='Show/Hide data repr'><svg class='icon xr-icon-database'><use xlink:href='#icon-database'></use></svg></label><div class='xr-var-attrs'><dl class='xr-attrs'></dl></div><div class='xr-var-data'><pre>[54000 values with dtype=float64]</pre></div></li><li class='xr-var-item'><div class='xr-var-name'><span>return</span></div><div class='xr-var-dims'>(day, asset)</div><div class='xr-var-dtype'>float64</div><div class='xr-var-preview xr-preview'>...</div><input id='attrs-657788c9-82d9-45c5-8db3-f562f0f7990f' class='xr-var-attrs-in' type='checkbox' disabled><label for='attrs-657788c9-82d9-45c5-8db3-f562f0f7990f' title='Show/Hide attributes'><svg class='icon xr-icon-file-text2'><use xlink:href='#icon-file-text2'></use></svg></label><input id='data-59d7eb9c-caa4-459f-8790-d0b7483fb284' class='xr-var-data-in' type='checkbox'><label for='data-59d7eb9c-caa4-459f-8790-d0b7483fb284' title='Show/Hide data repr'><svg class='icon xr-icon-database'><use xlink:href='#icon-database'></use></svg></label><div class='xr-var-attrs'><dl class='xr-attrs'></dl></div><div class='xr-var-data'><pre>[54000 values with dtype=float64]</pre></div></li><li class='xr-var-item'><div class='xr-var-name'><span>avg_price</span></div><div class='xr-var-dims'>(day, asset)</div><div class='xr-var-dtype'>float64</div><div class='xr-var-preview xr-preview'>...</div><input id='attrs-47699682-af44-462e-b1a4-02586711df00' class='xr-var-attrs-in' type='checkbox' disabled><label for='attrs-47699682-af44-462e-b1a4-02586711df00' title='Show/Hide attributes'><svg class='icon xr-icon-file-text2'><use xlink:href='#icon-file-text2'></use></svg></label><input id='data-8b181ed0-27b3-4777-a36f-dfb8a5dfbf6e' class='xr-var-data-in' type='checkbox'><label for='data-8b181ed0-27b3-4777-a36f-dfb8a5dfbf6e' title='Show/Hide data repr'><svg class='icon xr-icon-database'><use xlink:href='#icon-database'></use></svg></label><div class='xr-var-attrs'><dl class='xr-attrs'></dl></div><div class='xr-var-data'><pre>[54000 values with dtype=float64]</pre></div></li><li class='xr-var-item'><div class='xr-var-name'><span>volatility</span></div><div class='xr-var-dims'>(day, asset)</div><div class='xr-var-dtype'>float64</div><div class='xr-var-preview xr-preview'>...</div><input id='attrs-c67f93d1-557e-4523-8095-d387ae814895' class='xr-var-attrs-in' type='checkbox' disabled><label for='attrs-c67f93d1-557e-4523-8095-d387ae814895' title='Show/Hide attributes'><svg class='icon xr-icon-file-text2'><use xlink:href='#icon-file-text2'></use></svg></label><input id='data-3cda340d-bba3-4acc-8784-07ccc8dedc58' class='xr-var-data-in' type='checkbox'><label for='data-3cda340d-bba3-4acc-8784-07ccc8dedc58' title='Show/Hide data repr'><svg class='icon xr-icon-database'><use xlink:href='#icon-database'></use></svg></label><div class='xr-var-attrs'><dl class='xr-attrs'></dl></div><div class='xr-var-data'><pre>[54000 values with dtype=float64]</pre></div></li><li class='xr-var-item'><div class='xr-var-name'><span>mean_volume</span></div><div class='xr-var-dims'>(day, asset)</div><div class='xr-var-dtype'>float64</div><div class='xr-var-preview xr-preview'>...</div><input id='attrs-99806c9a-bee7-42be-92ad-615453dddff7' class='xr-var-attrs-in' type='checkbox' disabled><label for='attrs-99806c9a-bee7-42be-92ad-615453dddff7' title='Show/Hide attributes'><svg class='icon xr-icon-file-text2'><use xlink:href='#icon-file-text2'></use></svg></label><input id='data-04ad1e43-ff24-49eb-bc1f-e7561ccf42ae' class='xr-var-data-in' type='checkbox'><label for='data-04ad1e43-ff24-49eb-bc1f-e7561ccf42ae' title='Show/Hide data repr'><svg class='icon xr-icon-database'><use xlink:href='#icon-database'></use></svg></label><div class='xr-var-attrs'><dl class='xr-attrs'></dl></div><div class='xr-var-data'><pre>[54000 values with dtype=float64]</pre></div></li><li class='xr-var-item'><div class='xr-var-name'><span>close_0</span></div><div class='xr-var-dims'>(day, asset)</div><div class='xr-var-dtype'>float64</div><div class='xr-var-preview xr-preview'>...</div><input id='attrs-052f0cb1-76e1-4248-9ca9-8fe08a09a171' class='xr-var-attrs-in' type='checkbox' disabled><label for='attrs-052f0cb1-76e1-4248-9ca9-8fe08a09a171' title='Show/Hide attributes'><svg class='icon xr-icon-file-text2'><use xlink:href='#icon-file-text2'></use></svg></label><input id='data-08713a60-981d-42a6-b888-67a24bdbe2b4' class='xr-var-data-in' type='checkbox'><label for='data-08713a60-981d-42a6-b888-67a24bdbe2b4' title='Show/Hide data repr'><svg class='icon xr-icon-database'><use xlink:href='#icon-database'></use></svg></label><div class='xr-var-attrs'><dl class='xr-attrs'></dl></div><div class='xr-var-data'><pre>[54000 values with dtype=float64]</pre></div></li><li class='xr-var-item'><div class='xr-var-name'><span>open_0</span></div><div class='xr-var-dims'>(day, asset)</div><div class='xr-var-dtype'>float64</div><div class='xr-var-preview xr-preview'>...</div><input id='attrs-7ba4c67b-5a31-4b0d-9306-17f7be80bc6d' class='xr-var-attrs-in' type='checkbox' disabled><label for='attrs-7ba4c67b-5a31-4b0d-9306-17f7be80bc6d' title='Show/Hide attributes'><svg class='icon xr-icon-file-text2'><use xlink:href='#icon-file-text2'></use></svg></label><input id='data-6f58f6a5-515f-4eaf-9835-cc2bcb43bf21' class='xr-var-data-in' type='checkbox'><label for='data-6f58f6a5-515f-4eaf-9835-cc2bcb43bf21' title='Show/Hide data repr'><svg class='icon xr-icon-database'><use xlink:href='#icon-database'></use></svg></label><div class='xr-var-attrs'><dl class='xr-attrs'></dl></div><div class='xr-var-data'><pre>[54000 values with dtype=float64]</pre></div></li><li class='xr-var-item'><div class='xr-var-name'><span>high_0</span></div><div class='xr-var-dims'>(day, asset)</div><div class='xr-var-dtype'>float64</div><div class='xr-var-preview xr-preview'>...</div><input id='attrs-92b3ccaa-38b4-43ee-b4ec-122b8386dca9' class='xr-var-attrs-in' type='checkbox' disabled><label for='attrs-92b3ccaa-38b4-43ee-b4ec-122b8386dca9' title='Show/Hide attributes'><svg class='icon xr-icon-file-text2'><use xlink:href='#icon-file-text2'></use></svg></label><input id='data-60039fda-3054-431d-bfc8-9637f0f544c8' class='xr-var-data-in' type='checkbox'><label for='data-60039fda-3054-431d-bfc8-9637f0f544c8' title='Show/Hide data repr'><svg class='icon xr-icon-database'><use xlink:href='#icon-database'></use></svg></label><div class='xr-var-attrs'><dl class='xr-attrs'></dl></div><div class='xr-var-data'><pre>[54000 values with dtype=float64]</pre></div></li><li class='xr-var-item'><div class='xr-var-name'><span>low_0</span></div><div class='xr-var-dims'>(day, asset)</div><div class='xr-var-dtype'>float64</div><div class='xr-var-preview xr-preview'>...</div><input id='attrs-59c7145c-8d87-4855-a7db-57b717d088a4' class='xr-var-attrs-in' type='checkbox' disabled><label for='attrs-59c7145c-8d87-4855-a7db-57b717d088a4' title='Show/Hide attributes'><svg class='icon xr-icon-file-text2'><use xlink:href='#icon-file-text2'></use></svg></label><input id='data-2ab95f34-9866-4dca-bc84-77af9d1321a2' class='xr-var-data-in' type='checkbox'><label for='data-2ab95f34-9866-4dca-bc84-77af9d1321a2' title='Show/Hide data repr'><svg class='icon xr-icon-database'><use xlink:href='#icon-database'></use></svg></label><div class='xr-var-attrs'><dl class='xr-attrs'></dl></div><div class='xr-var-data'><pre>[54000 values with dtype=float64]</pre></div></li><li class='xr-var-item'><div class='xr-var-name'><span>return_0</span></div><div class='xr-var-dims'>(day, asset)</div><div class='xr-var-dtype'>float64</div><div class='xr-var-preview xr-preview'>...</div><input id='attrs-55c8371b-5d80-409d-9885-767ade172b7e' class='xr-var-attrs-in' type='checkbox' disabled><label for='attrs-55c8371b-5d80-409d-9885-767ade172b7e' title='Show/Hide attributes'><svg class='icon xr-icon-file-text2'><use xlink:href='#icon-file-text2'></use></svg></label><input id='data-93203af3-9044-4e0d-aa8b-818ee8a4446b' class='xr-var-data-in' type='checkbox'><label for='data-93203af3-9044-4e0d-aa8b-818ee8a4446b' title='Show/Hide data repr'><svg class='icon xr-icon-database'><use xlink:href='#icon-database'></use></svg></label><div class='xr-var-attrs'><dl class='xr-attrs'></dl></div><div class='xr-var-data'><pre>[54000 values with dtype=float64]</pre></div></li></ul></div></li><li class='xr-section-item'><input id='section-ac987f07-ed61-4b01-9f6d-b5d48a2f761a' class='xr-section-summary-in' type='checkbox'  ><label for='section-ac987f07-ed61-4b01-9f6d-b5d48a2f761a' class='xr-section-summary' >Indexes: <span>(3)</span></label><div class='xr-section-inline-details'></div><div class='xr-section-details'><ul class='xr-var-list'><li class='xr-var-item'><div class='xr-index-name'><div>day</div></div><div class='xr-index-preview'>PandasIndex</div><div></div><input id='index-bbdcd157-1fa7-4f59-acf8-c0e60ae1b57a' class='xr-index-data-in' type='checkbox'/><label for='index-bbdcd157-1fa7-4f59-acf8-c0e60ae1b57a' title='Show/Hide index repr'><svg class='icon xr-icon-database'><use xlink:href='#icon-database'></use></svg></label><div class='xr-index-data'><pre>PandasIndex(Int64Index([   1,    2,    3,    4,    5,    6,    7,    8,    9,   10,\n            ...\n             991,  992,  993,  994,  995,  996,  997,  998,  999, 1000],\n           dtype=&#x27;int64&#x27;, name=&#x27;day&#x27;, length=1000))</pre></div></li><li class='xr-var-item'><div class='xr-index-name'><div>asset</div></div><div class='xr-index-preview'>PandasIndex</div><div></div><input id='index-9e95cb17-7e0b-4cc4-91c0-eb1da9cd9ced' class='xr-index-data-in' type='checkbox'/><label for='index-9e95cb17-7e0b-4cc4-91c0-eb1da9cd9ced' title='Show/Hide index repr'><svg class='icon xr-icon-database'><use xlink:href='#icon-database'></use></svg></label><div class='xr-index-data'><pre>PandasIndex(Int64Index([ 0,  1,  2,  3,  4,  5,  6,  7,  8,  9, 10, 11, 12, 13, 14, 15, 16,\n            17, 18, 19, 20, 21, 22, 23, 24, 25, 26, 27, 28, 29, 30, 31, 32, 33,\n            34, 35, 36, 37, 38, 39, 40, 41, 42, 43, 44, 45, 46, 47, 48, 49, 50,\n            51, 52, 53],\n           dtype=&#x27;int64&#x27;, name=&#x27;asset&#x27;))</pre></div></li><li class='xr-var-item'><div class='xr-index-name'><div>timeslot</div></div><div class='xr-index-preview'>PandasIndex</div><div></div><input id='index-95bbfe84-86f5-4d3b-a0f0-ec33605d043c' class='xr-index-data-in' type='checkbox'/><label for='index-95bbfe84-86f5-4d3b-a0f0-ec33605d043c' title='Show/Hide index repr'><svg class='icon xr-icon-database'><use xlink:href='#icon-database'></use></svg></label><div class='xr-index-data'><pre>PandasIndex(Int64Index([ 1,  2,  3,  4,  5,  6,  7,  8,  9, 10, 11, 12, 13, 14, 15, 16, 17,\n            18, 19, 20, 21, 22, 23, 24, 25, 26, 27, 28, 29, 30, 31, 32, 33, 34,\n            35, 36, 37, 38, 39, 40, 41, 42, 43, 44, 45, 46, 47, 48, 49, 50],\n           dtype=&#x27;int64&#x27;, name=&#x27;timeslot&#x27;))</pre></div></li></ul></div></li><li class='xr-section-item'><input id='section-2d17321d-00ec-41b1-b9bf-166292a1fb0c' class='xr-section-summary-in' type='checkbox' disabled ><label for='section-2d17321d-00ec-41b1-b9bf-166292a1fb0c' class='xr-section-summary'  title='Expand/collapse section'>Attributes: <span>(0)</span></label><div class='xr-section-inline-details'></div><div class='xr-section-details'><dl class='xr-attrs'></dl></div></li></ul></div></div>"
     },
     "execution_count": 13,
     "metadata": {},
     "output_type": "execute_result"
    }
   ],
   "source": [
    "ds # examine the new format of the data"
   ],
   "metadata": {
    "collapsed": false
   }
  },
  {
   "cell_type": "markdown",
   "source": [
    "## Neural Network Model"
   ],
   "metadata": {
    "collapsed": false
   }
  },
  {
   "cell_type": "code",
   "execution_count": 15,
   "outputs": [],
   "source": [
    "import torch\n",
    "import torch.nn as nn\n",
    "from torch import nn, Tensor\n",
    "import torch.nn.functional as F\n",
    "from torch.autograd import Variable\n",
    "import torch.optim as optim"
   ],
   "metadata": {
    "collapsed": false
   }
  },
  {
   "cell_type": "markdown",
   "source": [
    "### MLP"
   ],
   "metadata": {
    "collapsed": false
   }
  },
  {
   "cell_type": "code",
   "execution_count": 17,
   "outputs": [],
   "source": [
    "class MLP(nn.Module): # type1 - fully connected layers\n",
    "    def __init__(self, D_out, input_shape):\n",
    "        # D_in - dimension of input channel, should be 3 for point cloud coordinates\n",
    "        # D_out - number of classes label\n",
    "        # k - number of rays\n",
    "        # N - number of points on one ray\n",
    "        super(MLP, self).__init__()\n",
    "        self.fc1 = nn.Linear(input_shape[1]*input_shape[2], 512)\n",
    "        self.fc2 = nn.Linear(512, 256)\n",
    "        self.fc3 = nn.Linear(256, 128)\n",
    "        self.fc4 = nn.Linear(128, D_out)\n",
    "        self.dropout = nn.Dropout(p=0.2)\n",
    "        self.bn1 = nn.BatchNorm1d(512)\n",
    "        self.bn2 = nn.BatchNorm1d(256)\n",
    "        self.bn3 = nn.BatchNorm1d(128)\n",
    "        self.relu = nn.ReLU()\n",
    "\n",
    "#         self.final_layer = nn.Softmax(dim=1)\n",
    "\n",
    "    def forward(self, x):\n",
    "        x = x.contiguous().view(-1,self.num_flat_features(x))\n",
    "        x = F.relu(self.bn1(self.fc1(x)))\n",
    "        x = F.relu(self.bn2(self.fc2(x)))\n",
    "        x = F.relu(self.bn3(self.dropout(self.fc3(x))))\n",
    "        x = self.fc4(x)\n",
    "#         x = self.final_layer(x)\n",
    "        return x\n",
    "\n",
    "    def num_flat_features(self, x):\n",
    "        size = x.size()[1:]  # all dimensions except the batch dimension\n",
    "        num_features = 1\n",
    "        for s in size:\n",
    "            num_features *= s\n",
    "        return num_features\n"
   ],
   "metadata": {
    "collapsed": false
   }
  },
  {
   "cell_type": "markdown",
   "source": [
    "### LSTM"
   ],
   "metadata": {
    "collapsed": false
   }
  },
  {
   "cell_type": "code",
   "execution_count": 16,
   "outputs": [],
   "source": [
    "class LSTM(nn.Module):\n",
    "\n",
    "    def __init__(self, num_output, num_features,\n",
    "                 hidden_size, num_layers, is_cuda: bool = False):\n",
    "        ## hidden_size is like embedding feature space dimension\n",
    "        ## better > num_assets?\n",
    "        ## if num_layers = 2: stack 2 LSTM of lyaer 1:\n",
    "        # nn.Sequential(OrderedDict([\n",
    "        #     ('LSTM1', nn.LSTM(input_size, hidden_size, 1),\n",
    "        #     ('LSTM2', nn.LSTM(hidden_size, hidden_size, 1)\n",
    "        #     ]))\n",
    "        super(LSTM, self).__init__()\n",
    "        self.num_output = num_output\n",
    "        self.num_layers = num_layers\n",
    "        self.num_features = num_features\n",
    "        self.hidden_size = hidden_size\n",
    "        # self.window_size = window_size\n",
    "        ## LSTM input size (batch_first) (batch, seq_length, feature)\n",
    "        self.lstm = nn.LSTM(input_size=num_features, hidden_size=hidden_size,\n",
    "                            num_layers=num_layers, batch_first=True)\n",
    "        self.dropout = nn.Dropout(p=0.2)\n",
    "        self.fc = nn.Linear(hidden_size, num_output)\n",
    "\n",
    "        self.is_cuda = is_cuda\n",
    "\n",
    "        if is_cuda:\n",
    "            self.lstm.cuda()\n",
    "            self.dropout.cuda()\n",
    "            self.fc.cuda()\n",
    "\n",
    "    def forward(self, x: torch.Tensor):\n",
    "        # print(x.shape)\n",
    "        batch_size = x.shape[0]\n",
    "        # the second dim for h_0 and c_0 is the batch dim\n",
    "        # hidden state\n",
    "        h_0 = Variable(torch.zeros(\n",
    "            self.num_layers, batch_size, self.hidden_size), requires_grad=True)\n",
    "        # cell state\n",
    "        c_0 = Variable(torch.zeros(\n",
    "            self.num_layers, batch_size, self.hidden_size), requires_grad=True)\n",
    "\n",
    "        if self.is_cuda:\n",
    "            h_0 = h_0.cuda()\n",
    "            c_0 = c_0.cuda()\n",
    "\n",
    "        # print(x.device)\n",
    "        # print(list(x.device for x in self.lstm.parameters()))\n",
    "        # print(h_0.device)\n",
    "\n",
    "        # Propagate input through LSTM\n",
    "        ula, (h_out, _) = self.lstm(x, (h_0, c_0))\n",
    "        # get only the last hidden layer, needed for multiple layer\n",
    "        h_out = h_out[-1, :, :].view(-1, self.hidden_size)\n",
    "\n",
    "        out = self.fc(self.dropout(h_out))\n",
    "\n",
    "        return out\n"
   ],
   "metadata": {
    "collapsed": false
   }
  },
  {
   "cell_type": "markdown",
   "source": [
    "### Wrapper of the network"
   ],
   "metadata": {
    "collapsed": false
   }
  },
  {
   "cell_type": "code",
   "execution_count": 84,
   "outputs": [],
   "source": [
    "class NN_wrapper():\n",
    "\n",
    "    def __init__(self, preprocess, lr=0.001, criterion=nn.MSELoss(), n_epoch=5, n_feature=7, train_lookback=32, per_eval_lookback=16, n_asset=54, hidden_size=64, network = 'LSTM'):\n",
    "        if network == 'LSTM':\n",
    "            self.net = LSTM(num_output=1, num_features=n_feature, hidden_size=hidden_size, num_layers=1, is_cuda=False)\n",
    "        elif network == 'MLP':\n",
    "            self.net = MLP(D_out = 1, input_shape=[n_asset*train_lookback, per_eval_lookback, n_feature])\n",
    "        else:\n",
    "            raise ValueError('Network architecture not supported')\n",
    "\n",
    "        self.n_epoch = n_epoch\n",
    "        self.criterion = criterion\n",
    "        self.train_lookback = train_lookback\n",
    "        self.per_eval_lookback = per_eval_lookback\n",
    "        self.n_asset = n_asset\n",
    "\n",
    "        # Define the optimizier\n",
    "        self.optimizer = optim.Adam(self.net.parameters(), lr=lr, betas=(0.9, 0.999))\n",
    "        self.scheduler = optim.lr_scheduler.CyclicLR(self.optimizer, base_lr=lr/10, max_lr=lr, step_size_up=n_epoch//2, cycle_momentum=False)\n",
    "\n",
    "        self.preprocess = preprocess\n",
    "        self.is_learning = True\n",
    "        # self.early_stopper = EarlyStopper(patience=3, min_delta=10)\n",
    "\n",
    "    def fit_predict(self, X, y):\n",
    "        self.net.train()\n",
    "        start_day = X.day.min().to_numpy().item()\n",
    "\n",
    "        ### Old data processing with Pandas (still need to transform)\n",
    "        # X = xr.Dataset.from_dataframe(X_)\n",
    "        # y = xr.DataArray.from_series(y_)\n",
    "        X_pd = X.to_dataframe(dim_order=['day', 'asset'])\n",
    "        X_pd[X_pd.columns] = self.preprocess.fit_transform(X_pd[X_pd.columns].values)\n",
    "        # # X_transformed_pd = DataFrame(X_transformed_np, index=X_pd.index, columns=X_pd.columns)\n",
    "        X_transformed = xr.Dataset.from_dataframe(X_pd)\n",
    "        # X_transformed = self.preprocess.fit_transform(X.to_array(dim='feature'))\n",
    "        # # now one slice is (num_ft, per_eval_lookback, asset)\n",
    "        # # stack and transform: shape (asset*observation, time_length, feature)\n",
    "        # X_ult = torch.cat([torch.from_numpy(\n",
    "        #     X_transformed.sel(day=slice(start_day + i, start_day + i + self.per_eval_lookback - 1))\n",
    "        #     .to_array(dim='feature').transpose('asset', 'day', 'feature')\n",
    "        #     .to_numpy()) for i in range(self.train_lookback)\n",
    "        # ], dim=0).to(torch.float)\n",
    "        # y_ult = torch.cat([torch.from_numpy(\n",
    "        #     y.sel(day=start_day + i + self.per_eval_lookback - 1)\n",
    "        #     .to_numpy()) for i in range(self.train_lookback)\n",
    "        # ], dim=-1).to(torch.float)\n",
    "\n",
    "        # New data preprocessing with Xarray - Hooray!\n",
    "        X_list = []\n",
    "        for i in range(self.train_lookback):\n",
    "            X_slice = X_transformed.sel(day=slice(start_day + i, start_day + i + self.per_eval_lookback - 1)).expand_dims(\n",
    "                batch=[start_day + i + self.per_eval_lookback - 1])\n",
    "            X_slice.coords['offset'] = X_slice.day - start_day - i # calculate offset coordinate/index for each slice\n",
    "            X_slice_o = X_slice.swap_dims({'day': 'offset'}) # swap to make offset the dimension instead of the previous 'day'\n",
    "            X_list.append(X_slice_o.reset_coords(drop=True)) # (reset and) drop all non-index coordinates\n",
    "        X_concat = xr.concat(X_list, dim='batch') # concat along the batch dimension\n",
    "        X_arr = X_concat.stack({'batch_asset': ['batch', 'asset']}).to_array('feature')\\\n",
    "            .transpose('batch_asset', 'offset', 'feature') # create a new batch dimension cartesian product all batch and asset\n",
    "        X_arr_np = X_arr.to_numpy()\n",
    "        # then reshape into the desire form for NN (batch, seq_length, feature)\n",
    "        # batch_asset \"is\" a multi-index array, with the ordering of train_lookback, asset\n",
    "        # X_transformed = self.preprocess.fit_transform(X_arr)\n",
    "        X_tensor = torch.from_numpy(X_arr_np).to(torch.float)\n",
    "\n",
    "        y_tensor = torch.from_numpy(y.stack({'batch_asset': ['day', 'asset']}).values).to(torch.float)\n",
    "\n",
    "        # print(X_ult.shape)\n",
    "        # print(y_ult.shape)\n",
    "\n",
    "        # LSTM or NN shape (batch, seq_length, feature)\n",
    "        for epoch in range(self.n_epoch):\n",
    "            # print('its actually training')\n",
    "            def closure():\n",
    "                self.optimizer.zero_grad()\n",
    "                outputs = self.net(X_tensor)\n",
    "                loss = self.criterion(outputs, y_tensor)\n",
    "                loss.backward()\n",
    "                return loss\n",
    "\n",
    "            self.optimizer.zero_grad()\n",
    "            outputs = self.net(X_tensor).squeeze()\n",
    "            loss = self.criterion(outputs, y_tensor)\n",
    "            # print(loss)\n",
    "            loss.backward()\n",
    "            self.optimizer.step()\n",
    "            self.scheduler.step()\n",
    "            # print(self.scheduler.get_last_lr())\n",
    "\n",
    "        return  xr.DataArray(data=outputs.cpu().detach().numpy(),coords=dict(batch_asset=X_arr.batch_asset))\\\n",
    "            .unstack('batch_asset').rename({'batch': 'day'})\n",
    "\n",
    "    def predict(self, X):\n",
    "        self.net.eval()\n",
    "\n",
    "        ### Old data processing with Pandas\n",
    "        # # X_transformed = self.preprocess.fit_transform(X)\n",
    "        # # X = xr.Dataset.from_dataframe(X_)\n",
    "        X_pd = X.to_dataframe(dim_order=['day', 'asset'])\n",
    "        X_pd[X_pd.columns] = self.preprocess.transform(X_pd[X_pd.columns].values)\n",
    "        X_transformed = xr.Dataset.from_dataframe(X_pd)\n",
    "        # # X_transformed_pd = DataFrame(X_transformed_np, index=X_pd.index, columns=X_pd.columns)\n",
    "\n",
    "        ## New data processing using Xarray\n",
    "        X_torch = torch.from_numpy(X_transformed.to_array('feature').transpose('asset','day', 'feature')\n",
    "                                   .to_numpy()).to(torch.float)\n",
    "        # X_transformed = self.preprocess.transform(X_transformed)\n",
    "        # X_torch = torch.from_numpy(X_pd).to(torch.float)\n",
    "\n",
    "        y = self.net(X_torch).squeeze()\n",
    "\n",
    "        return np.clip(y.detach().numpy(), -0.2, 0.2)[np.newaxis,:] # return a numpy array\n",
    "\n",
    "        # xr.DataArray.from_series(Series(y.cpu().detach().numpy(), index=X_pd.index))\n",
    "\n",
    "        # return  xr.DataArray(data=y.cpu().detach().numpy(),coords=dict(asset=X.asset))"
   ],
   "metadata": {
    "collapsed": false
   }
  },
  {
   "cell_type": "code",
   "execution_count": null,
   "outputs": [],
   "source": [],
   "metadata": {
    "collapsed": false
   }
  },
  {
   "cell_type": "markdown",
   "source": [
    "## Training Framework"
   ],
   "metadata": {
    "collapsed": false
   }
  },
  {
   "cell_type": "markdown",
   "source": [
    "### Cross Validatoin"
   ],
   "metadata": {
    "collapsed": false
   }
  },
  {
   "cell_type": "code",
   "execution_count": 86,
   "outputs": [
    {
     "data": {
      "text/plain": "  0%|          | 0/777 [00:00<?, ?it/s]",
      "application/vnd.jupyter.widget-view+json": {
       "version_major": 2,
       "version_minor": 0,
       "model_id": "c0aecca84a034fc4a9051a82fe73be35"
      }
     },
     "metadata": {},
     "output_type": "display_data"
    },
    {
     "ename": "ValueError",
     "evalue": "Input contains NaN.",
     "output_type": "error",
     "traceback": [
      "\u001B[0;31m---------------------------------------------------------------------------\u001B[0m",
      "\u001B[0;31mValueError\u001B[0m                                Traceback (most recent call last)",
      "\u001B[0;32m/var/folders/c_/y_0x4rsd6tb4chd_y83jnpzr0000gn/T/ipykernel_21395/3484848028.py\u001B[0m in \u001B[0;36m<module>\u001B[0;34m\u001B[0m\n\u001B[1;32m      8\u001B[0m \u001B[0midx\u001B[0m \u001B[0;34m=\u001B[0m \u001B[0mpd\u001B[0m\u001B[0;34m.\u001B[0m\u001B[0mIndexSlice\u001B[0m\u001B[0;34m\u001B[0m\u001B[0;34m\u001B[0m\u001B[0m\n\u001B[1;32m      9\u001B[0m \u001B[0mds_cv\u001B[0m \u001B[0;34m=\u001B[0m \u001B[0mds\u001B[0m\u001B[0;34m.\u001B[0m\u001B[0msel\u001B[0m\u001B[0;34m(\u001B[0m\u001B[0mday\u001B[0m\u001B[0;34m=\u001B[0m\u001B[0mslice\u001B[0m\u001B[0;34m(\u001B[0m\u001B[0;36m200\u001B[0m\u001B[0;34m,\u001B[0m\u001B[0mds\u001B[0m\u001B[0;34m.\u001B[0m\u001B[0mdims\u001B[0m\u001B[0;34m[\u001B[0m\u001B[0;34m'day'\u001B[0m\u001B[0;34m]\u001B[0m\u001B[0;34m)\u001B[0m\u001B[0;34m)\u001B[0m\u001B[0;34m.\u001B[0m\u001B[0mdrop_dims\u001B[0m\u001B[0;34m(\u001B[0m\u001B[0;34m'timeslot'\u001B[0m\u001B[0;34m)\u001B[0m\u001B[0;34m\u001B[0m\u001B[0;34m\u001B[0m\u001B[0m\n\u001B[0;32m---> 10\u001B[0;31m \u001B[0mperformance\u001B[0m\u001B[0;34m,\u001B[0m \u001B[0mcum_y_df\u001B[0m \u001B[0;34m=\u001B[0m \u001B[0mcross_validation\u001B[0m\u001B[0;34m(\u001B[0m\u001B[0mmodel\u001B[0m\u001B[0;34m,\u001B[0m \u001B[0mfeature\u001B[0m\u001B[0;34m,\u001B[0m \u001B[0mds\u001B[0m\u001B[0;34m=\u001B[0m\u001B[0mds_cv\u001B[0m\u001B[0;34m,\u001B[0m \u001B[0mtrain_lookback\u001B[0m\u001B[0;34m=\u001B[0m\u001B[0mtrain_lookback\u001B[0m\u001B[0;34m,\u001B[0m \u001B[0mper_eval_lookback\u001B[0m\u001B[0;34m=\u001B[0m\u001B[0meval_lookback\u001B[0m\u001B[0;34m)\u001B[0m\u001B[0;34m\u001B[0m\u001B[0;34m\u001B[0m\u001B[0m\n\u001B[0m",
      "\u001B[0;32m~/Desktop/Study/Graduate_Study_Austin/Career/Practice/qids-2023-comp/pipeline/backtest.py\u001B[0m in \u001B[0;36mcross_validation\u001B[0;34m(model, feature_columns, ds, return_column, train_lookback, per_eval_lookback)\u001B[0m\n\u001B[1;32m     93\u001B[0m         \u001B[0mtrain_r2\u001B[0m \u001B[0;34m=\u001B[0m \u001B[0mr2_score\u001B[0m\u001B[0;34m(\u001B[0m\u001B[0my_train_true\u001B[0m\u001B[0;34m.\u001B[0m\u001B[0mto_series\u001B[0m\u001B[0;34m(\u001B[0m\u001B[0;34m)\u001B[0m\u001B[0;34m,\u001B[0m \u001B[0my_train_prediction\u001B[0m\u001B[0;34m.\u001B[0m\u001B[0mto_series\u001B[0m\u001B[0;34m(\u001B[0m\u001B[0;34m)\u001B[0m\u001B[0;34m)\u001B[0m\u001B[0;34m\u001B[0m\u001B[0;34m\u001B[0m\u001B[0m\n\u001B[1;32m     94\u001B[0m         \u001B[0mperformance\u001B[0m\u001B[0;34m[\u001B[0m\u001B[0mval_index\u001B[0m\u001B[0;34m,\u001B[0m \u001B[0;34m'train_r2'\u001B[0m\u001B[0;34m]\u001B[0m \u001B[0;34m=\u001B[0m \u001B[0mtrain_r2\u001B[0m\u001B[0;34m\u001B[0m\u001B[0;34m\u001B[0m\u001B[0m\n\u001B[0;32m---> 95\u001B[0;31m         val_r2 = r2_score(y_val_true.to_series(), y_val_prediction.to_series()) if len(\n\u001B[0m\u001B[1;32m     96\u001B[0m             y_val_true.to_series()) > 1 else np.nan\n\u001B[1;32m     97\u001B[0m         \u001B[0mperformance\u001B[0m\u001B[0;34m[\u001B[0m\u001B[0mval_index\u001B[0m\u001B[0;34m,\u001B[0m \u001B[0;34m'val_r2'\u001B[0m\u001B[0;34m]\u001B[0m \u001B[0;34m=\u001B[0m \u001B[0mval_r2\u001B[0m\u001B[0;34m\u001B[0m\u001B[0;34m\u001B[0m\u001B[0m\n",
      "\u001B[0;32m~/micromamba/envs/DataScience/lib/python3.9/site-packages/sklearn/metrics/_regression.py\u001B[0m in \u001B[0;36mr2_score\u001B[0;34m(y_true, y_pred, sample_weight, multioutput, force_finite)\u001B[0m\n\u001B[1;32m    909\u001B[0m     \u001B[0;34m-\u001B[0m\u001B[0minf\u001B[0m\u001B[0;34m\u001B[0m\u001B[0;34m\u001B[0m\u001B[0m\n\u001B[1;32m    910\u001B[0m     \"\"\"\n\u001B[0;32m--> 911\u001B[0;31m     y_type, y_true, y_pred, multioutput = _check_reg_targets(\n\u001B[0m\u001B[1;32m    912\u001B[0m         \u001B[0my_true\u001B[0m\u001B[0;34m,\u001B[0m \u001B[0my_pred\u001B[0m\u001B[0;34m,\u001B[0m \u001B[0mmultioutput\u001B[0m\u001B[0;34m\u001B[0m\u001B[0;34m\u001B[0m\u001B[0m\n\u001B[1;32m    913\u001B[0m     )\n",
      "\u001B[0;32m~/micromamba/envs/DataScience/lib/python3.9/site-packages/sklearn/metrics/_regression.py\u001B[0m in \u001B[0;36m_check_reg_targets\u001B[0;34m(y_true, y_pred, multioutput, dtype)\u001B[0m\n\u001B[1;32m     99\u001B[0m     \"\"\"\n\u001B[1;32m    100\u001B[0m     \u001B[0mcheck_consistent_length\u001B[0m\u001B[0;34m(\u001B[0m\u001B[0my_true\u001B[0m\u001B[0;34m,\u001B[0m \u001B[0my_pred\u001B[0m\u001B[0;34m)\u001B[0m\u001B[0;34m\u001B[0m\u001B[0;34m\u001B[0m\u001B[0m\n\u001B[0;32m--> 101\u001B[0;31m     \u001B[0my_true\u001B[0m \u001B[0;34m=\u001B[0m \u001B[0mcheck_array\u001B[0m\u001B[0;34m(\u001B[0m\u001B[0my_true\u001B[0m\u001B[0;34m,\u001B[0m \u001B[0mensure_2d\u001B[0m\u001B[0;34m=\u001B[0m\u001B[0;32mFalse\u001B[0m\u001B[0;34m,\u001B[0m \u001B[0mdtype\u001B[0m\u001B[0;34m=\u001B[0m\u001B[0mdtype\u001B[0m\u001B[0;34m)\u001B[0m\u001B[0;34m\u001B[0m\u001B[0;34m\u001B[0m\u001B[0m\n\u001B[0m\u001B[1;32m    102\u001B[0m     \u001B[0my_pred\u001B[0m \u001B[0;34m=\u001B[0m \u001B[0mcheck_array\u001B[0m\u001B[0;34m(\u001B[0m\u001B[0my_pred\u001B[0m\u001B[0;34m,\u001B[0m \u001B[0mensure_2d\u001B[0m\u001B[0;34m=\u001B[0m\u001B[0;32mFalse\u001B[0m\u001B[0;34m,\u001B[0m \u001B[0mdtype\u001B[0m\u001B[0;34m=\u001B[0m\u001B[0mdtype\u001B[0m\u001B[0;34m)\u001B[0m\u001B[0;34m\u001B[0m\u001B[0;34m\u001B[0m\u001B[0m\n\u001B[1;32m    103\u001B[0m \u001B[0;34m\u001B[0m\u001B[0m\n",
      "\u001B[0;32m~/micromamba/envs/DataScience/lib/python3.9/site-packages/sklearn/utils/validation.py\u001B[0m in \u001B[0;36mcheck_array\u001B[0;34m(array, accept_sparse, accept_large_sparse, dtype, order, copy, force_all_finite, ensure_2d, allow_nd, ensure_min_samples, ensure_min_features, estimator, input_name)\u001B[0m\n\u001B[1;32m    919\u001B[0m \u001B[0;34m\u001B[0m\u001B[0m\n\u001B[1;32m    920\u001B[0m         \u001B[0;32mif\u001B[0m \u001B[0mforce_all_finite\u001B[0m\u001B[0;34m:\u001B[0m\u001B[0;34m\u001B[0m\u001B[0;34m\u001B[0m\u001B[0m\n\u001B[0;32m--> 921\u001B[0;31m             _assert_all_finite(\n\u001B[0m\u001B[1;32m    922\u001B[0m                 \u001B[0marray\u001B[0m\u001B[0;34m,\u001B[0m\u001B[0;34m\u001B[0m\u001B[0;34m\u001B[0m\u001B[0m\n\u001B[1;32m    923\u001B[0m                 \u001B[0minput_name\u001B[0m\u001B[0;34m=\u001B[0m\u001B[0minput_name\u001B[0m\u001B[0;34m,\u001B[0m\u001B[0;34m\u001B[0m\u001B[0;34m\u001B[0m\u001B[0m\n",
      "\u001B[0;32m~/micromamba/envs/DataScience/lib/python3.9/site-packages/sklearn/utils/validation.py\u001B[0m in \u001B[0;36m_assert_all_finite\u001B[0;34m(X, allow_nan, msg_dtype, estimator_name, input_name)\u001B[0m\n\u001B[1;32m    159\u001B[0m                 \u001B[0;34m\"#estimators-that-handle-nan-values\"\u001B[0m\u001B[0;34m\u001B[0m\u001B[0;34m\u001B[0m\u001B[0m\n\u001B[1;32m    160\u001B[0m             )\n\u001B[0;32m--> 161\u001B[0;31m         \u001B[0;32mraise\u001B[0m \u001B[0mValueError\u001B[0m\u001B[0;34m(\u001B[0m\u001B[0mmsg_err\u001B[0m\u001B[0;34m)\u001B[0m\u001B[0;34m\u001B[0m\u001B[0;34m\u001B[0m\u001B[0m\n\u001B[0m\u001B[1;32m    162\u001B[0m \u001B[0;34m\u001B[0m\u001B[0m\n\u001B[1;32m    163\u001B[0m \u001B[0;34m\u001B[0m\u001B[0m\n",
      "\u001B[0;31mValueError\u001B[0m: Input contains NaN."
     ]
    }
   ],
   "source": [
    "feature = ['turnoverRatio', 'transactionAmount', 'pb', 'ps', 'pe_ttm', 'pe', 'pcf']\n",
    "train_lookback = 16\n",
    "eval_lookback = 8\n",
    "prerpocess = MinMaxScaler()\n",
    "\n",
    "model = NN_wrapper(preprocess=prerpocess, lr=5e-3, n_epoch=8, train_lookback=train_lookback, per_eval_lookback=eval_lookback, hidden_size=64,\n",
    "                   n_feature=len(feature), n_asset=54, network='LSTM')\n",
    "idx = pd.IndexSlice\n",
    "ds_cv = ds.sel(day=slice(200,ds.dims['day'])).drop_dims('timeslot')\n",
    "performance, cum_y_df = cross_validation(model, feature, ds=ds_cv, train_lookback=train_lookback, per_eval_lookback=eval_lookback)"
   ],
   "metadata": {
    "collapsed": false
   }
  },
  {
   "cell_type": "code",
   "execution_count": 40,
   "outputs": [],
   "source": [
    "# lr=5e-4, cyclicLR, nepoch=8, trainlook=16, evallook=8, hidden=512\n",
    "plt.figure(0)\n",
    "# plot_performance(performance, metrics_selected=['train_r2', 'test_cum_r2', 'test_cum_pearson'])\n",
    "plot_performance(performance, metrics_selected=['train_r2', 'val_cum_pearson','val_cum_r2'])\n",
    "plt.show()"
   ],
   "metadata": {
    "collapsed": false
   }
  },
  {
   "cell_type": "markdown",
   "source": [],
   "metadata": {
    "collapsed": false
   }
  },
  {
   "cell_type": "code",
   "execution_count": 47,
   "outputs": [],
   "source": [
    "ds_day = ds.drop_dims('timeslot')"
   ],
   "metadata": {
    "collapsed": false
   }
  },
  {
   "cell_type": "code",
   "execution_count": 65,
   "outputs": [
    {
     "data": {
      "text/plain": "<xarray.DataArray 'day' (day: 1000)>\narray([   1,    2,    3, ...,  998,  999, 1000], dtype=int32)\nCoordinates:\n  * day      (day) int32 1 2 3 4 5 6 7 8 9 ... 993 994 995 996 997 998 999 1000",
      "text/html": "<div><svg style=\"position: absolute; width: 0; height: 0; overflow: hidden\">\n<defs>\n<symbol id=\"icon-database\" viewBox=\"0 0 32 32\">\n<path d=\"M16 0c-8.837 0-16 2.239-16 5v4c0 2.761 7.163 5 16 5s16-2.239 16-5v-4c0-2.761-7.163-5-16-5z\"></path>\n<path d=\"M16 17c-8.837 0-16-2.239-16-5v6c0 2.761 7.163 5 16 5s16-2.239 16-5v-6c0 2.761-7.163 5-16 5z\"></path>\n<path d=\"M16 26c-8.837 0-16-2.239-16-5v6c0 2.761 7.163 5 16 5s16-2.239 16-5v-6c0 2.761-7.163 5-16 5z\"></path>\n</symbol>\n<symbol id=\"icon-file-text2\" viewBox=\"0 0 32 32\">\n<path d=\"M28.681 7.159c-0.694-0.947-1.662-2.053-2.724-3.116s-2.169-2.030-3.116-2.724c-1.612-1.182-2.393-1.319-2.841-1.319h-15.5c-1.378 0-2.5 1.121-2.5 2.5v27c0 1.378 1.122 2.5 2.5 2.5h23c1.378 0 2.5-1.122 2.5-2.5v-19.5c0-0.448-0.137-1.23-1.319-2.841zM24.543 5.457c0.959 0.959 1.712 1.825 2.268 2.543h-4.811v-4.811c0.718 0.556 1.584 1.309 2.543 2.268zM28 29.5c0 0.271-0.229 0.5-0.5 0.5h-23c-0.271 0-0.5-0.229-0.5-0.5v-27c0-0.271 0.229-0.5 0.5-0.5 0 0 15.499-0 15.5 0v7c0 0.552 0.448 1 1 1h7v19.5z\"></path>\n<path d=\"M23 26h-14c-0.552 0-1-0.448-1-1s0.448-1 1-1h14c0.552 0 1 0.448 1 1s-0.448 1-1 1z\"></path>\n<path d=\"M23 22h-14c-0.552 0-1-0.448-1-1s0.448-1 1-1h14c0.552 0 1 0.448 1 1s-0.448 1-1 1z\"></path>\n<path d=\"M23 18h-14c-0.552 0-1-0.448-1-1s0.448-1 1-1h14c0.552 0 1 0.448 1 1s-0.448 1-1 1z\"></path>\n</symbol>\n</defs>\n</svg>\n<style>/* CSS stylesheet for displaying xarray objects in jupyterlab.\n *\n */\n\n:root {\n  --xr-font-color0: var(--jp-content-font-color0, rgba(0, 0, 0, 1));\n  --xr-font-color2: var(--jp-content-font-color2, rgba(0, 0, 0, 0.54));\n  --xr-font-color3: var(--jp-content-font-color3, rgba(0, 0, 0, 0.38));\n  --xr-border-color: var(--jp-border-color2, #e0e0e0);\n  --xr-disabled-color: var(--jp-layout-color3, #bdbdbd);\n  --xr-background-color: var(--jp-layout-color0, white);\n  --xr-background-color-row-even: var(--jp-layout-color1, white);\n  --xr-background-color-row-odd: var(--jp-layout-color2, #eeeeee);\n}\n\nhtml[theme=dark],\nbody[data-theme=dark],\nbody.vscode-dark {\n  --xr-font-color0: rgba(255, 255, 255, 1);\n  --xr-font-color2: rgba(255, 255, 255, 0.54);\n  --xr-font-color3: rgba(255, 255, 255, 0.38);\n  --xr-border-color: #1F1F1F;\n  --xr-disabled-color: #515151;\n  --xr-background-color: #111111;\n  --xr-background-color-row-even: #111111;\n  --xr-background-color-row-odd: #313131;\n}\n\n.xr-wrap {\n  display: block !important;\n  min-width: 300px;\n  max-width: 700px;\n}\n\n.xr-text-repr-fallback {\n  /* fallback to plain text repr when CSS is not injected (untrusted notebook) */\n  display: none;\n}\n\n.xr-header {\n  padding-top: 6px;\n  padding-bottom: 6px;\n  margin-bottom: 4px;\n  border-bottom: solid 1px var(--xr-border-color);\n}\n\n.xr-header > div,\n.xr-header > ul {\n  display: inline;\n  margin-top: 0;\n  margin-bottom: 0;\n}\n\n.xr-obj-type,\n.xr-array-name {\n  margin-left: 2px;\n  margin-right: 10px;\n}\n\n.xr-obj-type {\n  color: var(--xr-font-color2);\n}\n\n.xr-sections {\n  padding-left: 0 !important;\n  display: grid;\n  grid-template-columns: 150px auto auto 1fr 20px 20px;\n}\n\n.xr-section-item {\n  display: contents;\n}\n\n.xr-section-item input {\n  display: none;\n}\n\n.xr-section-item input + label {\n  color: var(--xr-disabled-color);\n}\n\n.xr-section-item input:enabled + label {\n  cursor: pointer;\n  color: var(--xr-font-color2);\n}\n\n.xr-section-item input:enabled + label:hover {\n  color: var(--xr-font-color0);\n}\n\n.xr-section-summary {\n  grid-column: 1;\n  color: var(--xr-font-color2);\n  font-weight: 500;\n}\n\n.xr-section-summary > span {\n  display: inline-block;\n  padding-left: 0.5em;\n}\n\n.xr-section-summary-in:disabled + label {\n  color: var(--xr-font-color2);\n}\n\n.xr-section-summary-in + label:before {\n  display: inline-block;\n  content: '►';\n  font-size: 11px;\n  width: 15px;\n  text-align: center;\n}\n\n.xr-section-summary-in:disabled + label:before {\n  color: var(--xr-disabled-color);\n}\n\n.xr-section-summary-in:checked + label:before {\n  content: '▼';\n}\n\n.xr-section-summary-in:checked + label > span {\n  display: none;\n}\n\n.xr-section-summary,\n.xr-section-inline-details {\n  padding-top: 4px;\n  padding-bottom: 4px;\n}\n\n.xr-section-inline-details {\n  grid-column: 2 / -1;\n}\n\n.xr-section-details {\n  display: none;\n  grid-column: 1 / -1;\n  margin-bottom: 5px;\n}\n\n.xr-section-summary-in:checked ~ .xr-section-details {\n  display: contents;\n}\n\n.xr-array-wrap {\n  grid-column: 1 / -1;\n  display: grid;\n  grid-template-columns: 20px auto;\n}\n\n.xr-array-wrap > label {\n  grid-column: 1;\n  vertical-align: top;\n}\n\n.xr-preview {\n  color: var(--xr-font-color3);\n}\n\n.xr-array-preview,\n.xr-array-data {\n  padding: 0 5px !important;\n  grid-column: 2;\n}\n\n.xr-array-data,\n.xr-array-in:checked ~ .xr-array-preview {\n  display: none;\n}\n\n.xr-array-in:checked ~ .xr-array-data,\n.xr-array-preview {\n  display: inline-block;\n}\n\n.xr-dim-list {\n  display: inline-block !important;\n  list-style: none;\n  padding: 0 !important;\n  margin: 0;\n}\n\n.xr-dim-list li {\n  display: inline-block;\n  padding: 0;\n  margin: 0;\n}\n\n.xr-dim-list:before {\n  content: '(';\n}\n\n.xr-dim-list:after {\n  content: ')';\n}\n\n.xr-dim-list li:not(:last-child):after {\n  content: ',';\n  padding-right: 5px;\n}\n\n.xr-has-index {\n  font-weight: bold;\n}\n\n.xr-var-list,\n.xr-var-item {\n  display: contents;\n}\n\n.xr-var-item > div,\n.xr-var-item label,\n.xr-var-item > .xr-var-name span {\n  background-color: var(--xr-background-color-row-even);\n  margin-bottom: 0;\n}\n\n.xr-var-item > .xr-var-name:hover span {\n  padding-right: 5px;\n}\n\n.xr-var-list > li:nth-child(odd) > div,\n.xr-var-list > li:nth-child(odd) > label,\n.xr-var-list > li:nth-child(odd) > .xr-var-name span {\n  background-color: var(--xr-background-color-row-odd);\n}\n\n.xr-var-name {\n  grid-column: 1;\n}\n\n.xr-var-dims {\n  grid-column: 2;\n}\n\n.xr-var-dtype {\n  grid-column: 3;\n  text-align: right;\n  color: var(--xr-font-color2);\n}\n\n.xr-var-preview {\n  grid-column: 4;\n}\n\n.xr-index-preview {\n  grid-column: 2 / 5;\n  color: var(--xr-font-color2);\n}\n\n.xr-var-name,\n.xr-var-dims,\n.xr-var-dtype,\n.xr-preview,\n.xr-attrs dt {\n  white-space: nowrap;\n  overflow: hidden;\n  text-overflow: ellipsis;\n  padding-right: 10px;\n}\n\n.xr-var-name:hover,\n.xr-var-dims:hover,\n.xr-var-dtype:hover,\n.xr-attrs dt:hover {\n  overflow: visible;\n  width: auto;\n  z-index: 1;\n}\n\n.xr-var-attrs,\n.xr-var-data,\n.xr-index-data {\n  display: none;\n  background-color: var(--xr-background-color) !important;\n  padding-bottom: 5px !important;\n}\n\n.xr-var-attrs-in:checked ~ .xr-var-attrs,\n.xr-var-data-in:checked ~ .xr-var-data,\n.xr-index-data-in:checked ~ .xr-index-data {\n  display: block;\n}\n\n.xr-var-data > table {\n  float: right;\n}\n\n.xr-var-name span,\n.xr-var-data,\n.xr-index-name div,\n.xr-index-data,\n.xr-attrs {\n  padding-left: 25px !important;\n}\n\n.xr-attrs,\n.xr-var-attrs,\n.xr-var-data,\n.xr-index-data {\n  grid-column: 1 / -1;\n}\n\ndl.xr-attrs {\n  padding: 0;\n  margin: 0;\n  display: grid;\n  grid-template-columns: 125px auto;\n}\n\n.xr-attrs dt,\n.xr-attrs dd {\n  padding: 0;\n  margin: 0;\n  float: left;\n  padding-right: 10px;\n  width: auto;\n}\n\n.xr-attrs dt {\n  font-weight: normal;\n  grid-column: 1;\n}\n\n.xr-attrs dt:hover span {\n  display: inline-block;\n  background: var(--xr-background-color);\n  padding-right: 10px;\n}\n\n.xr-attrs dd {\n  grid-column: 2;\n  white-space: pre-wrap;\n  word-break: break-all;\n}\n\n.xr-icon-database,\n.xr-icon-file-text2,\n.xr-no-icon {\n  display: inline-block;\n  vertical-align: middle;\n  width: 1em;\n  height: 1.5em !important;\n  stroke-width: 0;\n  stroke: currentColor;\n  fill: currentColor;\n}\n</style><pre class='xr-text-repr-fallback'>&lt;xarray.DataArray &#x27;day&#x27; (day: 1000)&gt;\narray([   1,    2,    3, ...,  998,  999, 1000], dtype=int32)\nCoordinates:\n  * day      (day) int32 1 2 3 4 5 6 7 8 9 ... 993 994 995 996 997 998 999 1000</pre><div class='xr-wrap' style='display:none'><div class='xr-header'><div class='xr-obj-type'>xarray.DataArray</div><div class='xr-array-name'>'day'</div><ul class='xr-dim-list'><li><span class='xr-has-index'>day</span>: 1000</li></ul></div><ul class='xr-sections'><li class='xr-section-item'><div class='xr-array-wrap'><input id='section-e58fda3b-4904-4968-a58b-2905760690c3' class='xr-array-in' type='checkbox' checked><label for='section-e58fda3b-4904-4968-a58b-2905760690c3' title='Show/hide data repr'><svg class='icon xr-icon-database'><use xlink:href='#icon-database'></use></svg></label><div class='xr-array-preview xr-preview'><span>1 2 3 4 5 6 7 8 9 10 11 ... 991 992 993 994 995 996 997 998 999 1000</span></div><div class='xr-array-data'><pre>array([   1,    2,    3, ...,  998,  999, 1000], dtype=int32)</pre></div></div></li><li class='xr-section-item'><input id='section-586bd3f2-e2ba-42f7-8f32-9ecbf0974056' class='xr-section-summary-in' type='checkbox'  checked><label for='section-586bd3f2-e2ba-42f7-8f32-9ecbf0974056' class='xr-section-summary' >Coordinates: <span>(1)</span></label><div class='xr-section-inline-details'></div><div class='xr-section-details'><ul class='xr-var-list'><li class='xr-var-item'><div class='xr-var-name'><span class='xr-has-index'>day</span></div><div class='xr-var-dims'>(day)</div><div class='xr-var-dtype'>int32</div><div class='xr-var-preview xr-preview'>1 2 3 4 5 ... 996 997 998 999 1000</div><input id='attrs-a8f54a9c-57b9-43d5-8a96-f972ee40bf92' class='xr-var-attrs-in' type='checkbox' disabled><label for='attrs-a8f54a9c-57b9-43d5-8a96-f972ee40bf92' title='Show/Hide attributes'><svg class='icon xr-icon-file-text2'><use xlink:href='#icon-file-text2'></use></svg></label><input id='data-e7457cf7-f18d-465e-832b-7d8e26a4a353' class='xr-var-data-in' type='checkbox'><label for='data-e7457cf7-f18d-465e-832b-7d8e26a4a353' title='Show/Hide data repr'><svg class='icon xr-icon-database'><use xlink:href='#icon-database'></use></svg></label><div class='xr-var-attrs'><dl class='xr-attrs'></dl></div><div class='xr-var-data'><pre>array([   1,    2,    3, ...,  998,  999, 1000], dtype=int32)</pre></div></li></ul></div></li><li class='xr-section-item'><input id='section-7766efe2-c0a1-4a12-99f2-697086b8926a' class='xr-section-summary-in' type='checkbox'  ><label for='section-7766efe2-c0a1-4a12-99f2-697086b8926a' class='xr-section-summary' >Indexes: <span>(1)</span></label><div class='xr-section-inline-details'></div><div class='xr-section-details'><ul class='xr-var-list'><li class='xr-var-item'><div class='xr-index-name'><div>day</div></div><div class='xr-index-preview'>PandasIndex</div><div></div><input id='index-7352973f-dcd3-415a-885a-4921cba25d60' class='xr-index-data-in' type='checkbox'/><label for='index-7352973f-dcd3-415a-885a-4921cba25d60' title='Show/Hide index repr'><svg class='icon xr-icon-database'><use xlink:href='#icon-database'></use></svg></label><div class='xr-index-data'><pre>PandasIndex(Int64Index([   1,    2,    3,    4,    5,    6,    7,    8,    9,   10,\n            ...\n             991,  992,  993,  994,  995,  996,  997,  998,  999, 1000],\n           dtype=&#x27;int64&#x27;, name=&#x27;day&#x27;, length=1000))</pre></div></li></ul></div></li><li class='xr-section-item'><input id='section-9fb67c4b-dee5-418f-9dac-5755e5c13646' class='xr-section-summary-in' type='checkbox' disabled ><label for='section-9fb67c4b-dee5-418f-9dac-5755e5c13646' class='xr-section-summary'  title='Expand/collapse section'>Attributes: <span>(0)</span></label><div class='xr-section-inline-details'></div><div class='xr-section-details'><dl class='xr-attrs'></dl></div></li></ul></div></div>"
     },
     "execution_count": 65,
     "metadata": {},
     "output_type": "execute_result"
    }
   ],
   "source": [
    "ds.day"
   ],
   "metadata": {
    "collapsed": false
   }
  },
  {
   "cell_type": "code",
   "execution_count": 59,
   "outputs": [],
   "source": [
    "y_train_true = ds['return'].sel(day=[207,208,209,210,211,212,213,214,215,216,217,218,219,220,221,222])"
   ],
   "metadata": {
    "collapsed": false
   }
  },
  {
   "cell_type": "code",
   "execution_count": 60,
   "outputs": [
    {
     "data": {
      "text/plain": "Coordinates:\n  * day      (day) int32 207 208 209 210 211 212 213 ... 217 218 219 220 221 222\n  * asset    (asset) int32 0 1 2 3 4 5 6 7 8 9 ... 44 45 46 47 48 49 50 51 52 53"
     },
     "execution_count": 60,
     "metadata": {},
     "output_type": "execute_result"
    }
   ],
   "source": [
    "y_train_true.coords"
   ],
   "metadata": {
    "collapsed": false
   }
  },
  {
   "cell_type": "code",
   "execution_count": null,
   "outputs": [],
   "source": [],
   "metadata": {
    "collapsed": false
   }
  }
 ],
 "metadata": {
  "kernelspec": {
   "display_name": "Python 3",
   "language": "python",
   "name": "python3"
  },
  "language_info": {
   "codemirror_mode": {
    "name": "ipython",
    "version": 2
   },
   "file_extension": ".py",
   "mimetype": "text/x-python",
   "name": "python",
   "nbconvert_exporter": "python",
   "pygments_lexer": "ipython2",
   "version": "2.7.6"
  }
 },
 "nbformat": 4,
 "nbformat_minor": 0
}
