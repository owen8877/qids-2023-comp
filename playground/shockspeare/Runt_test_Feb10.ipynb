{
 "cells": [
  {
   "cell_type": "code",
   "execution_count": 1,
   "outputs": [],
   "source": [
    "% matplotlib inline"
   ],
   "metadata": {
    "collapsed": false,
    "pycharm": {
     "name": "#%%\n"
    }
   }
  },
  {
   "cell_type": "code",
   "execution_count": 49,
   "outputs": [],
   "source": [
    "import numpy as np\n",
    "import pandas as pd\n",
    "from pandas import Series\n",
    "from sklearn.metrics import r2_score\n",
    "from sklearn.linear_model import LinearRegression\n",
    "from sklearn.model_selection import TimeSeriesSplit\n",
    "from tqdm.auto import tqdm\n",
    "import matplotlib.pyplot as plt\n",
    "\n",
    "from pipeline import Dataset\n",
    "from datatools import data_quantization"
   ],
   "metadata": {
    "collapsed": false,
    "pycharm": {
     "name": "#%%\n"
    }
   }
  },
  {
   "cell_type": "code",
   "execution_count": 4,
   "outputs": [],
   "source": [
    "dataset = Dataset.load('../../data/parsed')"
   ],
   "metadata": {
    "collapsed": false,
    "pycharm": {
     "name": "#%%\n"
    }
   }
  },
  {
   "cell_type": "code",
   "execution_count": 12,
   "outputs": [],
   "source": [
    "quantized_fundamental, _ = data_quantization(dataset.fundamental.set_index(['asset', 'day']))"
   ],
   "metadata": {
    "collapsed": false,
    "pycharm": {
     "name": "#%%\n"
    }
   }
  },
  {
   "cell_type": "code",
   "execution_count": 64,
   "outputs": [],
   "source": [
    "full_df = pd.concat(\n",
    "    [dataset.fundamental.set_index(['asset', 'day']), dataset.ref_return.set_index(['asset', 'day'])],\n",
    "    axis=1).dropna()"
   ],
   "metadata": {
    "collapsed": false,
    "pycharm": {
     "name": "#%%\n"
    }
   }
  },
  {
   "cell_type": "code",
   "execution_count": 33,
   "outputs": [
    {
     "data": {
      "text/plain": "           turnoverRatio_QUANTILE  transactionAmount_QUANTILE  \\\nday asset                                                       \n1   0                           9                           9   \n    1                           9                           3   \n    2                           7                           4   \n    3                           8                           2   \n    4                           5                           4   \n\n           pe_ttm_QUANTILE  pe_QUANTILE  pb_QUANTILE  ps_QUANTILE  \\\nday asset                                                           \n1   0                    6            6            6            5   \n    1                    4            4            6            5   \n    2                    7            7            6            6   \n    3                    1            1            2            1   \n    4                    1            1            3            4   \n\n           pcf_QUANTILE  turnoverRatio  transactionAmount    pe_ttm        pe  \\\nday asset                                                                       \n1   0                 1         3.6794            17229.0   34.4425   32.3029   \n    1                 5         2.5150             3706.0   28.9934   27.2726   \n    2                 3         1.2858             5136.0   42.9352   41.9279   \n    3                 7         2.2007             3280.0   15.2245   13.8032   \n    4                 4         0.8627             5291.0 -369.9850 -433.1736   \n\n               pb      ps       pcf    return  \nday asset                                      \n1   0      4.9425  3.8180 -578.7700 -0.026877  \n    1      5.0552  3.0484   23.8260 -0.052674  \n    2      4.8083  4.1392  -58.2185 -0.002691  \n    3      2.1904  0.6691   61.0491 -0.018515  \n    4      3.0714  2.9370  -25.2279 -0.019184  ",
      "text/html": "<div>\n<style scoped>\n    .dataframe tbody tr th:only-of-type {\n        vertical-align: middle;\n    }\n\n    .dataframe tbody tr th {\n        vertical-align: top;\n    }\n\n    .dataframe thead th {\n        text-align: right;\n    }\n</style>\n<table border=\"1\" class=\"dataframe\">\n  <thead>\n    <tr style=\"text-align: right;\">\n      <th></th>\n      <th></th>\n      <th>turnoverRatio_QUANTILE</th>\n      <th>transactionAmount_QUANTILE</th>\n      <th>pe_ttm_QUANTILE</th>\n      <th>pe_QUANTILE</th>\n      <th>pb_QUANTILE</th>\n      <th>ps_QUANTILE</th>\n      <th>pcf_QUANTILE</th>\n      <th>turnoverRatio</th>\n      <th>transactionAmount</th>\n      <th>pe_ttm</th>\n      <th>pe</th>\n      <th>pb</th>\n      <th>ps</th>\n      <th>pcf</th>\n      <th>return</th>\n    </tr>\n    <tr>\n      <th>day</th>\n      <th>asset</th>\n      <th></th>\n      <th></th>\n      <th></th>\n      <th></th>\n      <th></th>\n      <th></th>\n      <th></th>\n      <th></th>\n      <th></th>\n      <th></th>\n      <th></th>\n      <th></th>\n      <th></th>\n      <th></th>\n      <th></th>\n    </tr>\n  </thead>\n  <tbody>\n    <tr>\n      <th rowspan=\"5\" valign=\"top\">1</th>\n      <th>0</th>\n      <td>9</td>\n      <td>9</td>\n      <td>6</td>\n      <td>6</td>\n      <td>6</td>\n      <td>5</td>\n      <td>1</td>\n      <td>3.6794</td>\n      <td>17229.0</td>\n      <td>34.4425</td>\n      <td>32.3029</td>\n      <td>4.9425</td>\n      <td>3.8180</td>\n      <td>-578.7700</td>\n      <td>-0.026877</td>\n    </tr>\n    <tr>\n      <th>1</th>\n      <td>9</td>\n      <td>3</td>\n      <td>4</td>\n      <td>4</td>\n      <td>6</td>\n      <td>5</td>\n      <td>5</td>\n      <td>2.5150</td>\n      <td>3706.0</td>\n      <td>28.9934</td>\n      <td>27.2726</td>\n      <td>5.0552</td>\n      <td>3.0484</td>\n      <td>23.8260</td>\n      <td>-0.052674</td>\n    </tr>\n    <tr>\n      <th>2</th>\n      <td>7</td>\n      <td>4</td>\n      <td>7</td>\n      <td>7</td>\n      <td>6</td>\n      <td>6</td>\n      <td>3</td>\n      <td>1.2858</td>\n      <td>5136.0</td>\n      <td>42.9352</td>\n      <td>41.9279</td>\n      <td>4.8083</td>\n      <td>4.1392</td>\n      <td>-58.2185</td>\n      <td>-0.002691</td>\n    </tr>\n    <tr>\n      <th>3</th>\n      <td>8</td>\n      <td>2</td>\n      <td>1</td>\n      <td>1</td>\n      <td>2</td>\n      <td>1</td>\n      <td>7</td>\n      <td>2.2007</td>\n      <td>3280.0</td>\n      <td>15.2245</td>\n      <td>13.8032</td>\n      <td>2.1904</td>\n      <td>0.6691</td>\n      <td>61.0491</td>\n      <td>-0.018515</td>\n    </tr>\n    <tr>\n      <th>4</th>\n      <td>5</td>\n      <td>4</td>\n      <td>1</td>\n      <td>1</td>\n      <td>3</td>\n      <td>4</td>\n      <td>4</td>\n      <td>0.8627</td>\n      <td>5291.0</td>\n      <td>-369.9850</td>\n      <td>-433.1736</td>\n      <td>3.0714</td>\n      <td>2.9370</td>\n      <td>-25.2279</td>\n      <td>-0.019184</td>\n    </tr>\n  </tbody>\n</table>\n</div>"
     },
     "execution_count": 33,
     "metadata": {},
     "output_type": "execute_result"
    }
   ],
   "source": [
    "df = full_df.swaplevel().sort_index()\n",
    "df.head()"
   ],
   "metadata": {
    "collapsed": false,
    "pycharm": {
     "name": "#%%\n"
    }
   }
  },
  {
   "cell_type": "code",
   "execution_count": 65,
   "outputs": [
    {
     "data": {
      "text/plain": "0it [00:00, ?it/s]",
      "application/vnd.jupyter.widget-view+json": {
       "version_major": 2,
       "version_minor": 0,
       "model_id": "0fe5d49607024143ab2050a4e11a2dcd"
      }
     },
     "metadata": {},
     "output_type": "display_data"
    }
   ],
   "source": [
    "# X = df[['turnoverRatio_QUANTILE', 'transactionAmount_QUANTILE', 'pb_QUANTILE', 'ps_QUANTILE', 'pe_ttm_QUANTILE', 'pe_QUANTILE', 'pcf_QUANTILE']]\n",
    "# X = df[['turnoverRatio', 'transactionAmount', 'pb', 'ps', 'pe_ttm', 'pe', 'pcf']]\n",
    "# y = df['return']\n",
    "\n",
    "original_feature = ['turnoverRatio', 'transactionAmount', 'pb', 'ps', 'pe_ttm', 'pe', 'pcf']\n",
    "quantile_feature = ['turnoverRatio_QUANTILE', 'transactionAmount_QUANTILE', 'pb_QUANTILE', 'ps_QUANTILE', 'pe_ttm_QUANTILE', 'pe_QUANTILE', 'pcf_QUANTILE']\n",
    "\n",
    "tscv = TimeSeriesSplit(n_splits=99)\n",
    "test_prediction = Series(dtype=float)\n",
    "test_reference = Series(dtype=float)\n",
    "train_test_scores = []\n",
    "for train, test in tqdm(tscv.split(df)):\n",
    "    X, _ = data_quantization(df[original_feature])\n",
    "    reg = LinearRegression().fit(X.iloc[train], df['return'].iloc[train])\n",
    "    train_score = reg.score(X.iloc[train], df['return'].iloc[train])\n",
    "    test_prediction = pd.concat([test_prediction, Series(reg.predict(X.iloc[test]), index=X.index[test])])\n",
    "    test_reference = pd.concat([test_reference, df['return'].iloc[test]])\n",
    "    test_score = r2_score(test_reference, test_prediction)\n",
    "    # test_score = reg.score(X.iloc[test], y.iloc[test])\n",
    "    train_test_scores.append((train_score, test_score))\n",
    "    # print(f'train score: {train_score:.4f}, test score: {test_score:.4f}')\n",
    "\n",
    "# final_model = LinearRegression().fit(X, y)"
   ],
   "metadata": {
    "collapsed": false,
    "pycharm": {
     "name": "#%%\n"
    }
   }
  },
  {
   "cell_type": "code",
   "execution_count": 66,
   "outputs": [
    {
     "data": {
      "text/plain": "<matplotlib.legend.Legend at 0x7f908af8f430>"
     },
     "execution_count": 66,
     "metadata": {},
     "output_type": "execute_result"
    },
    {
     "data": {
      "text/plain": "<Figure size 640x480 with 1 Axes>",
      "image/png": "[encoded data removed]"
     },
     "metadata": {},
     "output_type": "display_data"
    }
   ],
   "source": [
    "plt.figure(1)\n",
    "plt.plot([_[0] for _ in train_test_scores], label='train')\n",
    "plt.plot([_[1] for _ in train_test_scores], label='test')\n",
    "plt.ylim([-0.1, 0.1])\n",
    "plt.legend(loc='best')"
   ],
   "metadata": {
    "collapsed": false,
    "pycharm": {
     "name": "#%%\n"
    }
   }
  },
  {
   "cell_type": "code",
   "execution_count": 67,
   "outputs": [
    {
     "data": {
      "text/plain": "                  0         1\n(12, 36)  -0.008569  0.006468\n(12, 37)  -0.027097 -0.001506\n(12, 38)  -0.014994  0.013319\n(12, 39)   0.026642  0.007134\n(12, 40)   0.000000  0.015295\n...             ...       ...\n(998, 49) -0.014799 -0.000894\n(998, 50)  0.012921  0.002550\n(998, 51) -0.052286  0.004334\n(998, 52) -0.015559  0.000752\n(998, 53) -0.003662  0.002668\n\n[53262 rows x 2 columns]",
      "text/html": "<div>\n<style scoped>\n    .dataframe tbody tr th:only-of-type {\n        vertical-align: middle;\n    }\n\n    .dataframe tbody tr th {\n        vertical-align: top;\n    }\n\n    .dataframe thead th {\n        text-align: right;\n    }\n</style>\n<table border=\"1\" class=\"dataframe\">\n  <thead>\n    <tr style=\"text-align: right;\">\n      <th></th>\n      <th>0</th>\n      <th>1</th>\n    </tr>\n  </thead>\n  <tbody>\n    <tr>\n      <th>(12, 36)</th>\n      <td>-0.008569</td>\n      <td>0.006468</td>\n    </tr>\n    <tr>\n      <th>(12, 37)</th>\n      <td>-0.027097</td>\n      <td>-0.001506</td>\n    </tr>\n    <tr>\n      <th>(12, 38)</th>\n      <td>-0.014994</td>\n      <td>0.013319</td>\n    </tr>\n    <tr>\n      <th>(12, 39)</th>\n      <td>0.026642</td>\n      <td>0.007134</td>\n    </tr>\n    <tr>\n      <th>(12, 40)</th>\n      <td>0.000000</td>\n      <td>0.015295</td>\n    </tr>\n    <tr>\n      <th>...</th>\n      <td>...</td>\n      <td>...</td>\n    </tr>\n    <tr>\n      <th>(998, 49)</th>\n      <td>-0.014799</td>\n      <td>-0.000894</td>\n    </tr>\n    <tr>\n      <th>(998, 50)</th>\n      <td>0.012921</td>\n      <td>0.002550</td>\n    </tr>\n    <tr>\n      <th>(998, 51)</th>\n      <td>-0.052286</td>\n      <td>0.004334</td>\n    </tr>\n    <tr>\n      <th>(998, 52)</th>\n      <td>-0.015559</td>\n      <td>0.000752</td>\n    </tr>\n    <tr>\n      <th>(998, 53)</th>\n      <td>-0.003662</td>\n      <td>0.002668</td>\n    </tr>\n  </tbody>\n</table>\n<p>53262 rows × 2 columns</p>\n</div>"
     },
     "execution_count": 67,
     "metadata": {},
     "output_type": "execute_result"
    }
   ],
   "source": [
    "pd.concat([test_reference, test_prediction], axis=1)"
   ],
   "metadata": {
    "collapsed": false,
    "pycharm": {
     "name": "#%%\n"
    }
   }
  },
  {
   "cell_type": "code",
   "execution_count": null,
   "outputs": [],
   "source": [],
   "metadata": {
    "collapsed": false,
    "pycharm": {
     "name": "#%%\n"
    }
   }
  }
 ],
 "metadata": {
  "kernelspec": {
   "display_name": "Python 3",
   "language": "python",
   "name": "python3"
  },
  "language_info": {
   "codemirror_mode": {
    "name": "ipython",
    "version": 2
   },
   "file_extension": ".py",
   "mimetype": "text/x-python",
   "name": "python",
   "nbconvert_exporter": "python",
   "pygments_lexer": "ipython2",
   "version": "2.7.6"
  }
 },
 "nbformat": 4,
 "nbformat_minor": 0
}