{
 "cells": [
  {
   "cell_type": "code",
   "execution_count": 2,
   "outputs": [],
   "source": [
    "%matplotlib inline\n",
    "%load_ext autoreload\n",
    "%autoreload 2"
   ],
   "metadata": {
    "collapsed": false,
    "pycharm": {
     "name": "#%%\n"
    }
   }
  },
  {
   "cell_type": "code",
   "execution_count": 57,
   "outputs": [],
   "source": [
    "import numpy as np\n",
    "import pandas as pd\n",
    "from pandas import Series\n",
    "from sklearn.metrics import r2_score\n",
    "from sklearn.linear_model import LinearRegression\n",
    "from sklearn.model_selection import TimeSeriesSplit\n",
    "from tqdm.auto import tqdm\n",
    "import matplotlib.pyplot as plt\n",
    "\n",
    "from pipeline import Dataset\n",
    "from datatools import data_quantization"
   ],
   "metadata": {
    "collapsed": false,
    "pycharm": {
     "name": "#%%\n"
    }
   }
  },
  {
   "cell_type": "code",
   "execution_count": 8,
   "outputs": [],
   "source": [
    "dataset = Dataset.load('../../data/parsed')"
   ],
   "metadata": {
    "collapsed": false,
    "pycharm": {
     "name": "#%%\n"
    }
   }
  },
  {
   "cell_type": "code",
   "execution_count": 11,
   "outputs": [],
   "source": [
    "# quantized data; set_index to separate index level\n",
    "quantized_fundamental, _ = data_quantization(dataset.fundamental.set_index(['asset', 'day']))"
   ],
   "metadata": {
    "collapsed": false,
    "pycharm": {
     "name": "#%%\n"
    }
   }
  },
  {
   "cell_type": "code",
   "execution_count": 22,
   "outputs": [],
   "source": [
    "full_df = pd.concat(\n",
    "    [dataset.fundamental.set_index(['asset', 'day']), dataset.ref_return.set_index(['asset', 'day'])],\n",
    "    axis=1).dropna()"
   ],
   "metadata": {
    "collapsed": false,
    "pycharm": {
     "name": "#%%\n"
    }
   }
  },
  {
   "cell_type": "code",
   "execution_count": 23,
   "outputs": [
    {
     "data": {
      "text/plain": "           turnoverRatio  transactionAmount    pe_ttm        pe      pb  \\\nday asset                                                                 \n1   0             3.6794            17229.0   34.4425   32.3029  4.9425   \n    1             2.5150             3706.0   28.9934   27.2726  5.0552   \n    2             1.2858             5136.0   42.9352   41.9279  4.8083   \n    3             2.2007             3280.0   15.2245   13.8032  2.1904   \n    4             0.8627             5291.0 -369.9850 -433.1736  3.0714   \n\n               ps       pcf    return  \nday asset                              \n1   0      3.8180 -578.7700 -0.026877  \n    1      3.0484   23.8260 -0.052674  \n    2      4.1392  -58.2185 -0.002691  \n    3      0.6691   61.0491 -0.018515  \n    4      2.9370  -25.2279 -0.019184  ",
      "text/html": "<div>\n<style scoped>\n    .dataframe tbody tr th:only-of-type {\n        vertical-align: middle;\n    }\n\n    .dataframe tbody tr th {\n        vertical-align: top;\n    }\n\n    .dataframe thead th {\n        text-align: right;\n    }\n</style>\n<table border=\"1\" class=\"dataframe\">\n  <thead>\n    <tr style=\"text-align: right;\">\n      <th></th>\n      <th></th>\n      <th>turnoverRatio</th>\n      <th>transactionAmount</th>\n      <th>pe_ttm</th>\n      <th>pe</th>\n      <th>pb</th>\n      <th>ps</th>\n      <th>pcf</th>\n      <th>return</th>\n    </tr>\n    <tr>\n      <th>day</th>\n      <th>asset</th>\n      <th></th>\n      <th></th>\n      <th></th>\n      <th></th>\n      <th></th>\n      <th></th>\n      <th></th>\n      <th></th>\n    </tr>\n  </thead>\n  <tbody>\n    <tr>\n      <th rowspan=\"5\" valign=\"top\">1</th>\n      <th>0</th>\n      <td>3.6794</td>\n      <td>17229.0</td>\n      <td>34.4425</td>\n      <td>32.3029</td>\n      <td>4.9425</td>\n      <td>3.8180</td>\n      <td>-578.7700</td>\n      <td>-0.026877</td>\n    </tr>\n    <tr>\n      <th>1</th>\n      <td>2.5150</td>\n      <td>3706.0</td>\n      <td>28.9934</td>\n      <td>27.2726</td>\n      <td>5.0552</td>\n      <td>3.0484</td>\n      <td>23.8260</td>\n      <td>-0.052674</td>\n    </tr>\n    <tr>\n      <th>2</th>\n      <td>1.2858</td>\n      <td>5136.0</td>\n      <td>42.9352</td>\n      <td>41.9279</td>\n      <td>4.8083</td>\n      <td>4.1392</td>\n      <td>-58.2185</td>\n      <td>-0.002691</td>\n    </tr>\n    <tr>\n      <th>3</th>\n      <td>2.2007</td>\n      <td>3280.0</td>\n      <td>15.2245</td>\n      <td>13.8032</td>\n      <td>2.1904</td>\n      <td>0.6691</td>\n      <td>61.0491</td>\n      <td>-0.018515</td>\n    </tr>\n    <tr>\n      <th>4</th>\n      <td>0.8627</td>\n      <td>5291.0</td>\n      <td>-369.9850</td>\n      <td>-433.1736</td>\n      <td>3.0714</td>\n      <td>2.9370</td>\n      <td>-25.2279</td>\n      <td>-0.019184</td>\n    </tr>\n  </tbody>\n</table>\n</div>"
     },
     "execution_count": 23,
     "metadata": {},
     "output_type": "execute_result"
    }
   ],
   "source": [
    "# swap day and asset index, automatically sorted\n",
    "df = full_df.swaplevel()\n",
    "df.head()"
   ],
   "metadata": {
    "collapsed": false,
    "pycharm": {
     "name": "#%%\n"
    }
   }
  },
  {
   "cell_type": "code",
   "execution_count": 54,
   "outputs": [
    {
     "data": {
      "text/plain": "day  asset\n1    6        0.018743\n     7        0.014376\n     8       -0.011925\n     9       -0.020020\n     10      -0.024798\nName: return, dtype: float64"
     },
     "execution_count": 54,
     "metadata": {},
     "output_type": "execute_result"
    }
   ],
   "source": [
    "df['return'].iloc[[6,7,8,9,10]]"
   ],
   "metadata": {
    "collapsed": false,
    "pycharm": {
     "name": "#%%\n"
    }
   }
  },
  {
   "cell_type": "code",
   "execution_count": 65,
   "outputs": [
    {
     "data": {
      "text/plain": "0it [00:00, ?it/s]",
      "application/vnd.jupyter.widget-view+json": {
       "version_major": 2,
       "version_minor": 0,
       "model_id": "e20e7c82b4df44898f52f1ad144cdf26"
      }
     },
     "metadata": {},
     "output_type": "display_data"
    }
   ],
   "source": [
    "# X = df[['turnoverRatio_QUANTILE', 'transactionAmount_QUANTILE', 'pb_QUANTILE', 'ps_QUANTILE', 'pe_ttm_QUANTILE', 'pe_QUANTILE', 'pcf_QUANTILE']]\n",
    "# X = df[['turnoverRatio', 'transactionAmount', 'pb', 'ps', 'pe_ttm', 'pe', 'pcf']]\n",
    "# y = df['return']\n",
    "\n",
    "# original_feature = ['turnoverRatio', 'transactionAmount', 'pb', 'ps', 'pe_ttm', 'pe', 'pcf']\n",
    "original_feature = full_df.columns[:-1]\n",
    "# quantile_feature = ['turnoverRatio_QUANTILE', 'transactionAmount_QUANTILE', 'pb_QUANTILE', 'ps_QUANTILE', 'pe_ttm_QUANTILE', 'pe_QUANTILE', 'pcf_QUANTILE']\n",
    "quantile_feautre = quantized_fundamental.columns\n",
    "\n",
    "tscv = TimeSeriesSplit(n_splits=99)\n",
    "test_prediction = Series(dtype=float)\n",
    "test_reference = Series(dtype=float)\n",
    "train_test_scores = []\n",
    "for train, test in tqdm(tscv.split(df)):\n",
    "    # train & test return indices of the time series splitting\n",
    "    X, _ = data_quantization(df[original_feature])\n",
    "    reg = LinearRegression().fit(X.iloc[train], df['return'].iloc[train])\n",
    "    # score computes the coefficient of determination R^2.\n",
    "    # best possible is 1; could be arbitrarily worse\n",
    "    train_score = reg.score(X.iloc[train], df['return'].iloc[train])\n",
    "    # train_score = X.iloc[train].corr(df['return'].iloc[train])\n",
    "    test_prediction = pd.concat([test_prediction, Series(reg.predict(X.iloc[test]), index=X.index[test])])\n",
    "    test_reference = pd.concat([test_reference, df['return'].iloc[test]])\n",
    "    # test_score = r2_score(test_reference, test_prediction)\n",
    "    test_score = test_reference.corr(test_prediction)\n",
    "    # test_score = reg.score(X.iloc[test], y.iloc[test])\n",
    "    train_test_scores.append((train_score, test_score))\n",
    "    # print(f'train score: {train_score:.4f}, test score: {test_score:.4f}')\n",
    "\n",
    "# final_model = LinearRegression().fit(X, y)"
   ],
   "metadata": {
    "collapsed": false,
    "pycharm": {
     "name": "#%%\n"
    }
   }
  },
  {
   "cell_type": "code",
   "execution_count": 66,
   "outputs": [
    {
     "data": {
      "text/plain": "<matplotlib.legend.Legend at 0x16a97c590>"
     },
     "execution_count": 66,
     "metadata": {},
     "output_type": "execute_result"
    },
    {
     "data": {
      "text/plain": "<Figure size 640x480 with 1 Axes>",
      "image/png": "[encoded data removed]"
     },
     "metadata": {},
     "output_type": "display_data"
    }
   ],
   "source": [
    "plt.figure(1)\n",
    "plt.plot([_[0] for _ in train_test_scores], label='train')\n",
    "plt.plot([_[1] for _ in train_test_scores], label='test')\n",
    "plt.ylim([-0.1, 0.1])\n",
    "plt.legend(loc='best')\n",
    "\n"
   ],
   "metadata": {
    "collapsed": false,
    "pycharm": {
     "name": "#%%\n"
    }
   }
  },
  {
   "cell_type": "code",
   "execution_count": null,
   "outputs": [],
   "source": [],
   "metadata": {
    "collapsed": false,
    "pycharm": {
     "name": "#%%\n"
    }
   }
  }
 ],
 "metadata": {
  "kernelspec": {
   "display_name": "Python 3",
   "language": "python",
   "name": "python3"
  },
  "language_info": {
   "codemirror_mode": {
    "name": "ipython",
    "version": 2
   },
   "file_extension": ".py",
   "mimetype": "text/x-python",
   "name": "python",
   "nbconvert_exporter": "python",
   "pygments_lexer": "ipython2",
   "version": "2.7.6"
  }
 },
 "nbformat": 4,
 "nbformat_minor": 0
}