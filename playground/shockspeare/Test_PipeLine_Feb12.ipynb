{
 "cells": [
  {
   "cell_type": "code",
   "execution_count": 1,
   "metadata": {
    "collapsed": true
   },
   "outputs": [],
   "source": [
    "import pandas as pd\n",
    "from pipeline import Dataset, generate_mini_csv, load_mini_dataset"
   ]
  },
  {
   "cell_type": "code",
   "execution_count": 2,
   "outputs": [
    {
     "name": "stdout",
     "output_type": "stream",
     "text": [
      "csv raw data not found! make sure that the training fundamental/market/return data is under the @/data/raw folder\n"
     ]
    },
    {
     "ename": "FileNotFoundError",
     "evalue": "[Errno 2] No such file or directory: '../data/raw/first_round_train_fundamental_data.csv'",
     "output_type": "error",
     "traceback": [
      "\u001B[0;31m---------------------------------------------------------------------------\u001B[0m",
      "\u001B[0;31mFileNotFoundError\u001B[0m                         Traceback (most recent call last)",
      "Cell \u001B[0;32mIn[2], line 1\u001B[0m\n\u001B[0;32m----> 1\u001B[0m \u001B[43mgenerate_mini_csv\u001B[49m\u001B[43m(\u001B[49m\u001B[43mn_days\u001B[49m\u001B[38;5;241;43m=\u001B[39;49m\u001B[38;5;241;43m10\u001B[39;49m\u001B[43m)\u001B[49m\n",
      "File \u001B[0;32m~/Desktop/Study/Graduate_Study_Austin/Career/Practice/qids-2023-comp/pipeline/__init__.py:65\u001B[0m, in \u001B[0;36mgenerate_mini_csv\u001B[0;34m(n_days)\u001B[0m\n\u001B[1;32m     62\u001B[0m \u001B[38;5;28;01mexcept\u001B[39;00m \u001B[38;5;167;01mFileNotFoundError\u001B[39;00m \u001B[38;5;28;01mas\u001B[39;00m e:\n\u001B[1;32m     63\u001B[0m     \u001B[38;5;28mprint\u001B[39m(\u001B[38;5;124m'\u001B[39m\u001B[38;5;124mcsv raw data not found! make sure that the training fundamental/market/return data \u001B[39m\u001B[38;5;124m'\u001B[39m\n\u001B[1;32m     64\u001B[0m           \u001B[38;5;124m'\u001B[39m\u001B[38;5;124mis under the @/data/raw folder\u001B[39m\u001B[38;5;124m'\u001B[39m)\n\u001B[0;32m---> 65\u001B[0m     \u001B[38;5;28;01mraise\u001B[39;00m e\n",
      "File \u001B[0;32m~/Desktop/Study/Graduate_Study_Austin/Career/Practice/qids-2023-comp/pipeline/__init__.py:56\u001B[0m, in \u001B[0;36mgenerate_mini_csv\u001B[0;34m(n_days)\u001B[0m\n\u001B[1;32m     54\u001B[0m template \u001B[38;5;241m=\u001B[39m \u001B[38;5;124m'\u001B[39m\u001B[38;5;132;01m{}\u001B[39;00m\u001B[38;5;124m/first_round_train_\u001B[39m\u001B[38;5;132;01m{}\u001B[39;00m\u001B[38;5;124m_data.csv\u001B[39m\u001B[38;5;124m'\u001B[39m\n\u001B[1;32m     55\u001B[0m \u001B[38;5;28;01mtry\u001B[39;00m:\n\u001B[0;32m---> 56\u001B[0m     \u001B[43mpd\u001B[49m\u001B[38;5;241;43m.\u001B[39;49m\u001B[43mread_csv\u001B[49m\u001B[43m(\u001B[49m\u001B[43mtemplate\u001B[49m\u001B[38;5;241;43m.\u001B[39;49m\u001B[43mformat\u001B[49m\u001B[43m(\u001B[49m\u001B[43mfull_path\u001B[49m\u001B[43m,\u001B[49m\u001B[43m \u001B[49m\u001B[38;5;124;43m'\u001B[39;49m\u001B[38;5;124;43mfundamental\u001B[39;49m\u001B[38;5;124;43m'\u001B[39;49m\u001B[43m)\u001B[49m\u001B[43m)\u001B[49m\u001B[38;5;241m.\u001B[39miloc[:N_asset \u001B[38;5;241m*\u001B[39m n_days, :]\u001B[38;5;241m.\u001B[39mto_csv(\n\u001B[1;32m     57\u001B[0m         template\u001B[38;5;241m.\u001B[39mformat(mini_path, \u001B[38;5;124m'\u001B[39m\u001B[38;5;124mfundamental\u001B[39m\u001B[38;5;124m'\u001B[39m))\n\u001B[1;32m     58\u001B[0m     pd\u001B[38;5;241m.\u001B[39mread_csv(template\u001B[38;5;241m.\u001B[39mformat(full_path, \u001B[38;5;124m'\u001B[39m\u001B[38;5;124mmarket\u001B[39m\u001B[38;5;124m'\u001B[39m))\u001B[38;5;241m.\u001B[39miloc[:N_asset \u001B[38;5;241m*\u001B[39m N_timeslot \u001B[38;5;241m*\u001B[39m n_days, :]\u001B[38;5;241m.\u001B[39mto_csv(\n\u001B[1;32m     59\u001B[0m         template\u001B[38;5;241m.\u001B[39mformat(mini_path, \u001B[38;5;124m'\u001B[39m\u001B[38;5;124mmarket\u001B[39m\u001B[38;5;124m'\u001B[39m))\n\u001B[1;32m     60\u001B[0m     pd\u001B[38;5;241m.\u001B[39mread_csv(template\u001B[38;5;241m.\u001B[39mformat(full_path, \u001B[38;5;124m'\u001B[39m\u001B[38;5;124mreturn\u001B[39m\u001B[38;5;124m'\u001B[39m))\u001B[38;5;241m.\u001B[39miloc[:N_asset \u001B[38;5;241m*\u001B[39m n_days, :]\u001B[38;5;241m.\u001B[39mto_csv(\n\u001B[1;32m     61\u001B[0m         template\u001B[38;5;241m.\u001B[39mformat(mini_path, \u001B[38;5;124m'\u001B[39m\u001B[38;5;124mreturn\u001B[39m\u001B[38;5;124m'\u001B[39m))\n",
      "File \u001B[0;32m~/micromamba/envs/DataScience/lib/python3.11/site-packages/pandas/util/_decorators.py:211\u001B[0m, in \u001B[0;36mdeprecate_kwarg.<locals>._deprecate_kwarg.<locals>.wrapper\u001B[0;34m(*args, **kwargs)\u001B[0m\n\u001B[1;32m    209\u001B[0m     \u001B[38;5;28;01melse\u001B[39;00m:\n\u001B[1;32m    210\u001B[0m         kwargs[new_arg_name] \u001B[38;5;241m=\u001B[39m new_arg_value\n\u001B[0;32m--> 211\u001B[0m \u001B[38;5;28;01mreturn\u001B[39;00m \u001B[43mfunc\u001B[49m\u001B[43m(\u001B[49m\u001B[38;5;241;43m*\u001B[39;49m\u001B[43margs\u001B[49m\u001B[43m,\u001B[49m\u001B[43m \u001B[49m\u001B[38;5;241;43m*\u001B[39;49m\u001B[38;5;241;43m*\u001B[39;49m\u001B[43mkwargs\u001B[49m\u001B[43m)\u001B[49m\n",
      "File \u001B[0;32m~/micromamba/envs/DataScience/lib/python3.11/site-packages/pandas/util/_decorators.py:331\u001B[0m, in \u001B[0;36mdeprecate_nonkeyword_arguments.<locals>.decorate.<locals>.wrapper\u001B[0;34m(*args, **kwargs)\u001B[0m\n\u001B[1;32m    325\u001B[0m \u001B[38;5;28;01mif\u001B[39;00m \u001B[38;5;28mlen\u001B[39m(args) \u001B[38;5;241m>\u001B[39m num_allow_args:\n\u001B[1;32m    326\u001B[0m     warnings\u001B[38;5;241m.\u001B[39mwarn(\n\u001B[1;32m    327\u001B[0m         msg\u001B[38;5;241m.\u001B[39mformat(arguments\u001B[38;5;241m=\u001B[39m_format_argument_list(allow_args)),\n\u001B[1;32m    328\u001B[0m         \u001B[38;5;167;01mFutureWarning\u001B[39;00m,\n\u001B[1;32m    329\u001B[0m         stacklevel\u001B[38;5;241m=\u001B[39mfind_stack_level(),\n\u001B[1;32m    330\u001B[0m     )\n\u001B[0;32m--> 331\u001B[0m \u001B[38;5;28;01mreturn\u001B[39;00m \u001B[43mfunc\u001B[49m\u001B[43m(\u001B[49m\u001B[38;5;241;43m*\u001B[39;49m\u001B[43margs\u001B[49m\u001B[43m,\u001B[49m\u001B[43m \u001B[49m\u001B[38;5;241;43m*\u001B[39;49m\u001B[38;5;241;43m*\u001B[39;49m\u001B[43mkwargs\u001B[49m\u001B[43m)\u001B[49m\n",
      "File \u001B[0;32m~/micromamba/envs/DataScience/lib/python3.11/site-packages/pandas/io/parsers/readers.py:950\u001B[0m, in \u001B[0;36mread_csv\u001B[0;34m(filepath_or_buffer, sep, delimiter, header, names, index_col, usecols, squeeze, prefix, mangle_dupe_cols, dtype, engine, converters, true_values, false_values, skipinitialspace, skiprows, skipfooter, nrows, na_values, keep_default_na, na_filter, verbose, skip_blank_lines, parse_dates, infer_datetime_format, keep_date_col, date_parser, dayfirst, cache_dates, iterator, chunksize, compression, thousands, decimal, lineterminator, quotechar, quoting, doublequote, escapechar, comment, encoding, encoding_errors, dialect, error_bad_lines, warn_bad_lines, on_bad_lines, delim_whitespace, low_memory, memory_map, float_precision, storage_options)\u001B[0m\n\u001B[1;32m    935\u001B[0m kwds_defaults \u001B[38;5;241m=\u001B[39m _refine_defaults_read(\n\u001B[1;32m    936\u001B[0m     dialect,\n\u001B[1;32m    937\u001B[0m     delimiter,\n\u001B[0;32m   (...)\u001B[0m\n\u001B[1;32m    946\u001B[0m     defaults\u001B[38;5;241m=\u001B[39m{\u001B[38;5;124m\"\u001B[39m\u001B[38;5;124mdelimiter\u001B[39m\u001B[38;5;124m\"\u001B[39m: \u001B[38;5;124m\"\u001B[39m\u001B[38;5;124m,\u001B[39m\u001B[38;5;124m\"\u001B[39m},\n\u001B[1;32m    947\u001B[0m )\n\u001B[1;32m    948\u001B[0m kwds\u001B[38;5;241m.\u001B[39mupdate(kwds_defaults)\n\u001B[0;32m--> 950\u001B[0m \u001B[38;5;28;01mreturn\u001B[39;00m \u001B[43m_read\u001B[49m\u001B[43m(\u001B[49m\u001B[43mfilepath_or_buffer\u001B[49m\u001B[43m,\u001B[49m\u001B[43m \u001B[49m\u001B[43mkwds\u001B[49m\u001B[43m)\u001B[49m\n",
      "File \u001B[0;32m~/micromamba/envs/DataScience/lib/python3.11/site-packages/pandas/io/parsers/readers.py:605\u001B[0m, in \u001B[0;36m_read\u001B[0;34m(filepath_or_buffer, kwds)\u001B[0m\n\u001B[1;32m    602\u001B[0m _validate_names(kwds\u001B[38;5;241m.\u001B[39mget(\u001B[38;5;124m\"\u001B[39m\u001B[38;5;124mnames\u001B[39m\u001B[38;5;124m\"\u001B[39m, \u001B[38;5;28;01mNone\u001B[39;00m))\n\u001B[1;32m    604\u001B[0m \u001B[38;5;66;03m# Create the parser.\u001B[39;00m\n\u001B[0;32m--> 605\u001B[0m parser \u001B[38;5;241m=\u001B[39m \u001B[43mTextFileReader\u001B[49m\u001B[43m(\u001B[49m\u001B[43mfilepath_or_buffer\u001B[49m\u001B[43m,\u001B[49m\u001B[43m \u001B[49m\u001B[38;5;241;43m*\u001B[39;49m\u001B[38;5;241;43m*\u001B[39;49m\u001B[43mkwds\u001B[49m\u001B[43m)\u001B[49m\n\u001B[1;32m    607\u001B[0m \u001B[38;5;28;01mif\u001B[39;00m chunksize \u001B[38;5;129;01mor\u001B[39;00m iterator:\n\u001B[1;32m    608\u001B[0m     \u001B[38;5;28;01mreturn\u001B[39;00m parser\n",
      "File \u001B[0;32m~/micromamba/envs/DataScience/lib/python3.11/site-packages/pandas/io/parsers/readers.py:1442\u001B[0m, in \u001B[0;36mTextFileReader.__init__\u001B[0;34m(self, f, engine, **kwds)\u001B[0m\n\u001B[1;32m   1439\u001B[0m     \u001B[38;5;28mself\u001B[39m\u001B[38;5;241m.\u001B[39moptions[\u001B[38;5;124m\"\u001B[39m\u001B[38;5;124mhas_index_names\u001B[39m\u001B[38;5;124m\"\u001B[39m] \u001B[38;5;241m=\u001B[39m kwds[\u001B[38;5;124m\"\u001B[39m\u001B[38;5;124mhas_index_names\u001B[39m\u001B[38;5;124m\"\u001B[39m]\n\u001B[1;32m   1441\u001B[0m \u001B[38;5;28mself\u001B[39m\u001B[38;5;241m.\u001B[39mhandles: IOHandles \u001B[38;5;241m|\u001B[39m \u001B[38;5;28;01mNone\u001B[39;00m \u001B[38;5;241m=\u001B[39m \u001B[38;5;28;01mNone\u001B[39;00m\n\u001B[0;32m-> 1442\u001B[0m \u001B[38;5;28mself\u001B[39m\u001B[38;5;241m.\u001B[39m_engine \u001B[38;5;241m=\u001B[39m \u001B[38;5;28;43mself\u001B[39;49m\u001B[38;5;241;43m.\u001B[39;49m\u001B[43m_make_engine\u001B[49m\u001B[43m(\u001B[49m\u001B[43mf\u001B[49m\u001B[43m,\u001B[49m\u001B[43m \u001B[49m\u001B[38;5;28;43mself\u001B[39;49m\u001B[38;5;241;43m.\u001B[39;49m\u001B[43mengine\u001B[49m\u001B[43m)\u001B[49m\n",
      "File \u001B[0;32m~/micromamba/envs/DataScience/lib/python3.11/site-packages/pandas/io/parsers/readers.py:1735\u001B[0m, in \u001B[0;36mTextFileReader._make_engine\u001B[0;34m(self, f, engine)\u001B[0m\n\u001B[1;32m   1733\u001B[0m     \u001B[38;5;28;01mif\u001B[39;00m \u001B[38;5;124m\"\u001B[39m\u001B[38;5;124mb\u001B[39m\u001B[38;5;124m\"\u001B[39m \u001B[38;5;129;01mnot\u001B[39;00m \u001B[38;5;129;01min\u001B[39;00m mode:\n\u001B[1;32m   1734\u001B[0m         mode \u001B[38;5;241m+\u001B[39m\u001B[38;5;241m=\u001B[39m \u001B[38;5;124m\"\u001B[39m\u001B[38;5;124mb\u001B[39m\u001B[38;5;124m\"\u001B[39m\n\u001B[0;32m-> 1735\u001B[0m \u001B[38;5;28mself\u001B[39m\u001B[38;5;241m.\u001B[39mhandles \u001B[38;5;241m=\u001B[39m \u001B[43mget_handle\u001B[49m\u001B[43m(\u001B[49m\n\u001B[1;32m   1736\u001B[0m \u001B[43m    \u001B[49m\u001B[43mf\u001B[49m\u001B[43m,\u001B[49m\n\u001B[1;32m   1737\u001B[0m \u001B[43m    \u001B[49m\u001B[43mmode\u001B[49m\u001B[43m,\u001B[49m\n\u001B[1;32m   1738\u001B[0m \u001B[43m    \u001B[49m\u001B[43mencoding\u001B[49m\u001B[38;5;241;43m=\u001B[39;49m\u001B[38;5;28;43mself\u001B[39;49m\u001B[38;5;241;43m.\u001B[39;49m\u001B[43moptions\u001B[49m\u001B[38;5;241;43m.\u001B[39;49m\u001B[43mget\u001B[49m\u001B[43m(\u001B[49m\u001B[38;5;124;43m\"\u001B[39;49m\u001B[38;5;124;43mencoding\u001B[39;49m\u001B[38;5;124;43m\"\u001B[39;49m\u001B[43m,\u001B[49m\u001B[43m \u001B[49m\u001B[38;5;28;43;01mNone\u001B[39;49;00m\u001B[43m)\u001B[49m\u001B[43m,\u001B[49m\n\u001B[1;32m   1739\u001B[0m \u001B[43m    \u001B[49m\u001B[43mcompression\u001B[49m\u001B[38;5;241;43m=\u001B[39;49m\u001B[38;5;28;43mself\u001B[39;49m\u001B[38;5;241;43m.\u001B[39;49m\u001B[43moptions\u001B[49m\u001B[38;5;241;43m.\u001B[39;49m\u001B[43mget\u001B[49m\u001B[43m(\u001B[49m\u001B[38;5;124;43m\"\u001B[39;49m\u001B[38;5;124;43mcompression\u001B[39;49m\u001B[38;5;124;43m\"\u001B[39;49m\u001B[43m,\u001B[49m\u001B[43m \u001B[49m\u001B[38;5;28;43;01mNone\u001B[39;49;00m\u001B[43m)\u001B[49m\u001B[43m,\u001B[49m\n\u001B[1;32m   1740\u001B[0m \u001B[43m    \u001B[49m\u001B[43mmemory_map\u001B[49m\u001B[38;5;241;43m=\u001B[39;49m\u001B[38;5;28;43mself\u001B[39;49m\u001B[38;5;241;43m.\u001B[39;49m\u001B[43moptions\u001B[49m\u001B[38;5;241;43m.\u001B[39;49m\u001B[43mget\u001B[49m\u001B[43m(\u001B[49m\u001B[38;5;124;43m\"\u001B[39;49m\u001B[38;5;124;43mmemory_map\u001B[39;49m\u001B[38;5;124;43m\"\u001B[39;49m\u001B[43m,\u001B[49m\u001B[43m \u001B[49m\u001B[38;5;28;43;01mFalse\u001B[39;49;00m\u001B[43m)\u001B[49m\u001B[43m,\u001B[49m\n\u001B[1;32m   1741\u001B[0m \u001B[43m    \u001B[49m\u001B[43mis_text\u001B[49m\u001B[38;5;241;43m=\u001B[39;49m\u001B[43mis_text\u001B[49m\u001B[43m,\u001B[49m\n\u001B[1;32m   1742\u001B[0m \u001B[43m    \u001B[49m\u001B[43merrors\u001B[49m\u001B[38;5;241;43m=\u001B[39;49m\u001B[38;5;28;43mself\u001B[39;49m\u001B[38;5;241;43m.\u001B[39;49m\u001B[43moptions\u001B[49m\u001B[38;5;241;43m.\u001B[39;49m\u001B[43mget\u001B[49m\u001B[43m(\u001B[49m\u001B[38;5;124;43m\"\u001B[39;49m\u001B[38;5;124;43mencoding_errors\u001B[39;49m\u001B[38;5;124;43m\"\u001B[39;49m\u001B[43m,\u001B[49m\u001B[43m \u001B[49m\u001B[38;5;124;43m\"\u001B[39;49m\u001B[38;5;124;43mstrict\u001B[39;49m\u001B[38;5;124;43m\"\u001B[39;49m\u001B[43m)\u001B[49m\u001B[43m,\u001B[49m\n\u001B[1;32m   1743\u001B[0m \u001B[43m    \u001B[49m\u001B[43mstorage_options\u001B[49m\u001B[38;5;241;43m=\u001B[39;49m\u001B[38;5;28;43mself\u001B[39;49m\u001B[38;5;241;43m.\u001B[39;49m\u001B[43moptions\u001B[49m\u001B[38;5;241;43m.\u001B[39;49m\u001B[43mget\u001B[49m\u001B[43m(\u001B[49m\u001B[38;5;124;43m\"\u001B[39;49m\u001B[38;5;124;43mstorage_options\u001B[39;49m\u001B[38;5;124;43m\"\u001B[39;49m\u001B[43m,\u001B[49m\u001B[43m \u001B[49m\u001B[38;5;28;43;01mNone\u001B[39;49;00m\u001B[43m)\u001B[49m\u001B[43m,\u001B[49m\n\u001B[1;32m   1744\u001B[0m \u001B[43m\u001B[49m\u001B[43m)\u001B[49m\n\u001B[1;32m   1745\u001B[0m \u001B[38;5;28;01massert\u001B[39;00m \u001B[38;5;28mself\u001B[39m\u001B[38;5;241m.\u001B[39mhandles \u001B[38;5;129;01mis\u001B[39;00m \u001B[38;5;129;01mnot\u001B[39;00m \u001B[38;5;28;01mNone\u001B[39;00m\n\u001B[1;32m   1746\u001B[0m f \u001B[38;5;241m=\u001B[39m \u001B[38;5;28mself\u001B[39m\u001B[38;5;241m.\u001B[39mhandles\u001B[38;5;241m.\u001B[39mhandle\n",
      "File \u001B[0;32m~/micromamba/envs/DataScience/lib/python3.11/site-packages/pandas/io/common.py:856\u001B[0m, in \u001B[0;36mget_handle\u001B[0;34m(path_or_buf, mode, encoding, compression, memory_map, is_text, errors, storage_options)\u001B[0m\n\u001B[1;32m    851\u001B[0m \u001B[38;5;28;01melif\u001B[39;00m \u001B[38;5;28misinstance\u001B[39m(handle, \u001B[38;5;28mstr\u001B[39m):\n\u001B[1;32m    852\u001B[0m     \u001B[38;5;66;03m# Check whether the filename is to be opened in binary mode.\u001B[39;00m\n\u001B[1;32m    853\u001B[0m     \u001B[38;5;66;03m# Binary mode does not support 'encoding' and 'newline'.\u001B[39;00m\n\u001B[1;32m    854\u001B[0m     \u001B[38;5;28;01mif\u001B[39;00m ioargs\u001B[38;5;241m.\u001B[39mencoding \u001B[38;5;129;01mand\u001B[39;00m \u001B[38;5;124m\"\u001B[39m\u001B[38;5;124mb\u001B[39m\u001B[38;5;124m\"\u001B[39m \u001B[38;5;129;01mnot\u001B[39;00m \u001B[38;5;129;01min\u001B[39;00m ioargs\u001B[38;5;241m.\u001B[39mmode:\n\u001B[1;32m    855\u001B[0m         \u001B[38;5;66;03m# Encoding\u001B[39;00m\n\u001B[0;32m--> 856\u001B[0m         handle \u001B[38;5;241m=\u001B[39m \u001B[38;5;28;43mopen\u001B[39;49m\u001B[43m(\u001B[49m\n\u001B[1;32m    857\u001B[0m \u001B[43m            \u001B[49m\u001B[43mhandle\u001B[49m\u001B[43m,\u001B[49m\n\u001B[1;32m    858\u001B[0m \u001B[43m            \u001B[49m\u001B[43mioargs\u001B[49m\u001B[38;5;241;43m.\u001B[39;49m\u001B[43mmode\u001B[49m\u001B[43m,\u001B[49m\n\u001B[1;32m    859\u001B[0m \u001B[43m            \u001B[49m\u001B[43mencoding\u001B[49m\u001B[38;5;241;43m=\u001B[39;49m\u001B[43mioargs\u001B[49m\u001B[38;5;241;43m.\u001B[39;49m\u001B[43mencoding\u001B[49m\u001B[43m,\u001B[49m\n\u001B[1;32m    860\u001B[0m \u001B[43m            \u001B[49m\u001B[43merrors\u001B[49m\u001B[38;5;241;43m=\u001B[39;49m\u001B[43merrors\u001B[49m\u001B[43m,\u001B[49m\n\u001B[1;32m    861\u001B[0m \u001B[43m            \u001B[49m\u001B[43mnewline\u001B[49m\u001B[38;5;241;43m=\u001B[39;49m\u001B[38;5;124;43m\"\u001B[39;49m\u001B[38;5;124;43m\"\u001B[39;49m\u001B[43m,\u001B[49m\n\u001B[1;32m    862\u001B[0m \u001B[43m        \u001B[49m\u001B[43m)\u001B[49m\n\u001B[1;32m    863\u001B[0m     \u001B[38;5;28;01melse\u001B[39;00m:\n\u001B[1;32m    864\u001B[0m         \u001B[38;5;66;03m# Binary mode\u001B[39;00m\n\u001B[1;32m    865\u001B[0m         handle \u001B[38;5;241m=\u001B[39m \u001B[38;5;28mopen\u001B[39m(handle, ioargs\u001B[38;5;241m.\u001B[39mmode)\n",
      "\u001B[0;31mFileNotFoundError\u001B[0m: [Errno 2] No such file or directory: '../data/raw/first_round_train_fundamental_data.csv'"
     ]
    }
   ],
   "source": [
    "generate_mini_csv(n_days=10)"
   ],
   "metadata": {
    "collapsed": false,
    "pycharm": {
     "name": "#%%\n"
    }
   }
  },
  {
   "cell_type": "code",
   "execution_count": 4,
   "outputs": [],
   "source": [
    "from pipeline import parse_raw_df"
   ],
   "metadata": {
    "collapsed": false,
    "pycharm": {
     "name": "#%%\n"
    }
   }
  },
  {
   "cell_type": "code",
   "execution_count": 5,
   "outputs": [],
   "source": [
    "parse_raw_df._dump(is_mini=True, n_days=10)"
   ],
   "metadata": {
    "collapsed": false,
    "pycharm": {
     "name": "#%%\n"
    }
   }
  },
  {
   "cell_type": "code",
   "execution_count": 4,
   "outputs": [],
   "source": [
    "%load_ext autoreload\n",
    "%autoreload 2"
   ],
   "metadata": {
    "collapsed": false,
    "pycharm": {
     "name": "#%%\n"
    }
   }
  },
  {
   "cell_type": "code",
   "execution_count": 3,
   "outputs": [],
   "source": [
    "dataset_mini = load_mini_dataset('../../data/parsed_mini/')\n",
    "dataset = Dataset.load('../../data/parsed')"
   ],
   "metadata": {
    "collapsed": false,
    "pycharm": {
     "name": "#%%\n"
    }
   }
  },
  {
   "cell_type": "code",
   "execution_count": 5,
   "outputs": [
    {
     "data": {
      "text/plain": "                        open    close     high      low     volume  \\\nday  asset timeslot                                                  \n1    0     1         25.0164  24.9557  25.1378  24.9436   642243.0   \n           2         24.9557  24.8465  24.9557  24.8101   797872.0   \n           3         24.8465  24.7008  24.8586  24.6644  1234546.0   \n           4         24.7008  24.7615  24.7858  24.7008   533023.0   \n           5         24.7615  24.7251  24.7615  24.7008   565000.0   \n...                      ...      ...      ...      ...        ...   \n1000 53    46         9.8439   9.8803   9.8925   9.8439   160915.0   \n           47         9.8803   9.9167   9.9289   9.8803   237961.0   \n           48         9.9167   9.9289   9.9289   9.9167   182479.0   \n           49         9.9289   9.8803   9.9289   9.8682   267976.0   \n           50         9.8803   9.9046   9.9046   9.8803   139460.0   \n\n                            money  \nday  asset timeslot                \n1    0     1         1.610060e+07  \n           2         1.984058e+07  \n           3         3.056567e+07  \n           4         1.318848e+07  \n           5         1.396949e+07  \n...                           ...  \n1000 53    46        1.587971e+06  \n           47        2.356753e+06  \n           48        1.809533e+06  \n           49        2.653046e+06  \n           50        1.380952e+06  \n\n[2700000 rows x 6 columns]",
      "text/html": "<div>\n<style scoped>\n    .dataframe tbody tr th:only-of-type {\n        vertical-align: middle;\n    }\n\n    .dataframe tbody tr th {\n        vertical-align: top;\n    }\n\n    .dataframe thead th {\n        text-align: right;\n    }\n</style>\n<table border=\"1\" class=\"dataframe\">\n  <thead>\n    <tr style=\"text-align: right;\">\n      <th></th>\n      <th></th>\n      <th></th>\n      <th>open</th>\n      <th>close</th>\n      <th>high</th>\n      <th>low</th>\n      <th>volume</th>\n      <th>money</th>\n    </tr>\n    <tr>\n      <th>day</th>\n      <th>asset</th>\n      <th>timeslot</th>\n      <th></th>\n      <th></th>\n      <th></th>\n      <th></th>\n      <th></th>\n      <th></th>\n    </tr>\n  </thead>\n  <tbody>\n    <tr>\n      <th rowspan=\"5\" valign=\"top\">1</th>\n      <th rowspan=\"5\" valign=\"top\">0</th>\n      <th>1</th>\n      <td>25.0164</td>\n      <td>24.9557</td>\n      <td>25.1378</td>\n      <td>24.9436</td>\n      <td>642243.0</td>\n      <td>1.610060e+07</td>\n    </tr>\n    <tr>\n      <th>2</th>\n      <td>24.9557</td>\n      <td>24.8465</td>\n      <td>24.9557</td>\n      <td>24.8101</td>\n      <td>797872.0</td>\n      <td>1.984058e+07</td>\n    </tr>\n    <tr>\n      <th>3</th>\n      <td>24.8465</td>\n      <td>24.7008</td>\n      <td>24.8586</td>\n      <td>24.6644</td>\n      <td>1234546.0</td>\n      <td>3.056567e+07</td>\n    </tr>\n    <tr>\n      <th>4</th>\n      <td>24.7008</td>\n      <td>24.7615</td>\n      <td>24.7858</td>\n      <td>24.7008</td>\n      <td>533023.0</td>\n      <td>1.318848e+07</td>\n    </tr>\n    <tr>\n      <th>5</th>\n      <td>24.7615</td>\n      <td>24.7251</td>\n      <td>24.7615</td>\n      <td>24.7008</td>\n      <td>565000.0</td>\n      <td>1.396949e+07</td>\n    </tr>\n    <tr>\n      <th>...</th>\n      <th>...</th>\n      <th>...</th>\n      <td>...</td>\n      <td>...</td>\n      <td>...</td>\n      <td>...</td>\n      <td>...</td>\n      <td>...</td>\n    </tr>\n    <tr>\n      <th rowspan=\"5\" valign=\"top\">1000</th>\n      <th rowspan=\"5\" valign=\"top\">53</th>\n      <th>46</th>\n      <td>9.8439</td>\n      <td>9.8803</td>\n      <td>9.8925</td>\n      <td>9.8439</td>\n      <td>160915.0</td>\n      <td>1.587971e+06</td>\n    </tr>\n    <tr>\n      <th>47</th>\n      <td>9.8803</td>\n      <td>9.9167</td>\n      <td>9.9289</td>\n      <td>9.8803</td>\n      <td>237961.0</td>\n      <td>2.356753e+06</td>\n    </tr>\n    <tr>\n      <th>48</th>\n      <td>9.9167</td>\n      <td>9.9289</td>\n      <td>9.9289</td>\n      <td>9.9167</td>\n      <td>182479.0</td>\n      <td>1.809533e+06</td>\n    </tr>\n    <tr>\n      <th>49</th>\n      <td>9.9289</td>\n      <td>9.8803</td>\n      <td>9.9289</td>\n      <td>9.8682</td>\n      <td>267976.0</td>\n      <td>2.653046e+06</td>\n    </tr>\n    <tr>\n      <th>50</th>\n      <td>9.8803</td>\n      <td>9.9046</td>\n      <td>9.9046</td>\n      <td>9.8803</td>\n      <td>139460.0</td>\n      <td>1.380952e+06</td>\n    </tr>\n  </tbody>\n</table>\n<p>2700000 rows × 6 columns</p>\n</div>"
     },
     "execution_count": 5,
     "metadata": {},
     "output_type": "execute_result"
    }
   ],
   "source": [
    "m_df = dataset.market\n",
    "m_df"
   ],
   "metadata": {
    "collapsed": false,
    "pycharm": {
     "name": "#%%\n"
    }
   }
  },
  {
   "cell_type": "code",
   "execution_count": 6,
   "outputs": [
    {
     "data": {
      "text/plain": "                    Unnamed: 0     open    close     high      low     volume  \\\nday asset timeslot                                                              \n1   0     1                  0  25.0164  24.9557  25.1378  24.9436   642243.0   \n          2                 54  24.9557  24.8465  24.9557  24.8101   797872.0   \n          3                108  24.8465  24.7008  24.8586  24.6644  1234546.0   \n          4                162  24.7008  24.7615  24.7858  24.7008   533023.0   \n          5                216  24.7615  24.7251  24.7615  24.7008   565000.0   \n...                        ...      ...      ...      ...      ...        ...   \n10  53    46             26783   8.7758   8.7758   8.7879   8.7758   127826.0   \n          47             26837   8.7879   8.8001   8.8001   8.7879   131828.0   \n          48             26891   8.8001   8.8122   8.8122   8.7879    48728.0   \n          49             26945   8.8122   8.8243   8.8365   8.8122   156428.0   \n          50             26999   8.8243   8.8365   8.8365   8.8243    47788.0   \n\n                           money  \nday asset timeslot                \n1   0     1         1.610060e+07  \n          2         1.984058e+07  \n          3         3.056567e+07  \n          4         1.318848e+07  \n          5         1.396949e+07  \n...                          ...  \n10  53    46        1.122993e+06  \n          47        1.159135e+06  \n          48        4.289581e+05  \n          49        1.380775e+06  \n          50        4.223538e+05  \n\n[27000 rows x 7 columns]",
      "text/html": "<div>\n<style scoped>\n    .dataframe tbody tr th:only-of-type {\n        vertical-align: middle;\n    }\n\n    .dataframe tbody tr th {\n        vertical-align: top;\n    }\n\n    .dataframe thead th {\n        text-align: right;\n    }\n</style>\n<table border=\"1\" class=\"dataframe\">\n  <thead>\n    <tr style=\"text-align: right;\">\n      <th></th>\n      <th></th>\n      <th></th>\n      <th>Unnamed: 0</th>\n      <th>open</th>\n      <th>close</th>\n      <th>high</th>\n      <th>low</th>\n      <th>volume</th>\n      <th>money</th>\n    </tr>\n    <tr>\n      <th>day</th>\n      <th>asset</th>\n      <th>timeslot</th>\n      <th></th>\n      <th></th>\n      <th></th>\n      <th></th>\n      <th></th>\n      <th></th>\n      <th></th>\n    </tr>\n  </thead>\n  <tbody>\n    <tr>\n      <th rowspan=\"5\" valign=\"top\">1</th>\n      <th rowspan=\"5\" valign=\"top\">0</th>\n      <th>1</th>\n      <td>0</td>\n      <td>25.0164</td>\n      <td>24.9557</td>\n      <td>25.1378</td>\n      <td>24.9436</td>\n      <td>642243.0</td>\n      <td>1.610060e+07</td>\n    </tr>\n    <tr>\n      <th>2</th>\n      <td>54</td>\n      <td>24.9557</td>\n      <td>24.8465</td>\n      <td>24.9557</td>\n      <td>24.8101</td>\n      <td>797872.0</td>\n      <td>1.984058e+07</td>\n    </tr>\n    <tr>\n      <th>3</th>\n      <td>108</td>\n      <td>24.8465</td>\n      <td>24.7008</td>\n      <td>24.8586</td>\n      <td>24.6644</td>\n      <td>1234546.0</td>\n      <td>3.056567e+07</td>\n    </tr>\n    <tr>\n      <th>4</th>\n      <td>162</td>\n      <td>24.7008</td>\n      <td>24.7615</td>\n      <td>24.7858</td>\n      <td>24.7008</td>\n      <td>533023.0</td>\n      <td>1.318848e+07</td>\n    </tr>\n    <tr>\n      <th>5</th>\n      <td>216</td>\n      <td>24.7615</td>\n      <td>24.7251</td>\n      <td>24.7615</td>\n      <td>24.7008</td>\n      <td>565000.0</td>\n      <td>1.396949e+07</td>\n    </tr>\n    <tr>\n      <th>...</th>\n      <th>...</th>\n      <th>...</th>\n      <td>...</td>\n      <td>...</td>\n      <td>...</td>\n      <td>...</td>\n      <td>...</td>\n      <td>...</td>\n      <td>...</td>\n    </tr>\n    <tr>\n      <th rowspan=\"5\" valign=\"top\">10</th>\n      <th rowspan=\"5\" valign=\"top\">53</th>\n      <th>46</th>\n      <td>26783</td>\n      <td>8.7758</td>\n      <td>8.7758</td>\n      <td>8.7879</td>\n      <td>8.7758</td>\n      <td>127826.0</td>\n      <td>1.122993e+06</td>\n    </tr>\n    <tr>\n      <th>47</th>\n      <td>26837</td>\n      <td>8.7879</td>\n      <td>8.8001</td>\n      <td>8.8001</td>\n      <td>8.7879</td>\n      <td>131828.0</td>\n      <td>1.159135e+06</td>\n    </tr>\n    <tr>\n      <th>48</th>\n      <td>26891</td>\n      <td>8.8001</td>\n      <td>8.8122</td>\n      <td>8.8122</td>\n      <td>8.7879</td>\n      <td>48728.0</td>\n      <td>4.289581e+05</td>\n    </tr>\n    <tr>\n      <th>49</th>\n      <td>26945</td>\n      <td>8.8122</td>\n      <td>8.8243</td>\n      <td>8.8365</td>\n      <td>8.8122</td>\n      <td>156428.0</td>\n      <td>1.380775e+06</td>\n    </tr>\n    <tr>\n      <th>50</th>\n      <td>26999</td>\n      <td>8.8243</td>\n      <td>8.8365</td>\n      <td>8.8365</td>\n      <td>8.8243</td>\n      <td>47788.0</td>\n      <td>4.223538e+05</td>\n    </tr>\n  </tbody>\n</table>\n<p>27000 rows × 7 columns</p>\n</div>"
     },
     "execution_count": 6,
     "metadata": {},
     "output_type": "execute_result"
    }
   ],
   "source": [
    "m_df_mini = dataset_mini.market\n",
    "m_df_mini\n"
   ],
   "metadata": {
    "collapsed": false,
    "pycharm": {
     "name": "#%%\n"
    }
   }
  },
  {
   "cell_type": "code",
   "execution_count": null,
   "outputs": [],
   "source": [],
   "metadata": {
    "collapsed": false,
    "pycharm": {
     "name": "#%%\n"
    }
   }
  }
 ],
 "metadata": {
  "kernelspec": {
   "name": "pycharm-71142b63",
   "language": "python",
   "display_name": "PyCharm (qids-2023-comp)"
  },
  "language_info": {
   "codemirror_mode": {
    "name": "ipython",
    "version": 2
   },
   "file_extension": ".py",
   "mimetype": "text/x-python",
   "name": "python",
   "nbconvert_exporter": "python",
   "pygments_lexer": "ipython2",
   "version": "2.7.6"
  }
 },
 "nbformat": 4,
 "nbformat_minor": 0
}