{
 "cells": [
  {
   "cell_type": "code",
   "execution_count": 1,
   "metadata": {
    "collapsed": true
   },
   "outputs": [],
   "source": [
    "import pandas as pd\n",
    "from pipeline import Dataset, load_mini_dataset"
   ]
  },
  {
   "cell_type": "code",
   "execution_count": 2,
   "outputs": [],
   "source": [
    "\n",
    "dataset_mini = load_mini_dataset('../../data/parsed_mini/')\n",
    "dataset = Dataset.load('../../data/parsed')"
   ],
   "metadata": {
    "collapsed": false,
    "pycharm": {
     "name": "#%%\n"
    }
   }
  },
  {
   "cell_type": "code",
   "execution_count": 41,
   "outputs": [],
   "source": [
    "m_df_mini = dataset_mini.market\n",
    "m_df = dataset.market\n",
    "f_df = dataset.fundamental"
   ],
   "metadata": {
    "collapsed": false,
    "pycharm": {
     "name": "#%%\n"
    }
   }
  },
  {
   "cell_type": "code",
   "execution_count": 17,
   "outputs": [
    {
     "data": {
      "text/plain": "        day  asset  turnoverRatio  transactionAmount    pe_ttm        pe  \\\n0         1      0         3.6794            17229.0   34.4425   32.3029   \n1         1      1         2.5150             3706.0   28.9934   27.2726   \n2         1      2         1.2858             5136.0   42.9352   41.9279   \n3         1      3         2.2007             3280.0   15.2245   13.8032   \n4         1      4         0.8627             5291.0 -369.9850 -433.1736   \n...     ...    ...            ...                ...       ...       ...   \n53995  1000     49         0.3201             4603.0   40.4933   40.4933   \n53996  1000     50         0.4137             2514.0   19.7194   19.7194   \n53997  1000     51         1.1524             5514.0   13.8265   13.8265   \n53998  1000     52         0.6358             7556.0   28.5368   28.5368   \n53999  1000     53         1.0683             6467.0   10.6152   10.6152   \n\n           pb      ps       pcf  \n0      4.9425  3.8180 -578.7700  \n1      5.0552  3.0484   23.8260  \n2      4.8083  4.1392  -58.2185  \n3      2.1904  0.6691   61.0491  \n4      3.0714  2.9370  -25.2279  \n...       ...     ...       ...  \n53995  2.7886  1.0333   72.0836  \n53996  2.5400  1.1739  -38.5837  \n53997  1.3388  0.6641   18.4961  \n53998  5.6946  3.6566 -573.3135  \n53999  1.9889  0.4059  134.0916  \n\n[54000 rows x 9 columns]",
      "text/html": "<div>\n<style scoped>\n    .dataframe tbody tr th:only-of-type {\n        vertical-align: middle;\n    }\n\n    .dataframe tbody tr th {\n        vertical-align: top;\n    }\n\n    .dataframe thead th {\n        text-align: right;\n    }\n</style>\n<table border=\"1\" class=\"dataframe\">\n  <thead>\n    <tr style=\"text-align: right;\">\n      <th></th>\n      <th>day</th>\n      <th>asset</th>\n      <th>turnoverRatio</th>\n      <th>transactionAmount</th>\n      <th>pe_ttm</th>\n      <th>pe</th>\n      <th>pb</th>\n      <th>ps</th>\n      <th>pcf</th>\n    </tr>\n  </thead>\n  <tbody>\n    <tr>\n      <th>0</th>\n      <td>1</td>\n      <td>0</td>\n      <td>3.6794</td>\n      <td>17229.0</td>\n      <td>34.4425</td>\n      <td>32.3029</td>\n      <td>4.9425</td>\n      <td>3.8180</td>\n      <td>-578.7700</td>\n    </tr>\n    <tr>\n      <th>1</th>\n      <td>1</td>\n      <td>1</td>\n      <td>2.5150</td>\n      <td>3706.0</td>\n      <td>28.9934</td>\n      <td>27.2726</td>\n      <td>5.0552</td>\n      <td>3.0484</td>\n      <td>23.8260</td>\n    </tr>\n    <tr>\n      <th>2</th>\n      <td>1</td>\n      <td>2</td>\n      <td>1.2858</td>\n      <td>5136.0</td>\n      <td>42.9352</td>\n      <td>41.9279</td>\n      <td>4.8083</td>\n      <td>4.1392</td>\n      <td>-58.2185</td>\n    </tr>\n    <tr>\n      <th>3</th>\n      <td>1</td>\n      <td>3</td>\n      <td>2.2007</td>\n      <td>3280.0</td>\n      <td>15.2245</td>\n      <td>13.8032</td>\n      <td>2.1904</td>\n      <td>0.6691</td>\n      <td>61.0491</td>\n    </tr>\n    <tr>\n      <th>4</th>\n      <td>1</td>\n      <td>4</td>\n      <td>0.8627</td>\n      <td>5291.0</td>\n      <td>-369.9850</td>\n      <td>-433.1736</td>\n      <td>3.0714</td>\n      <td>2.9370</td>\n      <td>-25.2279</td>\n    </tr>\n    <tr>\n      <th>...</th>\n      <td>...</td>\n      <td>...</td>\n      <td>...</td>\n      <td>...</td>\n      <td>...</td>\n      <td>...</td>\n      <td>...</td>\n      <td>...</td>\n      <td>...</td>\n    </tr>\n    <tr>\n      <th>53995</th>\n      <td>1000</td>\n      <td>49</td>\n      <td>0.3201</td>\n      <td>4603.0</td>\n      <td>40.4933</td>\n      <td>40.4933</td>\n      <td>2.7886</td>\n      <td>1.0333</td>\n      <td>72.0836</td>\n    </tr>\n    <tr>\n      <th>53996</th>\n      <td>1000</td>\n      <td>50</td>\n      <td>0.4137</td>\n      <td>2514.0</td>\n      <td>19.7194</td>\n      <td>19.7194</td>\n      <td>2.5400</td>\n      <td>1.1739</td>\n      <td>-38.5837</td>\n    </tr>\n    <tr>\n      <th>53997</th>\n      <td>1000</td>\n      <td>51</td>\n      <td>1.1524</td>\n      <td>5514.0</td>\n      <td>13.8265</td>\n      <td>13.8265</td>\n      <td>1.3388</td>\n      <td>0.6641</td>\n      <td>18.4961</td>\n    </tr>\n    <tr>\n      <th>53998</th>\n      <td>1000</td>\n      <td>52</td>\n      <td>0.6358</td>\n      <td>7556.0</td>\n      <td>28.5368</td>\n      <td>28.5368</td>\n      <td>5.6946</td>\n      <td>3.6566</td>\n      <td>-573.3135</td>\n    </tr>\n    <tr>\n      <th>53999</th>\n      <td>1000</td>\n      <td>53</td>\n      <td>1.0683</td>\n      <td>6467.0</td>\n      <td>10.6152</td>\n      <td>10.6152</td>\n      <td>1.9889</td>\n      <td>0.4059</td>\n      <td>134.0916</td>\n    </tr>\n  </tbody>\n</table>\n<p>54000 rows × 9 columns</p>\n</div>"
     },
     "execution_count": 17,
     "metadata": {},
     "output_type": "execute_result"
    }
   ],
   "source": [
    "f_df.reset_index(inplace=True)\n",
    "f_df"
   ],
   "metadata": {
    "collapsed": false,
    "pycharm": {
     "name": "#%%\n"
    }
   }
  },
  {
   "cell_type": "code",
   "execution_count": 7,
   "outputs": [
    {
     "data": {
      "text/plain": "                    Unnamed: 0     open    close     high      low     volume  \\\nday asset timeslot                                                              \n1   0     1                  0  25.0164  24.9557  25.1378  24.9436   642243.0   \n          2                 54  24.9557  24.8465  24.9557  24.8101   797872.0   \n          3                108  24.8465  24.7008  24.8586  24.6644  1234546.0   \n          4                162  24.7008  24.7615  24.7858  24.7008   533023.0   \n          5                216  24.7615  24.7251  24.7615  24.7008   565000.0   \n...                        ...      ...      ...      ...      ...        ...   \n10  53    46             26783   8.7758   8.7758   8.7879   8.7758   127826.0   \n          47             26837   8.7879   8.8001   8.8001   8.7879   131828.0   \n          48             26891   8.8001   8.8122   8.8122   8.7879    48728.0   \n          49             26945   8.8122   8.8243   8.8365   8.8122   156428.0   \n          50             26999   8.8243   8.8365   8.8365   8.8243    47788.0   \n\n                           money  \nday asset timeslot                \n1   0     1         1.610060e+07  \n          2         1.984058e+07  \n          3         3.056567e+07  \n          4         1.318848e+07  \n          5         1.396949e+07  \n...                          ...  \n10  53    46        1.122993e+06  \n          47        1.159135e+06  \n          48        4.289581e+05  \n          49        1.380775e+06  \n          50        4.223538e+05  \n\n[27000 rows x 7 columns]",
      "text/html": "<div>\n<style scoped>\n    .dataframe tbody tr th:only-of-type {\n        vertical-align: middle;\n    }\n\n    .dataframe tbody tr th {\n        vertical-align: top;\n    }\n\n    .dataframe thead th {\n        text-align: right;\n    }\n</style>\n<table border=\"1\" class=\"dataframe\">\n  <thead>\n    <tr style=\"text-align: right;\">\n      <th></th>\n      <th></th>\n      <th></th>\n      <th>Unnamed: 0</th>\n      <th>open</th>\n      <th>close</th>\n      <th>high</th>\n      <th>low</th>\n      <th>volume</th>\n      <th>money</th>\n    </tr>\n    <tr>\n      <th>day</th>\n      <th>asset</th>\n      <th>timeslot</th>\n      <th></th>\n      <th></th>\n      <th></th>\n      <th></th>\n      <th></th>\n      <th></th>\n      <th></th>\n    </tr>\n  </thead>\n  <tbody>\n    <tr>\n      <th rowspan=\"5\" valign=\"top\">1</th>\n      <th rowspan=\"5\" valign=\"top\">0</th>\n      <th>1</th>\n      <td>0</td>\n      <td>25.0164</td>\n      <td>24.9557</td>\n      <td>25.1378</td>\n      <td>24.9436</td>\n      <td>642243.0</td>\n      <td>1.610060e+07</td>\n    </tr>\n    <tr>\n      <th>2</th>\n      <td>54</td>\n      <td>24.9557</td>\n      <td>24.8465</td>\n      <td>24.9557</td>\n      <td>24.8101</td>\n      <td>797872.0</td>\n      <td>1.984058e+07</td>\n    </tr>\n    <tr>\n      <th>3</th>\n      <td>108</td>\n      <td>24.8465</td>\n      <td>24.7008</td>\n      <td>24.8586</td>\n      <td>24.6644</td>\n      <td>1234546.0</td>\n      <td>3.056567e+07</td>\n    </tr>\n    <tr>\n      <th>4</th>\n      <td>162</td>\n      <td>24.7008</td>\n      <td>24.7615</td>\n      <td>24.7858</td>\n      <td>24.7008</td>\n      <td>533023.0</td>\n      <td>1.318848e+07</td>\n    </tr>\n    <tr>\n      <th>5</th>\n      <td>216</td>\n      <td>24.7615</td>\n      <td>24.7251</td>\n      <td>24.7615</td>\n      <td>24.7008</td>\n      <td>565000.0</td>\n      <td>1.396949e+07</td>\n    </tr>\n    <tr>\n      <th>...</th>\n      <th>...</th>\n      <th>...</th>\n      <td>...</td>\n      <td>...</td>\n      <td>...</td>\n      <td>...</td>\n      <td>...</td>\n      <td>...</td>\n      <td>...</td>\n    </tr>\n    <tr>\n      <th rowspan=\"5\" valign=\"top\">10</th>\n      <th rowspan=\"5\" valign=\"top\">53</th>\n      <th>46</th>\n      <td>26783</td>\n      <td>8.7758</td>\n      <td>8.7758</td>\n      <td>8.7879</td>\n      <td>8.7758</td>\n      <td>127826.0</td>\n      <td>1.122993e+06</td>\n    </tr>\n    <tr>\n      <th>47</th>\n      <td>26837</td>\n      <td>8.7879</td>\n      <td>8.8001</td>\n      <td>8.8001</td>\n      <td>8.7879</td>\n      <td>131828.0</td>\n      <td>1.159135e+06</td>\n    </tr>\n    <tr>\n      <th>48</th>\n      <td>26891</td>\n      <td>8.8001</td>\n      <td>8.8122</td>\n      <td>8.8122</td>\n      <td>8.7879</td>\n      <td>48728.0</td>\n      <td>4.289581e+05</td>\n    </tr>\n    <tr>\n      <th>49</th>\n      <td>26945</td>\n      <td>8.8122</td>\n      <td>8.8243</td>\n      <td>8.8365</td>\n      <td>8.8122</td>\n      <td>156428.0</td>\n      <td>1.380775e+06</td>\n    </tr>\n    <tr>\n      <th>50</th>\n      <td>26999</td>\n      <td>8.8243</td>\n      <td>8.8365</td>\n      <td>8.8365</td>\n      <td>8.8243</td>\n      <td>47788.0</td>\n      <td>4.223538e+05</td>\n    </tr>\n  </tbody>\n</table>\n<p>27000 rows × 7 columns</p>\n</div>"
     },
     "execution_count": 7,
     "metadata": {},
     "output_type": "execute_result"
    }
   ],
   "source": [
    "m_df_mini"
   ],
   "metadata": {
    "collapsed": false,
    "pycharm": {
     "name": "#%%\n"
    }
   }
  },
  {
   "cell_type": "code",
   "execution_count": 23,
   "outputs": [
    {
     "data": {
      "text/plain": "True"
     },
     "execution_count": 23,
     "metadata": {},
     "output_type": "execute_result"
    }
   ],
   "source": [
    "list(f_df.index.names) == f_df.index.names"
   ],
   "metadata": {
    "collapsed": false,
    "pycharm": {
     "name": "#%%\n"
    }
   }
  },
  {
   "cell_type": "code",
   "execution_count": 35,
   "outputs": [
    {
     "data": {
      "text/plain": "True"
     },
     "execution_count": 35,
     "metadata": {},
     "output_type": "execute_result"
    }
   ],
   "source": [
    "(f_df.columns == f_df.columns).all()"
   ],
   "metadata": {
    "collapsed": false,
    "pycharm": {
     "name": "#%%\n"
    }
   }
  },
  {
   "cell_type": "code",
   "execution_count": 20,
   "outputs": [
    {
     "name": "stdout",
     "output_type": "stream",
     "text": [
      "Index name not valid\n"
     ]
    }
   ],
   "source": [
    "if 'day' in f_df.index.names and 'asset' in f_df.index.names:\n",
    "    if 'timeslot' in f_df.index.names:\n",
    "            print('Valid indices for market data only')\n",
    "    else:\n",
    "        print('Valid indices for return and fundamental data ')\n",
    "else:\n",
    "    print('Index name not valid')\n"
   ],
   "metadata": {
    "collapsed": false,
    "pycharm": {
     "name": "#%%\n"
    }
   }
  },
  {
   "cell_type": "code",
   "execution_count": 54,
   "outputs": [
    {
     "ename": "ValueError",
     "evalue": "Expecting feature as ['open', 'close', 'high', 'low', 'volume', 'money'] but got ['Unnamed: 0', 'close', 'high', 'low', 'volume', 'money']",
     "output_type": "error",
     "traceback": [
      "\u001B[0;31m---------------------------------------------------------------------------\u001B[0m",
      "\u001B[0;31mValueError\u001B[0m                                Traceback (most recent call last)",
      "Cell \u001B[0;32mIn[54], line 7\u001B[0m\n\u001B[1;32m      5\u001B[0m     \u001B[38;5;28;01mraise\u001B[39;00m \u001B[38;5;167;01mValueError\u001B[39;00m(\u001B[38;5;124m'\u001B[39m\u001B[38;5;124mExpecting index as \u001B[39m\u001B[38;5;132;01m{}\u001B[39;00m\u001B[38;5;124m but got \u001B[39m\u001B[38;5;132;01m{}\u001B[39;00m\u001B[38;5;124m'\u001B[39m\u001B[38;5;241m.\u001B[39mformat(expect_index, \u001B[38;5;28mlist\u001B[39m[df\u001B[38;5;241m.\u001B[39mindex\u001B[38;5;241m.\u001B[39mnames]))\n\u001B[1;32m      6\u001B[0m \u001B[38;5;28;01melif\u001B[39;00m (df\u001B[38;5;241m.\u001B[39mcolumns \u001B[38;5;241m!=\u001B[39m expect_feature)\u001B[38;5;241m.\u001B[39many():\n\u001B[0;32m----> 7\u001B[0m     \u001B[38;5;28;01mraise\u001B[39;00m \u001B[38;5;167;01mValueError\u001B[39;00m(\u001B[38;5;124mf\u001B[39m\u001B[38;5;124m'\u001B[39m\u001B[38;5;124mExpecting feature as \u001B[39m\u001B[38;5;132;01m{\u001B[39;00mexpect_feature\u001B[38;5;132;01m}\u001B[39;00m\u001B[38;5;124m but got \u001B[39m\u001B[38;5;132;01m{\u001B[39;00m\u001B[38;5;28mlist\u001B[39m(df\u001B[38;5;241m.\u001B[39mcolumns)\u001B[38;5;132;01m}\u001B[39;00m\u001B[38;5;124m'\u001B[39m)\n\u001B[1;32m      8\u001B[0m \u001B[38;5;28;01melse\u001B[39;00m:\n\u001B[1;32m      9\u001B[0m     \u001B[38;5;28;01mpass\u001B[39;00m\n",
      "\u001B[0;31mValueError\u001B[0m: Expecting feature as ['open', 'close', 'high', 'low', 'volume', 'money'] but got ['Unnamed: 0', 'close', 'high', 'low', 'volume', 'money']"
     ]
    }
   ],
   "source": [
    "expect_index = list(m_df.index.names)\n",
    "expect_feature = list(m_df.columns)\n",
    "df = m_df_mini\n",
    "if df.index.names != expect_index:\n",
    "    raise ValueError('Expecting index as {} but got {}'.format(expect_index, list[df.index.names]))\n",
    "elif (df.columns != expect_feature).any():\n",
    "    raise ValueError(f'Expecting feature as {expect_feature} but got {list(df.columns)}')\n",
    "else:\n",
    "    pass\n"
   ],
   "metadata": {
    "collapsed": false,
    "pycharm": {
     "name": "#%%\n"
    }
   }
  },
  {
   "cell_type": "code",
   "execution_count": 42,
   "outputs": [],
   "source": [
    "m_df_mini = m_df_mini.drop(columns='open')"
   ],
   "metadata": {
    "collapsed": false,
    "pycharm": {
     "name": "#%%\n"
    }
   }
  },
  {
   "cell_type": "code",
   "execution_count": 47,
   "outputs": [
    {
     "data": {
      "text/plain": "True"
     },
     "execution_count": 47,
     "metadata": {},
     "output_type": "execute_result"
    }
   ],
   "source": [
    "df.index.names == expect_index"
   ],
   "metadata": {
    "collapsed": false,
    "pycharm": {
     "name": "#%%\n"
    }
   }
  },
  {
   "cell_type": "code",
   "execution_count": 52,
   "outputs": [
    {
     "data": {
      "text/plain": "True"
     },
     "execution_count": 52,
     "metadata": {},
     "output_type": "execute_result"
    }
   ],
   "source": [
    "(df.columns != expect_feature).any()"
   ],
   "metadata": {
    "collapsed": false,
    "pycharm": {
     "name": "#%%\n"
    }
   }
  },
  {
   "cell_type": "code",
   "execution_count": null,
   "outputs": [],
   "source": [],
   "metadata": {
    "collapsed": false,
    "pycharm": {
     "name": "#%%\n"
    }
   }
  }
 ],
 "metadata": {
  "kernelspec": {
   "display_name": "Python 3",
   "language": "python",
   "name": "python3"
  },
  "language_info": {
   "codemirror_mode": {
    "name": "ipython",
    "version": 2
   },
   "file_extension": ".py",
   "mimetype": "text/x-python",
   "name": "python",
   "nbconvert_exporter": "python",
   "pygments_lexer": "ipython2",
   "version": "2.7.6"
  }
 },
 "nbformat": 4,
 "nbformat_minor": 0
}