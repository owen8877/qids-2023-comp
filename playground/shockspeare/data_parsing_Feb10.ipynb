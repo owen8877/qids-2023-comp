{
 "cells": [
  {
   "cell_type": "code",
   "execution_count": 1,
   "outputs": [],
   "source": [
    "from pandas import Series, MultiIndex\n",
    "import pandas as pd\n",
    "import seaborn as sns\n",
    "from sklearn.linear_model import LinearRegression\n",
    "from sklearn.model_selection import KFold\n",
    "import os\n",
    "from pipeline import Dataset"
   ],
   "metadata": {
    "collapsed": false,
    "pycharm": {
     "name": "#%%\n"
    }
   }
  },
  {
   "cell_type": "code",
   "execution_count": 2,
   "outputs": [],
   "source": [
    "%load_ext autoreload\n",
    "%autoreload 2"
   ],
   "metadata": {
    "collapsed": false,
    "pycharm": {
     "name": "#%%\n"
    }
   }
  },
  {
   "cell_type": "code",
   "execution_count": 3,
   "outputs": [],
   "source": [
    "__num_of_stocks = 54\n",
    "__point_per_day = 50"
   ],
   "metadata": {
    "collapsed": false,
    "pycharm": {
     "name": "#%%\n"
    }
   }
  },
  {
   "cell_type": "markdown",
   "source": [
    "read in data and parse the identifiers\n"
   ],
   "metadata": {
    "collapsed": false,
    "pycharm": {
     "name": "#%% md\n"
    }
   }
  },
  {
   "cell_type": "code",
   "execution_count": 4,
   "outputs": [],
   "source": [
    "def data_loader(data_name, sample_size=None, train=True):\n",
    "    \"\"\"\n",
    "    :param data_name: [string] name of data to load\n",
    "        Available option: \"fundamental\", \"market\", \"return\"\n",
    "    :param sample_size: [int] number of rows to load\n",
    "        default = None: load everything\n",
    "    :return: [pd.dataframe]\n",
    "    \"\"\"\n",
    "    if train:\n",
    "        DATA_DIR = '../../' + 'data/raw/'\n",
    "    else:\n",
    "        DATA_DIR = '../../' + 'data/test/'\n",
    "    FILE_LIST = os.listdir(DATA_DIR)\n",
    "    DATA_TYPE = data_name\n",
    "    DATA_NAME = [name for name in FILE_LIST if DATA_TYPE in name]\n",
    "    # DATA_NAME = '/first_round_train_market_data.csv'\n",
    "\n",
    "    if not DATA_NAME:\n",
    "        raise ValueError('DATA_TYPE does not exist')\n",
    "\n",
    "    DATA_PATH = DATA_DIR + DATA_NAME[0]\n",
    "\n",
    "    if os.path.isfile(DATA_PATH):\n",
    "        print('DATA_PATH is a valid path')\n",
    "    else:\n",
    "        raise ValueError('DATA_PATH is not valid path')\n",
    "\n",
    "    return pd.read_csv(DATA_PATH, nrows=sample_size)"
   ],
   "metadata": {
    "collapsed": false,
    "pycharm": {
     "name": "#%%\n"
    }
   }
  },
  {
   "cell_type": "code",
   "execution_count": 5,
   "outputs": [
    {
     "name": "stdout",
     "output_type": "stream",
     "text": [
      "DATA_PATH is a valid path\n",
      "DATA_PATH is a valid path\n",
      "DATA_PATH is a valid path\n"
     ]
    }
   ],
   "source": [
    "sample_size = 1000\n",
    "f_df = data_loader('fundamental', sample_size=sample_size)\n",
    "m_df = data_loader('market', sample_size=sample_size)\n",
    "r_df = data_loader('return', sample_size=sample_size)"
   ],
   "metadata": {
    "collapsed": false,
    "pycharm": {
     "name": "#%%\n"
    }
   }
  },
  {
   "cell_type": "code",
   "execution_count": 6,
   "outputs": [
    {
     "name": "stdout",
     "output_type": "stream",
     "text": [
      "DATA_PATH is a valid path\n",
      "DATA_PATH is a valid path\n",
      "DATA_PATH is a valid path\n"
     ]
    }
   ],
   "source": [
    "f_df = data_loader('fundamental')\n",
    "m_df = data_loader('market')\n",
    "r_df = data_loader('return')"
   ],
   "metadata": {
    "collapsed": false,
    "pycharm": {
     "name": "#%%\n"
    }
   }
  },
  {
   "cell_type": "code",
   "execution_count": 7,
   "outputs": [],
   "source": [
    "def parse_date_time_column(s: Series):\n",
    "    return s.str.split(pat='s|d|p', expand=True).iloc[:, 1:].astype(int).rename(columns={1: 'asset', 2: 'day', 3: 'timeslot'})"
   ],
   "metadata": {
    "collapsed": false,
    "pycharm": {
     "name": "#%%\n"
    }
   }
  },
  {
   "cell_type": "code",
   "execution_count": 8,
   "outputs": [],
   "source": [
    "def parse_date_column(s: Series):\n",
    "    return s.str.split(pat='s|d', expand=True).iloc[:, 1:].astype(int).rename(columns={1: 'asset', 2: 'day'})"
   ],
   "metadata": {
    "collapsed": false,
    "pycharm": {
     "name": "#%%\n"
    }
   }
  },
  {
   "cell_type": "code",
   "execution_count": 9,
   "outputs": [],
   "source": [
    "def pre_process_df_with_date_time(df):\n",
    "    date_time_series = df['date_time']\n",
    "    df.drop(columns='date_time', inplace=True)\n",
    "    df.index = MultiIndex.from_frame(parse_date_time_column(date_time_series))"
   ],
   "metadata": {
    "collapsed": false,
    "pycharm": {
     "name": "#%%\n"
    }
   }
  },
  {
   "cell_type": "code",
   "execution_count": 10,
   "outputs": [],
   "source": [
    "def pre_process_df_with_date(df):\n",
    "    date_series = df['date_time']\n",
    "    df.drop(columns='date_time', inplace=True)\n",
    "    df.index = MultiIndex.from_frame(parse_date_column(date_series))"
   ],
   "metadata": {
    "collapsed": false,
    "pycharm": {
     "name": "#%%\n"
    }
   }
  },
  {
   "cell_type": "code",
   "execution_count": 11,
   "outputs": [],
   "source": [
    "pre_process_df_with_date_time(m_df)"
   ],
   "metadata": {
    "collapsed": false,
    "pycharm": {
     "name": "#%%\n"
    }
   }
  },
  {
   "cell_type": "code",
   "execution_count": 12,
   "outputs": [],
   "source": [
    "pre_process_df_with_date(r_df)\n",
    "pre_process_df_with_date(f_df)"
   ],
   "metadata": {
    "collapsed": false,
    "pycharm": {
     "name": "#%%\n"
    }
   }
  },
  {
   "cell_type": "markdown",
   "source": [
    "now we can build some features"
   ],
   "metadata": {
    "collapsed": false,
    "pycharm": {
     "name": "#%% md\n"
    }
   }
  },
  {
   "cell_type": "code",
   "execution_count": 23,
   "outputs": [
    {
     "data": {
      "text/plain": "MultiIndex([( 0,    1),\n            ( 1,    1),\n            ( 2,    1),\n            ( 3,    1),\n            ( 4,    1),\n            ( 5,    1),\n            ( 6,    1),\n            ( 7,    1),\n            ( 8,    1),\n            ( 9,    1),\n            ...\n            (44, 1000),\n            (45, 1000),\n            (46, 1000),\n            (47, 1000),\n            (48, 1000),\n            (49, 1000),\n            (50, 1000),\n            (51, 1000),\n            (52, 1000),\n            (53, 1000)],\n           names=['asset', 'day'], length=54000)"
     },
     "execution_count": 23,
     "metadata": {},
     "output_type": "execute_result"
    }
   ],
   "source": [
    "date_time_series = f_df['date_time']\n",
    "data_test = parse_date_time_column(date_time_series)\n",
    "MultiIndex.from_frame(data_test)"
   ],
   "metadata": {
    "collapsed": false,
    "pycharm": {
     "name": "#%%\n"
    }
   }
  },
  {
   "cell_type": "code",
   "execution_count": 15,
   "outputs": [
    {
     "data": {
      "text/plain": "                       open    close     high      low    volume         money\nday asset timeslot                                                            \n1   0     1         25.0164  24.9557  25.1378  24.9436  642243.0  1.610060e+07\n    1     1         16.3256  16.3499  16.4106  16.3256   15552.0  2.540301e+05\n    2     1          9.2006   9.1763   9.2006   9.1521  396647.0  3.638304e+06\n    3     1          9.1521   9.2006   9.2006   9.1521  317044.0  2.907092e+06\n    4     1          5.1829   5.1222   5.1829   5.1101  294784.0  1.514496e+06",
      "text/html": "<div>\n<style scoped>\n    .dataframe tbody tr th:only-of-type {\n        vertical-align: middle;\n    }\n\n    .dataframe tbody tr th {\n        vertical-align: top;\n    }\n\n    .dataframe thead th {\n        text-align: right;\n    }\n</style>\n<table border=\"1\" class=\"dataframe\">\n  <thead>\n    <tr style=\"text-align: right;\">\n      <th></th>\n      <th></th>\n      <th></th>\n      <th>open</th>\n      <th>close</th>\n      <th>high</th>\n      <th>low</th>\n      <th>volume</th>\n      <th>money</th>\n    </tr>\n    <tr>\n      <th>day</th>\n      <th>asset</th>\n      <th>timeslot</th>\n      <th></th>\n      <th></th>\n      <th></th>\n      <th></th>\n      <th></th>\n      <th></th>\n    </tr>\n  </thead>\n  <tbody>\n    <tr>\n      <th rowspan=\"5\" valign=\"top\">1</th>\n      <th>0</th>\n      <th>1</th>\n      <td>25.0164</td>\n      <td>24.9557</td>\n      <td>25.1378</td>\n      <td>24.9436</td>\n      <td>642243.0</td>\n      <td>1.610060e+07</td>\n    </tr>\n    <tr>\n      <th>1</th>\n      <th>1</th>\n      <td>16.3256</td>\n      <td>16.3499</td>\n      <td>16.4106</td>\n      <td>16.3256</td>\n      <td>15552.0</td>\n      <td>2.540301e+05</td>\n    </tr>\n    <tr>\n      <th>2</th>\n      <th>1</th>\n      <td>9.2006</td>\n      <td>9.1763</td>\n      <td>9.2006</td>\n      <td>9.1521</td>\n      <td>396647.0</td>\n      <td>3.638304e+06</td>\n    </tr>\n    <tr>\n      <th>3</th>\n      <th>1</th>\n      <td>9.1521</td>\n      <td>9.2006</td>\n      <td>9.2006</td>\n      <td>9.1521</td>\n      <td>317044.0</td>\n      <td>2.907092e+06</td>\n    </tr>\n    <tr>\n      <th>4</th>\n      <th>1</th>\n      <td>5.1829</td>\n      <td>5.1222</td>\n      <td>5.1829</td>\n      <td>5.1101</td>\n      <td>294784.0</td>\n      <td>1.514496e+06</td>\n    </tr>\n  </tbody>\n</table>\n</div>"
     },
     "execution_count": 15,
     "metadata": {},
     "output_type": "execute_result"
    }
   ],
   "source": [
    "m_df = m_df.swaplevel(1,0)\n",
    "m_df.head()"
   ],
   "metadata": {
    "collapsed": false,
    "pycharm": {
     "name": "#%%\n"
    }
   }
  },
  {
   "cell_type": "code",
   "execution_count": 16,
   "outputs": [
    {
     "data": {
      "text/plain": "             return\nday asset          \n1   0     -0.026877\n    1     -0.052674\n    2     -0.002691\n    3     -0.018515\n    4     -0.019184",
      "text/html": "<div>\n<style scoped>\n    .dataframe tbody tr th:only-of-type {\n        vertical-align: middle;\n    }\n\n    .dataframe tbody tr th {\n        vertical-align: top;\n    }\n\n    .dataframe thead th {\n        text-align: right;\n    }\n</style>\n<table border=\"1\" class=\"dataframe\">\n  <thead>\n    <tr style=\"text-align: right;\">\n      <th></th>\n      <th></th>\n      <th>return</th>\n    </tr>\n    <tr>\n      <th>day</th>\n      <th>asset</th>\n      <th></th>\n    </tr>\n  </thead>\n  <tbody>\n    <tr>\n      <th rowspan=\"5\" valign=\"top\">1</th>\n      <th>0</th>\n      <td>-0.026877</td>\n    </tr>\n    <tr>\n      <th>1</th>\n      <td>-0.052674</td>\n    </tr>\n    <tr>\n      <th>2</th>\n      <td>-0.002691</td>\n    </tr>\n    <tr>\n      <th>3</th>\n      <td>-0.018515</td>\n    </tr>\n    <tr>\n      <th>4</th>\n      <td>-0.019184</td>\n    </tr>\n  </tbody>\n</table>\n</div>"
     },
     "execution_count": 16,
     "metadata": {},
     "output_type": "execute_result"
    }
   ],
   "source": [
    "r_df = r_df.swaplevel(1,0)\n",
    "r_df.head()"
   ],
   "metadata": {
    "collapsed": false,
    "pycharm": {
     "name": "#%%\n"
    }
   }
  },
  {
   "cell_type": "code",
   "execution_count": 17,
   "outputs": [
    {
     "data": {
      "text/plain": "           turnoverRatio  transactionAmount    pe_ttm        pe      pb  \\\nday asset                                                                 \n1   0             3.6794            17229.0   34.4425   32.3029  4.9425   \n    1             2.5150             3706.0   28.9934   27.2726  5.0552   \n    2             1.2858             5136.0   42.9352   41.9279  4.8083   \n    3             2.2007             3280.0   15.2245   13.8032  2.1904   \n    4             0.8627             5291.0 -369.9850 -433.1736  3.0714   \n\n               ps       pcf  \nday asset                    \n1   0      3.8180 -578.7700  \n    1      3.0484   23.8260  \n    2      4.1392  -58.2185  \n    3      0.6691   61.0491  \n    4      2.9370  -25.2279  ",
      "text/html": "<div>\n<style scoped>\n    .dataframe tbody tr th:only-of-type {\n        vertical-align: middle;\n    }\n\n    .dataframe tbody tr th {\n        vertical-align: top;\n    }\n\n    .dataframe thead th {\n        text-align: right;\n    }\n</style>\n<table border=\"1\" class=\"dataframe\">\n  <thead>\n    <tr style=\"text-align: right;\">\n      <th></th>\n      <th></th>\n      <th>turnoverRatio</th>\n      <th>transactionAmount</th>\n      <th>pe_ttm</th>\n      <th>pe</th>\n      <th>pb</th>\n      <th>ps</th>\n      <th>pcf</th>\n    </tr>\n    <tr>\n      <th>day</th>\n      <th>asset</th>\n      <th></th>\n      <th></th>\n      <th></th>\n      <th></th>\n      <th></th>\n      <th></th>\n      <th></th>\n    </tr>\n  </thead>\n  <tbody>\n    <tr>\n      <th rowspan=\"5\" valign=\"top\">1</th>\n      <th>0</th>\n      <td>3.6794</td>\n      <td>17229.0</td>\n      <td>34.4425</td>\n      <td>32.3029</td>\n      <td>4.9425</td>\n      <td>3.8180</td>\n      <td>-578.7700</td>\n    </tr>\n    <tr>\n      <th>1</th>\n      <td>2.5150</td>\n      <td>3706.0</td>\n      <td>28.9934</td>\n      <td>27.2726</td>\n      <td>5.0552</td>\n      <td>3.0484</td>\n      <td>23.8260</td>\n    </tr>\n    <tr>\n      <th>2</th>\n      <td>1.2858</td>\n      <td>5136.0</td>\n      <td>42.9352</td>\n      <td>41.9279</td>\n      <td>4.8083</td>\n      <td>4.1392</td>\n      <td>-58.2185</td>\n    </tr>\n    <tr>\n      <th>3</th>\n      <td>2.2007</td>\n      <td>3280.0</td>\n      <td>15.2245</td>\n      <td>13.8032</td>\n      <td>2.1904</td>\n      <td>0.6691</td>\n      <td>61.0491</td>\n    </tr>\n    <tr>\n      <th>4</th>\n      <td>0.8627</td>\n      <td>5291.0</td>\n      <td>-369.9850</td>\n      <td>-433.1736</td>\n      <td>3.0714</td>\n      <td>2.9370</td>\n      <td>-25.2279</td>\n    </tr>\n  </tbody>\n</table>\n</div>"
     },
     "execution_count": 17,
     "metadata": {},
     "output_type": "execute_result"
    }
   ],
   "source": [
    "f_df = f_df.swaplevel(1,0)\n",
    "f_df.head()"
   ],
   "metadata": {
    "collapsed": false,
    "pycharm": {
     "name": "#%%\n"
    }
   }
  },
  {
   "cell_type": "code",
   "execution_count": 14,
   "outputs": [
    {
     "data": {
      "text/plain": "                open      close       high        low      volume  \\\nasset day                                                           \n0     1    24.550554  24.536720  24.578718  24.508076   454075.84   \n      2    23.955800  23.938318  23.988574  23.907490   401517.02   \n      3    23.626130  23.628554  23.661090  23.591664   307969.24   \n      4    23.837576  23.847280  23.879820  23.803594   563240.50   \n      5    25.965612  26.002992  26.075094  25.890594  2249971.94   \n\n                  money  \nasset day                \n0     1    1.114925e+07  \n      2    9.601600e+06  \n      3    7.275962e+06  \n      4    1.344701e+07  \n      5    5.879807e+07  ",
      "text/html": "<div>\n<style scoped>\n    .dataframe tbody tr th:only-of-type {\n        vertical-align: middle;\n    }\n\n    .dataframe tbody tr th {\n        vertical-align: top;\n    }\n\n    .dataframe thead th {\n        text-align: right;\n    }\n</style>\n<table border=\"1\" class=\"dataframe\">\n  <thead>\n    <tr style=\"text-align: right;\">\n      <th></th>\n      <th></th>\n      <th>open</th>\n      <th>close</th>\n      <th>high</th>\n      <th>low</th>\n      <th>volume</th>\n      <th>money</th>\n    </tr>\n    <tr>\n      <th>asset</th>\n      <th>day</th>\n      <th></th>\n      <th></th>\n      <th></th>\n      <th></th>\n      <th></th>\n      <th></th>\n    </tr>\n  </thead>\n  <tbody>\n    <tr>\n      <th rowspan=\"5\" valign=\"top\">0</th>\n      <th>1</th>\n      <td>24.550554</td>\n      <td>24.536720</td>\n      <td>24.578718</td>\n      <td>24.508076</td>\n      <td>454075.84</td>\n      <td>1.114925e+07</td>\n    </tr>\n    <tr>\n      <th>2</th>\n      <td>23.955800</td>\n      <td>23.938318</td>\n      <td>23.988574</td>\n      <td>23.907490</td>\n      <td>401517.02</td>\n      <td>9.601600e+06</td>\n    </tr>\n    <tr>\n      <th>3</th>\n      <td>23.626130</td>\n      <td>23.628554</td>\n      <td>23.661090</td>\n      <td>23.591664</td>\n      <td>307969.24</td>\n      <td>7.275962e+06</td>\n    </tr>\n    <tr>\n      <th>4</th>\n      <td>23.837576</td>\n      <td>23.847280</td>\n      <td>23.879820</td>\n      <td>23.803594</td>\n      <td>563240.50</td>\n      <td>1.344701e+07</td>\n    </tr>\n    <tr>\n      <th>5</th>\n      <td>25.965612</td>\n      <td>26.002992</td>\n      <td>26.075094</td>\n      <td>25.890594</td>\n      <td>2249971.94</td>\n      <td>5.879807e+07</td>\n    </tr>\n  </tbody>\n</table>\n</div>"
     },
     "execution_count": 14,
     "metadata": {},
     "output_type": "execute_result"
    }
   ],
   "source": [
    "m_agg_df = m_df.groupby(level=[0, 1]).mean().sort_index()\n",
    "m_agg_df.head()"
   ],
   "metadata": {
    "collapsed": false,
    "pycharm": {
     "name": "#%%\n"
    }
   }
  },
  {
   "cell_type": "code",
   "execution_count": 20,
   "outputs": [],
   "source": [
    "full_df = pd.concat([m_agg_df, f_df, r_df], axis=1).dropna()"
   ],
   "metadata": {
    "collapsed": false,
    "pycharm": {
     "name": "#%%\n"
    }
   }
  },
  {
   "cell_type": "code",
   "execution_count": 18,
   "outputs": [],
   "source": [
    "parse_data_dir = '../../data/parsed/'\n",
    "dataset=Dataset(market=m_df.reset_index(), fundamental=f_df.reset_index(), ref_return=r_df.reset_index())\n",
    "dataset.dump(parse_data_dir)\n"
   ],
   "metadata": {
    "collapsed": false,
    "pycharm": {
     "name": "#%% Save data\n"
    }
   }
  },
  {
   "cell_type": "code",
   "execution_count": null,
   "outputs": [],
   "source": [
    "pairplot = sns.pairplot(data=full_df[['close', 'volume', 'money', 'turnoverRatio', 'transactionAmount', 'pe_ttm', 'pcf', 'return']].iloc[:100], kind='kde')"
   ],
   "metadata": {
    "collapsed": false,
    "pycharm": {
     "name": "#%%\n",
     "is_executing": true
    }
   }
  },
  {
   "cell_type": "code",
   "execution_count": 35,
   "outputs": [],
   "source": [
    "fig = pairplot.fig\n",
    "fig.savefig(\"./image/pairplot.png\")"
   ],
   "metadata": {
    "collapsed": false,
    "pycharm": {
     "name": "#%%\n"
    }
   }
  },
  {
   "cell_type": "code",
   "execution_count": 36,
   "outputs": [
    {
     "name": "stdout",
     "output_type": "stream",
     "text": [
      "train score: 0.0037, test score: 0.0043\n",
      "train score: 0.0043, test score: 0.0018\n",
      "train score: 0.0036, test score: 0.0050\n",
      "train score: 0.0044, test score: 0.0016\n",
      "train score: 0.0038, test score: 0.0041\n"
     ]
    }
   ],
   "source": [
    "X = full_df[['close', 'volume', 'money', 'turnoverRatio', 'transactionAmount', 'pe_ttm', 'pcf']]\n",
    "y = full_df['return']\n",
    "\n",
    "kf = KFold(n_splits=5, shuffle=True, random_state=10)\n",
    "for train, test in kf.split(full_df.index):\n",
    "    reg = LinearRegression().fit(X.iloc[train], y.iloc[train])\n",
    "    train_score = reg.score(X.iloc[train], y.iloc[train])\n",
    "    test_score = reg.score(X.iloc[test], y.iloc[test])\n",
    "    print(f'train score: {train_score:.4f}, test score: {test_score:.4f}')"
   ],
   "metadata": {
    "collapsed": false,
    "pycharm": {
     "name": "#%%\n"
    }
   }
  },
  {
   "cell_type": "code",
   "execution_count": null,
   "outputs": [],
   "source": [],
   "metadata": {
    "collapsed": false,
    "pycharm": {
     "name": "#%%\n"
    }
   }
  },
  {
   "cell_type": "markdown",
   "source": [
    "\n",
    "## Overall setting:\n",
    "- 54 assets/investments\n",
    "- 50 timeslots a day for Market data\n",
    "- 1-min frequency for Market data?\n",
    "- 1000 days\n",
    "## Features in Fundamental data:\n",
    "- \"date_time\": sAdB format\n",
    "- \"turnoveRatio\": Turnover Ratio\n",
    "- \"transactionAmount\": total amount of transactions (why bold?)\n",
    "- \"pe_ttm\": Price-to-Earnings Ratio (Trailing Twelve Months)\n",
    "- \"pe\": Price-to-Earnings Ratio\n",
    "- \"pb\": Price-to-Book Ratio\n",
    "- \"ps\": Price-to-Sales Ratio\n",
    "- \"pcf\": Price-to-Cash-Flow Ratio\n",
    "\n",
    "## Features in Market data:\n",
    "- 'date_time': sAdBpC format\n",
    "- 'open': price at the beginning of this timeslot\n",
    "- 'close': price at the end of this timeslot\n",
    "- 'high':  highest price in this timeslot\n",
    "- 'low':  lowest price in this timeslot\n",
    "- 'volume':  total amount of units traded\n",
    "- 'money:  total amount of money traded\n",
    "\n",
    "## Features in Return data:\n",
    "- 'date_time': sAdB format\n",
    "- 'return': label data, return of investment\n",
    "    - Two-day fixed period holding;\n",
    "    - Trade at the end of the day;\n",
    "    - Can't use data after, e.g. can't obtain return of sAd(B-1) as it needs sAd(B+1)\n",
    "    - Computed percentage: $$ sAdB = \\frac{sAd(B+2)p50 - sAdBp50}{sAdBp50}$$\n"
   ],
   "metadata": {
    "collapsed": false
   }
  }
 ],
 "metadata": {
  "kernelspec": {
   "display_name": "Python 3",
   "language": "python",
   "name": "python3"
  },
  "language_info": {
   "codemirror_mode": {
    "name": "ipython",
    "version": 2
   },
   "file_extension": ".py",
   "mimetype": "text/x-python",
   "name": "python",
   "nbconvert_exporter": "python",
   "pygments_lexer": "ipython2",
   "version": "2.7.6"
  }
 },
 "nbformat": 4,
 "nbformat_minor": 0
}